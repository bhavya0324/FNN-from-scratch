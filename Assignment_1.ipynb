{
  "nbformat": 4,
  "nbformat_minor": 0,
  "metadata": {
    "colab": {
      "name": "refined.ipynb",
      "provenance": [],
      "collapsed_sections": [],
      "include_colab_link": true
    },
    "kernelspec": {
      "name": "python3",
      "display_name": "Python 3"
    },
    "language_info": {
      "name": "python"
    },
    "widgets": {
      "application/vnd.jupyter.widget-state+json": {
        "3320277bf06f4f1a97c487deb9392dfa": {
          "model_module": "@jupyter-widgets/controls",
          "model_name": "VBoxModel",
          "model_module_version": "1.5.0",
          "state": {
            "_view_name": "VBoxView",
            "_dom_classes": [],
            "_model_name": "VBoxModel",
            "_view_module": "@jupyter-widgets/controls",
            "_model_module_version": "1.5.0",
            "_view_count": null,
            "_view_module_version": "1.5.0",
            "box_style": "",
            "layout": "IPY_MODEL_5e0899b252974a5b9aa38244222a5b6e",
            "_model_module": "@jupyter-widgets/controls",
            "children": [
              "IPY_MODEL_e129a1900892488189c8b6559e9a61b6",
              "IPY_MODEL_3f9d0405f32045d1965728ebc58fad7d"
            ]
          }
        },
        "5e0899b252974a5b9aa38244222a5b6e": {
          "model_module": "@jupyter-widgets/base",
          "model_name": "LayoutModel",
          "model_module_version": "1.2.0",
          "state": {
            "_view_name": "LayoutView",
            "grid_template_rows": null,
            "right": null,
            "justify_content": null,
            "_view_module": "@jupyter-widgets/base",
            "overflow": null,
            "_model_module_version": "1.2.0",
            "_view_count": null,
            "flex_flow": null,
            "width": null,
            "min_width": null,
            "border": null,
            "align_items": null,
            "bottom": null,
            "_model_module": "@jupyter-widgets/base",
            "top": null,
            "grid_column": null,
            "overflow_y": null,
            "overflow_x": null,
            "grid_auto_flow": null,
            "grid_area": null,
            "grid_template_columns": null,
            "flex": null,
            "_model_name": "LayoutModel",
            "justify_items": null,
            "grid_row": null,
            "max_height": null,
            "align_content": null,
            "visibility": null,
            "align_self": null,
            "height": null,
            "min_height": null,
            "padding": null,
            "grid_auto_rows": null,
            "grid_gap": null,
            "max_width": null,
            "order": null,
            "_view_module_version": "1.2.0",
            "grid_template_areas": null,
            "object_position": null,
            "object_fit": null,
            "grid_auto_columns": null,
            "margin": null,
            "display": null,
            "left": null
          }
        },
        "e129a1900892488189c8b6559e9a61b6": {
          "model_module": "@jupyter-widgets/controls",
          "model_name": "LabelModel",
          "model_module_version": "1.5.0",
          "state": {
            "_view_name": "LabelView",
            "style": "IPY_MODEL_87f921e407024193882baefacb4fbe4d",
            "_dom_classes": [],
            "description": "",
            "_model_name": "LabelModel",
            "placeholder": "​",
            "_view_module": "@jupyter-widgets/controls",
            "_model_module_version": "1.5.0",
            "value": " 0.01MB of 0.01MB uploaded (0.00MB deduped)\r",
            "_view_count": null,
            "_view_module_version": "1.5.0",
            "description_tooltip": null,
            "_model_module": "@jupyter-widgets/controls",
            "layout": "IPY_MODEL_dadcc8c732584fe585f0ad2b23219c2d"
          }
        },
        "3f9d0405f32045d1965728ebc58fad7d": {
          "model_module": "@jupyter-widgets/controls",
          "model_name": "FloatProgressModel",
          "model_module_version": "1.5.0",
          "state": {
            "_view_name": "ProgressView",
            "style": "IPY_MODEL_b41612213a6145d78e0466131e3700e9",
            "_dom_classes": [],
            "description": "",
            "_model_name": "FloatProgressModel",
            "bar_style": "",
            "max": 1,
            "_view_module": "@jupyter-widgets/controls",
            "_model_module_version": "1.5.0",
            "value": 1,
            "_view_count": null,
            "_view_module_version": "1.5.0",
            "orientation": "horizontal",
            "min": 0,
            "description_tooltip": null,
            "_model_module": "@jupyter-widgets/controls",
            "layout": "IPY_MODEL_8fff594bac7643f3b668f68eafa9aa00"
          }
        },
        "87f921e407024193882baefacb4fbe4d": {
          "model_module": "@jupyter-widgets/controls",
          "model_name": "DescriptionStyleModel",
          "model_module_version": "1.5.0",
          "state": {
            "_view_name": "StyleView",
            "_model_name": "DescriptionStyleModel",
            "description_width": "",
            "_view_module": "@jupyter-widgets/base",
            "_model_module_version": "1.5.0",
            "_view_count": null,
            "_view_module_version": "1.2.0",
            "_model_module": "@jupyter-widgets/controls"
          }
        },
        "dadcc8c732584fe585f0ad2b23219c2d": {
          "model_module": "@jupyter-widgets/base",
          "model_name": "LayoutModel",
          "model_module_version": "1.2.0",
          "state": {
            "_view_name": "LayoutView",
            "grid_template_rows": null,
            "right": null,
            "justify_content": null,
            "_view_module": "@jupyter-widgets/base",
            "overflow": null,
            "_model_module_version": "1.2.0",
            "_view_count": null,
            "flex_flow": null,
            "width": null,
            "min_width": null,
            "border": null,
            "align_items": null,
            "bottom": null,
            "_model_module": "@jupyter-widgets/base",
            "top": null,
            "grid_column": null,
            "overflow_y": null,
            "overflow_x": null,
            "grid_auto_flow": null,
            "grid_area": null,
            "grid_template_columns": null,
            "flex": null,
            "_model_name": "LayoutModel",
            "justify_items": null,
            "grid_row": null,
            "max_height": null,
            "align_content": null,
            "visibility": null,
            "align_self": null,
            "height": null,
            "min_height": null,
            "padding": null,
            "grid_auto_rows": null,
            "grid_gap": null,
            "max_width": null,
            "order": null,
            "_view_module_version": "1.2.0",
            "grid_template_areas": null,
            "object_position": null,
            "object_fit": null,
            "grid_auto_columns": null,
            "margin": null,
            "display": null,
            "left": null
          }
        },
        "b41612213a6145d78e0466131e3700e9": {
          "model_module": "@jupyter-widgets/controls",
          "model_name": "ProgressStyleModel",
          "model_module_version": "1.5.0",
          "state": {
            "_view_name": "StyleView",
            "_model_name": "ProgressStyleModel",
            "description_width": "",
            "_view_module": "@jupyter-widgets/base",
            "_model_module_version": "1.5.0",
            "_view_count": null,
            "_view_module_version": "1.2.0",
            "bar_color": null,
            "_model_module": "@jupyter-widgets/controls"
          }
        },
        "8fff594bac7643f3b668f68eafa9aa00": {
          "model_module": "@jupyter-widgets/base",
          "model_name": "LayoutModel",
          "model_module_version": "1.2.0",
          "state": {
            "_view_name": "LayoutView",
            "grid_template_rows": null,
            "right": null,
            "justify_content": null,
            "_view_module": "@jupyter-widgets/base",
            "overflow": null,
            "_model_module_version": "1.2.0",
            "_view_count": null,
            "flex_flow": null,
            "width": null,
            "min_width": null,
            "border": null,
            "align_items": null,
            "bottom": null,
            "_model_module": "@jupyter-widgets/base",
            "top": null,
            "grid_column": null,
            "overflow_y": null,
            "overflow_x": null,
            "grid_auto_flow": null,
            "grid_area": null,
            "grid_template_columns": null,
            "flex": null,
            "_model_name": "LayoutModel",
            "justify_items": null,
            "grid_row": null,
            "max_height": null,
            "align_content": null,
            "visibility": null,
            "align_self": null,
            "height": null,
            "min_height": null,
            "padding": null,
            "grid_auto_rows": null,
            "grid_gap": null,
            "max_width": null,
            "order": null,
            "_view_module_version": "1.2.0",
            "grid_template_areas": null,
            "object_position": null,
            "object_fit": null,
            "grid_auto_columns": null,
            "margin": null,
            "display": null,
            "left": null
          }
        }
      }
    }
  },
  "cells": [
    {
      "cell_type": "markdown",
      "metadata": {
        "id": "view-in-github",
        "colab_type": "text"
      },
      "source": [
        "<a href=\"https://colab.research.google.com/github/hemanths03/CS6910/blob/main/Assignment_1.ipynb\" target=\"_parent\"><img src=\"https://colab.research.google.com/assets/colab-badge.svg\" alt=\"Open In Colab\"/></a>"
      ]
    },
    {
      "cell_type": "code",
      "execution_count": 1,
      "metadata": {
        "colab": {
          "base_uri": "https://localhost:8080/"
        },
        "id": "kE3b2hyRN6tC",
        "outputId": "3e220fc5-c5e3-4b65-953d-c5c49ae6bb6d"
      },
      "outputs": [
        {
          "output_type": "stream",
          "name": "stdout",
          "text": [
            "Collecting wandb\n",
            "  Downloading wandb-0.12.10-py2.py3-none-any.whl (1.7 MB)\n",
            "\u001b[?25l\r\u001b[K     |▏                               | 10 kB 25.0 MB/s eta 0:00:01\r\u001b[K     |▍                               | 20 kB 28.6 MB/s eta 0:00:01\r\u001b[K     |▋                               | 30 kB 18.8 MB/s eta 0:00:01\r\u001b[K     |▊                               | 40 kB 15.7 MB/s eta 0:00:01\r\u001b[K     |█                               | 51 kB 7.8 MB/s eta 0:00:01\r\u001b[K     |█▏                              | 61 kB 9.1 MB/s eta 0:00:01\r\u001b[K     |█▍                              | 71 kB 8.8 MB/s eta 0:00:01\r\u001b[K     |█▌                              | 81 kB 9.1 MB/s eta 0:00:01\r\u001b[K     |█▊                              | 92 kB 10.1 MB/s eta 0:00:01\r\u001b[K     |██                              | 102 kB 8.4 MB/s eta 0:00:01\r\u001b[K     |██                              | 112 kB 8.4 MB/s eta 0:00:01\r\u001b[K     |██▎                             | 122 kB 8.4 MB/s eta 0:00:01\r\u001b[K     |██▌                             | 133 kB 8.4 MB/s eta 0:00:01\r\u001b[K     |██▊                             | 143 kB 8.4 MB/s eta 0:00:01\r\u001b[K     |██▉                             | 153 kB 8.4 MB/s eta 0:00:01\r\u001b[K     |███                             | 163 kB 8.4 MB/s eta 0:00:01\r\u001b[K     |███▎                            | 174 kB 8.4 MB/s eta 0:00:01\r\u001b[K     |███▍                            | 184 kB 8.4 MB/s eta 0:00:01\r\u001b[K     |███▋                            | 194 kB 8.4 MB/s eta 0:00:01\r\u001b[K     |███▉                            | 204 kB 8.4 MB/s eta 0:00:01\r\u001b[K     |████                            | 215 kB 8.4 MB/s eta 0:00:01\r\u001b[K     |████▏                           | 225 kB 8.4 MB/s eta 0:00:01\r\u001b[K     |████▍                           | 235 kB 8.4 MB/s eta 0:00:01\r\u001b[K     |████▋                           | 245 kB 8.4 MB/s eta 0:00:01\r\u001b[K     |████▊                           | 256 kB 8.4 MB/s eta 0:00:01\r\u001b[K     |█████                           | 266 kB 8.4 MB/s eta 0:00:01\r\u001b[K     |█████▏                          | 276 kB 8.4 MB/s eta 0:00:01\r\u001b[K     |█████▍                          | 286 kB 8.4 MB/s eta 0:00:01\r\u001b[K     |█████▌                          | 296 kB 8.4 MB/s eta 0:00:01\r\u001b[K     |█████▊                          | 307 kB 8.4 MB/s eta 0:00:01\r\u001b[K     |██████                          | 317 kB 8.4 MB/s eta 0:00:01\r\u001b[K     |██████                          | 327 kB 8.4 MB/s eta 0:00:01\r\u001b[K     |██████▎                         | 337 kB 8.4 MB/s eta 0:00:01\r\u001b[K     |██████▌                         | 348 kB 8.4 MB/s eta 0:00:01\r\u001b[K     |██████▊                         | 358 kB 8.4 MB/s eta 0:00:01\r\u001b[K     |██████▉                         | 368 kB 8.4 MB/s eta 0:00:01\r\u001b[K     |███████                         | 378 kB 8.4 MB/s eta 0:00:01\r\u001b[K     |███████▎                        | 389 kB 8.4 MB/s eta 0:00:01\r\u001b[K     |███████▍                        | 399 kB 8.4 MB/s eta 0:00:01\r\u001b[K     |███████▋                        | 409 kB 8.4 MB/s eta 0:00:01\r\u001b[K     |███████▉                        | 419 kB 8.4 MB/s eta 0:00:01\r\u001b[K     |████████                        | 430 kB 8.4 MB/s eta 0:00:01\r\u001b[K     |████████▏                       | 440 kB 8.4 MB/s eta 0:00:01\r\u001b[K     |████████▍                       | 450 kB 8.4 MB/s eta 0:00:01\r\u001b[K     |████████▋                       | 460 kB 8.4 MB/s eta 0:00:01\r\u001b[K     |████████▊                       | 471 kB 8.4 MB/s eta 0:00:01\r\u001b[K     |█████████                       | 481 kB 8.4 MB/s eta 0:00:01\r\u001b[K     |█████████▏                      | 491 kB 8.4 MB/s eta 0:00:01\r\u001b[K     |█████████▍                      | 501 kB 8.4 MB/s eta 0:00:01\r\u001b[K     |█████████▌                      | 512 kB 8.4 MB/s eta 0:00:01\r\u001b[K     |█████████▊                      | 522 kB 8.4 MB/s eta 0:00:01\r\u001b[K     |██████████                      | 532 kB 8.4 MB/s eta 0:00:01\r\u001b[K     |██████████                      | 542 kB 8.4 MB/s eta 0:00:01\r\u001b[K     |██████████▎                     | 552 kB 8.4 MB/s eta 0:00:01\r\u001b[K     |██████████▌                     | 563 kB 8.4 MB/s eta 0:00:01\r\u001b[K     |██████████▊                     | 573 kB 8.4 MB/s eta 0:00:01\r\u001b[K     |██████████▉                     | 583 kB 8.4 MB/s eta 0:00:01\r\u001b[K     |███████████                     | 593 kB 8.4 MB/s eta 0:00:01\r\u001b[K     |███████████▎                    | 604 kB 8.4 MB/s eta 0:00:01\r\u001b[K     |███████████▍                    | 614 kB 8.4 MB/s eta 0:00:01\r\u001b[K     |███████████▋                    | 624 kB 8.4 MB/s eta 0:00:01\r\u001b[K     |███████████▉                    | 634 kB 8.4 MB/s eta 0:00:01\r\u001b[K     |████████████                    | 645 kB 8.4 MB/s eta 0:00:01\r\u001b[K     |████████████▏                   | 655 kB 8.4 MB/s eta 0:00:01\r\u001b[K     |████████████▍                   | 665 kB 8.4 MB/s eta 0:00:01\r\u001b[K     |████████████▋                   | 675 kB 8.4 MB/s eta 0:00:01\r\u001b[K     |████████████▊                   | 686 kB 8.4 MB/s eta 0:00:01\r\u001b[K     |█████████████                   | 696 kB 8.4 MB/s eta 0:00:01\r\u001b[K     |█████████████▏                  | 706 kB 8.4 MB/s eta 0:00:01\r\u001b[K     |█████████████▍                  | 716 kB 8.4 MB/s eta 0:00:01\r\u001b[K     |█████████████▌                  | 727 kB 8.4 MB/s eta 0:00:01\r\u001b[K     |█████████████▊                  | 737 kB 8.4 MB/s eta 0:00:01\r\u001b[K     |██████████████                  | 747 kB 8.4 MB/s eta 0:00:01\r\u001b[K     |██████████████                  | 757 kB 8.4 MB/s eta 0:00:01\r\u001b[K     |██████████████▎                 | 768 kB 8.4 MB/s eta 0:00:01\r\u001b[K     |██████████████▌                 | 778 kB 8.4 MB/s eta 0:00:01\r\u001b[K     |██████████████▊                 | 788 kB 8.4 MB/s eta 0:00:01\r\u001b[K     |██████████████▉                 | 798 kB 8.4 MB/s eta 0:00:01\r\u001b[K     |███████████████                 | 808 kB 8.4 MB/s eta 0:00:01\r\u001b[K     |███████████████▎                | 819 kB 8.4 MB/s eta 0:00:01\r\u001b[K     |███████████████▍                | 829 kB 8.4 MB/s eta 0:00:01\r\u001b[K     |███████████████▋                | 839 kB 8.4 MB/s eta 0:00:01\r\u001b[K     |███████████████▉                | 849 kB 8.4 MB/s eta 0:00:01\r\u001b[K     |████████████████                | 860 kB 8.4 MB/s eta 0:00:01\r\u001b[K     |████████████████▏               | 870 kB 8.4 MB/s eta 0:00:01\r\u001b[K     |████████████████▍               | 880 kB 8.4 MB/s eta 0:00:01\r\u001b[K     |████████████████▋               | 890 kB 8.4 MB/s eta 0:00:01\r\u001b[K     |████████████████▊               | 901 kB 8.4 MB/s eta 0:00:01\r\u001b[K     |█████████████████               | 911 kB 8.4 MB/s eta 0:00:01\r\u001b[K     |█████████████████▏              | 921 kB 8.4 MB/s eta 0:00:01\r\u001b[K     |█████████████████▍              | 931 kB 8.4 MB/s eta 0:00:01\r\u001b[K     |█████████████████▌              | 942 kB 8.4 MB/s eta 0:00:01\r\u001b[K     |█████████████████▊              | 952 kB 8.4 MB/s eta 0:00:01\r\u001b[K     |██████████████████              | 962 kB 8.4 MB/s eta 0:00:01\r\u001b[K     |██████████████████              | 972 kB 8.4 MB/s eta 0:00:01\r\u001b[K     |██████████████████▎             | 983 kB 8.4 MB/s eta 0:00:01\r\u001b[K     |██████████████████▌             | 993 kB 8.4 MB/s eta 0:00:01\r\u001b[K     |██████████████████▊             | 1.0 MB 8.4 MB/s eta 0:00:01\r\u001b[K     |██████████████████▉             | 1.0 MB 8.4 MB/s eta 0:00:01\r\u001b[K     |███████████████████             | 1.0 MB 8.4 MB/s eta 0:00:01\r\u001b[K     |███████████████████▎            | 1.0 MB 8.4 MB/s eta 0:00:01\r\u001b[K     |███████████████████▍            | 1.0 MB 8.4 MB/s eta 0:00:01\r\u001b[K     |███████████████████▋            | 1.1 MB 8.4 MB/s eta 0:00:01\r\u001b[K     |███████████████████▉            | 1.1 MB 8.4 MB/s eta 0:00:01\r\u001b[K     |████████████████████            | 1.1 MB 8.4 MB/s eta 0:00:01\r\u001b[K     |████████████████████▏           | 1.1 MB 8.4 MB/s eta 0:00:01\r\u001b[K     |████████████████████▍           | 1.1 MB 8.4 MB/s eta 0:00:01\r\u001b[K     |████████████████████▋           | 1.1 MB 8.4 MB/s eta 0:00:01\r\u001b[K     |████████████████████▊           | 1.1 MB 8.4 MB/s eta 0:00:01\r\u001b[K     |█████████████████████           | 1.1 MB 8.4 MB/s eta 0:00:01\r\u001b[K     |█████████████████████▏          | 1.1 MB 8.4 MB/s eta 0:00:01\r\u001b[K     |█████████████████████▍          | 1.1 MB 8.4 MB/s eta 0:00:01\r\u001b[K     |█████████████████████▌          | 1.2 MB 8.4 MB/s eta 0:00:01\r\u001b[K     |█████████████████████▊          | 1.2 MB 8.4 MB/s eta 0:00:01\r\u001b[K     |██████████████████████          | 1.2 MB 8.4 MB/s eta 0:00:01\r\u001b[K     |██████████████████████          | 1.2 MB 8.4 MB/s eta 0:00:01\r\u001b[K     |██████████████████████▎         | 1.2 MB 8.4 MB/s eta 0:00:01\r\u001b[K     |██████████████████████▌         | 1.2 MB 8.4 MB/s eta 0:00:01\r\u001b[K     |██████████████████████▊         | 1.2 MB 8.4 MB/s eta 0:00:01\r\u001b[K     |██████████████████████▉         | 1.2 MB 8.4 MB/s eta 0:00:01\r\u001b[K     |███████████████████████         | 1.2 MB 8.4 MB/s eta 0:00:01\r\u001b[K     |███████████████████████▎        | 1.2 MB 8.4 MB/s eta 0:00:01\r\u001b[K     |███████████████████████▍        | 1.3 MB 8.4 MB/s eta 0:00:01\r\u001b[K     |███████████████████████▋        | 1.3 MB 8.4 MB/s eta 0:00:01\r\u001b[K     |███████████████████████▉        | 1.3 MB 8.4 MB/s eta 0:00:01\r\u001b[K     |████████████████████████        | 1.3 MB 8.4 MB/s eta 0:00:01\r\u001b[K     |████████████████████████▏       | 1.3 MB 8.4 MB/s eta 0:00:01\r\u001b[K     |████████████████████████▍       | 1.3 MB 8.4 MB/s eta 0:00:01\r\u001b[K     |████████████████████████▋       | 1.3 MB 8.4 MB/s eta 0:00:01\r\u001b[K     |████████████████████████▊       | 1.3 MB 8.4 MB/s eta 0:00:01\r\u001b[K     |█████████████████████████       | 1.3 MB 8.4 MB/s eta 0:00:01\r\u001b[K     |█████████████████████████▏      | 1.4 MB 8.4 MB/s eta 0:00:01\r\u001b[K     |█████████████████████████▍      | 1.4 MB 8.4 MB/s eta 0:00:01\r\u001b[K     |█████████████████████████▌      | 1.4 MB 8.4 MB/s eta 0:00:01\r\u001b[K     |█████████████████████████▊      | 1.4 MB 8.4 MB/s eta 0:00:01\r\u001b[K     |██████████████████████████      | 1.4 MB 8.4 MB/s eta 0:00:01\r\u001b[K     |██████████████████████████▏     | 1.4 MB 8.4 MB/s eta 0:00:01\r\u001b[K     |██████████████████████████▎     | 1.4 MB 8.4 MB/s eta 0:00:01\r\u001b[K     |██████████████████████████▌     | 1.4 MB 8.4 MB/s eta 0:00:01\r\u001b[K     |██████████████████████████▊     | 1.4 MB 8.4 MB/s eta 0:00:01\r\u001b[K     |██████████████████████████▉     | 1.4 MB 8.4 MB/s eta 0:00:01\r\u001b[K     |███████████████████████████     | 1.5 MB 8.4 MB/s eta 0:00:01\r\u001b[K     |███████████████████████████▎    | 1.5 MB 8.4 MB/s eta 0:00:01\r\u001b[K     |███████████████████████████▌    | 1.5 MB 8.4 MB/s eta 0:00:01\r\u001b[K     |███████████████████████████▋    | 1.5 MB 8.4 MB/s eta 0:00:01\r\u001b[K     |███████████████████████████▉    | 1.5 MB 8.4 MB/s eta 0:00:01\r\u001b[K     |████████████████████████████    | 1.5 MB 8.4 MB/s eta 0:00:01\r\u001b[K     |████████████████████████████▏   | 1.5 MB 8.4 MB/s eta 0:00:01\r\u001b[K     |████████████████████████████▍   | 1.5 MB 8.4 MB/s eta 0:00:01\r\u001b[K     |████████████████████████████▋   | 1.5 MB 8.4 MB/s eta 0:00:01\r\u001b[K     |████████████████████████████▉   | 1.5 MB 8.4 MB/s eta 0:00:01\r\u001b[K     |█████████████████████████████   | 1.6 MB 8.4 MB/s eta 0:00:01\r\u001b[K     |█████████████████████████████▏  | 1.6 MB 8.4 MB/s eta 0:00:01\r\u001b[K     |█████████████████████████████▍  | 1.6 MB 8.4 MB/s eta 0:00:01\r\u001b[K     |█████████████████████████████▌  | 1.6 MB 8.4 MB/s eta 0:00:01\r\u001b[K     |█████████████████████████████▊  | 1.6 MB 8.4 MB/s eta 0:00:01\r\u001b[K     |██████████████████████████████  | 1.6 MB 8.4 MB/s eta 0:00:01\r\u001b[K     |██████████████████████████████▏ | 1.6 MB 8.4 MB/s eta 0:00:01\r\u001b[K     |██████████████████████████████▎ | 1.6 MB 8.4 MB/s eta 0:00:01\r\u001b[K     |██████████████████████████████▌ | 1.6 MB 8.4 MB/s eta 0:00:01\r\u001b[K     |██████████████████████████████▊ | 1.6 MB 8.4 MB/s eta 0:00:01\r\u001b[K     |██████████████████████████████▉ | 1.7 MB 8.4 MB/s eta 0:00:01\r\u001b[K     |███████████████████████████████ | 1.7 MB 8.4 MB/s eta 0:00:01\r\u001b[K     |███████████████████████████████▎| 1.7 MB 8.4 MB/s eta 0:00:01\r\u001b[K     |███████████████████████████████▌| 1.7 MB 8.4 MB/s eta 0:00:01\r\u001b[K     |███████████████████████████████▋| 1.7 MB 8.4 MB/s eta 0:00:01\r\u001b[K     |███████████████████████████████▉| 1.7 MB 8.4 MB/s eta 0:00:01\r\u001b[K     |████████████████████████████████| 1.7 MB 8.4 MB/s \n",
            "\u001b[?25hCollecting docker-pycreds>=0.4.0\n",
            "  Downloading docker_pycreds-0.4.0-py2.py3-none-any.whl (9.0 kB)\n",
            "Requirement already satisfied: PyYAML in /usr/local/lib/python3.7/dist-packages (from wandb) (3.13)\n",
            "Requirement already satisfied: requests<3,>=2.0.0 in /usr/local/lib/python3.7/dist-packages (from wandb) (2.23.0)\n",
            "Collecting pathtools\n",
            "  Downloading pathtools-0.1.2.tar.gz (11 kB)\n",
            "Requirement already satisfied: six>=1.13.0 in /usr/local/lib/python3.7/dist-packages (from wandb) (1.15.0)\n",
            "Requirement already satisfied: python-dateutil>=2.6.1 in /usr/local/lib/python3.7/dist-packages (from wandb) (2.8.2)\n",
            "Requirement already satisfied: promise<3,>=2.0 in /usr/local/lib/python3.7/dist-packages (from wandb) (2.3)\n",
            "Collecting yaspin>=1.0.0\n",
            "  Downloading yaspin-2.1.0-py3-none-any.whl (18 kB)\n",
            "Collecting sentry-sdk>=1.0.0\n",
            "  Downloading sentry_sdk-1.5.5-py2.py3-none-any.whl (144 kB)\n",
            "\u001b[K     |████████████████████████████████| 144 kB 63.4 MB/s \n",
            "\u001b[?25hRequirement already satisfied: protobuf>=3.12.0 in /usr/local/lib/python3.7/dist-packages (from wandb) (3.17.3)\n",
            "Collecting shortuuid>=0.5.0\n",
            "  Downloading shortuuid-1.0.8-py3-none-any.whl (9.5 kB)\n",
            "Collecting GitPython>=1.0.0\n",
            "  Downloading GitPython-3.1.26-py3-none-any.whl (180 kB)\n",
            "\u001b[K     |████████████████████████████████| 180 kB 58.8 MB/s \n",
            "\u001b[?25hRequirement already satisfied: psutil>=5.0.0 in /usr/local/lib/python3.7/dist-packages (from wandb) (5.4.8)\n",
            "Requirement already satisfied: Click!=8.0.0,>=7.0 in /usr/local/lib/python3.7/dist-packages (from wandb) (7.1.2)\n",
            "Collecting gitdb<5,>=4.0.1\n",
            "  Downloading gitdb-4.0.9-py3-none-any.whl (63 kB)\n",
            "\u001b[K     |████████████████████████████████| 63 kB 2.4 MB/s \n",
            "\u001b[?25hRequirement already satisfied: typing-extensions>=3.7.4.3 in /usr/local/lib/python3.7/dist-packages (from GitPython>=1.0.0->wandb) (3.10.0.2)\n",
            "Collecting smmap<6,>=3.0.1\n",
            "  Downloading smmap-5.0.0-py3-none-any.whl (24 kB)\n",
            "Requirement already satisfied: urllib3!=1.25.0,!=1.25.1,<1.26,>=1.21.1 in /usr/local/lib/python3.7/dist-packages (from requests<3,>=2.0.0->wandb) (1.24.3)\n",
            "Requirement already satisfied: idna<3,>=2.5 in /usr/local/lib/python3.7/dist-packages (from requests<3,>=2.0.0->wandb) (2.10)\n",
            "Requirement already satisfied: certifi>=2017.4.17 in /usr/local/lib/python3.7/dist-packages (from requests<3,>=2.0.0->wandb) (2021.10.8)\n",
            "Requirement already satisfied: chardet<4,>=3.0.2 in /usr/local/lib/python3.7/dist-packages (from requests<3,>=2.0.0->wandb) (3.0.4)\n",
            "Requirement already satisfied: termcolor<2.0.0,>=1.1.0 in /usr/local/lib/python3.7/dist-packages (from yaspin>=1.0.0->wandb) (1.1.0)\n",
            "Building wheels for collected packages: pathtools\n",
            "  Building wheel for pathtools (setup.py) ... \u001b[?25l\u001b[?25hdone\n",
            "  Created wheel for pathtools: filename=pathtools-0.1.2-py3-none-any.whl size=8806 sha256=5193799a7af57fc7bf50242cda8ed5a8c95502b6919f5840ed21c807c1d0a90d\n",
            "  Stored in directory: /root/.cache/pip/wheels/3e/31/09/fa59cef12cdcfecc627b3d24273699f390e71828921b2cbba2\n",
            "Successfully built pathtools\n",
            "Installing collected packages: smmap, gitdb, yaspin, shortuuid, sentry-sdk, pathtools, GitPython, docker-pycreds, wandb\n",
            "Successfully installed GitPython-3.1.26 docker-pycreds-0.4.0 gitdb-4.0.9 pathtools-0.1.2 sentry-sdk-1.5.5 shortuuid-1.0.8 smmap-5.0.0 wandb-0.12.10 yaspin-2.1.0\n"
          ]
        }
      ],
      "source": [
        "!pip install wandb"
      ]
    },
    {
      "cell_type": "code",
      "source": [
        "import wandb\n",
        "!wandb login"
      ],
      "metadata": {
        "colab": {
          "base_uri": "https://localhost:8080/"
        },
        "id": "nEMNaoiWOtzT",
        "outputId": "65af3d25-c361-450f-d82d-dcb5ca76cebe"
      },
      "execution_count": 2,
      "outputs": [
        {
          "output_type": "stream",
          "name": "stdout",
          "text": [
            "\u001b[34m\u001b[1mwandb\u001b[0m: You can find your API key in your browser here: https://wandb.ai/authorize\n",
            "\u001b[34m\u001b[1mwandb\u001b[0m: Paste an API key from your profile and hit enter, or press ctrl+c to quit: \n",
            "\u001b[34m\u001b[1mwandb\u001b[0m: Appending key for api.wandb.ai to your netrc file: /root/.netrc\n"
          ]
        }
      ]
    },
    {
      "cell_type": "code",
      "source": [
        "import matplotlib.pyplot as plt\n",
        "import matplotlib.colors\n",
        "import numpy as np\n",
        "from sklearn.metrics import accuracy_score, mean_squared_error\n",
        "from sklearn.metrics import log_loss\n",
        "from keras.datasets import fashion_mnist"
      ],
      "metadata": {
        "id": "DAu1iUAvPBjA"
      },
      "execution_count": 3,
      "outputs": []
    },
    {
      "cell_type": "code",
      "source": [
        "(train_images, train_labels), (test_images, test_labels) = fashion_mnist.load_data()\n",
        "labels = [\"T-shirt/Top\", \"Trouser\", \"Pullover\", \"Dress\", \"Coat\", \"Sandal\", \"Shirt\", \"Sneaker\", \"Bag\", \"Ankle Boot\"]\n",
        "N , a , b = train_images.shape\n",
        "#Dimesion of each Datapoint will be a*b\n",
        "x = a*b\n",
        "d = x\n",
        "nl = len(labels)"
      ],
      "metadata": {
        "id": "pNmFx17BbCY9",
        "colab": {
          "base_uri": "https://localhost:8080/"
        },
        "outputId": "2ab04111-fc08-40ff-caa0-8e8c827caa17"
      },
      "execution_count": 4,
      "outputs": [
        {
          "output_type": "stream",
          "name": "stdout",
          "text": [
            "Downloading data from https://storage.googleapis.com/tensorflow/tf-keras-datasets/train-labels-idx1-ubyte.gz\n",
            "32768/29515 [=================================] - 0s 0us/step\n",
            "40960/29515 [=========================================] - 0s 0us/step\n",
            "Downloading data from https://storage.googleapis.com/tensorflow/tf-keras-datasets/train-images-idx3-ubyte.gz\n",
            "26427392/26421880 [==============================] - 0s 0us/step\n",
            "26435584/26421880 [==============================] - 0s 0us/step\n",
            "Downloading data from https://storage.googleapis.com/tensorflow/tf-keras-datasets/t10k-labels-idx1-ubyte.gz\n",
            "16384/5148 [===============================================================================================] - 0s 0us/step\n",
            "Downloading data from https://storage.googleapis.com/tensorflow/tf-keras-datasets/t10k-images-idx3-ubyte.gz\n",
            "4423680/4422102 [==============================] - 0s 0us/step\n",
            "4431872/4422102 [==============================] - 0s 0us/step\n"
          ]
        }
      ]
    },
    {
      "cell_type": "markdown",
      "source": [
        "#Question 1\n"
      ],
      "metadata": {
        "id": "l39O5G0LLouw"
      }
    },
    {
      "cell_type": "code",
      "source": [
        "def show_images(train_images , train_labels , desc):\n",
        "  m=0\n",
        "  n=0\n",
        "  k=0\n",
        "  fig, axes = plt.subplots(2, 5, figsize=(12.5,6))\n",
        "  for i in range(1000):\n",
        "    if train_labels[i]==k:\n",
        "      ax = axes[m,n]\n",
        "      ax.imshow(train_images[i], cmap='gray')\n",
        "      ax.set_title('Class='+str(train_labels[i])+', Label='+str(desc[train_labels[i]]))\n",
        "      n=n+1\n",
        "      k=k+1\n",
        "      if(n==5):\n",
        "        m=1\n",
        "        n=0\n",
        "    if k==10:\n",
        "      break\n",
        "  plt.tight_layout()\n",
        "  plt.show()"
      ],
      "metadata": {
        "id": "1DDfpoyEVbND"
      },
      "execution_count": 5,
      "outputs": []
    },
    {
      "cell_type": "code",
      "source": [
        "#Showing one image of each class (Question - 1)\n",
        "show_images(train_images , train_labels,labels)"
      ],
      "metadata": {
        "colab": {
          "base_uri": "https://localhost:8080/",
          "height": 401
        },
        "id": "2RS3hejYaID7",
        "outputId": "1ddddf6d-eaf4-4e88-8485-56a621e33cf9"
      },
      "execution_count": 6,
      "outputs": [
        {
          "output_type": "display_data",
          "data": {
            "image/png": "[encoded data removed]",
            "text/plain": [
              "<Figure size 900x432 with 10 Axes>"
            ]
          },
          "metadata": {
            "needs_background": "light"
          }
        }
      ]
    },
    {
      "cell_type": "markdown",
      "source": [
        "#Propecessing of data\n",
        "\n"
      ],
      "metadata": {
        "id": "ZkCkYjcLLusM"
      }
    },
    {
      "cell_type": "code",
      "source": [
        "#Flattening we are converting the 28*28 data point as 784*1 data point\n",
        "flatted_train_images =  np.array([train_images[i].flatten() for i in range(len(train_images))])\n",
        "#Same transition for testdata\n",
        "flatted_test_images =  np.array([test_images[i].flatten() for i in range(len(test_images))])"
      ],
      "metadata": {
        "id": "zJ2nvR4fdIdz"
      },
      "execution_count": 7,
      "outputs": []
    },
    {
      "cell_type": "code",
      "source": [
        "#getting train data and validation data from training data\n",
        "from sklearn.model_selection import train_test_split\n",
        "train_x, valid_x, cat_train_y, cat_val_y = train_test_split(flatted_train_images, train_labels, test_size=0.1, stratify = train_labels ,random_state=42)"
      ],
      "metadata": {
        "id": "uC7nrfY8WEWB"
      },
      "execution_count": 8,
      "outputs": []
    },
    {
      "cell_type": "code",
      "source": [
        "#One hot encoding of categorical labels \n",
        "def encode(data , nl):\n",
        "  encode_data = np.array( [ [0]*nl for i in range(len(data))] )\n",
        "  for i in range(len(data)):\n",
        "    actual_label = data[i]\n",
        "    encode_data[i][actual_label] = 1\n",
        "  return encode_data"
      ],
      "metadata": {
        "id": "tOnDidLOiujh"
      },
      "execution_count": 9,
      "outputs": []
    },
    {
      "cell_type": "code",
      "source": [
        "train_y = encode(cat_train_y , nl)\n",
        "valid_y = encode(cat_val_y , nl)\n",
        "test_y = encode(test_labels , nl)"
      ],
      "metadata": {
        "id": "ge_r0IOOiumH"
      },
      "execution_count": 10,
      "outputs": []
    },
    {
      "cell_type": "code",
      "source": [
        "#Normalizing the data\n",
        "mean = np.mean(train_x , axis = 0)\n",
        "train_x = (train_x - mean) /255\n",
        "valid_x = (valid_x - mean)/255\n",
        "test_x = (flatted_test_images - mean)/255"
      ],
      "metadata": {
        "id": "4gB5g1rbiuoh"
      },
      "execution_count": 11,
      "outputs": []
    },
    {
      "cell_type": "code",
      "source": [
        "print(train_x.shape)\n",
        "print(valid_x.shape)\n",
        "print(test_x.shape)\n",
        "print(train_y.shape)\n",
        "print(valid_y.shape)\n",
        "print(test_y.shape)"
      ],
      "metadata": {
        "id": "nr5kCu-plvfi",
        "colab": {
          "base_uri": "https://localhost:8080/"
        },
        "outputId": "af6027b0-76e6-4619-d26e-c53f08a039c6"
      },
      "execution_count": 12,
      "outputs": [
        {
          "output_type": "stream",
          "name": "stdout",
          "text": [
            "(54000, 784)\n",
            "(6000, 784)\n",
            "(10000, 784)\n",
            "(54000, 10)\n",
            "(6000, 10)\n",
            "(10000, 10)\n"
          ]
        }
      ]
    },
    {
      "cell_type": "markdown",
      "source": [
        "#Activation functions\n"
      ],
      "metadata": {
        "id": "rfc75empL3_4"
      }
    },
    {
      "cell_type": "code",
      "source": [
        "def sigmoid(x):\n",
        "    temp = []\n",
        "    for i in range(len(x)):\n",
        "      temp.append(1/(1 + np.exp(-(float(x[i])))))\n",
        "    return np.array(temp)\n",
        "\n",
        "def tanh(x):\n",
        "    temp = []\n",
        "    for i in range(len(x)):\n",
        "      temp.append(np.tanh(x[i]))\n",
        "    return np.array(temp)\n",
        "\n",
        "def relu(x):\n",
        "    temp = []\n",
        "    for i in range(len(x)):\n",
        "      temp.append(max(0,x[i]))\n",
        "    return np.array(temp)\n",
        "\n",
        "def softmax(x):\n",
        "    temp = []\n",
        "    sum = 0\n",
        "    for i in range(len(x)):\n",
        "      sum += np.exp(float(x[i]))\n",
        "    for i in range(len(x)):\n",
        "      temp.append( np.exp(float(x[i])) / sum)\n",
        "    return np.array(temp)\n",
        "\n",
        "def derivative_sigmoid(x):\n",
        "    return x*(1 - x)\n",
        "\n",
        "def derivative_tanh(x):\n",
        "    return 1-np.square(x)\n",
        "\n",
        "def derivative_relu(x):\n",
        "    temp = []\n",
        "    for i in range(len(x)):\n",
        "      if x[i]>0:\n",
        "        temp.append(1)\n",
        "      else:\n",
        "        temp.append(0)\n",
        "    return np.array(temp)"
      ],
      "metadata": {
        "id": "-wEgTce4sL0H"
      },
      "execution_count": 13,
      "outputs": []
    },
    {
      "cell_type": "markdown",
      "source": [
        "#Network initialization"
      ],
      "metadata": {
        "id": "CJ-tlLaeMLtI"
      }
    },
    {
      "cell_type": "code",
      "source": [
        "def initialize_zeros(dim,hl,ol):\n",
        "  w = [np.array([])]\n",
        "  b = [np.array([])]\n",
        "  for i in range(len(hl)):\n",
        "    b.append(np.zeros(hl[i]))\n",
        "    if(i == 0):\n",
        "      w.append(np.zeros((hl[i],d)))\n",
        "    else:\n",
        "      w.append(np.zeros((hl[i],hl[i - 1])))\n",
        "\n",
        "  for i in range(len(ol)):\n",
        "    b.append(np.zeros(ol[i]))\n",
        "    w.append(np.zeros((ol[i],hl[-1])))\n",
        "  return w , b"
      ],
      "metadata": {
        "id": "yO6X3QBoMxae"
      },
      "execution_count": 14,
      "outputs": []
    },
    {
      "cell_type": "code",
      "source": [
        "def initialize_network(dim, hl, ol, method):\n",
        "  W = [np.array([])]\n",
        "  b = [np.array([])]\n",
        "  np.random.seed(2)\n",
        "  #Random intialization\n",
        "  if(method=='random'):\n",
        "    for i in range(len(hl)):\n",
        "      b.append(np.random.randn(hl[i]))\n",
        "      if(i == 0):\n",
        "        W.append(np.random.randn(hl[i],dim))\n",
        "      else:\n",
        "        W.append(np.random.randn(hl[i],hl[i - 1]))\n",
        "    for i in range(len(ol)):\n",
        "      b.append(np.random.randn(ol[i]))\n",
        "      W.append(np.random.randn(ol[i],hl[-1]))\n",
        "      \n",
        "  #Xavier Initialization\n",
        "  else:\n",
        "    for i in range(len(hl)):\n",
        "      b.append(np.random.randn(hl[i]))\n",
        "      if(i == 0):\n",
        "        W.append(np.random.randn(hl[i],dim ) * np.sqrt(1/dim))\n",
        "      else:\n",
        "        W.append(np.random.randn(hl[i],hl[i-1]) * np.sqrt(1/hl[i-1]))\n",
        "    for i in range(len(ol)):\n",
        "      b.append(np.random.randn(ol[i]))\n",
        "      W.append(np.random.randn(ol[i],hl[-1]) * np.sqrt(1/hl[-1]))\n",
        "\n",
        "  return W,b"
      ],
      "metadata": {
        "id": "5Anplb6Dlvh-"
      },
      "execution_count": 15,
      "outputs": []
    },
    {
      "cell_type": "markdown",
      "source": [
        "#Forward Propagation"
      ],
      "metadata": {
        "id": "7Y7VQGKpMQXO"
      }
    },
    {
      "cell_type": "code",
      "source": [
        "def forward_propagation(W,b,x,method):\n",
        "    a = [[]]\n",
        "    h = [[]]\n",
        "    h[0] = x \n",
        "    num_layers = (len(W)-1)\n",
        "    c = []\n",
        "    d = []\n",
        "    if method=='sigmoid':\n",
        "        for i in range(1 , num_layers):\n",
        "            c = np.dot( W[i], h[i-1] ) + b[i]\n",
        "            a.append(c)\n",
        "            d = sigmoid(c)\n",
        "            h.append(d)\n",
        "\n",
        "    elif method=='tanh':\n",
        "        for i in range(1 , num_layers):\n",
        "            c = np.dot( W[i], h[i-1] ) + b[i]\n",
        "            a.append(c)\n",
        "            d = tanh(c)\n",
        "            h.append(d)\n",
        "\n",
        "    elif method=='relu':\n",
        "        for i in range(1 , num_layers):\n",
        "            c = np.dot( W[i], h[i-1] ) + b[i]\n",
        "            a.append(c)\n",
        "            d = relu(c)\n",
        "            h.append(d)\n",
        "\n",
        "    c = np.dot( W[num_layers], h[num_layers-1] ) + b[num_layers]\n",
        "    a.append(c)\n",
        "    d = softmax(c)\n",
        "    h.append(d)\n",
        "\n",
        "    return a,h"
      ],
      "metadata": {
        "id": "yHRXzM_ysJua"
      },
      "execution_count": 16,
      "outputs": []
    },
    {
      "cell_type": "markdown",
      "source": [
        "#Backward Propagation"
      ],
      "metadata": {
        "id": "-l1OXNypMUSf"
      }
    },
    {
      "cell_type": "code",
      "source": [
        "def back_prop(W,h,x,y,y_pred,act_fun,loss_fun):\n",
        "  del_W,del_b=[[]],[[]]\n",
        "\n",
        "  #Computing output grad wrt Cross Entropy Loss function\n",
        "  if loss_fun == \"cross_entropy\" :\n",
        "    del_a = (y_pred - y)\n",
        "    \n",
        "  #Computing output grad wrt Squared Error Loss function\n",
        "  else:\n",
        "    y_label = y_pred[np.argmax(y)]\n",
        "    del_a = 2 * (y_label - 1) * y_label * ( y - y_pred )\n",
        "\n",
        "  for i in range(len(W)-1, 0, -1):\n",
        "\n",
        "    #computing gradients wrt parameters W,b\n",
        "    dW = np.array(np.dot(np.matrix(del_a).T , np.matrix(h[i-1])))\n",
        "    db = np.array( del_a )\n",
        "\n",
        "    #computing gradients wrt below layer activation function\n",
        "    dh = np.dot( np.transpose(W[i]), del_a )\n",
        "\n",
        "    #computing gradients wrt below layer pre-activation function\n",
        "    if act_fun == \"sigmoid\":\n",
        "      del_a = dh * derivative_sigmoid( h[i - 1] )\n",
        "    \n",
        "    elif act_fun == \"tanh\":\n",
        "      del_a = dh * derivative_tanh( h[i - 1] )\n",
        "    \n",
        "    elif act_fun == \"relu\":\n",
        "      del_a = dh * derivative_relu( h[i - 1] )\n",
        "\n",
        "    del_W.insert(1, dW)\n",
        "    del_b.insert(1, db)\n",
        "\n",
        "  return del_W, del_b"
      ],
      "metadata": {
        "id": "fTdgFIC4sbnI"
      },
      "execution_count": 17,
      "outputs": []
    },
    {
      "cell_type": "markdown",
      "source": [
        "#Stochastic Gradient Descent optimizer"
      ],
      "metadata": {
        "id": "wXprOTMuMaQ1"
      }
    },
    {
      "cell_type": "code",
      "source": [
        "def stochastic_gradient_descent(train_x,train_y,valid_x,valid_y,d,hl,ol,act_fun,loss_fun,epochs,eta,strat,alpha,batch):\n",
        "  #Initializing the weights and biases based on given strategy\n",
        "  W,b = initialize_network(d, hl, ol, strat)\n",
        "  dw , db = initialize_zeros(784,hl,ol)\n",
        "\n",
        "  seen = 0\n",
        "  for e in range(epochs):\n",
        "    \n",
        "    for it, (x, y) in enumerate(zip(train_x, train_y)):\n",
        "      seen += 1\n",
        "      a,h = forward_propagation(W, b, x, act_fun)\n",
        "      y_pred=h[len(h)-1]\n",
        "      tdw,tdb=back_prop(W, h, x, y, y_pred, act_fun, loss_fun)\n",
        "\n",
        "      for i in range(len(tdw)):\n",
        "        dw[i] += tdw[i]\n",
        "        db[i] += tdb[i]\n",
        "\n",
        "      if(seen==batch or it==len(train_x)-1):\n",
        "        seen = 0\n",
        "\n",
        "        for i, (weight, deriv) in enumerate(zip(W, dw)):\n",
        "          W[i] = weight - eta * np.array(deriv)\n",
        "\n",
        "        for i, (bias, deriv) in enumerate(zip(b, db)):\n",
        "          b[i] = bias - eta * np.array(deriv)\n",
        "        \n",
        "        dw , db = initialize_zeros(784,hl,ol)\n",
        "\n",
        "    val_acc, val_loss = get_predictions_accuracy(W, b, valid_x, valid_y, act_fun, loss_fun)\n",
        "    train_acc, train_loss = get_predictions_accuracy(W, b, train_x, train_y, act_fun, loss_fun)\n",
        "    test_acc, test_loss = get_predictions_accuracy(W, b, test_x, test_y, act_fun, loss_fun)\n",
        "    print(e+1,\"accuracy\", train_acc , val_acc, test_acc)\n",
        "    \n",
        "    wandb.log({\n",
        "        \"Epoch\": e+1,\n",
        "        \"Train Loss\": train_loss,\n",
        "        \"Train Acc\": train_acc,\n",
        "        \"Valid Loss\": val_loss,\n",
        "        \"Valid Acc\": val_acc})\n",
        "  return val_acc"
      ],
      "metadata": {
        "id": "b4B_B7zxsbpx"
      },
      "execution_count": 18,
      "outputs": []
    },
    {
      "cell_type": "markdown",
      "source": [
        "#Momentum Based Gradient Descent "
      ],
      "metadata": {
        "id": "V7JpBnmAMhNU"
      }
    },
    {
      "cell_type": "code",
      "source": [
        "def momentum_gradient_descent(train_x,train_y,valid_x,valid_y,d,hl,ol,act_fun,loss_fun,epochs,eta,strat,alpha,batch):\n",
        "  W,b=initialize_network(d, hl, ol, strat)\n",
        "  dw , db = initialize_zeros(784,hl,ol)\n",
        "  prev_w , prev_b = initialize_zeros(784,hl,ol)\n",
        "  gamma=0.9\n",
        "  seen=0\n",
        "\n",
        "  for e in range(epochs):\n",
        "    #dw , db = initialize_zeros(784,hl,ol)\n",
        "    for it, (x, y) in enumerate(zip(train_x, train_y)):\n",
        "      seen+=1\n",
        "      a,h = forward_propagation(W, b, x, act_fun)\n",
        "      y_pred=h[len(h)-1]\n",
        "      \n",
        "      tdw,tdb=back_prop(W, h, x, y, y_pred, act_fun, loss_fun)\n",
        "  \n",
        "      for i in range(len(tdw)):\n",
        "        dw[i] += tdw[i]\n",
        "        db[i] += tdb[i]\n",
        "    \n",
        "      if(seen==batch or it==len(train_x)-1):\n",
        "        seen=0\n",
        "        for i, (weight, deriv) in enumerate(zip(W, dw)):\n",
        "          W[i] = weight - eta * np.array(deriv) - gamma*prev_w[i]\n",
        "          prev_w[i] = eta * np.array(deriv) + gamma*prev_w[i]\n",
        "\n",
        "        for i, (bias, deriv) in enumerate(zip(b, db)):\n",
        "          b[i] = bias - eta * np.array(deriv) - gamma*prev_b[i]\n",
        "          prev_b[i] = eta * np.array(deriv) + gamma*prev_b[i]\n",
        "\n",
        "        dw , db = initialize_zeros(784,hl,ol)\n",
        "\n",
        "    val_acc, val_loss = get_predictions_accuracy(W, b, valid_x, valid_y, act_fun, loss_fun)\n",
        "    train_acc, train_loss = get_predictions_accuracy(W, b, train_x, train_y, act_fun, loss_fun)\n",
        "    test_acc, test_loss = get_predictions_accuracy(W, b, test_x, test_y, act_fun, loss_fun)\n",
        "    print(e+1,\"accuracy\", train_acc , val_acc, test_acc)\n",
        "\n",
        "    wandb.log({\n",
        "        \"Epoch\": e+1,\n",
        "        \"Train Loss\": train_loss,\n",
        "        \"Train Acc\": train_acc,\n",
        "        \"Valid Loss\": val_loss,\n",
        "        \"Valid Acc\": val_acc})\n",
        "  return val_acc"
      ],
      "metadata": {
        "id": "wYT8Ed0eVIwu"
      },
      "execution_count": 19,
      "outputs": []
    },
    {
      "cell_type": "markdown",
      "source": [
        "#Nesterov Accelerated Gradient Descent"
      ],
      "metadata": {
        "id": "Ybb-fTh2MlKf"
      }
    },
    {
      "cell_type": "code",
      "source": [
        "def nesterov_gradient_descent(train_x,train_y,valid_x,valid_y,d,hl,ol,act_fun,loss_fun,epochs,eta,strat,alpha,batch):\n",
        "  W,b=initialize_network(d, hl, ol, strat)\n",
        "\n",
        "  gamma=0.9\n",
        "  seen=0\n",
        "\n",
        "  \n",
        "  prev_w , prev_b = initialize_zeros(784,hl,ol)\n",
        "  v_w , v_b =initialize_zeros(784,hl,ol)\n",
        "\n",
        "  dw , db = initialize_zeros(784,hl,ol)\n",
        "  tw , tb = initialize_zeros(784,hl,ol)\n",
        "\n",
        "  for e in range(epochs):\n",
        "\n",
        "    for i in range(len(W)):\n",
        "      v_w[i] = gamma*prev_w[i]\n",
        "      v_b[i] = gamma*prev_b[i]\n",
        "    \n",
        "\n",
        "    for i in range(len(W)):\n",
        "      tw[i] = W[i] - v_w[i]\n",
        "      tb[i] = b[i] - v_b[i]\n",
        "  \n",
        "    for it, (x, y) in enumerate(zip(train_x, train_y)):\n",
        "      seen+=1\n",
        "\n",
        "      a,h = forward_propagation(tw, tb, x, act_fun)\n",
        "      y_pred=h[len(h)-1]\n",
        "      \n",
        "      tdw,tdb=back_prop(tw, h, x, y, y_pred, act_fun, loss_fun)\n",
        "      \n",
        "      for i in range(len(tdw)):\n",
        "        dw[i] += tdw[i]\n",
        "        db[i] += tdb[i]\n",
        "\n",
        "      if seen==batch or it == len(train_x)-1:\n",
        "        seen=0\n",
        "        for i, (weight, deriv) in enumerate(zip(W, dw)):\n",
        "          v_w[i] = gamma*prev_w[i] + eta*np.array(deriv)\n",
        "          W[i] = weight - v_w[i]\n",
        "          tw[i] = W[i]\n",
        "          prev_w = v_w\n",
        "\n",
        "        for i, (bias, deriv) in enumerate(zip(b, db)):\n",
        "          v_b[i] = gamma*prev_b[i] + eta*np.array(deriv)\n",
        "          b[i] = bias - v_b[i]\n",
        "          tb[i] = b[i]\n",
        "          prev_b = v_b\n",
        "        \n",
        "        dw , db = initialize_zeros(784,hl,ol)\n",
        "\n",
        "    val_acc, val_loss = get_predictions_accuracy(W, b, valid_x, valid_y, act_fun, loss_fun)\n",
        "    train_acc, train_loss = get_predictions_accuracy(W, b, train_x, train_y, act_fun, loss_fun)\n",
        "    test_acc, test_loss = get_predictions_accuracy(W, b, test_x, test_y, act_fun, loss_fun)\n",
        "    print(e+1,\"accuracy\", train_acc , val_acc, test_acc)\n",
        "\n",
        "    wandb.log({\n",
        "        \"Epoch\": e+1,\n",
        "        \"Train Loss\": train_loss,\n",
        "        \"Train Acc\": train_acc,\n",
        "        \"Valid Loss\": val_loss,\n",
        "        \"Valid Acc\": val_acc})\n",
        "  return val_acc"
      ],
      "metadata": {
        "id": "WOFtP3b3r6lo"
      },
      "execution_count": 20,
      "outputs": []
    },
    {
      "cell_type": "markdown",
      "source": [
        "#RMS_Prop Optimizer"
      ],
      "metadata": {
        "id": "RRsDnJLyM7xm"
      }
    },
    {
      "cell_type": "code",
      "source": [
        "def rmsprop(train_x,train_y,valid_x,valid_y,d,hl,ol,act_fun,loss_fun,epochs,eta,strat,alpha,batch):\n",
        "  W,b=initialize_network(d, hl, ol, strat)\n",
        "  seen=0\n",
        "  \n",
        "  prev_w , prev_b = initialize_zeros(784,hl,ol)\n",
        "  dw , db = initialize_zeros(784,hl,ol)\n",
        "  eps , beta = 1e-8 , 0.9\n",
        "\n",
        "  for e in range(epochs):\n",
        "  \n",
        "    for it, (x, y) in enumerate(zip(train_x, train_y)):\n",
        "      seen+=1\n",
        "      a,h = forward_propagation(W, b, x, act_fun)\n",
        "      y_pred=h[len(h)-1]\n",
        "      \n",
        "      tdw,tdb=back_prop(W, h, x, y, y_pred, act_fun, loss_fun)\n",
        "      \n",
        "      for i in range(len(tdw)):\n",
        "        dw[i] += tdw[i]\n",
        "        db[i] += tdb[i]\n",
        "\n",
        "      if seen==batch or it == len(train_x)-1:\n",
        "\n",
        "        seen=0\n",
        "\n",
        "        for i in range(len(W)):\n",
        "          prev_w[i] = beta*prev_w[i] + (1-beta)*(dw[i]**2)\n",
        "          prev_b[i] = beta*prev_b[i] + (1-beta)*(db[i]**2)\n",
        "\n",
        "        for i, (weight, deriv) in enumerate(zip(W, dw)):\n",
        "          W[i] = weight - (eta / np.sqrt(prev_w[i] + eps)) * np.array(deriv)\n",
        "\n",
        "        for i, (bias, deriv) in enumerate(zip(b, db)):\n",
        "          b[i] = bias - (eta / np.sqrt(prev_b[i] + eps)) * np.array(deriv)\n",
        "        \n",
        "        dw , db = initialize_zeros(784,hl,ol)\n",
        "\n",
        "    val_acc, val_loss = get_predictions_accuracy(W, b, valid_x, valid_y, act_fun, loss_fun)\n",
        "    train_acc, train_loss = get_predictions_accuracy(W, b, train_x, train_y, act_fun, loss_fun)\n",
        "    test_acc, test_loss = get_predictions_accuracy(W, b, test_x, test_y, act_fun, loss_fun)\n",
        "    print(e+1,\"accuracy\", train_acc , val_acc, test_acc)\n",
        "\n",
        "    wandb.log({\n",
        "        \"Epoch\": e+1,\n",
        "        \"Train Loss\": train_loss,\n",
        "        \"Train Acc\": train_acc,\n",
        "        \"Valid Loss\": val_loss,\n",
        "        \"Valid Acc\": val_acc})\n",
        "  return val_acc"
      ],
      "metadata": {
        "id": "iCF8hfEfZrRo"
      },
      "execution_count": 21,
      "outputs": []
    },
    {
      "cell_type": "markdown",
      "source": [
        "#Adam Optimizer"
      ],
      "metadata": {
        "id": "GIlcCzcJNOdq"
      }
    },
    {
      "cell_type": "code",
      "source": [
        "def adaptive_moments(train_x,train_y,valid_x,valid_y,d,hl,ol,act_fun,loss_fun,epochs,eta,strat,alpha,batch):\n",
        "  W,b=initialize_network(d, hl, ol, strat)\n",
        "  seen=0\n",
        "  c=0\n",
        "  v_w , v_b = initialize_zeros(784,hl,ol)\n",
        "  dw , db = initialize_zeros(784,hl,ol)\n",
        "  m_w , m_b = initialize_zeros(784,hl,ol)\n",
        "  eps , beta1 , beta2 = 1e-8 , 0.9 , 0.99\n",
        "\n",
        "  m_w_hat , m_b_hat = initialize_zeros(784,hl,ol)\n",
        "  v_w_hat , v_b_hat = initialize_zeros(784,hl,ol)\n",
        "\n",
        "  for e in range(epochs):\n",
        "  \n",
        "    for it, (x, y) in enumerate(zip(train_x, train_y)):\n",
        "      seen+=1\n",
        "      a,h = forward_propagation(W, b, x, act_fun)\n",
        "      y_pred=h[len(h)-1]\n",
        "      \n",
        "      tdw,tdb=back_prop(W, h, x, y, y_pred, act_fun, loss_fun)\n",
        "      \n",
        "      for i in range(len(tdw)):\n",
        "        dw[i] += tdw[i]\n",
        "        db[i] += tdb[i]\n",
        "\n",
        "      if seen==batch or it == len(train_x)-1:\n",
        "\n",
        "        seen=0\n",
        "        c+=1\n",
        "        for i in range(len(W)):\n",
        "          m_w[i] = beta1 * m_w[i] + (1-beta1) * dw[i]\n",
        "          m_b[i] = beta1 * m_b[i] + (1-beta1) * db[i]\n",
        "\n",
        "          v_w[i] = beta2 * v_w[i] + (1-beta2) * (dw[i]**2)\n",
        "          v_b[i] = beta2 * v_b[i] + (1-beta2) * (db[i]**2)\n",
        "\n",
        "        for i in range(len(W)):\n",
        "          m_w_hat[i] = m_w[i] / (1 - np.power(beta1,c))\n",
        "          m_b_hat[i] = m_b[i] / (1 - np.power(beta1,c))\n",
        "\n",
        "          v_w_hat[i] = v_w[i] / (1 - np.power(beta2,c))\n",
        "          v_b_hat[i] = v_b[i] / (1 - np.power(beta2,c))\n",
        "\n",
        "        for i, (weight, deriv) in enumerate(zip(W, dw)):\n",
        "          W[i] = weight - (eta / np.sqrt(v_w_hat[i] + eps)) * m_w_hat[i]\n",
        "\n",
        "        for i, (bias, deriv) in enumerate(zip(b, db)):\n",
        "          b[i] = bias - (eta / np.sqrt(v_b_hat[i] + eps)) * m_b_hat[i]\n",
        "        \n",
        "        dw , db = initialize_zeros(784,hl,ol)\n",
        "\n",
        "    val_acc, val_loss = get_predictions_accuracy(W, b, valid_x, valid_y, act_fun, loss_fun)\n",
        "    train_acc, train_loss = get_predictions_accuracy(W, b, train_x, train_y, act_fun, loss_fun)\n",
        "    test_acc, test_loss = get_predictions_accuracy(W, b, test_x, test_y, act_fun, loss_fun)\n",
        "    print(e+1,\"accuracy\", train_acc , val_acc, test_acc)\n",
        "\n",
        "    wandb.log({\n",
        "        \"Epoch\": e+1,\n",
        "        \"Train Loss\": train_loss,\n",
        "        \"Train Acc\": train_acc,\n",
        "        \"Valid Loss\": val_loss,\n",
        "        \"Valid Acc\": val_acc})\n",
        "  return val_acc"
      ],
      "metadata": {
        "id": "qpjZJAhk47Sy"
      },
      "execution_count": 22,
      "outputs": []
    },
    {
      "cell_type": "markdown",
      "source": [
        "#Nadam Optimizer"
      ],
      "metadata": {
        "id": "VfDrDkl0NTfM"
      }
    },
    {
      "cell_type": "code",
      "source": [
        "def nadam(train_x,train_y,valid_x,valid_y,d,hl,ol,act_fun,loss_fun,epochs,eta,strat,alpha,batch):\n",
        "  W,b=initialize_network(d, hl, ol, strat)\n",
        "  seen=0\n",
        "  c=0\n",
        "  v_w , v_b = initialize_zeros(784,hl,ol)\n",
        "  dw , db = initialize_zeros(784,hl,ol)\n",
        "  m_w , m_b = initialize_zeros(784,hl,ol)\n",
        "  eps , beta1 , beta2 = 1e-8 , 0.9 , 0.99\n",
        "\n",
        "  m_w_hat , m_b_hat = initialize_zeros(784,hl,ol)\n",
        "  v_w_hat , v_b_hat = initialize_zeros(784,hl,ol)\n",
        "\n",
        "  for e in range(epochs):\n",
        "  \n",
        "    for it, (x, y) in enumerate(zip(train_x, train_y)):\n",
        "      seen+=1\n",
        "      a,h = forward_propagation(W, b, x, act_fun)\n",
        "      y_pred=h[len(h)-1]\n",
        "      \n",
        "      tdw,tdb=back_prop(W, h, x, y, y_pred, act_fun, loss_fun)\n",
        "      \n",
        "      for i in range(len(tdw)):\n",
        "        dw[i] += tdw[i]\n",
        "        db[i] += tdb[i]\n",
        "\n",
        "      if seen==batch or it == len(train_x)-1:\n",
        "\n",
        "        seen=0\n",
        "        c+=1\n",
        "        for i in range(len(W)):\n",
        "          m_w[i] = beta1 * m_w[i] + (1-beta1) * dw[i]\n",
        "          m_b[i] = beta1 * m_b[i] + (1-beta1) * db[i]\n",
        "\n",
        "          v_w[i] = beta2 * v_w[i] + (1-beta2) * (dw[i]**2)\n",
        "          v_b[i] = beta2 * v_b[i] + (1-beta2) * (db[i]**2)\n",
        "\n",
        "        for i in range(len(W)):\n",
        "          m_w_hat[i] = ( (beta1 * m_w[i]) + ( (1 - beta1) * dw[i] ) )/ (1 - np.power(beta1,c))\n",
        "          m_b_hat[i] = ( (beta1 * m_b[i]) + ( (1 - beta1) * db[i] ) )/ (1 - np.power(beta1,c))\n",
        "\n",
        "          v_w_hat[i] = v_w[i] / (1 - np.power(beta2,c))\n",
        "          v_b_hat[i] = v_b[i] / (1 - np.power(beta2,c))\n",
        "\n",
        "        for i, (weight, deriv) in enumerate(zip(W, dw)):\n",
        "          W[i] = weight - (eta / np.sqrt(v_w_hat[i] + eps)) * m_w_hat[i]\n",
        "\n",
        "        for i, (bias, deriv) in enumerate(zip(b, db)):\n",
        "          b[i] = bias - (eta / np.sqrt(v_b_hat[i] + eps)) * m_b_hat[i]\n",
        "        \n",
        "        dw , db = initialize_zeros(784,hl,ol)\n",
        "\n",
        "    val_acc, val_loss = get_predictions_accuracy(W, b, valid_x, valid_y, act_fun, loss_fun)\n",
        "    train_acc, train_loss = get_predictions_accuracy(W, b, train_x, train_y, act_fun, loss_fun)\n",
        "    test_acc, test_loss = get_predictions_accuracy(W, b, test_x, test_y, act_fun, loss_fun)\n",
        "    print(e+1,\"accuracy\", train_acc , val_acc, test_acc)\n",
        "    \n",
        "    wandb.log({\n",
        "        \"Epoch\": e+1,\n",
        "        \"Train Loss\": train_loss,\n",
        "        \"Train Acc\": train_acc,\n",
        "        \"Valid Loss\": val_loss,\n",
        "        \"Valid Acc\": val_acc})\n",
        "  return val_acc"
      ],
      "metadata": {
        "id": "dScKlrVAMjHu"
      },
      "execution_count": 23,
      "outputs": []
    },
    {
      "cell_type": "markdown",
      "source": [
        "#Predictions and accuracy function"
      ],
      "metadata": {
        "id": "myOelQjrNW2f"
      }
    },
    {
      "cell_type": "code",
      "source": [
        "def get_predictions_accuracy(W, b, X, y, method, loss_fun):\n",
        "  sum,loss=0,0\n",
        "  for dp in range(len(X)):\n",
        "    a = []\n",
        "    h = []\n",
        "    h = X[dp] \n",
        "    num_layers = (len(W)-1)\n",
        "    if method=='sigmoid':\n",
        "      for i in range(1 , num_layers):\n",
        "        a = np.dot( W[i], h ) + b[i]\n",
        "        h = sigmoid(a)\n",
        "\n",
        "    elif method=='tanh':\n",
        "      for i in range(1 , num_layers):\n",
        "        a = np.dot( W[i], h ) + b[i]\n",
        "        h = tanh(a)\n",
        "\n",
        "    elif method=='relu':\n",
        "      for i in range(1 , num_layers):\n",
        "        a = np.dot( W[i], h ) + b[i]\n",
        "        h = relu(a)\n",
        "\n",
        "    a = np.dot( W[num_layers], h ) + b[num_layers]\n",
        "    y_pred = softmax(a)\n",
        "\n",
        "    ytrue = y[dp]\n",
        "    if(ytrue[np.argmax(y_pred)]==1):\n",
        "      sum=sum+1\n",
        "    \n",
        "    loss += -np.sum(ytrue*np.log(y_pred))\n",
        "\n",
        "  acc=sum/len(X)\n",
        "  loss=loss/len(X)\n",
        "  return acc,loss\n"
      ],
      "metadata": {
        "id": "ULyXvX_Qr8Sh"
      },
      "execution_count": 24,
      "outputs": []
    },
    {
      "cell_type": "code",
      "source": [
        "'''hidden_layer_size = 64\n",
        "hidden_layers = 3\n",
        "hl = [hidden_layer_size]*hidden_layers\n",
        "ol = [len(train_y[0])]\n",
        "n_hl = len(hl)\n",
        "act_fun ='tanh'\n",
        "loss_fun='cross-entropy'\n",
        "eta=0.001\n",
        "alpha=0\n",
        "strat='xavier'\n",
        "epochs=5\n",
        "nadam(train_x,train_y,valid_x,valid_y,d,hl,ol,act_fun,loss_fun,epochs,eta,strat,alpha) '''"
      ],
      "metadata": {
        "colab": {
          "base_uri": "https://localhost:8080/",
          "height": 72
        },
        "id": "XRfKaR5C0m1g",
        "outputId": "a5eaffdc-fd1a-4edf-952c-3d2163f1be3f"
      },
      "execution_count": null,
      "outputs": [
        {
          "output_type": "execute_result",
          "data": {
            "application/vnd.google.colaboratory.intrinsic+json": {
              "type": "string"
            },
            "text/plain": [
              "\"hidden_layer_size = 64\\nhidden_layers = 3\\nhl = [hidden_layer_size]*hidden_layers\\nol = [len(train_y[0])]\\nn_hl = len(hl)\\nact_fun ='tanh'\\nloss_fun='cross-entropy'\\neta=0.001\\nalpha=0\\nstrat='xavier'\\nepochs=5\\nnadam(train_x,train_y,valid_x,valid_y,d,hl,ol,act_fun,loss_fun,epochs,eta,strat,alpha) \""
            ]
          },
          "metadata": {},
          "execution_count": 48
        }
      ]
    },
    {
      "cell_type": "markdown",
      "source": [
        "#Sweep Configuration"
      ],
      "metadata": {
        "id": "s-4XOBBxTf2J"
      }
    },
    {
      "cell_type": "code",
      "source": [
        "sweep_config_temp={\n",
        "  \"name\": \"mgd_sweep\",\n",
        "  \"method\": \"bayes\",\n",
        "  \"early_terminate\":{\n",
        "      \"type\": \"hyperband\",\n",
        "      \"min_iter\": 2\n",
        "  },\n",
        "  \"metric\": {\n",
        "      \"name\": \"Valid Acc\",\n",
        "      \"goal\": \"maximize\"   \n",
        "    },\n",
        "  \"parameters\": {\n",
        "        \"epochs\": {\n",
        "            \"values\": [5]\n",
        "        },\n",
        "        \"hidden_layers\":{\n",
        "            \"values\":[3,4,5]\n",
        "        },\n",
        "        \"hidden_layer_size\":{\n",
        "            \"values\":[64,128]  \n",
        "        },\n",
        "        \"eta\":{\n",
        "            \"values\":[0.01]\n",
        "        },\n",
        "        \"optimizer\":{\n",
        "            \"values\":['mgd']\n",
        "        },\n",
        "        \"batch_size\": {\n",
        "            \"values\": [32,64]\n",
        "        },\n",
        "        \"alpha\":{\n",
        "            \"values\":[0]\n",
        "        },\n",
        "        \"strat\":{\n",
        "            \"values\":['random','xavier']\n",
        "        },\n",
        "        \"act_fun\":{\n",
        "            \"values\":['tanh','relu','sigmoid']\n",
        "        }\n",
        "    }\n",
        "}"
      ],
      "metadata": {
        "id": "6HnGUDdETjN8"
      },
      "execution_count": 25,
      "outputs": []
    },
    {
      "cell_type": "markdown",
      "source": [
        "#Training function to call specified Optimizer"
      ],
      "metadata": {
        "id": "FQDfvTCyTlt-"
      }
    },
    {
      "cell_type": "code",
      "source": [
        "def train():\n",
        "  run=wandb.init()\n",
        "  config = wandb.config\n",
        "  loss_fun='cross-entropy'\n",
        "  hl = [config.hidden_layer_size]*config.hidden_layers\n",
        "  ol = [len(train_y[0])]\n",
        "\n",
        "  name = \"hl_\" + str(config.hidden_layers) + \"_bs_\" + str(config.batch_size) + \"_ac_\" + config.act_fun\n",
        "  run.name = name\n",
        "\n",
        "  alpha=0\n",
        "\n",
        "  if config.optimizer == 'sgd':\n",
        "    val_acc=stochastic_gradient_descent(train_x,train_y,valid_x,valid_y,d,hl,ol,config.act_fun,loss_fun,config.epochs,config.eta,config.strat,alpha,config.batch_size)\n",
        "\n",
        "  if config.optimizer == 'rmsprop':\n",
        "    val_acc=rmsprop(train_x,train_y,valid_x,valid_y,d,hl,ol,config.act_fun,loss_fun,config.epochs,config.eta,config.strat,alpha,config.batch_size)\n",
        "\n",
        "  if config.optimizer == 'mgd':\n",
        "    val_acc=momentum_gradient_descent(train_x,train_y,valid_x,valid_y,d,hl,ol,config.act_fun,loss_fun,config.epochs,config.eta,config.strat,alpha,config.batch_size)\n",
        "  \n",
        "  if config.optimizer == 'nag':\n",
        "    val_acc=nesterov_gradient_descent(train_x,train_y,valid_x,valid_y,d,hl,ol,config.act_fun,loss_fun,config.epochs,config.eta,config.strat,alpha,config.batch_size)\n",
        "  \n",
        "  if config.optimizer == 'adam':\n",
        "    val_acc=adaptive_moments(train_x,train_y,valid_x,valid_y,d,hl,ol,config.act_fun,loss_fun,config.epochs,config.eta,config.strat,alpha,config.batch_size)\n",
        "\n",
        "  if config.optimizer == 'nadam':\n",
        "    val_acc=nadam(train_x,train_y,valid_x,valid_y,d,hl,ol,config.act_fun,loss_fun,config.epochs,config.eta,config.strat,alpha,config.batch_size)"
      ],
      "metadata": {
        "id": "fiT72DwmvD-c"
      },
      "execution_count": 26,
      "outputs": []
    },
    {
      "cell_type": "markdown",
      "source": [
        "#Training"
      ],
      "metadata": {
        "id": "X_WLZGtLTw0s"
      }
    },
    {
      "cell_type": "code",
      "source": [
        "sweep_id = wandb.sweep(sweep_config_temp, entity=\"cs21m027_cs21m011\", project=\"DL_ASG_1_final\")"
      ],
      "metadata": {
        "id": "4OPrOA_8vED1",
        "colab": {
          "base_uri": "https://localhost:8080/"
        },
        "outputId": "836ea495-c974-4e8f-e483-4254f7bd0fde"
      },
      "execution_count": null,
      "outputs": [
        {
          "output_type": "stream",
          "name": "stdout",
          "text": [
            "Create sweep with ID: mj0chv68\n",
            "Sweep URL: https://wandb.ai/cs21m027_cs21m011/DL_ASG_1_final/sweeps/mj0chv68\n"
          ]
        }
      ]
    },
    {
      "cell_type": "code",
      "source": [
        "wandb.agent(sweep_id, train)"
      ],
      "metadata": {
        "colab": {
          "base_uri": "https://localhost:8080/",
          "height": 898,
          "referenced_widgets": [
            "3320277bf06f4f1a97c487deb9392dfa",
            "5e0899b252974a5b9aa38244222a5b6e",
            "e129a1900892488189c8b6559e9a61b6",
            "3f9d0405f32045d1965728ebc58fad7d",
            "87f921e407024193882baefacb4fbe4d",
            "dadcc8c732584fe585f0ad2b23219c2d",
            "b41612213a6145d78e0466131e3700e9",
            "8fff594bac7643f3b668f68eafa9aa00"
          ]
        },
        "id": "YWyzNFWgMLQM",
        "outputId": "19028d1f-f37a-4281-a199-e9a2125c4988"
      },
      "execution_count": null,
      "outputs": [
        {
          "output_type": "stream",
          "name": "stderr",
          "text": [
            "\u001b[34m\u001b[1mwandb\u001b[0m: Agent Starting Run: 3mff1pde with config:\n",
            "\u001b[34m\u001b[1mwandb\u001b[0m: \tact_fun: relu\n",
            "\u001b[34m\u001b[1mwandb\u001b[0m: \talpha: 0\n",
            "\u001b[34m\u001b[1mwandb\u001b[0m: \tbatch_size: 16\n",
            "\u001b[34m\u001b[1mwandb\u001b[0m: \tepochs: 5\n",
            "\u001b[34m\u001b[1mwandb\u001b[0m: \teta: 0.0001\n",
            "\u001b[34m\u001b[1mwandb\u001b[0m: \thidden_layer_size: 128\n",
            "\u001b[34m\u001b[1mwandb\u001b[0m: \thidden_layers: 4\n",
            "\u001b[34m\u001b[1mwandb\u001b[0m: \toptimizer: rmsprop\n",
            "\u001b[34m\u001b[1mwandb\u001b[0m: \tstrat: xavier\n"
          ]
        },
        {
          "output_type": "display_data",
          "data": {
            "text/html": [
              "\n",
              "                    Syncing run <strong><a href=\"https://wandb.ai/cs21m027_cs21m011/DL_ASG_1_final/runs/3mff1pde\" target=\"_blank\">crisp-sweep-3</a></strong> to <a href=\"https://wandb.ai/cs21m027_cs21m011/DL_ASG_1_final\" target=\"_blank\">Weights & Biases</a> (<a href=\"https://docs.wandb.com/integrations/jupyter.html\" target=\"_blank\">docs</a>).<br/>\n",
              "Sweep page: <a href=\"https://wandb.ai/cs21m027_cs21m011/DL_ASG_1_final/sweeps/mj0chv68\" target=\"_blank\">https://wandb.ai/cs21m027_cs21m011/DL_ASG_1_final/sweeps/mj0chv68</a><br/>\n",
              "\n",
              "                "
            ],
            "text/plain": [
              "<IPython.core.display.HTML object>"
            ]
          },
          "metadata": {}
        },
        {
          "output_type": "stream",
          "name": "stdout",
          "text": [
            "1 accuracy 0.8314814814814815 0.8351666666666666 0.8204\n",
            "2 accuracy 0.858574074074074 0.8641666666666666 0.842\n",
            "3 accuracy 0.8697037037037038 0.8736666666666667 0.8523\n",
            "4 accuracy 0.8773703703703704 0.8773333333333333 0.8579\n",
            "5 accuracy 0.8837962962962963 0.882 0.8622\n"
          ]
        },
        {
          "output_type": "display_data",
          "data": {
            "text/html": [
              "<br/>Waiting for W&B process to finish, PID 392... <strong style=\"color:green\">(success).</strong>"
            ],
            "text/plain": [
              "<IPython.core.display.HTML object>"
            ]
          },
          "metadata": {}
        },
        {
          "output_type": "display_data",
          "data": {
            "application/vnd.jupyter.widget-view+json": {
              "model_id": "3320277bf06f4f1a97c487deb9392dfa",
              "version_minor": 0,
              "version_major": 2
            },
            "text/plain": [
              "VBox(children=(Label(value=' 0.00MB of 0.00MB uploaded (0.00MB deduped)\\r'), FloatProgress(value=1.0, max=1.0)…"
            ]
          },
          "metadata": {}
        },
        {
          "output_type": "display_data",
          "data": {
            "text/html": [
              "<style>\n",
              "    table.wandb td:nth-child(1) { padding: 0 10px; text-align: right }\n",
              "    .wandb-row { display: flex; flex-direction: row; flex-wrap: wrap; width: 100% }\n",
              "    .wandb-col { display: flex; flex-direction: column; flex-basis: 100%; flex: 1; padding: 10px; }\n",
              "    </style>\n",
              "<div class=\"wandb-row\"><div class=\"wandb-col\">\n",
              "<h3>Run history:</h3><br/><table class=\"wandb\"><tr><td>Epoch</td><td>▁▃▅▆█</td></tr><tr><td>Train Acc</td><td>▁▅▆▇█</td></tr><tr><td>Train Loss</td><td>█▄▃▂▁</td></tr><tr><td>Valid Acc</td><td>▁▅▇▇█</td></tr><tr><td>Valid Loss</td><td>█▄▂▁▁</td></tr></table><br/></div><div class=\"wandb-col\">\n",
              "<h3>Run summary:</h3><br/><table class=\"wandb\"><tr><td>Epoch</td><td>5</td></tr><tr><td>Train Acc</td><td>0.8838</td></tr><tr><td>Train Loss</td><td>0.39838</td></tr><tr><td>Valid Acc</td><td>0.882</td></tr><tr><td>Valid Loss</td><td>0.39949</td></tr></table>\n",
              "</div></div>\n",
              "Synced 5 W&B file(s), 0 media file(s), 0 artifact file(s) and 0 other file(s)\n",
              "<br/>Synced <strong style=\"color:#cdcd00\">crisp-sweep-3</strong>: <a href=\"https://wandb.ai/cs21m027_cs21m011/DL_ASG_1_final/runs/3mff1pde\" target=\"_blank\">https://wandb.ai/cs21m027_cs21m011/DL_ASG_1_final/runs/3mff1pde</a><br/>\n",
              "Find logs at: <code>./wandb/run-20220215_162641-3mff1pde/logs</code><br/>\n"
            ],
            "text/plain": [
              "<IPython.core.display.HTML object>"
            ]
          },
          "metadata": {}
        },
        {
          "output_type": "stream",
          "name": "stderr",
          "text": [
            "\u001b[34m\u001b[1mwandb\u001b[0m: Agent Starting Run: 4nd7vo1d with config:\n",
            "\u001b[34m\u001b[1mwandb\u001b[0m: \tact_fun: relu\n",
            "\u001b[34m\u001b[1mwandb\u001b[0m: \talpha: 0\n",
            "\u001b[34m\u001b[1mwandb\u001b[0m: \tbatch_size: 16\n",
            "\u001b[34m\u001b[1mwandb\u001b[0m: \tepochs: 5\n",
            "\u001b[34m\u001b[1mwandb\u001b[0m: \teta: 0.0001\n",
            "\u001b[34m\u001b[1mwandb\u001b[0m: \thidden_layer_size: 128\n",
            "\u001b[34m\u001b[1mwandb\u001b[0m: \thidden_layers: 4\n",
            "\u001b[34m\u001b[1mwandb\u001b[0m: \toptimizer: adam\n",
            "\u001b[34m\u001b[1mwandb\u001b[0m: \tstrat: random\n"
          ]
        },
        {
          "output_type": "display_data",
          "data": {
            "text/html": [
              "\n",
              "                    Syncing run <strong><a href=\"https://wandb.ai/cs21m027_cs21m011/DL_ASG_1_final/runs/4nd7vo1d\" target=\"_blank\">young-sweep-4</a></strong> to <a href=\"https://wandb.ai/cs21m027_cs21m011/DL_ASG_1_final\" target=\"_blank\">Weights & Biases</a> (<a href=\"https://docs.wandb.com/integrations/jupyter.html\" target=\"_blank\">docs</a>).<br/>\n",
              "Sweep page: <a href=\"https://wandb.ai/cs21m027_cs21m011/DL_ASG_1_final/sweeps/mj0chv68\" target=\"_blank\">https://wandb.ai/cs21m027_cs21m011/DL_ASG_1_final/sweeps/mj0chv68</a><br/>\n",
              "\n",
              "                "
            ],
            "text/plain": [
              "<IPython.core.display.HTML object>"
            ]
          },
          "metadata": {}
        },
        {
          "output_type": "stream",
          "name": "stderr",
          "text": [
            "/usr/local/lib/python3.7/dist-packages/ipykernel_launcher.py:15: RuntimeWarning: overflow encountered in exp\n",
            "  from ipykernel import kernelapp as app\n",
            "/usr/local/lib/python3.7/dist-packages/ipykernel_launcher.py:17: RuntimeWarning: overflow encountered in exp\n",
            "/usr/local/lib/python3.7/dist-packages/ipykernel_launcher.py:18: RuntimeWarning: invalid value encountered in double_scalars\n",
            "\u001b[34m\u001b[1mwandb\u001b[0m: Ctrl + C detected. Stopping sweep.\n"
          ]
        }
      ]
    }
  ]
}