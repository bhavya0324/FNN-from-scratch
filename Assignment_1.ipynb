{
  "nbformat": 4,
  "nbformat_minor": 0,
  "metadata": {
    "colab": {
      "name": "Copy of refined.ipynb",
      "provenance": [],
      "collapsed_sections": [],
      "include_colab_link": true
    },
    "kernelspec": {
      "name": "python3",
      "display_name": "Python 3"
    },
    "language_info": {
      "name": "python"
    },
    "widgets": {
      "application/vnd.jupyter.widget-state+json": {
        "3105ee50380f4f3d9b22626e26646817": {
          "model_module": "@jupyter-widgets/controls",
          "model_name": "VBoxModel",
          "model_module_version": "1.5.0",
          "state": {
            "_view_name": "VBoxView",
            "_dom_classes": [],
            "_model_name": "VBoxModel",
            "_view_module": "@jupyter-widgets/controls",
            "_model_module_version": "1.5.0",
            "_view_count": null,
            "_view_module_version": "1.5.0",
            "box_style": "",
            "layout": "IPY_MODEL_54bd12725a02445dabda06ca0905f991",
            "_model_module": "@jupyter-widgets/controls",
            "children": [
              "IPY_MODEL_546943bb173a4b44ba9cb5e9b3ac02a5",
              "IPY_MODEL_f613562695954e4bad3fd7315bc5ca93"
            ]
          }
        },
        "54bd12725a02445dabda06ca0905f991": {
          "model_module": "@jupyter-widgets/base",
          "model_name": "LayoutModel",
          "model_module_version": "1.2.0",
          "state": {
            "_view_name": "LayoutView",
            "grid_template_rows": null,
            "right": null,
            "justify_content": null,
            "_view_module": "@jupyter-widgets/base",
            "overflow": null,
            "_model_module_version": "1.2.0",
            "_view_count": null,
            "flex_flow": null,
            "width": null,
            "min_width": null,
            "border": null,
            "align_items": null,
            "bottom": null,
            "_model_module": "@jupyter-widgets/base",
            "top": null,
            "grid_column": null,
            "overflow_y": null,
            "overflow_x": null,
            "grid_auto_flow": null,
            "grid_area": null,
            "grid_template_columns": null,
            "flex": null,
            "_model_name": "LayoutModel",
            "justify_items": null,
            "grid_row": null,
            "max_height": null,
            "align_content": null,
            "visibility": null,
            "align_self": null,
            "height": null,
            "min_height": null,
            "padding": null,
            "grid_auto_rows": null,
            "grid_gap": null,
            "max_width": null,
            "order": null,
            "_view_module_version": "1.2.0",
            "grid_template_areas": null,
            "object_position": null,
            "object_fit": null,
            "grid_auto_columns": null,
            "margin": null,
            "display": null,
            "left": null
          }
        },
        "546943bb173a4b44ba9cb5e9b3ac02a5": {
          "model_module": "@jupyter-widgets/controls",
          "model_name": "LabelModel",
          "model_module_version": "1.5.0",
          "state": {
            "_view_name": "LabelView",
            "style": "IPY_MODEL_f180cdee2eb6422ab079fcfed696137b",
            "_dom_classes": [],
            "description": "",
            "_model_name": "LabelModel",
            "placeholder": "​",
            "_view_module": "@jupyter-widgets/controls",
            "_model_module_version": "1.5.0",
            "value": " 0.04MB of 0.04MB uploaded (0.00MB deduped)\r",
            "_view_count": null,
            "_view_module_version": "1.5.0",
            "description_tooltip": null,
            "_model_module": "@jupyter-widgets/controls",
            "layout": "IPY_MODEL_c359e1c6a9db4cf7b010b33a23727c57"
          }
        },
        "f613562695954e4bad3fd7315bc5ca93": {
          "model_module": "@jupyter-widgets/controls",
          "model_name": "FloatProgressModel",
          "model_module_version": "1.5.0",
          "state": {
            "_view_name": "ProgressView",
            "style": "IPY_MODEL_8949012bcbd740ae981932134ea7804a",
            "_dom_classes": [],
            "description": "",
            "_model_name": "FloatProgressModel",
            "bar_style": "",
            "max": 1,
            "_view_module": "@jupyter-widgets/controls",
            "_model_module_version": "1.5.0",
            "value": 1,
            "_view_count": null,
            "_view_module_version": "1.5.0",
            "orientation": "horizontal",
            "min": 0,
            "description_tooltip": null,
            "_model_module": "@jupyter-widgets/controls",
            "layout": "IPY_MODEL_b3933bae98f94b6a8f25fefab941352a"
          }
        },
        "f180cdee2eb6422ab079fcfed696137b": {
          "model_module": "@jupyter-widgets/controls",
          "model_name": "DescriptionStyleModel",
          "model_module_version": "1.5.0",
          "state": {
            "_view_name": "StyleView",
            "_model_name": "DescriptionStyleModel",
            "description_width": "",
            "_view_module": "@jupyter-widgets/base",
            "_model_module_version": "1.5.0",
            "_view_count": null,
            "_view_module_version": "1.2.0",
            "_model_module": "@jupyter-widgets/controls"
          }
        },
        "c359e1c6a9db4cf7b010b33a23727c57": {
          "model_module": "@jupyter-widgets/base",
          "model_name": "LayoutModel",
          "model_module_version": "1.2.0",
          "state": {
            "_view_name": "LayoutView",
            "grid_template_rows": null,
            "right": null,
            "justify_content": null,
            "_view_module": "@jupyter-widgets/base",
            "overflow": null,
            "_model_module_version": "1.2.0",
            "_view_count": null,
            "flex_flow": null,
            "width": null,
            "min_width": null,
            "border": null,
            "align_items": null,
            "bottom": null,
            "_model_module": "@jupyter-widgets/base",
            "top": null,
            "grid_column": null,
            "overflow_y": null,
            "overflow_x": null,
            "grid_auto_flow": null,
            "grid_area": null,
            "grid_template_columns": null,
            "flex": null,
            "_model_name": "LayoutModel",
            "justify_items": null,
            "grid_row": null,
            "max_height": null,
            "align_content": null,
            "visibility": null,
            "align_self": null,
            "height": null,
            "min_height": null,
            "padding": null,
            "grid_auto_rows": null,
            "grid_gap": null,
            "max_width": null,
            "order": null,
            "_view_module_version": "1.2.0",
            "grid_template_areas": null,
            "object_position": null,
            "object_fit": null,
            "grid_auto_columns": null,
            "margin": null,
            "display": null,
            "left": null
          }
        },
        "8949012bcbd740ae981932134ea7804a": {
          "model_module": "@jupyter-widgets/controls",
          "model_name": "ProgressStyleModel",
          "model_module_version": "1.5.0",
          "state": {
            "_view_name": "StyleView",
            "_model_name": "ProgressStyleModel",
            "description_width": "",
            "_view_module": "@jupyter-widgets/base",
            "_model_module_version": "1.5.0",
            "_view_count": null,
            "_view_module_version": "1.2.0",
            "bar_color": null,
            "_model_module": "@jupyter-widgets/controls"
          }
        },
        "b3933bae98f94b6a8f25fefab941352a": {
          "model_module": "@jupyter-widgets/base",
          "model_name": "LayoutModel",
          "model_module_version": "1.2.0",
          "state": {
            "_view_name": "LayoutView",
            "grid_template_rows": null,
            "right": null,
            "justify_content": null,
            "_view_module": "@jupyter-widgets/base",
            "overflow": null,
            "_model_module_version": "1.2.0",
            "_view_count": null,
            "flex_flow": null,
            "width": null,
            "min_width": null,
            "border": null,
            "align_items": null,
            "bottom": null,
            "_model_module": "@jupyter-widgets/base",
            "top": null,
            "grid_column": null,
            "overflow_y": null,
            "overflow_x": null,
            "grid_auto_flow": null,
            "grid_area": null,
            "grid_template_columns": null,
            "flex": null,
            "_model_name": "LayoutModel",
            "justify_items": null,
            "grid_row": null,
            "max_height": null,
            "align_content": null,
            "visibility": null,
            "align_self": null,
            "height": null,
            "min_height": null,
            "padding": null,
            "grid_auto_rows": null,
            "grid_gap": null,
            "max_width": null,
            "order": null,
            "_view_module_version": "1.2.0",
            "grid_template_areas": null,
            "object_position": null,
            "object_fit": null,
            "grid_auto_columns": null,
            "margin": null,
            "display": null,
            "left": null
          }
        },
        "6b06bb7436eb41f1b1c572d4295b892f": {
          "model_module": "@jupyter-widgets/controls",
          "model_name": "VBoxModel",
          "model_module_version": "1.5.0",
          "state": {
            "_view_name": "VBoxView",
            "_dom_classes": [],
            "_model_name": "VBoxModel",
            "_view_module": "@jupyter-widgets/controls",
            "_model_module_version": "1.5.0",
            "_view_count": null,
            "_view_module_version": "1.5.0",
            "box_style": "",
            "layout": "IPY_MODEL_4c43dccc0e9f45d89ecfd2f47eaf38f5",
            "_model_module": "@jupyter-widgets/controls",
            "children": [
              "IPY_MODEL_f7a34ec566fe432790581017f5b1a3e7",
              "IPY_MODEL_5bbbb6a5c9f145c7ac3e52e6be68e04e"
            ]
          }
        },
        "4c43dccc0e9f45d89ecfd2f47eaf38f5": {
          "model_module": "@jupyter-widgets/base",
          "model_name": "LayoutModel",
          "model_module_version": "1.2.0",
          "state": {
            "_view_name": "LayoutView",
            "grid_template_rows": null,
            "right": null,
            "justify_content": null,
            "_view_module": "@jupyter-widgets/base",
            "overflow": null,
            "_model_module_version": "1.2.0",
            "_view_count": null,
            "flex_flow": null,
            "width": null,
            "min_width": null,
            "border": null,
            "align_items": null,
            "bottom": null,
            "_model_module": "@jupyter-widgets/base",
            "top": null,
            "grid_column": null,
            "overflow_y": null,
            "overflow_x": null,
            "grid_auto_flow": null,
            "grid_area": null,
            "grid_template_columns": null,
            "flex": null,
            "_model_name": "LayoutModel",
            "justify_items": null,
            "grid_row": null,
            "max_height": null,
            "align_content": null,
            "visibility": null,
            "align_self": null,
            "height": null,
            "min_height": null,
            "padding": null,
            "grid_auto_rows": null,
            "grid_gap": null,
            "max_width": null,
            "order": null,
            "_view_module_version": "1.2.0",
            "grid_template_areas": null,
            "object_position": null,
            "object_fit": null,
            "grid_auto_columns": null,
            "margin": null,
            "display": null,
            "left": null
          }
        },
        "f7a34ec566fe432790581017f5b1a3e7": {
          "model_module": "@jupyter-widgets/controls",
          "model_name": "LabelModel",
          "model_module_version": "1.5.0",
          "state": {
            "_view_name": "LabelView",
            "style": "IPY_MODEL_6896c7a6ec964da99089204439d0a072",
            "_dom_classes": [],
            "description": "",
            "_model_name": "LabelModel",
            "placeholder": "​",
            "_view_module": "@jupyter-widgets/controls",
            "_model_module_version": "1.5.0",
            "value": " 0.04MB of 0.04MB uploaded (0.00MB deduped)\r",
            "_view_count": null,
            "_view_module_version": "1.5.0",
            "description_tooltip": null,
            "_model_module": "@jupyter-widgets/controls",
            "layout": "IPY_MODEL_b8d7b357df304f0a8c521a030d5359d3"
          }
        },
        "5bbbb6a5c9f145c7ac3e52e6be68e04e": {
          "model_module": "@jupyter-widgets/controls",
          "model_name": "FloatProgressModel",
          "model_module_version": "1.5.0",
          "state": {
            "_view_name": "ProgressView",
            "style": "IPY_MODEL_ceadab1c7d80437bb5c88915218064ab",
            "_dom_classes": [],
            "description": "",
            "_model_name": "FloatProgressModel",
            "bar_style": "",
            "max": 1,
            "_view_module": "@jupyter-widgets/controls",
            "_model_module_version": "1.5.0",
            "value": 1,
            "_view_count": null,
            "_view_module_version": "1.5.0",
            "orientation": "horizontal",
            "min": 0,
            "description_tooltip": null,
            "_model_module": "@jupyter-widgets/controls",
            "layout": "IPY_MODEL_5c74504ea2c7418abc4c35750a83d390"
          }
        },
        "6896c7a6ec964da99089204439d0a072": {
          "model_module": "@jupyter-widgets/controls",
          "model_name": "DescriptionStyleModel",
          "model_module_version": "1.5.0",
          "state": {
            "_view_name": "StyleView",
            "_model_name": "DescriptionStyleModel",
            "description_width": "",
            "_view_module": "@jupyter-widgets/base",
            "_model_module_version": "1.5.0",
            "_view_count": null,
            "_view_module_version": "1.2.0",
            "_model_module": "@jupyter-widgets/controls"
          }
        },
        "b8d7b357df304f0a8c521a030d5359d3": {
          "model_module": "@jupyter-widgets/base",
          "model_name": "LayoutModel",
          "model_module_version": "1.2.0",
          "state": {
            "_view_name": "LayoutView",
            "grid_template_rows": null,
            "right": null,
            "justify_content": null,
            "_view_module": "@jupyter-widgets/base",
            "overflow": null,
            "_model_module_version": "1.2.0",
            "_view_count": null,
            "flex_flow": null,
            "width": null,
            "min_width": null,
            "border": null,
            "align_items": null,
            "bottom": null,
            "_model_module": "@jupyter-widgets/base",
            "top": null,
            "grid_column": null,
            "overflow_y": null,
            "overflow_x": null,
            "grid_auto_flow": null,
            "grid_area": null,
            "grid_template_columns": null,
            "flex": null,
            "_model_name": "LayoutModel",
            "justify_items": null,
            "grid_row": null,
            "max_height": null,
            "align_content": null,
            "visibility": null,
            "align_self": null,
            "height": null,
            "min_height": null,
            "padding": null,
            "grid_auto_rows": null,
            "grid_gap": null,
            "max_width": null,
            "order": null,
            "_view_module_version": "1.2.0",
            "grid_template_areas": null,
            "object_position": null,
            "object_fit": null,
            "grid_auto_columns": null,
            "margin": null,
            "display": null,
            "left": null
          }
        },
        "ceadab1c7d80437bb5c88915218064ab": {
          "model_module": "@jupyter-widgets/controls",
          "model_name": "ProgressStyleModel",
          "model_module_version": "1.5.0",
          "state": {
            "_view_name": "StyleView",
            "_model_name": "ProgressStyleModel",
            "description_width": "",
            "_view_module": "@jupyter-widgets/base",
            "_model_module_version": "1.5.0",
            "_view_count": null,
            "_view_module_version": "1.2.0",
            "bar_color": null,
            "_model_module": "@jupyter-widgets/controls"
          }
        },
        "5c74504ea2c7418abc4c35750a83d390": {
          "model_module": "@jupyter-widgets/base",
          "model_name": "LayoutModel",
          "model_module_version": "1.2.0",
          "state": {
            "_view_name": "LayoutView",
            "grid_template_rows": null,
            "right": null,
            "justify_content": null,
            "_view_module": "@jupyter-widgets/base",
            "overflow": null,
            "_model_module_version": "1.2.0",
            "_view_count": null,
            "flex_flow": null,
            "width": null,
            "min_width": null,
            "border": null,
            "align_items": null,
            "bottom": null,
            "_model_module": "@jupyter-widgets/base",
            "top": null,
            "grid_column": null,
            "overflow_y": null,
            "overflow_x": null,
            "grid_auto_flow": null,
            "grid_area": null,
            "grid_template_columns": null,
            "flex": null,
            "_model_name": "LayoutModel",
            "justify_items": null,
            "grid_row": null,
            "max_height": null,
            "align_content": null,
            "visibility": null,
            "align_self": null,
            "height": null,
            "min_height": null,
            "padding": null,
            "grid_auto_rows": null,
            "grid_gap": null,
            "max_width": null,
            "order": null,
            "_view_module_version": "1.2.0",
            "grid_template_areas": null,
            "object_position": null,
            "object_fit": null,
            "grid_auto_columns": null,
            "margin": null,
            "display": null,
            "left": null
          }
        },
        "e2ba29b3b6e448b0bbd5a6bc6fd0c89f": {
          "model_module": "@jupyter-widgets/controls",
          "model_name": "VBoxModel",
          "model_module_version": "1.5.0",
          "state": {
            "_view_name": "VBoxView",
            "_dom_classes": [],
            "_model_name": "VBoxModel",
            "_view_module": "@jupyter-widgets/controls",
            "_model_module_version": "1.5.0",
            "_view_count": null,
            "_view_module_version": "1.5.0",
            "box_style": "",
            "layout": "IPY_MODEL_6b664067c8524beabb8cfb20a928101a",
            "_model_module": "@jupyter-widgets/controls",
            "children": [
              "IPY_MODEL_5cd4e44525304028860e51936ce2db78",
              "IPY_MODEL_45dd4c7e7cc84456b2cd641c500a847b"
            ]
          }
        },
        "6b664067c8524beabb8cfb20a928101a": {
          "model_module": "@jupyter-widgets/base",
          "model_name": "LayoutModel",
          "model_module_version": "1.2.0",
          "state": {
            "_view_name": "LayoutView",
            "grid_template_rows": null,
            "right": null,
            "justify_content": null,
            "_view_module": "@jupyter-widgets/base",
            "overflow": null,
            "_model_module_version": "1.2.0",
            "_view_count": null,
            "flex_flow": null,
            "width": null,
            "min_width": null,
            "border": null,
            "align_items": null,
            "bottom": null,
            "_model_module": "@jupyter-widgets/base",
            "top": null,
            "grid_column": null,
            "overflow_y": null,
            "overflow_x": null,
            "grid_auto_flow": null,
            "grid_area": null,
            "grid_template_columns": null,
            "flex": null,
            "_model_name": "LayoutModel",
            "justify_items": null,
            "grid_row": null,
            "max_height": null,
            "align_content": null,
            "visibility": null,
            "align_self": null,
            "height": null,
            "min_height": null,
            "padding": null,
            "grid_auto_rows": null,
            "grid_gap": null,
            "max_width": null,
            "order": null,
            "_view_module_version": "1.2.0",
            "grid_template_areas": null,
            "object_position": null,
            "object_fit": null,
            "grid_auto_columns": null,
            "margin": null,
            "display": null,
            "left": null
          }
        },
        "5cd4e44525304028860e51936ce2db78": {
          "model_module": "@jupyter-widgets/controls",
          "model_name": "LabelModel",
          "model_module_version": "1.5.0",
          "state": {
            "_view_name": "LabelView",
            "style": "IPY_MODEL_ec0cf584b21a4b6c850a256730287668",
            "_dom_classes": [],
            "description": "",
            "_model_name": "LabelModel",
            "placeholder": "​",
            "_view_module": "@jupyter-widgets/controls",
            "_model_module_version": "1.5.0",
            "value": " 0.04MB of 0.04MB uploaded (0.00MB deduped)\r",
            "_view_count": null,
            "_view_module_version": "1.5.0",
            "description_tooltip": null,
            "_model_module": "@jupyter-widgets/controls",
            "layout": "IPY_MODEL_d6692a71d2844839b9e92a61534a720d"
          }
        },
        "45dd4c7e7cc84456b2cd641c500a847b": {
          "model_module": "@jupyter-widgets/controls",
          "model_name": "FloatProgressModel",
          "model_module_version": "1.5.0",
          "state": {
            "_view_name": "ProgressView",
            "style": "IPY_MODEL_a293ad13d77f444bb72d089a63e06bc6",
            "_dom_classes": [],
            "description": "",
            "_model_name": "FloatProgressModel",
            "bar_style": "",
            "max": 1,
            "_view_module": "@jupyter-widgets/controls",
            "_model_module_version": "1.5.0",
            "value": 1,
            "_view_count": null,
            "_view_module_version": "1.5.0",
            "orientation": "horizontal",
            "min": 0,
            "description_tooltip": null,
            "_model_module": "@jupyter-widgets/controls",
            "layout": "IPY_MODEL_37c4108ed9b440718def73d0c0dfdde7"
          }
        },
        "ec0cf584b21a4b6c850a256730287668": {
          "model_module": "@jupyter-widgets/controls",
          "model_name": "DescriptionStyleModel",
          "model_module_version": "1.5.0",
          "state": {
            "_view_name": "StyleView",
            "_model_name": "DescriptionStyleModel",
            "description_width": "",
            "_view_module": "@jupyter-widgets/base",
            "_model_module_version": "1.5.0",
            "_view_count": null,
            "_view_module_version": "1.2.0",
            "_model_module": "@jupyter-widgets/controls"
          }
        },
        "d6692a71d2844839b9e92a61534a720d": {
          "model_module": "@jupyter-widgets/base",
          "model_name": "LayoutModel",
          "model_module_version": "1.2.0",
          "state": {
            "_view_name": "LayoutView",
            "grid_template_rows": null,
            "right": null,
            "justify_content": null,
            "_view_module": "@jupyter-widgets/base",
            "overflow": null,
            "_model_module_version": "1.2.0",
            "_view_count": null,
            "flex_flow": null,
            "width": null,
            "min_width": null,
            "border": null,
            "align_items": null,
            "bottom": null,
            "_model_module": "@jupyter-widgets/base",
            "top": null,
            "grid_column": null,
            "overflow_y": null,
            "overflow_x": null,
            "grid_auto_flow": null,
            "grid_area": null,
            "grid_template_columns": null,
            "flex": null,
            "_model_name": "LayoutModel",
            "justify_items": null,
            "grid_row": null,
            "max_height": null,
            "align_content": null,
            "visibility": null,
            "align_self": null,
            "height": null,
            "min_height": null,
            "padding": null,
            "grid_auto_rows": null,
            "grid_gap": null,
            "max_width": null,
            "order": null,
            "_view_module_version": "1.2.0",
            "grid_template_areas": null,
            "object_position": null,
            "object_fit": null,
            "grid_auto_columns": null,
            "margin": null,
            "display": null,
            "left": null
          }
        },
        "a293ad13d77f444bb72d089a63e06bc6": {
          "model_module": "@jupyter-widgets/controls",
          "model_name": "ProgressStyleModel",
          "model_module_version": "1.5.0",
          "state": {
            "_view_name": "StyleView",
            "_model_name": "ProgressStyleModel",
            "description_width": "",
            "_view_module": "@jupyter-widgets/base",
            "_model_module_version": "1.5.0",
            "_view_count": null,
            "_view_module_version": "1.2.0",
            "bar_color": null,
            "_model_module": "@jupyter-widgets/controls"
          }
        },
        "37c4108ed9b440718def73d0c0dfdde7": {
          "model_module": "@jupyter-widgets/base",
          "model_name": "LayoutModel",
          "model_module_version": "1.2.0",
          "state": {
            "_view_name": "LayoutView",
            "grid_template_rows": null,
            "right": null,
            "justify_content": null,
            "_view_module": "@jupyter-widgets/base",
            "overflow": null,
            "_model_module_version": "1.2.0",
            "_view_count": null,
            "flex_flow": null,
            "width": null,
            "min_width": null,
            "border": null,
            "align_items": null,
            "bottom": null,
            "_model_module": "@jupyter-widgets/base",
            "top": null,
            "grid_column": null,
            "overflow_y": null,
            "overflow_x": null,
            "grid_auto_flow": null,
            "grid_area": null,
            "grid_template_columns": null,
            "flex": null,
            "_model_name": "LayoutModel",
            "justify_items": null,
            "grid_row": null,
            "max_height": null,
            "align_content": null,
            "visibility": null,
            "align_self": null,
            "height": null,
            "min_height": null,
            "padding": null,
            "grid_auto_rows": null,
            "grid_gap": null,
            "max_width": null,
            "order": null,
            "_view_module_version": "1.2.0",
            "grid_template_areas": null,
            "object_position": null,
            "object_fit": null,
            "grid_auto_columns": null,
            "margin": null,
            "display": null,
            "left": null
          }
        },
        "8633df41ce46490591c85683cf04b108": {
          "model_module": "@jupyter-widgets/controls",
          "model_name": "VBoxModel",
          "model_module_version": "1.5.0",
          "state": {
            "_view_name": "VBoxView",
            "_dom_classes": [],
            "_model_name": "VBoxModel",
            "_view_module": "@jupyter-widgets/controls",
            "_model_module_version": "1.5.0",
            "_view_count": null,
            "_view_module_version": "1.5.0",
            "box_style": "",
            "layout": "IPY_MODEL_2c2a0cac534c4e00bc4ce6ea1472b5b1",
            "_model_module": "@jupyter-widgets/controls",
            "children": [
              "IPY_MODEL_6d54bfdf933b4dbfa4ca8c6cfc8ee3fa",
              "IPY_MODEL_4f2fd56eb3bf4795a914b1dafb3e845a"
            ]
          }
        },
        "2c2a0cac534c4e00bc4ce6ea1472b5b1": {
          "model_module": "@jupyter-widgets/base",
          "model_name": "LayoutModel",
          "model_module_version": "1.2.0",
          "state": {
            "_view_name": "LayoutView",
            "grid_template_rows": null,
            "right": null,
            "justify_content": null,
            "_view_module": "@jupyter-widgets/base",
            "overflow": null,
            "_model_module_version": "1.2.0",
            "_view_count": null,
            "flex_flow": null,
            "width": null,
            "min_width": null,
            "border": null,
            "align_items": null,
            "bottom": null,
            "_model_module": "@jupyter-widgets/base",
            "top": null,
            "grid_column": null,
            "overflow_y": null,
            "overflow_x": null,
            "grid_auto_flow": null,
            "grid_area": null,
            "grid_template_columns": null,
            "flex": null,
            "_model_name": "LayoutModel",
            "justify_items": null,
            "grid_row": null,
            "max_height": null,
            "align_content": null,
            "visibility": null,
            "align_self": null,
            "height": null,
            "min_height": null,
            "padding": null,
            "grid_auto_rows": null,
            "grid_gap": null,
            "max_width": null,
            "order": null,
            "_view_module_version": "1.2.0",
            "grid_template_areas": null,
            "object_position": null,
            "object_fit": null,
            "grid_auto_columns": null,
            "margin": null,
            "display": null,
            "left": null
          }
        },
        "6d54bfdf933b4dbfa4ca8c6cfc8ee3fa": {
          "model_module": "@jupyter-widgets/controls",
          "model_name": "LabelModel",
          "model_module_version": "1.5.0",
          "state": {
            "_view_name": "LabelView",
            "style": "IPY_MODEL_827759d55627484a97ea947ef00f5bbd",
            "_dom_classes": [],
            "description": "",
            "_model_name": "LabelModel",
            "placeholder": "​",
            "_view_module": "@jupyter-widgets/controls",
            "_model_module_version": "1.5.0",
            "value": " 0.04MB of 0.04MB uploaded (0.00MB deduped)\r",
            "_view_count": null,
            "_view_module_version": "1.5.0",
            "description_tooltip": null,
            "_model_module": "@jupyter-widgets/controls",
            "layout": "IPY_MODEL_7fb765643db14f5492c0c4dcc8f38e06"
          }
        },
        "4f2fd56eb3bf4795a914b1dafb3e845a": {
          "model_module": "@jupyter-widgets/controls",
          "model_name": "FloatProgressModel",
          "model_module_version": "1.5.0",
          "state": {
            "_view_name": "ProgressView",
            "style": "IPY_MODEL_509914470cd147b6b3bcb88f218c1281",
            "_dom_classes": [],
            "description": "",
            "_model_name": "FloatProgressModel",
            "bar_style": "",
            "max": 1,
            "_view_module": "@jupyter-widgets/controls",
            "_model_module_version": "1.5.0",
            "value": 1,
            "_view_count": null,
            "_view_module_version": "1.5.0",
            "orientation": "horizontal",
            "min": 0,
            "description_tooltip": null,
            "_model_module": "@jupyter-widgets/controls",
            "layout": "IPY_MODEL_1764820052e44f3787d8de5c54779cf5"
          }
        },
        "827759d55627484a97ea947ef00f5bbd": {
          "model_module": "@jupyter-widgets/controls",
          "model_name": "DescriptionStyleModel",
          "model_module_version": "1.5.0",
          "state": {
            "_view_name": "StyleView",
            "_model_name": "DescriptionStyleModel",
            "description_width": "",
            "_view_module": "@jupyter-widgets/base",
            "_model_module_version": "1.5.0",
            "_view_count": null,
            "_view_module_version": "1.2.0",
            "_model_module": "@jupyter-widgets/controls"
          }
        },
        "7fb765643db14f5492c0c4dcc8f38e06": {
          "model_module": "@jupyter-widgets/base",
          "model_name": "LayoutModel",
          "model_module_version": "1.2.0",
          "state": {
            "_view_name": "LayoutView",
            "grid_template_rows": null,
            "right": null,
            "justify_content": null,
            "_view_module": "@jupyter-widgets/base",
            "overflow": null,
            "_model_module_version": "1.2.0",
            "_view_count": null,
            "flex_flow": null,
            "width": null,
            "min_width": null,
            "border": null,
            "align_items": null,
            "bottom": null,
            "_model_module": "@jupyter-widgets/base",
            "top": null,
            "grid_column": null,
            "overflow_y": null,
            "overflow_x": null,
            "grid_auto_flow": null,
            "grid_area": null,
            "grid_template_columns": null,
            "flex": null,
            "_model_name": "LayoutModel",
            "justify_items": null,
            "grid_row": null,
            "max_height": null,
            "align_content": null,
            "visibility": null,
            "align_self": null,
            "height": null,
            "min_height": null,
            "padding": null,
            "grid_auto_rows": null,
            "grid_gap": null,
            "max_width": null,
            "order": null,
            "_view_module_version": "1.2.0",
            "grid_template_areas": null,
            "object_position": null,
            "object_fit": null,
            "grid_auto_columns": null,
            "margin": null,
            "display": null,
            "left": null
          }
        },
        "509914470cd147b6b3bcb88f218c1281": {
          "model_module": "@jupyter-widgets/controls",
          "model_name": "ProgressStyleModel",
          "model_module_version": "1.5.0",
          "state": {
            "_view_name": "StyleView",
            "_model_name": "ProgressStyleModel",
            "description_width": "",
            "_view_module": "@jupyter-widgets/base",
            "_model_module_version": "1.5.0",
            "_view_count": null,
            "_view_module_version": "1.2.0",
            "bar_color": null,
            "_model_module": "@jupyter-widgets/controls"
          }
        },
        "1764820052e44f3787d8de5c54779cf5": {
          "model_module": "@jupyter-widgets/base",
          "model_name": "LayoutModel",
          "model_module_version": "1.2.0",
          "state": {
            "_view_name": "LayoutView",
            "grid_template_rows": null,
            "right": null,
            "justify_content": null,
            "_view_module": "@jupyter-widgets/base",
            "overflow": null,
            "_model_module_version": "1.2.0",
            "_view_count": null,
            "flex_flow": null,
            "width": null,
            "min_width": null,
            "border": null,
            "align_items": null,
            "bottom": null,
            "_model_module": "@jupyter-widgets/base",
            "top": null,
            "grid_column": null,
            "overflow_y": null,
            "overflow_x": null,
            "grid_auto_flow": null,
            "grid_area": null,
            "grid_template_columns": null,
            "flex": null,
            "_model_name": "LayoutModel",
            "justify_items": null,
            "grid_row": null,
            "max_height": null,
            "align_content": null,
            "visibility": null,
            "align_self": null,
            "height": null,
            "min_height": null,
            "padding": null,
            "grid_auto_rows": null,
            "grid_gap": null,
            "max_width": null,
            "order": null,
            "_view_module_version": "1.2.0",
            "grid_template_areas": null,
            "object_position": null,
            "object_fit": null,
            "grid_auto_columns": null,
            "margin": null,
            "display": null,
            "left": null
          }
        },
        "84639497926844f5bad14f16f06f1d69": {
          "model_module": "@jupyter-widgets/controls",
          "model_name": "VBoxModel",
          "model_module_version": "1.5.0",
          "state": {
            "_view_name": "VBoxView",
            "_dom_classes": [],
            "_model_name": "VBoxModel",
            "_view_module": "@jupyter-widgets/controls",
            "_model_module_version": "1.5.0",
            "_view_count": null,
            "_view_module_version": "1.5.0",
            "box_style": "",
            "layout": "IPY_MODEL_f4ea852998154931b87910e297f165b4",
            "_model_module": "@jupyter-widgets/controls",
            "children": [
              "IPY_MODEL_0c1db026a8de4815bac80fa552ff633b",
              "IPY_MODEL_d5640a10ca1f40d79731b9b421b9c76d"
            ]
          }
        },
        "f4ea852998154931b87910e297f165b4": {
          "model_module": "@jupyter-widgets/base",
          "model_name": "LayoutModel",
          "model_module_version": "1.2.0",
          "state": {
            "_view_name": "LayoutView",
            "grid_template_rows": null,
            "right": null,
            "justify_content": null,
            "_view_module": "@jupyter-widgets/base",
            "overflow": null,
            "_model_module_version": "1.2.0",
            "_view_count": null,
            "flex_flow": null,
            "width": null,
            "min_width": null,
            "border": null,
            "align_items": null,
            "bottom": null,
            "_model_module": "@jupyter-widgets/base",
            "top": null,
            "grid_column": null,
            "overflow_y": null,
            "overflow_x": null,
            "grid_auto_flow": null,
            "grid_area": null,
            "grid_template_columns": null,
            "flex": null,
            "_model_name": "LayoutModel",
            "justify_items": null,
            "grid_row": null,
            "max_height": null,
            "align_content": null,
            "visibility": null,
            "align_self": null,
            "height": null,
            "min_height": null,
            "padding": null,
            "grid_auto_rows": null,
            "grid_gap": null,
            "max_width": null,
            "order": null,
            "_view_module_version": "1.2.0",
            "grid_template_areas": null,
            "object_position": null,
            "object_fit": null,
            "grid_auto_columns": null,
            "margin": null,
            "display": null,
            "left": null
          }
        },
        "0c1db026a8de4815bac80fa552ff633b": {
          "model_module": "@jupyter-widgets/controls",
          "model_name": "LabelModel",
          "model_module_version": "1.5.0",
          "state": {
            "_view_name": "LabelView",
            "style": "IPY_MODEL_b9b68176053d49eb8172890be458d650",
            "_dom_classes": [],
            "description": "",
            "_model_name": "LabelModel",
            "placeholder": "​",
            "_view_module": "@jupyter-widgets/controls",
            "_model_module_version": "1.5.0",
            "value": " 0.04MB of 0.04MB uploaded (0.00MB deduped)\r",
            "_view_count": null,
            "_view_module_version": "1.5.0",
            "description_tooltip": null,
            "_model_module": "@jupyter-widgets/controls",
            "layout": "IPY_MODEL_397547696a884e9fa2df54eab8c3dc8f"
          }
        },
        "d5640a10ca1f40d79731b9b421b9c76d": {
          "model_module": "@jupyter-widgets/controls",
          "model_name": "FloatProgressModel",
          "model_module_version": "1.5.0",
          "state": {
            "_view_name": "ProgressView",
            "style": "IPY_MODEL_c8dcc3331bdc437c9c9fa941389b130f",
            "_dom_classes": [],
            "description": "",
            "_model_name": "FloatProgressModel",
            "bar_style": "",
            "max": 1,
            "_view_module": "@jupyter-widgets/controls",
            "_model_module_version": "1.5.0",
            "value": 1,
            "_view_count": null,
            "_view_module_version": "1.5.0",
            "orientation": "horizontal",
            "min": 0,
            "description_tooltip": null,
            "_model_module": "@jupyter-widgets/controls",
            "layout": "IPY_MODEL_ab527d9dfbec4364ab0de1917bd02b99"
          }
        },
        "b9b68176053d49eb8172890be458d650": {
          "model_module": "@jupyter-widgets/controls",
          "model_name": "DescriptionStyleModel",
          "model_module_version": "1.5.0",
          "state": {
            "_view_name": "StyleView",
            "_model_name": "DescriptionStyleModel",
            "description_width": "",
            "_view_module": "@jupyter-widgets/base",
            "_model_module_version": "1.5.0",
            "_view_count": null,
            "_view_module_version": "1.2.0",
            "_model_module": "@jupyter-widgets/controls"
          }
        },
        "397547696a884e9fa2df54eab8c3dc8f": {
          "model_module": "@jupyter-widgets/base",
          "model_name": "LayoutModel",
          "model_module_version": "1.2.0",
          "state": {
            "_view_name": "LayoutView",
            "grid_template_rows": null,
            "right": null,
            "justify_content": null,
            "_view_module": "@jupyter-widgets/base",
            "overflow": null,
            "_model_module_version": "1.2.0",
            "_view_count": null,
            "flex_flow": null,
            "width": null,
            "min_width": null,
            "border": null,
            "align_items": null,
            "bottom": null,
            "_model_module": "@jupyter-widgets/base",
            "top": null,
            "grid_column": null,
            "overflow_y": null,
            "overflow_x": null,
            "grid_auto_flow": null,
            "grid_area": null,
            "grid_template_columns": null,
            "flex": null,
            "_model_name": "LayoutModel",
            "justify_items": null,
            "grid_row": null,
            "max_height": null,
            "align_content": null,
            "visibility": null,
            "align_self": null,
            "height": null,
            "min_height": null,
            "padding": null,
            "grid_auto_rows": null,
            "grid_gap": null,
            "max_width": null,
            "order": null,
            "_view_module_version": "1.2.0",
            "grid_template_areas": null,
            "object_position": null,
            "object_fit": null,
            "grid_auto_columns": null,
            "margin": null,
            "display": null,
            "left": null
          }
        },
        "c8dcc3331bdc437c9c9fa941389b130f": {
          "model_module": "@jupyter-widgets/controls",
          "model_name": "ProgressStyleModel",
          "model_module_version": "1.5.0",
          "state": {
            "_view_name": "StyleView",
            "_model_name": "ProgressStyleModel",
            "description_width": "",
            "_view_module": "@jupyter-widgets/base",
            "_model_module_version": "1.5.0",
            "_view_count": null,
            "_view_module_version": "1.2.0",
            "bar_color": null,
            "_model_module": "@jupyter-widgets/controls"
          }
        },
        "ab527d9dfbec4364ab0de1917bd02b99": {
          "model_module": "@jupyter-widgets/base",
          "model_name": "LayoutModel",
          "model_module_version": "1.2.0",
          "state": {
            "_view_name": "LayoutView",
            "grid_template_rows": null,
            "right": null,
            "justify_content": null,
            "_view_module": "@jupyter-widgets/base",
            "overflow": null,
            "_model_module_version": "1.2.0",
            "_view_count": null,
            "flex_flow": null,
            "width": null,
            "min_width": null,
            "border": null,
            "align_items": null,
            "bottom": null,
            "_model_module": "@jupyter-widgets/base",
            "top": null,
            "grid_column": null,
            "overflow_y": null,
            "overflow_x": null,
            "grid_auto_flow": null,
            "grid_area": null,
            "grid_template_columns": null,
            "flex": null,
            "_model_name": "LayoutModel",
            "justify_items": null,
            "grid_row": null,
            "max_height": null,
            "align_content": null,
            "visibility": null,
            "align_self": null,
            "height": null,
            "min_height": null,
            "padding": null,
            "grid_auto_rows": null,
            "grid_gap": null,
            "max_width": null,
            "order": null,
            "_view_module_version": "1.2.0",
            "grid_template_areas": null,
            "object_position": null,
            "object_fit": null,
            "grid_auto_columns": null,
            "margin": null,
            "display": null,
            "left": null
          }
        }
      }
    }
  },
  "cells": [
    {
      "cell_type": "markdown",
      "metadata": {
        "id": "view-in-github",
        "colab_type": "text"
      },
      "source": [
        "<a href=\"https://colab.research.google.com/github/hemanths03/CS6910/blob/main/Assignment_1.ipynb\" target=\"_parent\"><img src=\"https://colab.research.google.com/assets/colab-badge.svg\" alt=\"Open In Colab\"/></a>"
      ]
    },
    {
      "cell_type": "code",
      "execution_count": 65,
      "metadata": {
        "colab": {
          "base_uri": "https://localhost:8080/"
        },
        "id": "kE3b2hyRN6tC",
        "outputId": "35ce0748-c3cf-4f89-c422-481b9871bd99"
      },
      "outputs": [
        {
          "output_type": "stream",
          "name": "stdout",
          "text": [
            "Requirement already satisfied: wandb in /usr/local/lib/python3.7/dist-packages (0.12.10)\n",
            "Requirement already satisfied: sentry-sdk>=1.0.0 in /usr/local/lib/python3.7/dist-packages (from wandb) (1.5.6)\n",
            "Requirement already satisfied: pathtools in /usr/local/lib/python3.7/dist-packages (from wandb) (0.1.2)\n",
            "Requirement already satisfied: python-dateutil>=2.6.1 in /usr/local/lib/python3.7/dist-packages (from wandb) (2.8.2)\n",
            "Requirement already satisfied: docker-pycreds>=0.4.0 in /usr/local/lib/python3.7/dist-packages (from wandb) (0.4.0)\n",
            "Requirement already satisfied: yaspin>=1.0.0 in /usr/local/lib/python3.7/dist-packages (from wandb) (2.1.0)\n",
            "Requirement already satisfied: psutil>=5.0.0 in /usr/local/lib/python3.7/dist-packages (from wandb) (5.4.8)\n",
            "Requirement already satisfied: PyYAML in /usr/local/lib/python3.7/dist-packages (from wandb) (3.13)\n",
            "Requirement already satisfied: Click!=8.0.0,>=7.0 in /usr/local/lib/python3.7/dist-packages (from wandb) (7.1.2)\n",
            "Requirement already satisfied: promise<3,>=2.0 in /usr/local/lib/python3.7/dist-packages (from wandb) (2.3)\n",
            "Requirement already satisfied: GitPython>=1.0.0 in /usr/local/lib/python3.7/dist-packages (from wandb) (3.1.27)\n",
            "Requirement already satisfied: protobuf>=3.12.0 in /usr/local/lib/python3.7/dist-packages (from wandb) (3.17.3)\n",
            "Requirement already satisfied: shortuuid>=0.5.0 in /usr/local/lib/python3.7/dist-packages (from wandb) (1.0.8)\n",
            "Requirement already satisfied: requests<3,>=2.0.0 in /usr/local/lib/python3.7/dist-packages (from wandb) (2.23.0)\n",
            "Requirement already satisfied: six>=1.13.0 in /usr/local/lib/python3.7/dist-packages (from wandb) (1.15.0)\n",
            "Requirement already satisfied: typing-extensions>=3.7.4.3 in /usr/local/lib/python3.7/dist-packages (from GitPython>=1.0.0->wandb) (3.10.0.2)\n",
            "Requirement already satisfied: gitdb<5,>=4.0.1 in /usr/local/lib/python3.7/dist-packages (from GitPython>=1.0.0->wandb) (4.0.9)\n",
            "Requirement already satisfied: smmap<6,>=3.0.1 in /usr/local/lib/python3.7/dist-packages (from gitdb<5,>=4.0.1->GitPython>=1.0.0->wandb) (5.0.0)\n",
            "Requirement already satisfied: urllib3!=1.25.0,!=1.25.1,<1.26,>=1.21.1 in /usr/local/lib/python3.7/dist-packages (from requests<3,>=2.0.0->wandb) (1.24.3)\n",
            "Requirement already satisfied: certifi>=2017.4.17 in /usr/local/lib/python3.7/dist-packages (from requests<3,>=2.0.0->wandb) (2021.10.8)\n",
            "Requirement already satisfied: chardet<4,>=3.0.2 in /usr/local/lib/python3.7/dist-packages (from requests<3,>=2.0.0->wandb) (3.0.4)\n",
            "Requirement already satisfied: idna<3,>=2.5 in /usr/local/lib/python3.7/dist-packages (from requests<3,>=2.0.0->wandb) (2.10)\n",
            "Requirement already satisfied: termcolor<2.0.0,>=1.1.0 in /usr/local/lib/python3.7/dist-packages (from yaspin>=1.0.0->wandb) (1.1.0)\n"
          ]
        }
      ],
      "source": [
        "!pip install wandb"
      ]
    },
    {
      "cell_type": "code",
      "source": [
        "import wandb\n",
        "!wandb login"
      ],
      "metadata": {
        "colab": {
          "base_uri": "https://localhost:8080/"
        },
        "id": "nEMNaoiWOtzT",
        "outputId": "7f01c0b3-cecc-4d1c-9fad-c5722180ce6a"
      },
      "execution_count": 66,
      "outputs": [
        {
          "output_type": "stream",
          "name": "stdout",
          "text": [
            "\u001b[34m\u001b[1mwandb\u001b[0m: Currently logged in as: \u001b[33mcs21m027_cs21m011\u001b[0m (use `wandb login --relogin` to force relogin)\n"
          ]
        }
      ]
    },
    {
      "cell_type": "code",
      "source": [
        "import matplotlib.pyplot as plt\n",
        "import matplotlib.colors\n",
        "import numpy as np\n",
        "from sklearn.metrics import accuracy_score, mean_squared_error\n",
        "from sklearn.metrics import log_loss\n",
        "from keras.datasets import fashion_mnist"
      ],
      "metadata": {
        "id": "DAu1iUAvPBjA"
      },
      "execution_count": 67,
      "outputs": []
    },
    {
      "cell_type": "markdown",
      "source": [
        "#Loading data "
      ],
      "metadata": {
        "id": "MWtV-9UEErQ3"
      }
    },
    {
      "cell_type": "code",
      "source": [
        "(train_images, train_labels), (test_images, test_labels) = fashion_mnist.load_data()\n",
        "labels = [\"T-shirt/Top\", \"Trouser\", \"Pullover\", \"Dress\", \"Coat\", \"Sandal\", \"Shirt\", \"Sneaker\", \"Bag\", \"Ankle Boot\"]\n",
        "N , a , b = train_images.shape\n",
        "#Dimesion of each Datapoint will be a*b\n",
        "x = a*b\n",
        "d = x\n",
        "nl = len(labels)"
      ],
      "metadata": {
        "id": "pNmFx17BbCY9"
      },
      "execution_count": 68,
      "outputs": []
    },
    {
      "cell_type": "markdown",
      "source": [
        "#Function for question_1\n"
      ],
      "metadata": {
        "id": "l39O5G0LLouw"
      }
    },
    {
      "cell_type": "code",
      "source": [
        "def show_images(train_images , train_labels , desc):\n",
        "  #run = wandb.init(entity=\"cs21m027_cs21m011\", project=\"DL_ASG_1_final\")\n",
        "  #run.name = \"Question_1\"\n",
        "  plot = []\n",
        "  m=0\n",
        "  n=0\n",
        "  k=0\n",
        "  fig, axes = plt.subplots(2, 5, figsize=(12.5,6))\n",
        "  for i in range(1000):\n",
        "    if train_labels[i]==k:\n",
        "      ax = axes[m,n]\n",
        "      ax.imshow(train_images[i], cmap='gray')\n",
        "      ax.set_title('Class='+str(train_labels[i])+', Label='+str(desc[train_labels[i]]))\n",
        "      plot.append(wandb.Image(train_images[i],caption= 'Class='+str(train_labels[i])+', Label='+str(desc[train_labels[i]])))\n",
        "      n=n+1\n",
        "      k=k+1\n",
        "      if(n==5):\n",
        "        m=1\n",
        "        n=0\n",
        "    if k==10:\n",
        "      break\n",
        "  plt.tight_layout()\n",
        "  plt.show()\n",
        "  wandb.log({\"images\":plot})"
      ],
      "metadata": {
        "id": "1DDfpoyEVbND"
      },
      "execution_count": 69,
      "outputs": []
    },
    {
      "cell_type": "code",
      "source": [
        ""
      ],
      "metadata": {
        "id": "2RS3hejYaID7"
      },
      "execution_count": 248,
      "outputs": []
    },
    {
      "cell_type": "markdown",
      "source": [
        "#Propecessing of data\n",
        "\n"
      ],
      "metadata": {
        "id": "ZkCkYjcLLusM"
      }
    },
    {
      "cell_type": "code",
      "source": [
        "#Flattening we are converting the 28*28 data point as 784*1 data point\n",
        "flatted_train_images =  np.array([train_images[i].flatten() for i in range(len(train_images))])\n",
        "#Same transition for testdata\n",
        "flatted_test_images =  np.array([test_images[i].flatten() for i in range(len(test_images))])"
      ],
      "metadata": {
        "id": "zJ2nvR4fdIdz"
      },
      "execution_count": 70,
      "outputs": []
    },
    {
      "cell_type": "code",
      "source": [
        "#getting train data and validation data from training data\n",
        "from sklearn.model_selection import train_test_split\n",
        "train_x, valid_x, cat_train_y, cat_val_y = train_test_split(flatted_train_images, train_labels, test_size=0.1, stratify = train_labels ,random_state=42)"
      ],
      "metadata": {
        "id": "uC7nrfY8WEWB"
      },
      "execution_count": 71,
      "outputs": []
    },
    {
      "cell_type": "code",
      "source": [
        "#One hot encoding of categorical labels \n",
        "def encode(data , nl):\n",
        "  encode_data = np.array( [ [0]*nl for i in range(len(data))] )\n",
        "  for i in range(len(data)):\n",
        "    actual_label = data[i]\n",
        "    encode_data[i][actual_label] = 1\n",
        "  return encode_data"
      ],
      "metadata": {
        "id": "tOnDidLOiujh"
      },
      "execution_count": 72,
      "outputs": []
    },
    {
      "cell_type": "code",
      "source": [
        "train_y = encode(cat_train_y , nl)\n",
        "valid_y = encode(cat_val_y , nl)\n",
        "test_y = encode(test_labels , nl)"
      ],
      "metadata": {
        "id": "ge_r0IOOiumH"
      },
      "execution_count": 73,
      "outputs": []
    },
    {
      "cell_type": "code",
      "source": [
        "#Normalizing the data\n",
        "mean = np.mean(train_x , axis = 0)\n",
        "train_x = (train_x - mean) /255\n",
        "valid_x = (valid_x - mean)/255\n",
        "test_x = (flatted_test_images - mean)/255"
      ],
      "metadata": {
        "id": "4gB5g1rbiuoh"
      },
      "execution_count": 74,
      "outputs": []
    },
    {
      "cell_type": "code",
      "source": [
        "print(train_x.shape)\n",
        "print(valid_x.shape)\n",
        "print(test_x.shape)\n",
        "print(train_y.shape)\n",
        "print(valid_y.shape)\n",
        "print(test_y.shape)"
      ],
      "metadata": {
        "id": "nr5kCu-plvfi",
        "colab": {
          "base_uri": "https://localhost:8080/"
        },
        "outputId": "85235dca-2348-4be4-894a-dcd3d2e928b9"
      },
      "execution_count": 75,
      "outputs": [
        {
          "output_type": "stream",
          "name": "stdout",
          "text": [
            "(54000, 784)\n",
            "(6000, 784)\n",
            "(10000, 784)\n",
            "(54000, 10)\n",
            "(6000, 10)\n",
            "(10000, 10)\n"
          ]
        }
      ]
    },
    {
      "cell_type": "markdown",
      "source": [
        "#Activation functions\n"
      ],
      "metadata": {
        "id": "rfc75empL3_4"
      }
    },
    {
      "cell_type": "code",
      "source": [
        "def sigmoid(x):\n",
        "    temp = []\n",
        "    for i in range(len(x)):\n",
        "      temp.append(1/(1 + np.exp(-(float(x[i])))))\n",
        "    return np.array(temp)\n",
        "\n",
        "def tanh(x):\n",
        "    temp = []\n",
        "    for i in range(len(x)):\n",
        "      temp.append(np.tanh(x[i]))\n",
        "    return np.array(temp)\n",
        "\n",
        "def relu(x):\n",
        "    temp = []\n",
        "    for i in range(len(x)):\n",
        "      temp.append(max(0,x[i]))\n",
        "    return np.array(temp)\n",
        "\n",
        "def softmax(x):\n",
        "    temp = []\n",
        "    sum = 0\n",
        "    for i in range(len(x)):\n",
        "      sum += np.exp(float(x[i]))\n",
        "    for i in range(len(x)):\n",
        "      temp.append( np.exp(float(x[i])) / sum)\n",
        "    return np.array(temp)\n",
        "\n",
        "def derivative_sigmoid(x):\n",
        "    return x*(1 - x)\n",
        "\n",
        "def derivative_tanh(x):\n",
        "    return 1-np.square(x)\n",
        "\n",
        "def derivative_relu(x):\n",
        "    temp = []\n",
        "    for i in range(len(x)):\n",
        "      if x[i]>0:\n",
        "        temp.append(1)\n",
        "      else:\n",
        "        temp.append(0)\n",
        "    return np.array(temp)"
      ],
      "metadata": {
        "id": "-wEgTce4sL0H"
      },
      "execution_count": 76,
      "outputs": []
    },
    {
      "cell_type": "markdown",
      "source": [
        "#Network initialization"
      ],
      "metadata": {
        "id": "CJ-tlLaeMLtI"
      }
    },
    {
      "cell_type": "code",
      "source": [
        "def initialize_zeros(dim,hl,ol):\n",
        "  w = [np.array([])]\n",
        "  b = [np.array([])]\n",
        "  for i in range(len(hl)):\n",
        "    b.append(np.zeros(hl[i]))\n",
        "    if(i == 0):\n",
        "      w.append(np.zeros((hl[i],d)))\n",
        "    else:\n",
        "      w.append(np.zeros((hl[i],hl[i - 1])))\n",
        "\n",
        "  for i in range(len(ol)):\n",
        "    b.append(np.zeros(ol[i]))\n",
        "    w.append(np.zeros((ol[i],hl[-1])))\n",
        "  return w , b"
      ],
      "metadata": {
        "id": "yO6X3QBoMxae"
      },
      "execution_count": 77,
      "outputs": []
    },
    {
      "cell_type": "code",
      "source": [
        "def initialize_network(dim, hl, ol, method):\n",
        "  W = [np.array([])]\n",
        "  b = [np.array([])]\n",
        "  np.random.seed(2)\n",
        "  #Random intialization\n",
        "  if(method=='random'):\n",
        "    for i in range(len(hl)):\n",
        "      b.append(np.random.randn(hl[i]))\n",
        "      if(i == 0):\n",
        "        W.append(np.random.randn(hl[i],dim))\n",
        "      else:\n",
        "        W.append(np.random.randn(hl[i],hl[i - 1]))\n",
        "    for i in range(len(ol)):\n",
        "      b.append(np.random.randn(ol[i]))\n",
        "      W.append(np.random.randn(ol[i],hl[-1]))\n",
        "      \n",
        "  #Xavier Initialization\n",
        "  else:\n",
        "    for i in range(len(hl)):\n",
        "      b.append(np.random.randn(hl[i]))\n",
        "      if(i == 0):\n",
        "        W.append(np.random.randn(hl[i],dim ) * np.sqrt(1/dim))\n",
        "      else:\n",
        "        W.append(np.random.randn(hl[i],hl[i-1]) * np.sqrt(1/hl[i-1]))\n",
        "    for i in range(len(ol)):\n",
        "      b.append(np.random.randn(ol[i]))\n",
        "      W.append(np.random.randn(ol[i],hl[-1]) * np.sqrt(1/hl[-1]))\n",
        "\n",
        "  return W,b"
      ],
      "metadata": {
        "id": "5Anplb6Dlvh-"
      },
      "execution_count": 78,
      "outputs": []
    },
    {
      "cell_type": "markdown",
      "source": [
        "#Forward Propagation"
      ],
      "metadata": {
        "id": "7Y7VQGKpMQXO"
      }
    },
    {
      "cell_type": "code",
      "source": [
        "def forward_propagation(W,b,x,method):\n",
        "    a = [[]]\n",
        "    h = [[]]\n",
        "    h[0] = x \n",
        "    num_layers = (len(W)-1)\n",
        "    c = []\n",
        "    d = []\n",
        "    if method=='sigmoid':\n",
        "        for i in range(1 , num_layers):\n",
        "            c = np.dot( W[i], h[i-1] ) + b[i]\n",
        "            a.append(c)\n",
        "            d = sigmoid(c)\n",
        "            h.append(d)\n",
        "\n",
        "    elif method=='tanh':\n",
        "        for i in range(1 , num_layers):\n",
        "            c = np.dot( W[i], h[i-1] ) + b[i]\n",
        "            a.append(c)\n",
        "            d = tanh(c)\n",
        "            h.append(d)\n",
        "\n",
        "    elif method=='relu':\n",
        "        for i in range(1 , num_layers):\n",
        "            c = np.dot( W[i], h[i-1] ) + b[i]\n",
        "            a.append(c)\n",
        "            d = relu(c)\n",
        "            h.append(d)\n",
        "\n",
        "    c = np.dot( W[num_layers], h[num_layers-1] ) + b[num_layers]\n",
        "    a.append(c)\n",
        "    d = softmax(c)\n",
        "    h.append(d)\n",
        "\n",
        "    return a,h"
      ],
      "metadata": {
        "id": "yHRXzM_ysJua"
      },
      "execution_count": 79,
      "outputs": []
    },
    {
      "cell_type": "markdown",
      "source": [
        "#Backward Propagation"
      ],
      "metadata": {
        "id": "-l1OXNypMUSf"
      }
    },
    {
      "cell_type": "code",
      "source": [
        "def back_prop(W,h,x,y,y_pred,act_fun,loss_fun):\n",
        "  del_W,del_b=[[]],[[]]\n",
        "\n",
        "  #Computing output grad wrt Cross Entropy Loss function\n",
        "  if loss_fun == \"cross_entropy\" :\n",
        "    del_a = (y_pred - y)\n",
        "    \n",
        "  #Computing output grad wrt Squared Error Loss function\n",
        "  else:\n",
        "    y_label = y_pred[np.argmax(y)]\n",
        "    del_a = 2 * (y_label - 1) * y_label * ( y - y_pred )\n",
        "\n",
        "  for i in range(len(W)-1, 0, -1):\n",
        "\n",
        "    #computing gradients wrt parameters W,b\n",
        "    dW = np.array(np.dot(np.matrix(del_a).T , np.matrix(h[i-1])))\n",
        "    db = np.array( del_a )\n",
        "\n",
        "    #computing gradients wrt below layer activation function\n",
        "    dh = np.dot( np.transpose(W[i]), del_a )\n",
        "\n",
        "    #computing gradients wrt below layer pre-activation function\n",
        "    if act_fun == \"sigmoid\":\n",
        "      del_a = dh * derivative_sigmoid( h[i - 1] )\n",
        "    \n",
        "    elif act_fun == \"tanh\":\n",
        "      del_a = dh * derivative_tanh( h[i - 1] )\n",
        "    \n",
        "    elif act_fun == \"relu\":\n",
        "      del_a = dh * derivative_relu( h[i - 1] )\n",
        "\n",
        "    del_W.insert(1, dW)\n",
        "    del_b.insert(1, db)\n",
        "\n",
        "  return del_W, del_b"
      ],
      "metadata": {
        "id": "fTdgFIC4sbnI"
      },
      "execution_count": 80,
      "outputs": []
    },
    {
      "cell_type": "markdown",
      "source": [
        "#Stochastic Gradient Descent optimizer"
      ],
      "metadata": {
        "id": "wXprOTMuMaQ1"
      }
    },
    {
      "cell_type": "code",
      "source": [
        "def stochastic_gradient_descent(train_x,train_y,valid_x,valid_y,d,hl,ol,act_fun,loss_fun,epochs,eta,strat,alpha,batch):\n",
        "  #Initializing the weights and biases based on given strategy\n",
        "  W,b = initialize_network(d, hl, ol, strat)\n",
        "  dw , db = initialize_zeros(784,hl,ol)\n",
        "\n",
        "  seen = 0\n",
        "  for e in range(epochs):\n",
        "    \n",
        "    for it, (x, y) in enumerate(zip(train_x, train_y)):\n",
        "      seen += 1\n",
        "      a,h = forward_propagation(W, b, x, act_fun)\n",
        "      y_pred=h[len(h)-1]\n",
        "      tdw,tdb=back_prop(W, h, x, y, y_pred, act_fun, loss_fun)\n",
        "\n",
        "      for i in range(len(tdw)):\n",
        "        dw[i] += tdw[i]\n",
        "        db[i] += tdb[i]\n",
        "\n",
        "      if(seen==batch or it==len(train_x)-1):\n",
        "        seen = 0\n",
        "\n",
        "        for i, (weight, deriv) in enumerate(zip(W, dw)):\n",
        "          W[i] = weight - eta * np.array(deriv)\n",
        "\n",
        "        for i, (bias, deriv) in enumerate(zip(b, db)):\n",
        "          b[i] = bias - eta * np.array(deriv)\n",
        "        \n",
        "        dw , db = initialize_zeros(784,hl,ol)\n",
        "\n",
        "    val_acc, val_loss,yt_val,ypred_train = get_predictions_accuracy(W, b, valid_x, valid_y, act_fun, loss_fun)\n",
        "    train_acc, train_loss,yt_train,ypred_train = get_predictions_accuracy(W, b, train_x, train_y, act_fun, loss_fun)\n",
        "    test_acc, test_loss,yt_test,ypred_test = get_predictions_accuracy(W, b, test_x, test_y, act_fun, loss_fun)\n",
        "\n",
        "    print(\"epoch:\" , e+1 , \" \"+loss_fun+\" \", \"train_acc :\" , train_acc , \"valid_acc :\" , val_acc , \"test_acc :\" , test_acc)\n",
        "    \n",
        "    if loss_fun==\"cross_entropy\":\n",
        "      wandb.log({\n",
        "          \"Epoch\": e+1,\n",
        "          \"Train Loss\": train_loss,\n",
        "          \"Train Acc\": train_acc,\n",
        "          \"Valid Loss\": val_loss,\n",
        "          \"Valid Acc\": val_acc})\n",
        "    else:\n",
        "      wandb.log({\n",
        "          \"Train Loss (squared_error)\": train_loss,\n",
        "          \"Train Acc (squared_error)\": train_acc,\n",
        "          \"Valid Loss (squared_error)\": val_loss,\n",
        "          \"Valid Acc (squared_error)\": val_acc})\n",
        "  return W,b"
      ],
      "metadata": {
        "id": "b4B_B7zxsbpx"
      },
      "execution_count": 81,
      "outputs": []
    },
    {
      "cell_type": "markdown",
      "source": [
        "#Momentum Based Gradient Descent "
      ],
      "metadata": {
        "id": "V7JpBnmAMhNU"
      }
    },
    {
      "cell_type": "code",
      "source": [
        "def momentum_gradient_descent(train_x,train_y,valid_x,valid_y,d,hl,ol,act_fun,loss_fun,epochs,eta,strat,alpha,batch):\n",
        "  W,b=initialize_network(d, hl, ol, strat)\n",
        "  dw , db = initialize_zeros(784,hl,ol)\n",
        "  prev_w , prev_b = initialize_zeros(784,hl,ol)\n",
        "  gamma=0.9\n",
        "  seen=0\n",
        "\n",
        "  for e in range(epochs):\n",
        "    #dw , db = initialize_zeros(784,hl,ol)\n",
        "    for it, (x, y) in enumerate(zip(train_x, train_y)):\n",
        "      seen+=1\n",
        "      a,h = forward_propagation(W, b, x, act_fun)\n",
        "      y_pred=h[len(h)-1]\n",
        "      \n",
        "      tdw,tdb=back_prop(W, h, x, y, y_pred, act_fun, loss_fun)\n",
        "  \n",
        "      for i in range(len(tdw)):\n",
        "        dw[i] += tdw[i]\n",
        "        db[i] += tdb[i]\n",
        "    \n",
        "      if(seen==batch or it==len(train_x)-1):\n",
        "        seen=0\n",
        "        for i, (weight, deriv) in enumerate(zip(W, dw)):\n",
        "          W[i] = weight - eta * np.array(deriv) - gamma*prev_w[i]\n",
        "          prev_w[i] = eta * np.array(deriv) + gamma*prev_w[i]\n",
        "\n",
        "        for i, (bias, deriv) in enumerate(zip(b, db)):\n",
        "          b[i] = bias - eta * np.array(deriv) - gamma*prev_b[i]\n",
        "          prev_b[i] = eta * np.array(deriv) + gamma*prev_b[i]\n",
        "\n",
        "        dw , db = initialize_zeros(784,hl,ol)\n",
        "\n",
        "    val_acc, val_loss,yt_val,ypred_train = get_predictions_accuracy(W, b, valid_x, valid_y, act_fun, loss_fun)\n",
        "    train_acc, train_loss,yt_train,ypred_train = get_predictions_accuracy(W, b, train_x, train_y, act_fun, loss_fun)\n",
        "    test_acc, test_loss,yt_test,ypred_test = get_predictions_accuracy(W, b, test_x, test_y, act_fun, loss_fun)\n",
        "\n",
        "    print(\"epoch:\" , e+1 , \" \"+loss_fun+\" \", \"train_acc :\" , train_acc , \"valid_acc :\" , val_acc , \"test_acc :\" , test_acc)\n",
        "    \n",
        "    if loss_fun==\"cross_entropy\":\n",
        "      wandb.log({\n",
        "          \"Epoch\": e+1,\n",
        "          \"Train Loss\": train_loss,\n",
        "          \"Train Acc\": train_acc,\n",
        "          \"Valid Loss\": val_loss,\n",
        "          \"Valid Acc\": val_acc})\n",
        "    else:\n",
        "      wandb.log({\n",
        "          \"Train Loss (squared_error)\": train_loss,\n",
        "          \"Train Acc (squared_error)\": train_acc,\n",
        "          \"Valid Loss (squared_error)\": val_loss,\n",
        "          \"Valid Acc (squared_error)\": val_acc})\n",
        "  return W,b"
      ],
      "metadata": {
        "id": "wYT8Ed0eVIwu"
      },
      "execution_count": 82,
      "outputs": []
    },
    {
      "cell_type": "markdown",
      "source": [
        "#Nesterov Accelerated Gradient Descent"
      ],
      "metadata": {
        "id": "Ybb-fTh2MlKf"
      }
    },
    {
      "cell_type": "code",
      "source": [
        "def nesterov_gradient_descent(train_x,train_y,valid_x,valid_y,d,hl,ol,act_fun,loss_fun,epochs,eta,strat,alpha,batch):\n",
        "  W,b=initialize_network(d, hl, ol, strat)\n",
        "\n",
        "  gamma=0.9\n",
        "  seen=0\n",
        "\n",
        "  \n",
        "  prev_w , prev_b = initialize_zeros(784,hl,ol)\n",
        "  v_w , v_b =initialize_zeros(784,hl,ol)\n",
        "\n",
        "  dw , db = initialize_zeros(784,hl,ol)\n",
        "  tw , tb = initialize_zeros(784,hl,ol)\n",
        "\n",
        "  for e in range(epochs):\n",
        "\n",
        "    for i in range(len(W)):\n",
        "      v_w[i] = gamma*prev_w[i]\n",
        "      v_b[i] = gamma*prev_b[i]\n",
        "    \n",
        "\n",
        "    for i in range(len(W)):\n",
        "      tw[i] = W[i] - v_w[i]\n",
        "      tb[i] = b[i] - v_b[i]\n",
        "  \n",
        "    for it, (x, y) in enumerate(zip(train_x, train_y)):\n",
        "      seen+=1\n",
        "\n",
        "      a,h = forward_propagation(tw, tb, x, act_fun)\n",
        "      y_pred=h[len(h)-1]\n",
        "      \n",
        "      tdw,tdb=back_prop(tw, h, x, y, y_pred, act_fun, loss_fun)\n",
        "      \n",
        "      for i in range(len(tdw)):\n",
        "        dw[i] += tdw[i]\n",
        "        db[i] += tdb[i]\n",
        "\n",
        "      if seen==batch or it == len(train_x)-1:\n",
        "        seen=0\n",
        "        for i, (weight, deriv) in enumerate(zip(W, dw)):\n",
        "          v_w[i] = gamma*prev_w[i] + eta*np.array(deriv)\n",
        "          W[i] = weight - v_w[i]\n",
        "          tw[i] = W[i]\n",
        "          prev_w = v_w\n",
        "\n",
        "        for i, (bias, deriv) in enumerate(zip(b, db)):\n",
        "          v_b[i] = gamma*prev_b[i] + eta*np.array(deriv)\n",
        "          b[i] = bias - v_b[i]\n",
        "          tb[i] = b[i]\n",
        "          prev_b = v_b\n",
        "        \n",
        "        dw , db = initialize_zeros(784,hl,ol)\n",
        "\n",
        "    val_acc, val_loss,yt_val,ypred_train = get_predictions_accuracy(W, b, valid_x, valid_y, act_fun, loss_fun)\n",
        "    train_acc, train_loss,yt_train,ypred_train = get_predictions_accuracy(W, b, train_x, train_y, act_fun, loss_fun)\n",
        "    test_acc, test_loss,yt_test,ypred_test = get_predictions_accuracy(W, b, test_x, test_y, act_fun, loss_fun)\n",
        "\n",
        "    print(\"epoch:\" , e+1 , \" \"+loss_fun+\" \", \"train_acc :\" , train_acc , \"valid_acc :\" , val_acc , \"test_acc :\" , test_acc)\n",
        "    \n",
        "    if loss_fun==\"cross_entropy\":\n",
        "      wandb.log({\n",
        "          \"Epoch\": e+1,\n",
        "          \"Train Loss\": train_loss,\n",
        "          \"Train Acc\": train_acc,\n",
        "          \"Valid Loss\": val_loss,\n",
        "          \"Valid Acc\": val_acc})\n",
        "    else:\n",
        "      wandb.log({\n",
        "          \"Train Loss (squared_error)\": train_loss,\n",
        "          \"Train Acc (squared_error)\": train_acc,\n",
        "          \"Valid Loss (squared_error)\": val_loss,\n",
        "          \"Valid Acc (squared_error)\": val_acc})\n",
        "  return W,b"
      ],
      "metadata": {
        "id": "WOFtP3b3r6lo"
      },
      "execution_count": 83,
      "outputs": []
    },
    {
      "cell_type": "markdown",
      "source": [
        "#RMS_Prop Optimizer"
      ],
      "metadata": {
        "id": "RRsDnJLyM7xm"
      }
    },
    {
      "cell_type": "code",
      "source": [
        "def rmsprop(train_x,train_y,valid_x,valid_y,d,hl,ol,act_fun,loss_fun,epochs,eta,strat,alpha,batch):\n",
        "  W,b=initialize_network(d, hl, ol, strat)\n",
        "  seen=0\n",
        "  \n",
        "  prev_w , prev_b = initialize_zeros(784,hl,ol)\n",
        "  dw , db = initialize_zeros(784,hl,ol)\n",
        "  eps , beta = 1e-8 , 0.9\n",
        "\n",
        "  for e in range(epochs):\n",
        "  \n",
        "    for it, (x, y) in enumerate(zip(train_x, train_y)):\n",
        "      seen+=1\n",
        "      a,h = forward_propagation(W, b, x, act_fun)\n",
        "      y_pred=h[len(h)-1]\n",
        "      \n",
        "      tdw,tdb=back_prop(W, h, x, y, y_pred, act_fun, loss_fun)\n",
        "      \n",
        "      for i in range(len(tdw)):\n",
        "        dw[i] += tdw[i]\n",
        "        db[i] += tdb[i]\n",
        "\n",
        "      if seen==batch or it == len(train_x)-1:\n",
        "\n",
        "        seen=0\n",
        "\n",
        "        for i in range(len(W)):\n",
        "          prev_w[i] = beta*prev_w[i] + (1-beta)*(dw[i]**2)\n",
        "          prev_b[i] = beta*prev_b[i] + (1-beta)*(db[i]**2)\n",
        "\n",
        "        for i, (weight, deriv) in enumerate(zip(W, dw)):\n",
        "          W[i] = weight - (eta / np.sqrt(prev_w[i] + eps)) * np.array(deriv)\n",
        "\n",
        "        for i, (bias, deriv) in enumerate(zip(b, db)):\n",
        "          b[i] = bias - (eta / np.sqrt(prev_b[i] + eps)) * np.array(deriv)\n",
        "        \n",
        "        dw , db = initialize_zeros(784,hl,ol)\n",
        "\n",
        "    val_acc, val_loss,yt_val,ypred_train = get_predictions_accuracy(W, b, valid_x, valid_y, act_fun, loss_fun)\n",
        "    train_acc, train_loss,yt_train,ypred_train = get_predictions_accuracy(W, b, train_x, train_y, act_fun, loss_fun)\n",
        "    test_acc, test_loss,yt_test,ypred_test = get_predictions_accuracy(W, b, test_x, test_y, act_fun, loss_fun)\n",
        "\n",
        "    print(\"epoch:\" , e+1 , \" \"+loss_fun+\" \", \"train_acc :\" , train_acc , \"valid_acc :\" , val_acc , \"test_acc :\" , test_acc)\n",
        "    \n",
        "    if loss_fun==\"cross_entropy\":\n",
        "      wandb.log({\n",
        "          \"Epoch\": e+1,\n",
        "          \"Train Loss\": train_loss,\n",
        "          \"Train Acc\": train_acc,\n",
        "          \"Valid Loss\": val_loss,\n",
        "          \"Valid Acc\": val_acc})\n",
        "    else:\n",
        "      wandb.log({\n",
        "          \"Train Loss (squared_error)\": train_loss,\n",
        "          \"Train Acc (squared_error)\": train_acc,\n",
        "          \"Valid Loss (squared_error)\": val_loss,\n",
        "          \"Valid Acc (squared_error)\": val_acc})\n",
        "  return W,b"
      ],
      "metadata": {
        "id": "iCF8hfEfZrRo"
      },
      "execution_count": 84,
      "outputs": []
    },
    {
      "cell_type": "markdown",
      "source": [
        "#Adam Optimizer"
      ],
      "metadata": {
        "id": "GIlcCzcJNOdq"
      }
    },
    {
      "cell_type": "code",
      "source": [
        "def adaptive_moments(train_x,train_y,valid_x,valid_y,d,hl,ol,act_fun,loss_fun,epochs,eta,strat,alpha,batch):\n",
        "  W,b=initialize_network(d, hl, ol, strat)\n",
        "  seen=0\n",
        "  c=0\n",
        "  v_w , v_b = initialize_zeros(784,hl,ol)\n",
        "  dw , db = initialize_zeros(784,hl,ol)\n",
        "  m_w , m_b = initialize_zeros(784,hl,ol)\n",
        "  eps , beta1 , beta2 = 1e-8 , 0.9 , 0.99\n",
        "\n",
        "  m_w_hat , m_b_hat = initialize_zeros(784,hl,ol)\n",
        "  v_w_hat , v_b_hat = initialize_zeros(784,hl,ol)\n",
        "\n",
        "  for e in range(epochs):\n",
        "  \n",
        "    for it, (x, y) in enumerate(zip(train_x, train_y)):\n",
        "      seen+=1\n",
        "      a,h = forward_propagation(W, b, x, act_fun)\n",
        "      y_pred=h[len(h)-1]\n",
        "      \n",
        "      tdw,tdb=back_prop(W, h, x, y, y_pred, act_fun, loss_fun)\n",
        "      \n",
        "      for i in range(len(tdw)):\n",
        "        dw[i] += tdw[i]\n",
        "        db[i] += tdb[i]\n",
        "\n",
        "      if seen==batch or it == len(train_x)-1:\n",
        "\n",
        "        seen=0\n",
        "        c+=1\n",
        "        for i in range(len(W)):\n",
        "          m_w[i] = beta1 * m_w[i] + (1-beta1) * dw[i]\n",
        "          m_b[i] = beta1 * m_b[i] + (1-beta1) * db[i]\n",
        "\n",
        "          v_w[i] = beta2 * v_w[i] + (1-beta2) * (dw[i]**2)\n",
        "          v_b[i] = beta2 * v_b[i] + (1-beta2) * (db[i]**2)\n",
        "\n",
        "        for i in range(len(W)):\n",
        "          m_w_hat[i] = m_w[i] / (1 - np.power(beta1,c))\n",
        "          m_b_hat[i] = m_b[i] / (1 - np.power(beta1,c))\n",
        "\n",
        "          v_w_hat[i] = v_w[i] / (1 - np.power(beta2,c))\n",
        "          v_b_hat[i] = v_b[i] / (1 - np.power(beta2,c))\n",
        "\n",
        "        for i, (weight, deriv) in enumerate(zip(W, dw)):\n",
        "          W[i] = weight - (eta / np.sqrt(v_w_hat[i] + eps)) * m_w_hat[i]\n",
        "\n",
        "        for i, (bias, deriv) in enumerate(zip(b, db)):\n",
        "          b[i] = bias - (eta / np.sqrt(v_b_hat[i] + eps)) * m_b_hat[i]\n",
        "        \n",
        "        dw , db = initialize_zeros(784,hl,ol)\n",
        "\n",
        "    val_acc, val_loss,yt_val,ypred_train = get_predictions_accuracy(W, b, valid_x, valid_y, act_fun, loss_fun)\n",
        "    train_acc, train_loss,yt_train,ypred_train = get_predictions_accuracy(W, b, train_x, train_y, act_fun, loss_fun)\n",
        "    test_acc, test_loss,yt_test,ypred_test = get_predictions_accuracy(W, b, test_x, test_y, act_fun, loss_fun)\n",
        "\n",
        "    print(\"epoch:\" , e+1 , \" \"+loss_fun+\" \", \"train_acc :\" , train_acc , \"valid_acc :\" , val_acc , \"test_acc :\" , test_acc)\n",
        "    \n",
        "    if loss_fun==\"cross_entropy\":\n",
        "      wandb.log({\n",
        "          \"Epoch\": e+1,\n",
        "          \"Train Loss\": train_loss,\n",
        "          \"Train Acc\": train_acc,\n",
        "          \"Valid Loss\": val_loss,\n",
        "          \"Valid Acc\": val_acc})\n",
        "    else:\n",
        "      wandb.log({\n",
        "          \"Train Loss (squared_error)\": train_loss,\n",
        "          \"Train Acc (squared_error)\": train_acc,\n",
        "          \"Valid Loss (squared_error)\": val_loss,\n",
        "          \"Valid Acc (squared_error)\": val_acc})\n",
        "  return W,b"
      ],
      "metadata": {
        "id": "qpjZJAhk47Sy"
      },
      "execution_count": 85,
      "outputs": []
    },
    {
      "cell_type": "markdown",
      "source": [
        "#Nadam Optimizer"
      ],
      "metadata": {
        "id": "VfDrDkl0NTfM"
      }
    },
    {
      "cell_type": "code",
      "source": [
        "def nadam(train_x,train_y,valid_x,valid_y,d,hl,ol,act_fun,loss_fun,epochs,eta,strat,alpha,batch):\n",
        "  W,b=initialize_network(d, hl, ol, strat)\n",
        "  seen=0\n",
        "  c=0\n",
        "  v_w , v_b = initialize_zeros(784,hl,ol)\n",
        "  dw , db = initialize_zeros(784,hl,ol)\n",
        "  m_w , m_b = initialize_zeros(784,hl,ol)\n",
        "  eps , beta1 , beta2 = 1e-8 , 0.9 , 0.99\n",
        "\n",
        "  m_w_hat , m_b_hat = initialize_zeros(784,hl,ol)\n",
        "  v_w_hat , v_b_hat = initialize_zeros(784,hl,ol)\n",
        "\n",
        "  for e in range(epochs):\n",
        "  \n",
        "    for it, (x, y) in enumerate(zip(train_x, train_y)):\n",
        "      seen+=1\n",
        "      a,h = forward_propagation(W, b, x, act_fun)\n",
        "      y_pred=h[len(h)-1]\n",
        "      \n",
        "      tdw,tdb=back_prop(W, h, x, y, y_pred, act_fun, loss_fun)\n",
        "      \n",
        "      for i in range(len(tdw)):\n",
        "        dw[i] += tdw[i]\n",
        "        db[i] += tdb[i]\n",
        "\n",
        "      if seen==batch or it == len(train_x)-1:\n",
        "\n",
        "        seen=0\n",
        "        c+=1\n",
        "        for i in range(len(W)):\n",
        "          m_w[i] = beta1 * m_w[i] + (1-beta1) * dw[i]\n",
        "          m_b[i] = beta1 * m_b[i] + (1-beta1) * db[i]\n",
        "\n",
        "          v_w[i] = beta2 * v_w[i] + (1-beta2) * (dw[i]**2)\n",
        "          v_b[i] = beta2 * v_b[i] + (1-beta2) * (db[i]**2)\n",
        "\n",
        "        for i in range(len(W)):\n",
        "          m_w_hat[i] = ( (beta1 * m_w[i]) + ( (1 - beta1) * dw[i] ) )/ (1 - np.power(beta1,c))\n",
        "          m_b_hat[i] = ( (beta1 * m_b[i]) + ( (1 - beta1) * db[i] ) )/ (1 - np.power(beta1,c))\n",
        "\n",
        "          v_w_hat[i] = v_w[i] / (1 - np.power(beta2,c))\n",
        "          v_b_hat[i] = v_b[i] / (1 - np.power(beta2,c))\n",
        "\n",
        "        for i, (weight, deriv) in enumerate(zip(W, dw)):\n",
        "          W[i] = weight - (eta / np.sqrt(v_w_hat[i] + eps)) * m_w_hat[i]\n",
        "\n",
        "        for i, (bias, deriv) in enumerate(zip(b, db)):\n",
        "          b[i] = bias - (eta / np.sqrt(v_b_hat[i] + eps)) * m_b_hat[i]\n",
        "        \n",
        "        dw , db = initialize_zeros(784,hl,ol)\n",
        "\n",
        "    val_acc, val_loss,yt_val,ypred_train = get_predictions_accuracy(W, b, valid_x, valid_y, act_fun, loss_fun)\n",
        "    train_acc, train_loss,yt_train,ypred_train = get_predictions_accuracy(W, b, train_x, train_y, act_fun, loss_fun)\n",
        "    test_acc, test_loss,yt_test,ypred_test = get_predictions_accuracy(W, b, test_x, test_y, act_fun, loss_fun)\n",
        "\n",
        "    print(\"epoch:\" , e+1 , \" \"+loss_fun+\" \", \"train_acc :\" , train_acc , \"valid_acc :\" , val_acc , \"test_acc :\" , test_acc)\n",
        "    \n",
        "    if loss_fun==\"cross_entropy\":\n",
        "      wandb.log({\n",
        "          \"Epoch\": e+1,\n",
        "          \"Train Loss\": train_loss,\n",
        "          \"Train Acc\": train_acc,\n",
        "          \"Valid Loss\": val_loss,\n",
        "          \"Valid Acc\": val_acc})\n",
        "    else:\n",
        "      wandb.log({\n",
        "          \"Train Loss (squared_error)\": train_loss,\n",
        "          \"Train Acc (squared_error)\": train_acc,\n",
        "          \"Valid Loss (squared_error)\": val_loss,\n",
        "          \"Valid Acc (squared_error)\": val_acc})\n",
        "  return W,b"
      ],
      "metadata": {
        "id": "dScKlrVAMjHu"
      },
      "execution_count": 86,
      "outputs": []
    },
    {
      "cell_type": "markdown",
      "source": [
        "#Confusion_matrix"
      ],
      "metadata": {
        "id": "_-lW4pgQIZag"
      }
    },
    {
      "cell_type": "code",
      "source": [
        "from sklearn.metrics import confusion_matrix\n",
        "import matplotlib.pyplot as plt\n",
        "import seaborn as sns\n",
        "import plotly.figure_factory as ff\n",
        "import plotly.express as px\n",
        "import pandas as pd\n",
        "def get_confusion_matrix(y_true , y_pred , class_names , figsize=(20,20)):\n",
        "    cm = confusion_matrix(y_true, y_pred, labels=class_names)\n",
        "    fontsize = 14\n",
        "    r=class_names[::-1]\n",
        "    #z_text = [[str(y_true) for y_true in y_pred] for y_pred in cm]\n",
        "\n",
        "    df_cm = pd.DataFrame(cm, index=class_names, columns=class_names)\n",
        "\n",
        "    cm_sum = np.sum(cm, axis=1, keepdims=True)\n",
        "    cm_perc = cm / cm_sum.astype(float) * 100\n",
        "    annot = np.empty_like(cm).astype(str)\n",
        "    h = [ [0 for _ in range(len(class_names))] for _ in range(len(class_names)) ]\n",
        "    #h = np.empty_like(cm).astype(str)\n",
        "    nrows, ncols = cm.shape\n",
        "    for i in range(nrows):\n",
        "        for j in range(ncols):\n",
        "            c = cm[i, j]\n",
        "            p = cm_perc[i, j]\n",
        "            if i == j:\n",
        "                s = cm_sum[i]\n",
        "                annot[i, j] = '%.1f%% <br> %d/%d' % (p, c, s)\n",
        "                h[i][j] = '%d %s are correctly classified' % (c,labels[i])\n",
        "            elif c == 0:\n",
        "                annot[i, j] = ''\n",
        "                h[i][j] = ''\n",
        "            else:\n",
        "                annot[i, j] = '%.1f%% <br> %d' % (p, c)\n",
        "                h[i][j] = '%d %s are wrongly classified as %s' % (c,labels[i],labels[j])\n",
        "\n",
        "    fig = ff.create_annotated_heatmap(cm , x = class_names, y = class_names , text=h,annotation_text = annot , hoverinfo='text' ,colorscale ='blugrn_R')\n",
        "    fig['layout']['yaxis']['autorange'] = \"reversed\"\n",
        "    \n",
        "   \n",
        "    # add custom xaxis title\n",
        "    fig.add_annotation(dict(font=dict(color=\"black\",size=14),x=0.5,y=-0.15,showarrow=False,text=\"Predicted value\",xref=\"paper\",yref=\"paper\"))\n",
        "\n",
        "    # add custom yaxis title\n",
        "    fig.add_annotation(dict(font=dict(color=\"black\",size=14),x=-0.35,y=0.5,showarrow=False,text=\"Real value\",textangle=-90,xref=\"paper\",yref=\"paper\"))\n",
        "\n",
        "    # adjust margins to make room for yaxis title\n",
        "    fig.update_layout(margin=dict(t=50, l=200))\n",
        "    fig.update_annotations(font_size=14)\n",
        "   \n",
        "    fig['data'][0]['showscale'] = True\n",
        "    fig.update_xaxes(side=\"top\")\n",
        "    fig.show()\n",
        "    return fig"
      ],
      "metadata": {
        "id": "0SW5mfI0JWAp"
      },
      "execution_count": 87,
      "outputs": []
    },
    {
      "cell_type": "markdown",
      "source": [
        "#Predictions and accuracy function"
      ],
      "metadata": {
        "id": "myOelQjrNW2f"
      }
    },
    {
      "cell_type": "code",
      "source": [
        "def get_predictions_accuracy(W, b, X, y, method, loss_fun):\n",
        "  sum,loss=0,0\n",
        "  yhat = []\n",
        "  yt = []\n",
        "  for dp in range(len(X)):\n",
        "    a = []\n",
        "    h = []\n",
        "    h = X[dp] \n",
        "    num_layers = (len(W)-1)\n",
        "    if method=='sigmoid':\n",
        "      for i in range(1 , num_layers):\n",
        "        a = np.dot( W[i], h ) + b[i]\n",
        "        h = sigmoid(a)\n",
        "\n",
        "    elif method=='tanh':\n",
        "      for i in range(1 , num_layers):\n",
        "        a = np.dot( W[i], h ) + b[i]\n",
        "        h = tanh(a)\n",
        "\n",
        "    elif method=='relu':\n",
        "      for i in range(1 , num_layers):\n",
        "        a = np.dot( W[i], h ) + b[i]\n",
        "        h = relu(a)\n",
        "\n",
        "    a = np.dot( W[num_layers], h ) + b[num_layers]\n",
        "    y_pred = softmax(a)\n",
        "\n",
        "    ytrue = y[dp]\n",
        "    if(ytrue[np.argmax(y_pred)]==1):\n",
        "      sum=sum+1\n",
        "    \n",
        "    if loss_fun == \"cross_entropy\":\n",
        "      loss += -np.sum(ytrue*np.log(y_pred))\n",
        "    else:\n",
        "      loss += np.sum((ytrue-y_pred)**2)\n",
        "\n",
        "    yhat.append(labels[np.argmax(y_pred)])\n",
        "    yt.append(labels[np.argmax(ytrue)])\n",
        "\n",
        "  acc=sum/len(X)\n",
        "  loss=loss/len(X)\n",
        "\n",
        "  return acc,loss,yt,yhat\n"
      ],
      "metadata": {
        "id": "ULyXvX_Qr8Sh"
      },
      "execution_count": 88,
      "outputs": []
    },
    {
      "cell_type": "code",
      "source": [
        "'''hidden_layer_size = 16\n",
        "hidden_layers = 2\n",
        "hl = [hidden_layer_size]*hidden_layers\n",
        "ol = [len(train_y[0])]\n",
        "n_hl = len(hl)\n",
        "act_fun ='tanh'\n",
        "loss_fun='cross-entropy'\n",
        "eta=0.01\n",
        "alpha=0\n",
        "strat='xavier'\n",
        "epochs=1\n",
        "batch = 32\n",
        "nadam(train_x,train_y,valid_x,valid_y,d,hl,ol,act_fun,loss_fun,epochs,eta,strat,alpha,batch)'''"
      ],
      "metadata": {
        "colab": {
          "base_uri": "https://localhost:8080/",
          "height": 53
        },
        "id": "XRfKaR5C0m1g",
        "outputId": "edf73f36-0059-4cd2-ac1a-0a6b526f67ee"
      },
      "execution_count": 26,
      "outputs": [
        {
          "output_type": "execute_result",
          "data": {
            "application/vnd.google.colaboratory.intrinsic+json": {
              "type": "string"
            },
            "text/plain": [
              "\"hidden_layer_size = 16\\nhidden_layers = 2\\nhl = [hidden_layer_size]*hidden_layers\\nol = [len(train_y[0])]\\nn_hl = len(hl)\\nact_fun ='tanh'\\nloss_fun='cross-entropy'\\neta=0.01\\nalpha=0\\nstrat='xavier'\\nepochs=1\\nbatch = 32\\nnadam(train_x,train_y,valid_x,valid_y,d,hl,ol,act_fun,loss_fun,epochs,eta,strat,alpha,batch)\""
            ]
          },
          "metadata": {},
          "execution_count": 26
        }
      ]
    },
    {
      "cell_type": "markdown",
      "source": [
        "#Sweep Configuration"
      ],
      "metadata": {
        "id": "s-4XOBBxTf2J"
      }
    },
    {
      "cell_type": "code",
      "source": [
        "sweep_config_temp={\n",
        "  \"name\": \"BEST_MODEL_3\",\n",
        "  \"method\": \"grid\",\n",
        "  \"early_terminate\":{\n",
        "      \"type\": \"hyperband\",\n",
        "      \"min_iter\": 3\n",
        "  },\n",
        "  \"metric\": {\n",
        "      \"name\": \"Valid Acc\",\n",
        "      \"goal\": \"maximize\"   \n",
        "    },\n",
        "  \"parameters\": {\n",
        "        \"epochs\": {\n",
        "            \"values\": [5]\n",
        "        },\n",
        "        \"hidden_layers\":{\n",
        "            \"values\":[5]\n",
        "        },\n",
        "        \"hidden_layer_size\":{\n",
        "            \"values\":[128]  \n",
        "        },\n",
        "        \"eta\":{\n",
        "            \"values\":[0.001]\n",
        "        },\n",
        "        \"optimizer\":{\n",
        "            \"values\":['rmsprop']\n",
        "        },\n",
        "        \"batch_size\": {\n",
        "            \"values\": [32]\n",
        "        },\n",
        "        \"alpha\":{\n",
        "            \"values\":[0]\n",
        "        },\n",
        "        \"strat\":{\n",
        "            \"values\":['xavier']\n",
        "        },\n",
        "        \"act_fun\":{\n",
        "            \"values\":['relu']\n",
        "        }\n",
        "    }\n",
        "}"
      ],
      "metadata": {
        "id": "6HnGUDdETjN8"
      },
      "execution_count": 109,
      "outputs": []
    },
    {
      "cell_type": "markdown",
      "source": [
        "#Training function to call specified Optimizer"
      ],
      "metadata": {
        "id": "FQDfvTCyTlt-"
      }
    },
    {
      "cell_type": "code",
      "source": [
        "def helper(W , b , train_x , train_y , valid_x , valid_y , d ,hl , ol , config , loss_fun):\n",
        "\n",
        "  test_acc_ce , test_loss_ce , ytrue , ypred = get_predictions_accuracy(W, b, test_x, test_y, config.act_fun, loss_fun[0])\n",
        "\n",
        "  cmat = get_confusion_matrix(ytrue , ypred , labels , figsize=(20,20))\n",
        "\n",
        "  if len(loss_fun)==1:\n",
        "    wandb.log({\n",
        "        \"test_acc\" : test_acc_ce,\n",
        "        \"test_loss\" : test_loss_ce,\n",
        "        \"Confusion_Matrix\": cmat  \n",
        "        })\n",
        "  else:\n",
        "    W , b = second(train_x , train_y , valid_x , valid_y , d ,hl , ol , config , loss_fun[1])\n",
        "    test_acc_sq , test_loss_sq , ytrue_sq , ypred_sq = get_predictions_accuracy(W, b, test_x, test_y, config.act_fun, loss_fun[1])\n",
        "    wandb.log({\n",
        "        \"test_acc\" : test_acc_ce,\n",
        "        \"test_loss\" : test_loss_ce,\n",
        "        \"test_acc (squared error)\" : test_acc_sq,\n",
        "        \"test_loss (squared error)\" : test_loss_sq,\n",
        "        \"Confusion_Matrix\": cmat\n",
        "        })"
      ],
      "metadata": {
        "id": "fkma8-3RqQ-_"
      },
      "execution_count": 97,
      "outputs": []
    },
    {
      "cell_type": "code",
      "source": [
        "def second(train_x , train_y , valid_x , valid_y , d ,hl , ol , config , loss_fun):\n",
        "\n",
        "  act_fun = config.act_fun\n",
        "  epochs = config.epochs\n",
        "  strat = config.strat\n",
        "  alpha = config.alpha\n",
        "  eta = config.eta\n",
        "  batch_size = config.batch_size\n",
        "  optimizer = config.optimizer\n",
        "\n",
        "  if optimizer == 'sgd':\n",
        "    W , b = stochastic_gradient_descent( train_x , train_y , valid_x , valid_y , d , hl , ol , act_fun , loss_fun , epochs , eta , strat , alpha , batch_size)\n",
        "\n",
        "  elif optimizer == 'rmsprop':\n",
        "    W , b = rmsprop( train_x , train_y , valid_x , valid_y , d , hl , ol , act_fun , loss_fun , epochs , eta , strat , alpha , batch_size)\n",
        "\n",
        "  elif optimizer == 'mgd':\n",
        "    W , b = momentum_gradient_descent( train_x , train_y , valid_x , valid_y , d , hl , ol , act_fun , loss_fun , epochs , eta , strat , alpha , batch_size)\n",
        "  \n",
        "  elif optimizer == 'nag':\n",
        "    W , b = nesterov_gradient_descent( train_x , train_y , valid_x , valid_y , d , hl , ol , act_fun , loss_fun , epochs , eta , strat , alpha , batch_size)\n",
        "  \n",
        "  elif optimizer == 'adam':\n",
        "    W , b = adaptive_moments( train_x , train_y , valid_x , valid_y , d , hl , ol , act_fun , loss_fun , epochs , eta , strat , alpha , batch_size)\n",
        "\n",
        "  elif optimizer == 'nadam':\n",
        "    W , b = nadam( train_x , train_y , valid_x , valid_y , d , hl , ol , act_fun , loss_fun , epochs , eta , strat , alpha , batch_size)\n",
        "\n",
        "  return W,b"
      ],
      "metadata": {
        "id": "lyrZVhaeso1u"
      },
      "execution_count": 98,
      "outputs": []
    },
    {
      "cell_type": "code",
      "source": [
        "def train():\n",
        "  run=wandb.init()\n",
        "  config = wandb.config\n",
        "\n",
        "  loss_fun=[\"cross_entropy\",\"squared_error\"]\n",
        "\n",
        "  hl = [config.hidden_layer_size]*config.hidden_layers\n",
        "  ol = [len(train_y[0])]\n",
        "\n",
        "  name = \"hl_\" + str(config.hidden_layers) + \"_bs_\" + str(config.batch_size) + \"_ac_\" + config.act_fun\n",
        "  run.name = name\n",
        "\n",
        "  W,b = second(train_x , train_y , valid_x , valid_y , d ,hl , ol , config , loss_fun[0])\n",
        "  helper(W , b , train_x , train_y , valid_x , valid_y , d ,hl , ol , config , loss_fun)\n",
        "  #Showing one image of each class (Question - 1)\n",
        "  show_images(train_images , train_labels , labels)\n",
        "  run.finish()"
      ],
      "metadata": {
        "id": "fiT72DwmvD-c"
      },
      "execution_count": 99,
      "outputs": []
    },
    {
      "cell_type": "markdown",
      "source": [
        "#Training"
      ],
      "metadata": {
        "id": "X_WLZGtLTw0s"
      }
    },
    {
      "cell_type": "code",
      "source": [
        "sweep_id = wandb.sweep(sweep_config_temp, entity=\"cs21m027_cs21m011\", project=\"DL_ASG_1_final\")"
      ],
      "metadata": {
        "id": "4OPrOA_8vED1",
        "colab": {
          "base_uri": "https://localhost:8080/"
        },
        "outputId": "6297d759-17bc-4c4c-d392-fd108c188e59"
      },
      "execution_count": 110,
      "outputs": [
        {
          "output_type": "stream",
          "name": "stdout",
          "text": [
            "Create sweep with ID: mdyni5d1\n",
            "Sweep URL: https://wandb.ai/cs21m027_cs21m011/DL_ASG_1_final/sweeps/mdyni5d1\n"
          ]
        }
      ]
    },
    {
      "cell_type": "markdown",
      "source": [
        "#BEST_MODEL_1_NADAM"
      ],
      "metadata": {
        "id": "kdlm_S-Q0iO1"
      }
    },
    {
      "cell_type": "code",
      "source": [
        "wandb.agent(sweep_id, train)"
      ],
      "metadata": {
        "colab": {
          "base_uri": "https://localhost:8080/",
          "height": 1000,
          "referenced_widgets": [
            "3105ee50380f4f3d9b22626e26646817",
            "54bd12725a02445dabda06ca0905f991",
            "546943bb173a4b44ba9cb5e9b3ac02a5",
            "f613562695954e4bad3fd7315bc5ca93",
            "f180cdee2eb6422ab079fcfed696137b",
            "c359e1c6a9db4cf7b010b33a23727c57",
            "8949012bcbd740ae981932134ea7804a",
            "b3933bae98f94b6a8f25fefab941352a"
          ]
        },
        "id": "ceIkf_3u0g95",
        "outputId": "e043d682-7b56-4104-c6b3-fd7e6e1ffef1"
      },
      "execution_count": 94,
      "outputs": [
        {
          "output_type": "stream",
          "name": "stderr",
          "text": [
            "\u001b[34m\u001b[1mwandb\u001b[0m: Agent Starting Run: n44nhk5e with config:\n",
            "\u001b[34m\u001b[1mwandb\u001b[0m: \tact_fun: relu\n",
            "\u001b[34m\u001b[1mwandb\u001b[0m: \talpha: 0\n",
            "\u001b[34m\u001b[1mwandb\u001b[0m: \tbatch_size: 64\n",
            "\u001b[34m\u001b[1mwandb\u001b[0m: \tepochs: 5\n",
            "\u001b[34m\u001b[1mwandb\u001b[0m: \teta: 0.001\n",
            "\u001b[34m\u001b[1mwandb\u001b[0m: \thidden_layer_size: 128\n",
            "\u001b[34m\u001b[1mwandb\u001b[0m: \thidden_layers: 2\n",
            "\u001b[34m\u001b[1mwandb\u001b[0m: \toptimizer: nadam\n",
            "\u001b[34m\u001b[1mwandb\u001b[0m: \tstrat: xavier\n"
          ]
        },
        {
          "output_type": "display_data",
          "data": {
            "text/html": [
              "\n",
              "                    Syncing run <strong><a href=\"https://wandb.ai/cs21m027_cs21m011/DL_ASG_1_final/runs/n44nhk5e\" target=\"_blank\">helpful-sweep-1</a></strong> to <a href=\"https://wandb.ai/cs21m027_cs21m011/DL_ASG_1_final\" target=\"_blank\">Weights & Biases</a> (<a href=\"https://docs.wandb.com/integrations/jupyter.html\" target=\"_blank\">docs</a>).<br/>\n",
              "Sweep page: <a href=\"https://wandb.ai/cs21m027_cs21m011/DL_ASG_1_final/sweeps/4f7cxdug\" target=\"_blank\">https://wandb.ai/cs21m027_cs21m011/DL_ASG_1_final/sweeps/4f7cxdug</a><br/>\n",
              "\n",
              "                "
            ],
            "text/plain": [
              "<IPython.core.display.HTML object>"
            ]
          },
          "metadata": {}
        },
        {
          "output_type": "stream",
          "name": "stdout",
          "text": [
            "epoch: 1  cross_entropy  train_acc : 0.8720555555555556 valid_acc : 0.876 test_acc : 0.8591\n",
            "epoch: 2  cross_entropy  train_acc : 0.8876666666666667 valid_acc : 0.8853333333333333 test_acc : 0.8669\n",
            "epoch: 3  cross_entropy  train_acc : 0.8974074074074074 valid_acc : 0.8901666666666667 test_acc : 0.869\n",
            "epoch: 4  cross_entropy  train_acc : 0.9047592592592593 valid_acc : 0.8921666666666667 test_acc : 0.8742\n",
            "epoch: 5  cross_entropy  train_acc : 0.9093333333333333 valid_acc : 0.8936666666666667 test_acc : 0.8755\n"
          ]
        },
        {
          "output_type": "display_data",
          "data": {
            "text/html": [
              "<html>\n",
              "<head><meta charset=\"utf-8\" /></head>\n",
              "<body>\n",
              "    <div>            <script src=\"https://cdnjs.cloudflare.com/ajax/libs/mathjax/2.7.5/MathJax.js?config=TeX-AMS-MML_SVG\"></script><script type=\"text/javascript\">if (window.MathJax) {MathJax.Hub.Config({SVG: {font: \"STIX-Web\"}});}</script>                <script type=\"text/javascript\">window.PlotlyConfig = {MathJaxConfig: 'local'};</script>\n",
              "        <script src=\"https://cdn.plot.ly/plotly-2.8.3.min.js\"></script>                <div id=\"9932b540-a546-432f-8637-e96617cce082\" class=\"plotly-graph-div\" style=\"height:525px; width:100%;\"></div>            <script type=\"text/javascript\">                                    window.PLOTLYENV=window.PLOTLYENV || {};                                    if (document.getElementById(\"9932b540-a546-432f-8637-e96617cce082\")) {                    Plotly.newPlot(                        \"9932b540-a546-432f-8637-e96617cce082\",                        [{\"colorscale\":[[0.0,\"rgb(29, 79, 96)\"],[0.16666666666666666,\"rgb(38, 107, 110)\"],[0.3333333333333333,\"rgb(54, 135, 122)\"],[0.5,\"rgb(77, 162, 132)\"],[0.6666666666666666,\"rgb(109, 188, 144)\"],[0.8333333333333334,\"rgb(150, 210, 164)\"],[1.0,\"rgb(196, 230, 195)\"]],\"hoverinfo\":\"text\",\"reversescale\":false,\"showscale\":true,\"text\":[[\"865 T-shirt/Top are correctly classified\",\"1 T-shirt/Top are wrongly classified as Trouser\",\"9 T-shirt/Top are wrongly classified as Pullover\",\"11 T-shirt/Top are wrongly classified as Dress\",\"3 T-shirt/Top are wrongly classified as Coat\",\"1 T-shirt/Top are wrongly classified as Sandal\",\"105 T-shirt/Top are wrongly classified as Shirt\",\"\",\"5 T-shirt/Top are wrongly classified as Bag\",\"\"],[\"9 Trouser are wrongly classified as T-shirt/Top\",\"958 Trouser are correctly classified\",\"\",\"27 Trouser are wrongly classified as Dress\",\"3 Trouser are wrongly classified as Coat\",\"\",\"2 Trouser are wrongly classified as Shirt\",\"\",\"1 Trouser are wrongly classified as Bag\",\"\"],[\"19 Pullover are wrongly classified as T-shirt/Top\",\"1 Pullover are wrongly classified as Trouser\",\"750 Pullover are correctly classified\",\"15 Pullover are wrongly classified as Dress\",\"84 Pullover are wrongly classified as Coat\",\"\",\"131 Pullover are wrongly classified as Shirt\",\"\",\"\",\"\"],[\"63 Dress are wrongly classified as T-shirt/Top\",\"2 Dress are wrongly classified as Trouser\",\"8 Dress are wrongly classified as Pullover\",\"861 Dress are correctly classified\",\"36 Dress are wrongly classified as Coat\",\"\",\"26 Dress are wrongly classified as Shirt\",\"\",\"4 Dress are wrongly classified as Bag\",\"\"],[\"3 Coat are wrongly classified as T-shirt/Top\",\"\",\"78 Coat are wrongly classified as Pullover\",\"28 Coat are wrongly classified as Dress\",\"789 Coat are correctly classified\",\"1 Coat are wrongly classified as Sandal\",\"99 Coat are wrongly classified as Shirt\",\"\",\"2 Coat are wrongly classified as Bag\",\"\"],[\"\",\"\",\"\",\"1 Sandal are wrongly classified as Dress\",\"\",\"970 Sandal are correctly classified\",\"\",\"11 Sandal are wrongly classified as Sneaker\",\"2 Sandal are wrongly classified as Bag\",\"16 Sandal are wrongly classified as Ankle Boot\"],[\"129 Shirt are wrongly classified as T-shirt/Top\",\"\",\"38 Shirt are wrongly classified as Pullover\",\"27 Shirt are wrongly classified as Dress\",\"59 Shirt are wrongly classified as Coat\",\"\",\"737 Shirt are correctly classified\",\"\",\"10 Shirt are wrongly classified as Bag\",\"\"],[\"\",\"\",\"\",\"\",\"\",\"66 Sneaker are wrongly classified as Sandal\",\"\",\"900 Sneaker are correctly classified\",\"2 Sneaker are wrongly classified as Bag\",\"32 Sneaker are wrongly classified as Ankle Boot\"],[\"6 Bag are wrongly classified as T-shirt/Top\",\"\",\"2 Bag are wrongly classified as Pullover\",\"5 Bag are wrongly classified as Dress\",\"3 Bag are wrongly classified as Coat\",\"6 Bag are wrongly classified as Sandal\",\"9 Bag are wrongly classified as Shirt\",\"2 Bag are wrongly classified as Sneaker\",\"967 Bag are correctly classified\",\"\"],[\"\",\"\",\"\",\"\",\"\",\"11 Ankle Boot are wrongly classified as Sandal\",\"1 Ankle Boot are wrongly classified as Shirt\",\"30 Ankle Boot are wrongly classified as Sneaker\",\"\",\"958 Ankle Boot are correctly classified\"]],\"x\":[\"T-shirt/Top\",\"Trouser\",\"Pullover\",\"Dress\",\"Coat\",\"Sandal\",\"Shirt\",\"Sneaker\",\"Bag\",\"Ankle Boot\"],\"y\":[\"T-shirt/Top\",\"Trouser\",\"Pullover\",\"Dress\",\"Coat\",\"Sandal\",\"Shirt\",\"Sneaker\",\"Bag\",\"Ankle Boot\"],\"z\":[[865,1,9,11,3,1,105,0,5,0],[9,958,0,27,3,0,2,0,1,0],[19,1,750,15,84,0,131,0,0,0],[63,2,8,861,36,0,26,0,4,0],[3,0,78,28,789,1,99,0,2,0],[0,0,0,1,0,970,0,11,2,16],[129,0,38,27,59,0,737,0,10,0],[0,0,0,0,0,66,0,900,2,32],[6,0,2,5,3,6,9,2,967,0],[0,0,0,0,0,11,1,30,0,958]],\"type\":\"heatmap\"}],                        {\"annotations\":[{\"font\":{\"color\":\"#000000\",\"size\":14},\"showarrow\":false,\"text\":\"86.5% <br> 865/1000\",\"x\":\"T-shirt/Top\",\"xref\":\"x\",\"y\":\"T-shirt/Top\",\"yref\":\"y\"},{\"font\":{\"color\":\"#FFFFFF\",\"size\":14},\"showarrow\":false,\"text\":\"0.1% <br> 1\",\"x\":\"Trouser\",\"xref\":\"x\",\"y\":\"T-shirt/Top\",\"yref\":\"y\"},{\"font\":{\"color\":\"#FFFFFF\",\"size\":14},\"showarrow\":false,\"text\":\"0.9% <br> 9\",\"x\":\"Pullover\",\"xref\":\"x\",\"y\":\"T-shirt/Top\",\"yref\":\"y\"},{\"font\":{\"color\":\"#FFFFFF\",\"size\":14},\"showarrow\":false,\"text\":\"1.1% <br> 11\",\"x\":\"Dress\",\"xref\":\"x\",\"y\":\"T-shirt/Top\",\"yref\":\"y\"},{\"font\":{\"color\":\"#FFFFFF\",\"size\":14},\"showarrow\":false,\"text\":\"0.3% <br> 3\",\"x\":\"Coat\",\"xref\":\"x\",\"y\":\"T-shirt/Top\",\"yref\":\"y\"},{\"font\":{\"color\":\"#FFFFFF\",\"size\":14},\"showarrow\":false,\"text\":\"0.1% <br> 1\",\"x\":\"Sandal\",\"xref\":\"x\",\"y\":\"T-shirt/Top\",\"yref\":\"y\"},{\"font\":{\"color\":\"#FFFFFF\",\"size\":14},\"showarrow\":false,\"text\":\"10.5% <br> 105\",\"x\":\"Shirt\",\"xref\":\"x\",\"y\":\"T-shirt/Top\",\"yref\":\"y\"},{\"font\":{\"color\":\"#FFFFFF\",\"size\":14},\"showarrow\":false,\"text\":\"\",\"x\":\"Sneaker\",\"xref\":\"x\",\"y\":\"T-shirt/Top\",\"yref\":\"y\"},{\"font\":{\"color\":\"#FFFFFF\",\"size\":14},\"showarrow\":false,\"text\":\"0.5% <br> 5\",\"x\":\"Bag\",\"xref\":\"x\",\"y\":\"T-shirt/Top\",\"yref\":\"y\"},{\"font\":{\"color\":\"#FFFFFF\",\"size\":14},\"showarrow\":false,\"text\":\"\",\"x\":\"Ankle Boot\",\"xref\":\"x\",\"y\":\"T-shirt/Top\",\"yref\":\"y\"},{\"font\":{\"color\":\"#FFFFFF\",\"size\":14},\"showarrow\":false,\"text\":\"0.9% <br> 9\",\"x\":\"T-shirt/Top\",\"xref\":\"x\",\"y\":\"Trouser\",\"yref\":\"y\"},{\"font\":{\"color\":\"#000000\",\"size\":14},\"showarrow\":false,\"text\":\"95.8% <br> 958/1000\",\"x\":\"Trouser\",\"xref\":\"x\",\"y\":\"Trouser\",\"yref\":\"y\"},{\"font\":{\"color\":\"#FFFFFF\",\"size\":14},\"showarrow\":false,\"text\":\"\",\"x\":\"Pullover\",\"xref\":\"x\",\"y\":\"Trouser\",\"yref\":\"y\"},{\"font\":{\"color\":\"#FFFFFF\",\"size\":14},\"showarrow\":false,\"text\":\"2.7% <br> 27\",\"x\":\"Dress\",\"xref\":\"x\",\"y\":\"Trouser\",\"yref\":\"y\"},{\"font\":{\"color\":\"#FFFFFF\",\"size\":14},\"showarrow\":false,\"text\":\"0.3% <br> 3\",\"x\":\"Coat\",\"xref\":\"x\",\"y\":\"Trouser\",\"yref\":\"y\"},{\"font\":{\"color\":\"#FFFFFF\",\"size\":14},\"showarrow\":false,\"text\":\"\",\"x\":\"Sandal\",\"xref\":\"x\",\"y\":\"Trouser\",\"yref\":\"y\"},{\"font\":{\"color\":\"#FFFFFF\",\"size\":14},\"showarrow\":false,\"text\":\"0.2% <br> 2\",\"x\":\"Shirt\",\"xref\":\"x\",\"y\":\"Trouser\",\"yref\":\"y\"},{\"font\":{\"color\":\"#FFFFFF\",\"size\":14},\"showarrow\":false,\"text\":\"\",\"x\":\"Sneaker\",\"xref\":\"x\",\"y\":\"Trouser\",\"yref\":\"y\"},{\"font\":{\"color\":\"#FFFFFF\",\"size\":14},\"showarrow\":false,\"text\":\"0.1% <br> 1\",\"x\":\"Bag\",\"xref\":\"x\",\"y\":\"Trouser\",\"yref\":\"y\"},{\"font\":{\"color\":\"#FFFFFF\",\"size\":14},\"showarrow\":false,\"text\":\"\",\"x\":\"Ankle Boot\",\"xref\":\"x\",\"y\":\"Trouser\",\"yref\":\"y\"},{\"font\":{\"color\":\"#FFFFFF\",\"size\":14},\"showarrow\":false,\"text\":\"1.9% <br> 19\",\"x\":\"T-shirt/Top\",\"xref\":\"x\",\"y\":\"Pullover\",\"yref\":\"y\"},{\"font\":{\"color\":\"#FFFFFF\",\"size\":14},\"showarrow\":false,\"text\":\"0.1% <br> 1\",\"x\":\"Trouser\",\"xref\":\"x\",\"y\":\"Pullover\",\"yref\":\"y\"},{\"font\":{\"color\":\"#000000\",\"size\":14},\"showarrow\":false,\"text\":\"75.0% <br> 750/1000\",\"x\":\"Pullover\",\"xref\":\"x\",\"y\":\"Pullover\",\"yref\":\"y\"},{\"font\":{\"color\":\"#FFFFFF\",\"size\":14},\"showarrow\":false,\"text\":\"1.5% <br> 15\",\"x\":\"Dress\",\"xref\":\"x\",\"y\":\"Pullover\",\"yref\":\"y\"},{\"font\":{\"color\":\"#FFFFFF\",\"size\":14},\"showarrow\":false,\"text\":\"8.4% <br> 84\",\"x\":\"Coat\",\"xref\":\"x\",\"y\":\"Pullover\",\"yref\":\"y\"},{\"font\":{\"color\":\"#FFFFFF\",\"size\":14},\"showarrow\":false,\"text\":\"\",\"x\":\"Sandal\",\"xref\":\"x\",\"y\":\"Pullover\",\"yref\":\"y\"},{\"font\":{\"color\":\"#FFFFFF\",\"size\":14},\"showarrow\":false,\"text\":\"13.1% <br> 131\",\"x\":\"Shirt\",\"xref\":\"x\",\"y\":\"Pullover\",\"yref\":\"y\"},{\"font\":{\"color\":\"#FFFFFF\",\"size\":14},\"showarrow\":false,\"text\":\"\",\"x\":\"Sneaker\",\"xref\":\"x\",\"y\":\"Pullover\",\"yref\":\"y\"},{\"font\":{\"color\":\"#FFFFFF\",\"size\":14},\"showarrow\":false,\"text\":\"\",\"x\":\"Bag\",\"xref\":\"x\",\"y\":\"Pullover\",\"yref\":\"y\"},{\"font\":{\"color\":\"#FFFFFF\",\"size\":14},\"showarrow\":false,\"text\":\"\",\"x\":\"Ankle Boot\",\"xref\":\"x\",\"y\":\"Pullover\",\"yref\":\"y\"},{\"font\":{\"color\":\"#FFFFFF\",\"size\":14},\"showarrow\":false,\"text\":\"6.3% <br> 63\",\"x\":\"T-shirt/Top\",\"xref\":\"x\",\"y\":\"Dress\",\"yref\":\"y\"},{\"font\":{\"color\":\"#FFFFFF\",\"size\":14},\"showarrow\":false,\"text\":\"0.2% <br> 2\",\"x\":\"Trouser\",\"xref\":\"x\",\"y\":\"Dress\",\"yref\":\"y\"},{\"font\":{\"color\":\"#FFFFFF\",\"size\":14},\"showarrow\":false,\"text\":\"0.8% <br> 8\",\"x\":\"Pullover\",\"xref\":\"x\",\"y\":\"Dress\",\"yref\":\"y\"},{\"font\":{\"color\":\"#000000\",\"size\":14},\"showarrow\":false,\"text\":\"86.1% <br> 861/1000\",\"x\":\"Dress\",\"xref\":\"x\",\"y\":\"Dress\",\"yref\":\"y\"},{\"font\":{\"color\":\"#FFFFFF\",\"size\":14},\"showarrow\":false,\"text\":\"3.6% <br> 36\",\"x\":\"Coat\",\"xref\":\"x\",\"y\":\"Dress\",\"yref\":\"y\"},{\"font\":{\"color\":\"#FFFFFF\",\"size\":14},\"showarrow\":false,\"text\":\"\",\"x\":\"Sandal\",\"xref\":\"x\",\"y\":\"Dress\",\"yref\":\"y\"},{\"font\":{\"color\":\"#FFFFFF\",\"size\":14},\"showarrow\":false,\"text\":\"2.6% <br> 26\",\"x\":\"Shirt\",\"xref\":\"x\",\"y\":\"Dress\",\"yref\":\"y\"},{\"font\":{\"color\":\"#FFFFFF\",\"size\":14},\"showarrow\":false,\"text\":\"\",\"x\":\"Sneaker\",\"xref\":\"x\",\"y\":\"Dress\",\"yref\":\"y\"},{\"font\":{\"color\":\"#FFFFFF\",\"size\":14},\"showarrow\":false,\"text\":\"0.4% <br> 4\",\"x\":\"Bag\",\"xref\":\"x\",\"y\":\"Dress\",\"yref\":\"y\"},{\"font\":{\"color\":\"#FFFFFF\",\"size\":14},\"showarrow\":false,\"text\":\"\",\"x\":\"Ankle Boot\",\"xref\":\"x\",\"y\":\"Dress\",\"yref\":\"y\"},{\"font\":{\"color\":\"#FFFFFF\",\"size\":14},\"showarrow\":false,\"text\":\"0.3% <br> 3\",\"x\":\"T-shirt/Top\",\"xref\":\"x\",\"y\":\"Coat\",\"yref\":\"y\"},{\"font\":{\"color\":\"#FFFFFF\",\"size\":14},\"showarrow\":false,\"text\":\"\",\"x\":\"Trouser\",\"xref\":\"x\",\"y\":\"Coat\",\"yref\":\"y\"},{\"font\":{\"color\":\"#FFFFFF\",\"size\":14},\"showarrow\":false,\"text\":\"7.8% <br> 78\",\"x\":\"Pullover\",\"xref\":\"x\",\"y\":\"Coat\",\"yref\":\"y\"},{\"font\":{\"color\":\"#FFFFFF\",\"size\":14},\"showarrow\":false,\"text\":\"2.8% <br> 28\",\"x\":\"Dress\",\"xref\":\"x\",\"y\":\"Coat\",\"yref\":\"y\"},{\"font\":{\"color\":\"#000000\",\"size\":14},\"showarrow\":false,\"text\":\"78.9% <br> 789/1000\",\"x\":\"Coat\",\"xref\":\"x\",\"y\":\"Coat\",\"yref\":\"y\"},{\"font\":{\"color\":\"#FFFFFF\",\"size\":14},\"showarrow\":false,\"text\":\"0.1% <br> 1\",\"x\":\"Sandal\",\"xref\":\"x\",\"y\":\"Coat\",\"yref\":\"y\"},{\"font\":{\"color\":\"#FFFFFF\",\"size\":14},\"showarrow\":false,\"text\":\"9.9% <br> 99\",\"x\":\"Shirt\",\"xref\":\"x\",\"y\":\"Coat\",\"yref\":\"y\"},{\"font\":{\"color\":\"#FFFFFF\",\"size\":14},\"showarrow\":false,\"text\":\"\",\"x\":\"Sneaker\",\"xref\":\"x\",\"y\":\"Coat\",\"yref\":\"y\"},{\"font\":{\"color\":\"#FFFFFF\",\"size\":14},\"showarrow\":false,\"text\":\"0.2% <br> 2\",\"x\":\"Bag\",\"xref\":\"x\",\"y\":\"Coat\",\"yref\":\"y\"},{\"font\":{\"color\":\"#FFFFFF\",\"size\":14},\"showarrow\":false,\"text\":\"\",\"x\":\"Ankle Boot\",\"xref\":\"x\",\"y\":\"Coat\",\"yref\":\"y\"},{\"font\":{\"color\":\"#FFFFFF\",\"size\":14},\"showarrow\":false,\"text\":\"\",\"x\":\"T-shirt/Top\",\"xref\":\"x\",\"y\":\"Sandal\",\"yref\":\"y\"},{\"font\":{\"color\":\"#FFFFFF\",\"size\":14},\"showarrow\":false,\"text\":\"\",\"x\":\"Trouser\",\"xref\":\"x\",\"y\":\"Sandal\",\"yref\":\"y\"},{\"font\":{\"color\":\"#FFFFFF\",\"size\":14},\"showarrow\":false,\"text\":\"\",\"x\":\"Pullover\",\"xref\":\"x\",\"y\":\"Sandal\",\"yref\":\"y\"},{\"font\":{\"color\":\"#FFFFFF\",\"size\":14},\"showarrow\":false,\"text\":\"0.1% <br> 1\",\"x\":\"Dress\",\"xref\":\"x\",\"y\":\"Sandal\",\"yref\":\"y\"},{\"font\":{\"color\":\"#FFFFFF\",\"size\":14},\"showarrow\":false,\"text\":\"\",\"x\":\"Coat\",\"xref\":\"x\",\"y\":\"Sandal\",\"yref\":\"y\"},{\"font\":{\"color\":\"#000000\",\"size\":14},\"showarrow\":false,\"text\":\"97.0% <br> 970/1000\",\"x\":\"Sandal\",\"xref\":\"x\",\"y\":\"Sandal\",\"yref\":\"y\"},{\"font\":{\"color\":\"#FFFFFF\",\"size\":14},\"showarrow\":false,\"text\":\"\",\"x\":\"Shirt\",\"xref\":\"x\",\"y\":\"Sandal\",\"yref\":\"y\"},{\"font\":{\"color\":\"#FFFFFF\",\"size\":14},\"showarrow\":false,\"text\":\"1.1% <br> 11\",\"x\":\"Sneaker\",\"xref\":\"x\",\"y\":\"Sandal\",\"yref\":\"y\"},{\"font\":{\"color\":\"#FFFFFF\",\"size\":14},\"showarrow\":false,\"text\":\"0.2% <br> 2\",\"x\":\"Bag\",\"xref\":\"x\",\"y\":\"Sandal\",\"yref\":\"y\"},{\"font\":{\"color\":\"#FFFFFF\",\"size\":14},\"showarrow\":false,\"text\":\"1.6% <br> 16\",\"x\":\"Ankle Boot\",\"xref\":\"x\",\"y\":\"Sandal\",\"yref\":\"y\"},{\"font\":{\"color\":\"#FFFFFF\",\"size\":14},\"showarrow\":false,\"text\":\"12.9% <br> 129\",\"x\":\"T-shirt/Top\",\"xref\":\"x\",\"y\":\"Shirt\",\"yref\":\"y\"},{\"font\":{\"color\":\"#FFFFFF\",\"size\":14},\"showarrow\":false,\"text\":\"\",\"x\":\"Trouser\",\"xref\":\"x\",\"y\":\"Shirt\",\"yref\":\"y\"},{\"font\":{\"color\":\"#FFFFFF\",\"size\":14},\"showarrow\":false,\"text\":\"3.8% <br> 38\",\"x\":\"Pullover\",\"xref\":\"x\",\"y\":\"Shirt\",\"yref\":\"y\"},{\"font\":{\"color\":\"#FFFFFF\",\"size\":14},\"showarrow\":false,\"text\":\"2.7% <br> 27\",\"x\":\"Dress\",\"xref\":\"x\",\"y\":\"Shirt\",\"yref\":\"y\"},{\"font\":{\"color\":\"#FFFFFF\",\"size\":14},\"showarrow\":false,\"text\":\"5.9% <br> 59\",\"x\":\"Coat\",\"xref\":\"x\",\"y\":\"Shirt\",\"yref\":\"y\"},{\"font\":{\"color\":\"#FFFFFF\",\"size\":14},\"showarrow\":false,\"text\":\"\",\"x\":\"Sandal\",\"xref\":\"x\",\"y\":\"Shirt\",\"yref\":\"y\"},{\"font\":{\"color\":\"#000000\",\"size\":14},\"showarrow\":false,\"text\":\"73.7% <br> 737/1000\",\"x\":\"Shirt\",\"xref\":\"x\",\"y\":\"Shirt\",\"yref\":\"y\"},{\"font\":{\"color\":\"#FFFFFF\",\"size\":14},\"showarrow\":false,\"text\":\"\",\"x\":\"Sneaker\",\"xref\":\"x\",\"y\":\"Shirt\",\"yref\":\"y\"},{\"font\":{\"color\":\"#FFFFFF\",\"size\":14},\"showarrow\":false,\"text\":\"1.0% <br> 10\",\"x\":\"Bag\",\"xref\":\"x\",\"y\":\"Shirt\",\"yref\":\"y\"},{\"font\":{\"color\":\"#FFFFFF\",\"size\":14},\"showarrow\":false,\"text\":\"\",\"x\":\"Ankle Boot\",\"xref\":\"x\",\"y\":\"Shirt\",\"yref\":\"y\"},{\"font\":{\"color\":\"#FFFFFF\",\"size\":14},\"showarrow\":false,\"text\":\"\",\"x\":\"T-shirt/Top\",\"xref\":\"x\",\"y\":\"Sneaker\",\"yref\":\"y\"},{\"font\":{\"color\":\"#FFFFFF\",\"size\":14},\"showarrow\":false,\"text\":\"\",\"x\":\"Trouser\",\"xref\":\"x\",\"y\":\"Sneaker\",\"yref\":\"y\"},{\"font\":{\"color\":\"#FFFFFF\",\"size\":14},\"showarrow\":false,\"text\":\"\",\"x\":\"Pullover\",\"xref\":\"x\",\"y\":\"Sneaker\",\"yref\":\"y\"},{\"font\":{\"color\":\"#FFFFFF\",\"size\":14},\"showarrow\":false,\"text\":\"\",\"x\":\"Dress\",\"xref\":\"x\",\"y\":\"Sneaker\",\"yref\":\"y\"},{\"font\":{\"color\":\"#FFFFFF\",\"size\":14},\"showarrow\":false,\"text\":\"\",\"x\":\"Coat\",\"xref\":\"x\",\"y\":\"Sneaker\",\"yref\":\"y\"},{\"font\":{\"color\":\"#FFFFFF\",\"size\":14},\"showarrow\":false,\"text\":\"6.6% <br> 66\",\"x\":\"Sandal\",\"xref\":\"x\",\"y\":\"Sneaker\",\"yref\":\"y\"},{\"font\":{\"color\":\"#FFFFFF\",\"size\":14},\"showarrow\":false,\"text\":\"\",\"x\":\"Shirt\",\"xref\":\"x\",\"y\":\"Sneaker\",\"yref\":\"y\"},{\"font\":{\"color\":\"#000000\",\"size\":14},\"showarrow\":false,\"text\":\"90.0% <br> 900/1000\",\"x\":\"Sneaker\",\"xref\":\"x\",\"y\":\"Sneaker\",\"yref\":\"y\"},{\"font\":{\"color\":\"#FFFFFF\",\"size\":14},\"showarrow\":false,\"text\":\"0.2% <br> 2\",\"x\":\"Bag\",\"xref\":\"x\",\"y\":\"Sneaker\",\"yref\":\"y\"},{\"font\":{\"color\":\"#FFFFFF\",\"size\":14},\"showarrow\":false,\"text\":\"3.2% <br> 32\",\"x\":\"Ankle Boot\",\"xref\":\"x\",\"y\":\"Sneaker\",\"yref\":\"y\"},{\"font\":{\"color\":\"#FFFFFF\",\"size\":14},\"showarrow\":false,\"text\":\"0.6% <br> 6\",\"x\":\"T-shirt/Top\",\"xref\":\"x\",\"y\":\"Bag\",\"yref\":\"y\"},{\"font\":{\"color\":\"#FFFFFF\",\"size\":14},\"showarrow\":false,\"text\":\"\",\"x\":\"Trouser\",\"xref\":\"x\",\"y\":\"Bag\",\"yref\":\"y\"},{\"font\":{\"color\":\"#FFFFFF\",\"size\":14},\"showarrow\":false,\"text\":\"0.2% <br> 2\",\"x\":\"Pullover\",\"xref\":\"x\",\"y\":\"Bag\",\"yref\":\"y\"},{\"font\":{\"color\":\"#FFFFFF\",\"size\":14},\"showarrow\":false,\"text\":\"0.5% <br> 5\",\"x\":\"Dress\",\"xref\":\"x\",\"y\":\"Bag\",\"yref\":\"y\"},{\"font\":{\"color\":\"#FFFFFF\",\"size\":14},\"showarrow\":false,\"text\":\"0.3% <br> 3\",\"x\":\"Coat\",\"xref\":\"x\",\"y\":\"Bag\",\"yref\":\"y\"},{\"font\":{\"color\":\"#FFFFFF\",\"size\":14},\"showarrow\":false,\"text\":\"0.6% <br> 6\",\"x\":\"Sandal\",\"xref\":\"x\",\"y\":\"Bag\",\"yref\":\"y\"},{\"font\":{\"color\":\"#FFFFFF\",\"size\":14},\"showarrow\":false,\"text\":\"0.9% <br> 9\",\"x\":\"Shirt\",\"xref\":\"x\",\"y\":\"Bag\",\"yref\":\"y\"},{\"font\":{\"color\":\"#FFFFFF\",\"size\":14},\"showarrow\":false,\"text\":\"0.2% <br> 2\",\"x\":\"Sneaker\",\"xref\":\"x\",\"y\":\"Bag\",\"yref\":\"y\"},{\"font\":{\"color\":\"#000000\",\"size\":14},\"showarrow\":false,\"text\":\"96.7% <br> 967/1000\",\"x\":\"Bag\",\"xref\":\"x\",\"y\":\"Bag\",\"yref\":\"y\"},{\"font\":{\"color\":\"#FFFFFF\",\"size\":14},\"showarrow\":false,\"text\":\"\",\"x\":\"Ankle Boot\",\"xref\":\"x\",\"y\":\"Bag\",\"yref\":\"y\"},{\"font\":{\"color\":\"#FFFFFF\",\"size\":14},\"showarrow\":false,\"text\":\"\",\"x\":\"T-shirt/Top\",\"xref\":\"x\",\"y\":\"Ankle Boot\",\"yref\":\"y\"},{\"font\":{\"color\":\"#FFFFFF\",\"size\":14},\"showarrow\":false,\"text\":\"\",\"x\":\"Trouser\",\"xref\":\"x\",\"y\":\"Ankle Boot\",\"yref\":\"y\"},{\"font\":{\"color\":\"#FFFFFF\",\"size\":14},\"showarrow\":false,\"text\":\"\",\"x\":\"Pullover\",\"xref\":\"x\",\"y\":\"Ankle Boot\",\"yref\":\"y\"},{\"font\":{\"color\":\"#FFFFFF\",\"size\":14},\"showarrow\":false,\"text\":\"\",\"x\":\"Dress\",\"xref\":\"x\",\"y\":\"Ankle Boot\",\"yref\":\"y\"},{\"font\":{\"color\":\"#FFFFFF\",\"size\":14},\"showarrow\":false,\"text\":\"\",\"x\":\"Coat\",\"xref\":\"x\",\"y\":\"Ankle Boot\",\"yref\":\"y\"},{\"font\":{\"color\":\"#FFFFFF\",\"size\":14},\"showarrow\":false,\"text\":\"1.1% <br> 11\",\"x\":\"Sandal\",\"xref\":\"x\",\"y\":\"Ankle Boot\",\"yref\":\"y\"},{\"font\":{\"color\":\"#FFFFFF\",\"size\":14},\"showarrow\":false,\"text\":\"0.1% <br> 1\",\"x\":\"Shirt\",\"xref\":\"x\",\"y\":\"Ankle Boot\",\"yref\":\"y\"},{\"font\":{\"color\":\"#FFFFFF\",\"size\":14},\"showarrow\":false,\"text\":\"3.0% <br> 30\",\"x\":\"Sneaker\",\"xref\":\"x\",\"y\":\"Ankle Boot\",\"yref\":\"y\"},{\"font\":{\"color\":\"#FFFFFF\",\"size\":14},\"showarrow\":false,\"text\":\"\",\"x\":\"Bag\",\"xref\":\"x\",\"y\":\"Ankle Boot\",\"yref\":\"y\"},{\"font\":{\"color\":\"#000000\",\"size\":14},\"showarrow\":false,\"text\":\"95.8% <br> 958/1000\",\"x\":\"Ankle Boot\",\"xref\":\"x\",\"y\":\"Ankle Boot\",\"yref\":\"y\"},{\"font\":{\"color\":\"black\",\"size\":14},\"showarrow\":false,\"text\":\"Predicted value\",\"x\":0.5,\"xref\":\"paper\",\"y\":-0.15,\"yref\":\"paper\"},{\"font\":{\"color\":\"black\",\"size\":14},\"showarrow\":false,\"text\":\"Real value\",\"textangle\":-90,\"x\":-0.35,\"xref\":\"paper\",\"y\":0.5,\"yref\":\"paper\"}],\"xaxis\":{\"dtick\":1,\"gridcolor\":\"rgb(0, 0, 0)\",\"side\":\"top\",\"ticks\":\"\"},\"yaxis\":{\"dtick\":1,\"ticks\":\"\",\"ticksuffix\":\"  \",\"autorange\":\"reversed\"},\"template\":{\"data\":{\"bar\":[{\"error_x\":{\"color\":\"#2a3f5f\"},\"error_y\":{\"color\":\"#2a3f5f\"},\"marker\":{\"line\":{\"color\":\"#E5ECF6\",\"width\":0.5},\"pattern\":{\"fillmode\":\"overlay\",\"size\":10,\"solidity\":0.2}},\"type\":\"bar\"}],\"barpolar\":[{\"marker\":{\"line\":{\"color\":\"#E5ECF6\",\"width\":0.5},\"pattern\":{\"fillmode\":\"overlay\",\"size\":10,\"solidity\":0.2}},\"type\":\"barpolar\"}],\"carpet\":[{\"aaxis\":{\"endlinecolor\":\"#2a3f5f\",\"gridcolor\":\"white\",\"linecolor\":\"white\",\"minorgridcolor\":\"white\",\"startlinecolor\":\"#2a3f5f\"},\"baxis\":{\"endlinecolor\":\"#2a3f5f\",\"gridcolor\":\"white\",\"linecolor\":\"white\",\"minorgridcolor\":\"white\",\"startlinecolor\":\"#2a3f5f\"},\"type\":\"carpet\"}],\"choropleth\":[{\"colorbar\":{\"outlinewidth\":0,\"ticks\":\"\"},\"type\":\"choropleth\"}],\"contour\":[{\"colorbar\":{\"outlinewidth\":0,\"ticks\":\"\"},\"colorscale\":[[0.0,\"#0d0887\"],[0.1111111111111111,\"#46039f\"],[0.2222222222222222,\"#7201a8\"],[0.3333333333333333,\"#9c179e\"],[0.4444444444444444,\"#bd3786\"],[0.5555555555555556,\"#d8576b\"],[0.6666666666666666,\"#ed7953\"],[0.7777777777777778,\"#fb9f3a\"],[0.8888888888888888,\"#fdca26\"],[1.0,\"#f0f921\"]],\"type\":\"contour\"}],\"contourcarpet\":[{\"colorbar\":{\"outlinewidth\":0,\"ticks\":\"\"},\"type\":\"contourcarpet\"}],\"heatmap\":[{\"colorbar\":{\"outlinewidth\":0,\"ticks\":\"\"},\"colorscale\":[[0.0,\"#0d0887\"],[0.1111111111111111,\"#46039f\"],[0.2222222222222222,\"#7201a8\"],[0.3333333333333333,\"#9c179e\"],[0.4444444444444444,\"#bd3786\"],[0.5555555555555556,\"#d8576b\"],[0.6666666666666666,\"#ed7953\"],[0.7777777777777778,\"#fb9f3a\"],[0.8888888888888888,\"#fdca26\"],[1.0,\"#f0f921\"]],\"type\":\"heatmap\"}],\"heatmapgl\":[{\"colorbar\":{\"outlinewidth\":0,\"ticks\":\"\"},\"colorscale\":[[0.0,\"#0d0887\"],[0.1111111111111111,\"#46039f\"],[0.2222222222222222,\"#7201a8\"],[0.3333333333333333,\"#9c179e\"],[0.4444444444444444,\"#bd3786\"],[0.5555555555555556,\"#d8576b\"],[0.6666666666666666,\"#ed7953\"],[0.7777777777777778,\"#fb9f3a\"],[0.8888888888888888,\"#fdca26\"],[1.0,\"#f0f921\"]],\"type\":\"heatmapgl\"}],\"histogram\":[{\"marker\":{\"pattern\":{\"fillmode\":\"overlay\",\"size\":10,\"solidity\":0.2}},\"type\":\"histogram\"}],\"histogram2d\":[{\"colorbar\":{\"outlinewidth\":0,\"ticks\":\"\"},\"colorscale\":[[0.0,\"#0d0887\"],[0.1111111111111111,\"#46039f\"],[0.2222222222222222,\"#7201a8\"],[0.3333333333333333,\"#9c179e\"],[0.4444444444444444,\"#bd3786\"],[0.5555555555555556,\"#d8576b\"],[0.6666666666666666,\"#ed7953\"],[0.7777777777777778,\"#fb9f3a\"],[0.8888888888888888,\"#fdca26\"],[1.0,\"#f0f921\"]],\"type\":\"histogram2d\"}],\"histogram2dcontour\":[{\"colorbar\":{\"outlinewidth\":0,\"ticks\":\"\"},\"colorscale\":[[0.0,\"#0d0887\"],[0.1111111111111111,\"#46039f\"],[0.2222222222222222,\"#7201a8\"],[0.3333333333333333,\"#9c179e\"],[0.4444444444444444,\"#bd3786\"],[0.5555555555555556,\"#d8576b\"],[0.6666666666666666,\"#ed7953\"],[0.7777777777777778,\"#fb9f3a\"],[0.8888888888888888,\"#fdca26\"],[1.0,\"#f0f921\"]],\"type\":\"histogram2dcontour\"}],\"mesh3d\":[{\"colorbar\":{\"outlinewidth\":0,\"ticks\":\"\"},\"type\":\"mesh3d\"}],\"parcoords\":[{\"line\":{\"colorbar\":{\"outlinewidth\":0,\"ticks\":\"\"}},\"type\":\"parcoords\"}],\"pie\":[{\"automargin\":true,\"type\":\"pie\"}],\"scatter\":[{\"marker\":{\"colorbar\":{\"outlinewidth\":0,\"ticks\":\"\"}},\"type\":\"scatter\"}],\"scatter3d\":[{\"line\":{\"colorbar\":{\"outlinewidth\":0,\"ticks\":\"\"}},\"marker\":{\"colorbar\":{\"outlinewidth\":0,\"ticks\":\"\"}},\"type\":\"scatter3d\"}],\"scattercarpet\":[{\"marker\":{\"colorbar\":{\"outlinewidth\":0,\"ticks\":\"\"}},\"type\":\"scattercarpet\"}],\"scattergeo\":[{\"marker\":{\"colorbar\":{\"outlinewidth\":0,\"ticks\":\"\"}},\"type\":\"scattergeo\"}],\"scattergl\":[{\"marker\":{\"colorbar\":{\"outlinewidth\":0,\"ticks\":\"\"}},\"type\":\"scattergl\"}],\"scattermapbox\":[{\"marker\":{\"colorbar\":{\"outlinewidth\":0,\"ticks\":\"\"}},\"type\":\"scattermapbox\"}],\"scatterpolar\":[{\"marker\":{\"colorbar\":{\"outlinewidth\":0,\"ticks\":\"\"}},\"type\":\"scatterpolar\"}],\"scatterpolargl\":[{\"marker\":{\"colorbar\":{\"outlinewidth\":0,\"ticks\":\"\"}},\"type\":\"scatterpolargl\"}],\"scatterternary\":[{\"marker\":{\"colorbar\":{\"outlinewidth\":0,\"ticks\":\"\"}},\"type\":\"scatterternary\"}],\"surface\":[{\"colorbar\":{\"outlinewidth\":0,\"ticks\":\"\"},\"colorscale\":[[0.0,\"#0d0887\"],[0.1111111111111111,\"#46039f\"],[0.2222222222222222,\"#7201a8\"],[0.3333333333333333,\"#9c179e\"],[0.4444444444444444,\"#bd3786\"],[0.5555555555555556,\"#d8576b\"],[0.6666666666666666,\"#ed7953\"],[0.7777777777777778,\"#fb9f3a\"],[0.8888888888888888,\"#fdca26\"],[1.0,\"#f0f921\"]],\"type\":\"surface\"}],\"table\":[{\"cells\":{\"fill\":{\"color\":\"#EBF0F8\"},\"line\":{\"color\":\"white\"}},\"header\":{\"fill\":{\"color\":\"#C8D4E3\"},\"line\":{\"color\":\"white\"}},\"type\":\"table\"}]},\"layout\":{\"annotationdefaults\":{\"arrowcolor\":\"#2a3f5f\",\"arrowhead\":0,\"arrowwidth\":1},\"autotypenumbers\":\"strict\",\"coloraxis\":{\"colorbar\":{\"outlinewidth\":0,\"ticks\":\"\"}},\"colorscale\":{\"diverging\":[[0,\"#8e0152\"],[0.1,\"#c51b7d\"],[0.2,\"#de77ae\"],[0.3,\"#f1b6da\"],[0.4,\"#fde0ef\"],[0.5,\"#f7f7f7\"],[0.6,\"#e6f5d0\"],[0.7,\"#b8e186\"],[0.8,\"#7fbc41\"],[0.9,\"#4d9221\"],[1,\"#276419\"]],\"sequential\":[[0.0,\"#0d0887\"],[0.1111111111111111,\"#46039f\"],[0.2222222222222222,\"#7201a8\"],[0.3333333333333333,\"#9c179e\"],[0.4444444444444444,\"#bd3786\"],[0.5555555555555556,\"#d8576b\"],[0.6666666666666666,\"#ed7953\"],[0.7777777777777778,\"#fb9f3a\"],[0.8888888888888888,\"#fdca26\"],[1.0,\"#f0f921\"]],\"sequentialminus\":[[0.0,\"#0d0887\"],[0.1111111111111111,\"#46039f\"],[0.2222222222222222,\"#7201a8\"],[0.3333333333333333,\"#9c179e\"],[0.4444444444444444,\"#bd3786\"],[0.5555555555555556,\"#d8576b\"],[0.6666666666666666,\"#ed7953\"],[0.7777777777777778,\"#fb9f3a\"],[0.8888888888888888,\"#fdca26\"],[1.0,\"#f0f921\"]]},\"colorway\":[\"#636efa\",\"#EF553B\",\"#00cc96\",\"#ab63fa\",\"#FFA15A\",\"#19d3f3\",\"#FF6692\",\"#B6E880\",\"#FF97FF\",\"#FECB52\"],\"font\":{\"color\":\"#2a3f5f\"},\"geo\":{\"bgcolor\":\"white\",\"lakecolor\":\"white\",\"landcolor\":\"#E5ECF6\",\"showlakes\":true,\"showland\":true,\"subunitcolor\":\"white\"},\"hoverlabel\":{\"align\":\"left\"},\"hovermode\":\"closest\",\"mapbox\":{\"style\":\"light\"},\"paper_bgcolor\":\"white\",\"plot_bgcolor\":\"#E5ECF6\",\"polar\":{\"angularaxis\":{\"gridcolor\":\"white\",\"linecolor\":\"white\",\"ticks\":\"\"},\"bgcolor\":\"#E5ECF6\",\"radialaxis\":{\"gridcolor\":\"white\",\"linecolor\":\"white\",\"ticks\":\"\"}},\"scene\":{\"xaxis\":{\"backgroundcolor\":\"#E5ECF6\",\"gridcolor\":\"white\",\"gridwidth\":2,\"linecolor\":\"white\",\"showbackground\":true,\"ticks\":\"\",\"zerolinecolor\":\"white\"},\"yaxis\":{\"backgroundcolor\":\"#E5ECF6\",\"gridcolor\":\"white\",\"gridwidth\":2,\"linecolor\":\"white\",\"showbackground\":true,\"ticks\":\"\",\"zerolinecolor\":\"white\"},\"zaxis\":{\"backgroundcolor\":\"#E5ECF6\",\"gridcolor\":\"white\",\"gridwidth\":2,\"linecolor\":\"white\",\"showbackground\":true,\"ticks\":\"\",\"zerolinecolor\":\"white\"}},\"shapedefaults\":{\"line\":{\"color\":\"#2a3f5f\"}},\"ternary\":{\"aaxis\":{\"gridcolor\":\"white\",\"linecolor\":\"white\",\"ticks\":\"\"},\"baxis\":{\"gridcolor\":\"white\",\"linecolor\":\"white\",\"ticks\":\"\"},\"bgcolor\":\"#E5ECF6\",\"caxis\":{\"gridcolor\":\"white\",\"linecolor\":\"white\",\"ticks\":\"\"}},\"title\":{\"x\":0.05},\"xaxis\":{\"automargin\":true,\"gridcolor\":\"white\",\"linecolor\":\"white\",\"ticks\":\"\",\"title\":{\"standoff\":15},\"zerolinecolor\":\"white\",\"zerolinewidth\":2},\"yaxis\":{\"automargin\":true,\"gridcolor\":\"white\",\"linecolor\":\"white\",\"ticks\":\"\",\"title\":{\"standoff\":15},\"zerolinecolor\":\"white\",\"zerolinewidth\":2}}},\"margin\":{\"t\":50,\"l\":200}},                        {\"responsive\": true}                    ).then(function(){\n",
              "                            \n",
              "var gd = document.getElementById('9932b540-a546-432f-8637-e96617cce082');\n",
              "var x = new MutationObserver(function (mutations, observer) {{\n",
              "        var display = window.getComputedStyle(gd).display;\n",
              "        if (!display || display === 'none') {{\n",
              "            console.log([gd, 'removed!']);\n",
              "            Plotly.purge(gd);\n",
              "            observer.disconnect();\n",
              "        }}\n",
              "}});\n",
              "\n",
              "// Listen for the removal of the full notebook cells\n",
              "var notebookContainer = gd.closest('#notebook-container');\n",
              "if (notebookContainer) {{\n",
              "    x.observe(notebookContainer, {childList: true});\n",
              "}}\n",
              "\n",
              "// Listen for the clearing of the current output cell\n",
              "var outputEl = gd.closest('.output');\n",
              "if (outputEl) {{\n",
              "    x.observe(outputEl, {childList: true});\n",
              "}}\n",
              "\n",
              "                        })                };                            </script>        </div>\n",
              "</body>\n",
              "</html>"
            ]
          },
          "metadata": {}
        },
        {
          "output_type": "stream",
          "name": "stdout",
          "text": [
            "epoch: 1  squared_error  train_acc : 0.8674814814814815 valid_acc : 0.8668333333333333 test_acc : 0.8509\n",
            "epoch: 2  squared_error  train_acc : 0.8817592592592592 valid_acc : 0.8766666666666667 test_acc : 0.8606\n",
            "epoch: 3  squared_error  train_acc : 0.8870925925925925 valid_acc : 0.875 test_acc : 0.8626\n",
            "epoch: 4  squared_error  train_acc : 0.8942037037037037 valid_acc : 0.883 test_acc : 0.8674\n",
            "epoch: 5  squared_error  train_acc : 0.8958518518518519 valid_acc : 0.8806666666666667 test_acc : 0.8647\n"
          ]
        },
        {
          "output_type": "display_data",
          "data": {
            "image/png": "[encoded data removed]",
            "text/plain": [
              "<Figure size 900x432 with 10 Axes>"
            ]
          },
          "metadata": {
            "needs_background": "light"
          }
        },
        {
          "output_type": "display_data",
          "data": {
            "text/html": [
              "<br/>Waiting for W&B process to finish, PID 1624... <strong style=\"color:green\">(success).</strong>"
            ],
            "text/plain": [
              "<IPython.core.display.HTML object>"
            ]
          },
          "metadata": {}
        },
        {
          "output_type": "display_data",
          "data": {
            "application/vnd.jupyter.widget-view+json": {
              "model_id": "3105ee50380f4f3d9b22626e26646817",
              "version_minor": 0,
              "version_major": 2
            },
            "text/plain": [
              "VBox(children=(Label(value=' 0.03MB of 0.03MB uploaded (0.00MB deduped)\\r'), FloatProgress(value=1.0, max=1.0)…"
            ]
          },
          "metadata": {}
        },
        {
          "output_type": "display_data",
          "data": {
            "text/html": [
              "<style>\n",
              "    table.wandb td:nth-child(1) { padding: 0 10px; text-align: right }\n",
              "    .wandb-row { display: flex; flex-direction: row; flex-wrap: wrap; width: 100% }\n",
              "    .wandb-col { display: flex; flex-direction: column; flex-basis: 100%; flex: 1; padding: 10px; }\n",
              "    </style>\n",
              "<div class=\"wandb-row\"><div class=\"wandb-col\">\n",
              "<h3>Run history:</h3><br/><table class=\"wandb\"><tr><td>Epoch</td><td>▁▃▅▆█</td></tr><tr><td>Train Acc</td><td>▁▄▆▇█</td></tr><tr><td>Train Acc (squared_error)</td><td>▁▅▆██</td></tr><tr><td>Train Loss</td><td>█▅▃▂▁</td></tr><tr><td>Train Loss (squared_error)</td><td>█▄▃▁▁</td></tr><tr><td>Valid Acc</td><td>▁▅▇▇█</td></tr><tr><td>Valid Acc (squared_error)</td><td>▁▅▅█▇</td></tr><tr><td>Valid Loss</td><td>█▄▂▁▁</td></tr><tr><td>Valid Loss (squared_error)</td><td>█▄▄▁▃</td></tr><tr><td>test_acc</td><td>▁</td></tr><tr><td>test_acc (squared error)</td><td>▁</td></tr><tr><td>test_loss</td><td>▁</td></tr><tr><td>test_loss (squared error)</td><td>▁</td></tr></table><br/></div><div class=\"wandb-col\">\n",
              "<h3>Run summary:</h3><br/><table class=\"wandb\"><tr><td>Epoch</td><td>5</td></tr><tr><td>Train Acc</td><td>0.90933</td></tr><tr><td>Train Acc (squared_error)</td><td>0.89585</td></tr><tr><td>Train Loss</td><td>0.24292</td></tr><tr><td>Train Loss (squared_error)</td><td>0.16146</td></tr><tr><td>Valid Acc</td><td>0.89367</td></tr><tr><td>Valid Acc (squared_error)</td><td>0.88067</td></tr><tr><td>Valid Loss</td><td>0.31464</td></tr><tr><td>Valid Loss (squared_error)</td><td>0.18611</td></tr><tr><td>test_acc</td><td>0.8755</td></tr><tr><td>test_acc (squared error)</td><td>0.8647</td></tr><tr><td>test_loss</td><td>0.35658</td></tr><tr><td>test_loss (squared error)</td><td>0.20902</td></tr></table>\n",
              "</div></div>\n",
              "Synced 5 W&B file(s), 11 media file(s), 0 artifact file(s) and 0 other file(s)\n",
              "<br/>Synced <strong style=\"color:#cdcd00\">helpful-sweep-1</strong>: <a href=\"https://wandb.ai/cs21m027_cs21m011/DL_ASG_1_final/runs/n44nhk5e\" target=\"_blank\">https://wandb.ai/cs21m027_cs21m011/DL_ASG_1_final/runs/n44nhk5e</a><br/>\n",
              "Find logs at: <code>./wandb/run-20220224_082644-n44nhk5e/logs</code><br/>\n"
            ],
            "text/plain": [
              "<IPython.core.display.HTML object>"
            ]
          },
          "metadata": {}
        },
        {
          "output_type": "stream",
          "name": "stderr",
          "text": [
            "\u001b[34m\u001b[1mwandb\u001b[0m: Sweep Agent: Waiting for job.\n",
            "\u001b[34m\u001b[1mwandb\u001b[0m: Sweep Agent: Exiting.\n"
          ]
        }
      ]
    },
    {
      "cell_type": "markdown",
      "source": [
        "#BEST_MODEL_2_ADAM"
      ],
      "metadata": {
        "id": "DaYRj2Y42H5B"
      }
    },
    {
      "cell_type": "code",
      "source": [
        "#wandb.agent(sweep_id, train)"
      ],
      "metadata": {
        "colab": {
          "base_uri": "https://localhost:8080/",
          "height": 1000,
          "referenced_widgets": [
            "6b06bb7436eb41f1b1c572d4295b892f",
            "4c43dccc0e9f45d89ecfd2f47eaf38f5",
            "f7a34ec566fe432790581017f5b1a3e7",
            "5bbbb6a5c9f145c7ac3e52e6be68e04e",
            "6896c7a6ec964da99089204439d0a072",
            "b8d7b357df304f0a8c521a030d5359d3",
            "ceadab1c7d80437bb5c88915218064ab",
            "5c74504ea2c7418abc4c35750a83d390"
          ]
        },
        "id": "GQodczbf1r6v",
        "outputId": "e82f254a-f0ac-4f7d-fc43-fedf0fa1dade"
      },
      "execution_count": 107,
      "outputs": [
        {
          "output_type": "stream",
          "name": "stderr",
          "text": [
            "\u001b[34m\u001b[1mwandb\u001b[0m: Agent Starting Run: f0zebrsc with config:\n",
            "\u001b[34m\u001b[1mwandb\u001b[0m: \tact_fun: relu\n",
            "\u001b[34m\u001b[1mwandb\u001b[0m: \talpha: 0\n",
            "\u001b[34m\u001b[1mwandb\u001b[0m: \tbatch_size: 64\n",
            "\u001b[34m\u001b[1mwandb\u001b[0m: \tepochs: 5\n",
            "\u001b[34m\u001b[1mwandb\u001b[0m: \teta: 0.001\n",
            "\u001b[34m\u001b[1mwandb\u001b[0m: \thidden_layer_size: 64\n",
            "\u001b[34m\u001b[1mwandb\u001b[0m: \thidden_layers: 2\n",
            "\u001b[34m\u001b[1mwandb\u001b[0m: \toptimizer: adam\n",
            "\u001b[34m\u001b[1mwandb\u001b[0m: \tstrat: xavier\n"
          ]
        },
        {
          "output_type": "display_data",
          "data": {
            "text/html": [
              "\n",
              "                    Syncing run <strong><a href=\"https://wandb.ai/cs21m027_cs21m011/DL_ASG_1_final/runs/f0zebrsc\" target=\"_blank\">curious-sweep-1</a></strong> to <a href=\"https://wandb.ai/cs21m027_cs21m011/DL_ASG_1_final\" target=\"_blank\">Weights & Biases</a> (<a href=\"https://docs.wandb.com/integrations/jupyter.html\" target=\"_blank\">docs</a>).<br/>\n",
              "Sweep page: <a href=\"https://wandb.ai/cs21m027_cs21m011/DL_ASG_1_final/sweeps/6e7gvhqp\" target=\"_blank\">https://wandb.ai/cs21m027_cs21m011/DL_ASG_1_final/sweeps/6e7gvhqp</a><br/>\n",
              "\n",
              "                "
            ],
            "text/plain": [
              "<IPython.core.display.HTML object>"
            ]
          },
          "metadata": {}
        },
        {
          "output_type": "stream",
          "name": "stdout",
          "text": [
            "epoch: 1  cross_entropy  train_acc : 0.8614444444444445 valid_acc : 0.8713333333333333 test_acc : 0.8459\n",
            "epoch: 2  cross_entropy  train_acc : 0.8754259259259259 valid_acc : 0.88 test_acc : 0.8568\n",
            "epoch: 3  cross_entropy  train_acc : 0.8875925925925926 valid_acc : 0.8895 test_acc : 0.866\n",
            "epoch: 4  cross_entropy  train_acc : 0.8962222222222223 valid_acc : 0.8896666666666667 test_acc : 0.8698\n",
            "epoch: 5  cross_entropy  train_acc : 0.9022592592592592 valid_acc : 0.8921666666666667 test_acc : 0.8722\n"
          ]
        },
        {
          "output_type": "display_data",
          "data": {
            "text/html": [
              "<html>\n",
              "<head><meta charset=\"utf-8\" /></head>\n",
              "<body>\n",
              "    <div>            <script src=\"https://cdnjs.cloudflare.com/ajax/libs/mathjax/2.7.5/MathJax.js?config=TeX-AMS-MML_SVG\"></script><script type=\"text/javascript\">if (window.MathJax) {MathJax.Hub.Config({SVG: {font: \"STIX-Web\"}});}</script>                <script type=\"text/javascript\">window.PlotlyConfig = {MathJaxConfig: 'local'};</script>\n",
              "        <script src=\"https://cdn.plot.ly/plotly-2.8.3.min.js\"></script>                <div id=\"0d8dfb1f-bf2c-4456-a0e3-ffb7e55acfdb\" class=\"plotly-graph-div\" style=\"height:525px; width:100%;\"></div>            <script type=\"text/javascript\">                                    window.PLOTLYENV=window.PLOTLYENV || {};                                    if (document.getElementById(\"0d8dfb1f-bf2c-4456-a0e3-ffb7e55acfdb\")) {                    Plotly.newPlot(                        \"0d8dfb1f-bf2c-4456-a0e3-ffb7e55acfdb\",                        [{\"colorscale\":[[0.0,\"rgb(29, 79, 96)\"],[0.16666666666666666,\"rgb(38, 107, 110)\"],[0.3333333333333333,\"rgb(54, 135, 122)\"],[0.5,\"rgb(77, 162, 132)\"],[0.6666666666666666,\"rgb(109, 188, 144)\"],[0.8333333333333334,\"rgb(150, 210, 164)\"],[1.0,\"rgb(196, 230, 195)\"]],\"hoverinfo\":\"text\",\"reversescale\":false,\"showscale\":true,\"text\":[[\"814 T-shirt/Top are correctly classified\",\"\",\"9 T-shirt/Top are wrongly classified as Pullover\",\"26 T-shirt/Top are wrongly classified as Dress\",\"2 T-shirt/Top are wrongly classified as Coat\",\"1 T-shirt/Top are wrongly classified as Sandal\",\"140 T-shirt/Top are wrongly classified as Shirt\",\"\",\"8 T-shirt/Top are wrongly classified as Bag\",\"\"],[\"3 Trouser are wrongly classified as T-shirt/Top\",\"956 Trouser are correctly classified\",\"2 Trouser are wrongly classified as Pullover\",\"31 Trouser are wrongly classified as Dress\",\"2 Trouser are wrongly classified as Coat\",\"\",\"5 Trouser are wrongly classified as Shirt\",\"\",\"1 Trouser are wrongly classified as Bag\",\"\"],[\"16 Pullover are wrongly classified as T-shirt/Top\",\"2 Pullover are wrongly classified as Trouser\",\"748 Pullover are correctly classified\",\"17 Pullover are wrongly classified as Dress\",\"92 Pullover are wrongly classified as Coat\",\"1 Pullover are wrongly classified as Sandal\",\"121 Pullover are wrongly classified as Shirt\",\"\",\"3 Pullover are wrongly classified as Bag\",\"\"],[\"35 Dress are wrongly classified as T-shirt/Top\",\"4 Dress are wrongly classified as Trouser\",\"8 Dress are wrongly classified as Pullover\",\"881 Dress are correctly classified\",\"36 Dress are wrongly classified as Coat\",\"1 Dress are wrongly classified as Sandal\",\"30 Dress are wrongly classified as Shirt\",\"\",\"5 Dress are wrongly classified as Bag\",\"\"],[\"\",\"1 Coat are wrongly classified as Trouser\",\"81 Coat are wrongly classified as Pullover\",\"30 Coat are wrongly classified as Dress\",\"792 Coat are correctly classified\",\"\",\"92 Coat are wrongly classified as Shirt\",\"\",\"4 Coat are wrongly classified as Bag\",\"\"],[\"\",\"\",\"\",\"1 Sandal are wrongly classified as Dress\",\"\",\"964 Sandal are correctly classified\",\"\",\"20 Sandal are wrongly classified as Sneaker\",\"2 Sandal are wrongly classified as Bag\",\"13 Sandal are wrongly classified as Ankle Boot\"],[\"109 Shirt are wrongly classified as T-shirt/Top\",\"2 Shirt are wrongly classified as Trouser\",\"62 Shirt are wrongly classified as Pullover\",\"34 Shirt are wrongly classified as Dress\",\"52 Shirt are wrongly classified as Coat\",\"1 Shirt are wrongly classified as Sandal\",\"729 Shirt are correctly classified\",\"\",\"11 Shirt are wrongly classified as Bag\",\"\"],[\"\",\"\",\"\",\"\",\"\",\"43 Sneaker are wrongly classified as Sandal\",\"\",\"910 Sneaker are correctly classified\",\"1 Sneaker are wrongly classified as Bag\",\"46 Sneaker are wrongly classified as Ankle Boot\"],[\"5 Bag are wrongly classified as T-shirt/Top\",\"1 Bag are wrongly classified as Trouser\",\"1 Bag are wrongly classified as Pullover\",\"7 Bag are wrongly classified as Dress\",\"4 Bag are wrongly classified as Coat\",\"3 Bag are wrongly classified as Sandal\",\"7 Bag are wrongly classified as Shirt\",\"4 Bag are wrongly classified as Sneaker\",\"968 Bag are correctly classified\",\"\"],[\"1 Ankle Boot are wrongly classified as T-shirt/Top\",\"\",\"\",\"1 Ankle Boot are wrongly classified as Dress\",\"\",\"17 Ankle Boot are wrongly classified as Sandal\",\"\",\"21 Ankle Boot are wrongly classified as Sneaker\",\"\",\"960 Ankle Boot are correctly classified\"]],\"x\":[\"T-shirt/Top\",\"Trouser\",\"Pullover\",\"Dress\",\"Coat\",\"Sandal\",\"Shirt\",\"Sneaker\",\"Bag\",\"Ankle Boot\"],\"y\":[\"T-shirt/Top\",\"Trouser\",\"Pullover\",\"Dress\",\"Coat\",\"Sandal\",\"Shirt\",\"Sneaker\",\"Bag\",\"Ankle Boot\"],\"z\":[[814,0,9,26,2,1,140,0,8,0],[3,956,2,31,2,0,5,0,1,0],[16,2,748,17,92,1,121,0,3,0],[35,4,8,881,36,1,30,0,5,0],[0,1,81,30,792,0,92,0,4,0],[0,0,0,1,0,964,0,20,2,13],[109,2,62,34,52,1,729,0,11,0],[0,0,0,0,0,43,0,910,1,46],[5,1,1,7,4,3,7,4,968,0],[1,0,0,1,0,17,0,21,0,960]],\"type\":\"heatmap\"}],                        {\"annotations\":[{\"font\":{\"color\":\"#000000\",\"size\":14},\"showarrow\":false,\"text\":\"81.4% <br> 814/1000\",\"x\":\"T-shirt/Top\",\"xref\":\"x\",\"y\":\"T-shirt/Top\",\"yref\":\"y\"},{\"font\":{\"color\":\"#FFFFFF\",\"size\":14},\"showarrow\":false,\"text\":\"\",\"x\":\"Trouser\",\"xref\":\"x\",\"y\":\"T-shirt/Top\",\"yref\":\"y\"},{\"font\":{\"color\":\"#FFFFFF\",\"size\":14},\"showarrow\":false,\"text\":\"0.9% <br> 9\",\"x\":\"Pullover\",\"xref\":\"x\",\"y\":\"T-shirt/Top\",\"yref\":\"y\"},{\"font\":{\"color\":\"#FFFFFF\",\"size\":14},\"showarrow\":false,\"text\":\"2.6% <br> 26\",\"x\":\"Dress\",\"xref\":\"x\",\"y\":\"T-shirt/Top\",\"yref\":\"y\"},{\"font\":{\"color\":\"#FFFFFF\",\"size\":14},\"showarrow\":false,\"text\":\"0.2% <br> 2\",\"x\":\"Coat\",\"xref\":\"x\",\"y\":\"T-shirt/Top\",\"yref\":\"y\"},{\"font\":{\"color\":\"#FFFFFF\",\"size\":14},\"showarrow\":false,\"text\":\"0.1% <br> 1\",\"x\":\"Sandal\",\"xref\":\"x\",\"y\":\"T-shirt/Top\",\"yref\":\"y\"},{\"font\":{\"color\":\"#FFFFFF\",\"size\":14},\"showarrow\":false,\"text\":\"14.0% <br> 140\",\"x\":\"Shirt\",\"xref\":\"x\",\"y\":\"T-shirt/Top\",\"yref\":\"y\"},{\"font\":{\"color\":\"#FFFFFF\",\"size\":14},\"showarrow\":false,\"text\":\"\",\"x\":\"Sneaker\",\"xref\":\"x\",\"y\":\"T-shirt/Top\",\"yref\":\"y\"},{\"font\":{\"color\":\"#FFFFFF\",\"size\":14},\"showarrow\":false,\"text\":\"0.8% <br> 8\",\"x\":\"Bag\",\"xref\":\"x\",\"y\":\"T-shirt/Top\",\"yref\":\"y\"},{\"font\":{\"color\":\"#FFFFFF\",\"size\":14},\"showarrow\":false,\"text\":\"\",\"x\":\"Ankle Boot\",\"xref\":\"x\",\"y\":\"T-shirt/Top\",\"yref\":\"y\"},{\"font\":{\"color\":\"#FFFFFF\",\"size\":14},\"showarrow\":false,\"text\":\"0.3% <br> 3\",\"x\":\"T-shirt/Top\",\"xref\":\"x\",\"y\":\"Trouser\",\"yref\":\"y\"},{\"font\":{\"color\":\"#000000\",\"size\":14},\"showarrow\":false,\"text\":\"95.6% <br> 956/1000\",\"x\":\"Trouser\",\"xref\":\"x\",\"y\":\"Trouser\",\"yref\":\"y\"},{\"font\":{\"color\":\"#FFFFFF\",\"size\":14},\"showarrow\":false,\"text\":\"0.2% <br> 2\",\"x\":\"Pullover\",\"xref\":\"x\",\"y\":\"Trouser\",\"yref\":\"y\"},{\"font\":{\"color\":\"#FFFFFF\",\"size\":14},\"showarrow\":false,\"text\":\"3.1% <br> 31\",\"x\":\"Dress\",\"xref\":\"x\",\"y\":\"Trouser\",\"yref\":\"y\"},{\"font\":{\"color\":\"#FFFFFF\",\"size\":14},\"showarrow\":false,\"text\":\"0.2% <br> 2\",\"x\":\"Coat\",\"xref\":\"x\",\"y\":\"Trouser\",\"yref\":\"y\"},{\"font\":{\"color\":\"#FFFFFF\",\"size\":14},\"showarrow\":false,\"text\":\"\",\"x\":\"Sandal\",\"xref\":\"x\",\"y\":\"Trouser\",\"yref\":\"y\"},{\"font\":{\"color\":\"#FFFFFF\",\"size\":14},\"showarrow\":false,\"text\":\"0.5% <br> 5\",\"x\":\"Shirt\",\"xref\":\"x\",\"y\":\"Trouser\",\"yref\":\"y\"},{\"font\":{\"color\":\"#FFFFFF\",\"size\":14},\"showarrow\":false,\"text\":\"\",\"x\":\"Sneaker\",\"xref\":\"x\",\"y\":\"Trouser\",\"yref\":\"y\"},{\"font\":{\"color\":\"#FFFFFF\",\"size\":14},\"showarrow\":false,\"text\":\"0.1% <br> 1\",\"x\":\"Bag\",\"xref\":\"x\",\"y\":\"Trouser\",\"yref\":\"y\"},{\"font\":{\"color\":\"#FFFFFF\",\"size\":14},\"showarrow\":false,\"text\":\"\",\"x\":\"Ankle Boot\",\"xref\":\"x\",\"y\":\"Trouser\",\"yref\":\"y\"},{\"font\":{\"color\":\"#FFFFFF\",\"size\":14},\"showarrow\":false,\"text\":\"1.6% <br> 16\",\"x\":\"T-shirt/Top\",\"xref\":\"x\",\"y\":\"Pullover\",\"yref\":\"y\"},{\"font\":{\"color\":\"#FFFFFF\",\"size\":14},\"showarrow\":false,\"text\":\"0.2% <br> 2\",\"x\":\"Trouser\",\"xref\":\"x\",\"y\":\"Pullover\",\"yref\":\"y\"},{\"font\":{\"color\":\"#000000\",\"size\":14},\"showarrow\":false,\"text\":\"74.8% <br> 748/1000\",\"x\":\"Pullover\",\"xref\":\"x\",\"y\":\"Pullover\",\"yref\":\"y\"},{\"font\":{\"color\":\"#FFFFFF\",\"size\":14},\"showarrow\":false,\"text\":\"1.7% <br> 17\",\"x\":\"Dress\",\"xref\":\"x\",\"y\":\"Pullover\",\"yref\":\"y\"},{\"font\":{\"color\":\"#FFFFFF\",\"size\":14},\"showarrow\":false,\"text\":\"9.2% <br> 92\",\"x\":\"Coat\",\"xref\":\"x\",\"y\":\"Pullover\",\"yref\":\"y\"},{\"font\":{\"color\":\"#FFFFFF\",\"size\":14},\"showarrow\":false,\"text\":\"0.1% <br> 1\",\"x\":\"Sandal\",\"xref\":\"x\",\"y\":\"Pullover\",\"yref\":\"y\"},{\"font\":{\"color\":\"#FFFFFF\",\"size\":14},\"showarrow\":false,\"text\":\"12.1% <br> 121\",\"x\":\"Shirt\",\"xref\":\"x\",\"y\":\"Pullover\",\"yref\":\"y\"},{\"font\":{\"color\":\"#FFFFFF\",\"size\":14},\"showarrow\":false,\"text\":\"\",\"x\":\"Sneaker\",\"xref\":\"x\",\"y\":\"Pullover\",\"yref\":\"y\"},{\"font\":{\"color\":\"#FFFFFF\",\"size\":14},\"showarrow\":false,\"text\":\"0.3% <br> 3\",\"x\":\"Bag\",\"xref\":\"x\",\"y\":\"Pullover\",\"yref\":\"y\"},{\"font\":{\"color\":\"#FFFFFF\",\"size\":14},\"showarrow\":false,\"text\":\"\",\"x\":\"Ankle Boot\",\"xref\":\"x\",\"y\":\"Pullover\",\"yref\":\"y\"},{\"font\":{\"color\":\"#FFFFFF\",\"size\":14},\"showarrow\":false,\"text\":\"3.5% <br> 35\",\"x\":\"T-shirt/Top\",\"xref\":\"x\",\"y\":\"Dress\",\"yref\":\"y\"},{\"font\":{\"color\":\"#FFFFFF\",\"size\":14},\"showarrow\":false,\"text\":\"0.4% <br> 4\",\"x\":\"Trouser\",\"xref\":\"x\",\"y\":\"Dress\",\"yref\":\"y\"},{\"font\":{\"color\":\"#FFFFFF\",\"size\":14},\"showarrow\":false,\"text\":\"0.8% <br> 8\",\"x\":\"Pullover\",\"xref\":\"x\",\"y\":\"Dress\",\"yref\":\"y\"},{\"font\":{\"color\":\"#000000\",\"size\":14},\"showarrow\":false,\"text\":\"88.1% <br> 881/1000\",\"x\":\"Dress\",\"xref\":\"x\",\"y\":\"Dress\",\"yref\":\"y\"},{\"font\":{\"color\":\"#FFFFFF\",\"size\":14},\"showarrow\":false,\"text\":\"3.6% <br> 36\",\"x\":\"Coat\",\"xref\":\"x\",\"y\":\"Dress\",\"yref\":\"y\"},{\"font\":{\"color\":\"#FFFFFF\",\"size\":14},\"showarrow\":false,\"text\":\"0.1% <br> 1\",\"x\":\"Sandal\",\"xref\":\"x\",\"y\":\"Dress\",\"yref\":\"y\"},{\"font\":{\"color\":\"#FFFFFF\",\"size\":14},\"showarrow\":false,\"text\":\"3.0% <br> 30\",\"x\":\"Shirt\",\"xref\":\"x\",\"y\":\"Dress\",\"yref\":\"y\"},{\"font\":{\"color\":\"#FFFFFF\",\"size\":14},\"showarrow\":false,\"text\":\"\",\"x\":\"Sneaker\",\"xref\":\"x\",\"y\":\"Dress\",\"yref\":\"y\"},{\"font\":{\"color\":\"#FFFFFF\",\"size\":14},\"showarrow\":false,\"text\":\"0.5% <br> 5\",\"x\":\"Bag\",\"xref\":\"x\",\"y\":\"Dress\",\"yref\":\"y\"},{\"font\":{\"color\":\"#FFFFFF\",\"size\":14},\"showarrow\":false,\"text\":\"\",\"x\":\"Ankle Boot\",\"xref\":\"x\",\"y\":\"Dress\",\"yref\":\"y\"},{\"font\":{\"color\":\"#FFFFFF\",\"size\":14},\"showarrow\":false,\"text\":\"\",\"x\":\"T-shirt/Top\",\"xref\":\"x\",\"y\":\"Coat\",\"yref\":\"y\"},{\"font\":{\"color\":\"#FFFFFF\",\"size\":14},\"showarrow\":false,\"text\":\"0.1% <br> 1\",\"x\":\"Trouser\",\"xref\":\"x\",\"y\":\"Coat\",\"yref\":\"y\"},{\"font\":{\"color\":\"#FFFFFF\",\"size\":14},\"showarrow\":false,\"text\":\"8.1% <br> 81\",\"x\":\"Pullover\",\"xref\":\"x\",\"y\":\"Coat\",\"yref\":\"y\"},{\"font\":{\"color\":\"#FFFFFF\",\"size\":14},\"showarrow\":false,\"text\":\"3.0% <br> 30\",\"x\":\"Dress\",\"xref\":\"x\",\"y\":\"Coat\",\"yref\":\"y\"},{\"font\":{\"color\":\"#000000\",\"size\":14},\"showarrow\":false,\"text\":\"79.2% <br> 792/1000\",\"x\":\"Coat\",\"xref\":\"x\",\"y\":\"Coat\",\"yref\":\"y\"},{\"font\":{\"color\":\"#FFFFFF\",\"size\":14},\"showarrow\":false,\"text\":\"\",\"x\":\"Sandal\",\"xref\":\"x\",\"y\":\"Coat\",\"yref\":\"y\"},{\"font\":{\"color\":\"#FFFFFF\",\"size\":14},\"showarrow\":false,\"text\":\"9.2% <br> 92\",\"x\":\"Shirt\",\"xref\":\"x\",\"y\":\"Coat\",\"yref\":\"y\"},{\"font\":{\"color\":\"#FFFFFF\",\"size\":14},\"showarrow\":false,\"text\":\"\",\"x\":\"Sneaker\",\"xref\":\"x\",\"y\":\"Coat\",\"yref\":\"y\"},{\"font\":{\"color\":\"#FFFFFF\",\"size\":14},\"showarrow\":false,\"text\":\"0.4% <br> 4\",\"x\":\"Bag\",\"xref\":\"x\",\"y\":\"Coat\",\"yref\":\"y\"},{\"font\":{\"color\":\"#FFFFFF\",\"size\":14},\"showarrow\":false,\"text\":\"\",\"x\":\"Ankle Boot\",\"xref\":\"x\",\"y\":\"Coat\",\"yref\":\"y\"},{\"font\":{\"color\":\"#FFFFFF\",\"size\":14},\"showarrow\":false,\"text\":\"\",\"x\":\"T-shirt/Top\",\"xref\":\"x\",\"y\":\"Sandal\",\"yref\":\"y\"},{\"font\":{\"color\":\"#FFFFFF\",\"size\":14},\"showarrow\":false,\"text\":\"\",\"x\":\"Trouser\",\"xref\":\"x\",\"y\":\"Sandal\",\"yref\":\"y\"},{\"font\":{\"color\":\"#FFFFFF\",\"size\":14},\"showarrow\":false,\"text\":\"\",\"x\":\"Pullover\",\"xref\":\"x\",\"y\":\"Sandal\",\"yref\":\"y\"},{\"font\":{\"color\":\"#FFFFFF\",\"size\":14},\"showarrow\":false,\"text\":\"0.1% <br> 1\",\"x\":\"Dress\",\"xref\":\"x\",\"y\":\"Sandal\",\"yref\":\"y\"},{\"font\":{\"color\":\"#FFFFFF\",\"size\":14},\"showarrow\":false,\"text\":\"\",\"x\":\"Coat\",\"xref\":\"x\",\"y\":\"Sandal\",\"yref\":\"y\"},{\"font\":{\"color\":\"#000000\",\"size\":14},\"showarrow\":false,\"text\":\"96.4% <br> 964/1000\",\"x\":\"Sandal\",\"xref\":\"x\",\"y\":\"Sandal\",\"yref\":\"y\"},{\"font\":{\"color\":\"#FFFFFF\",\"size\":14},\"showarrow\":false,\"text\":\"\",\"x\":\"Shirt\",\"xref\":\"x\",\"y\":\"Sandal\",\"yref\":\"y\"},{\"font\":{\"color\":\"#FFFFFF\",\"size\":14},\"showarrow\":false,\"text\":\"2.0% <br> 20\",\"x\":\"Sneaker\",\"xref\":\"x\",\"y\":\"Sandal\",\"yref\":\"y\"},{\"font\":{\"color\":\"#FFFFFF\",\"size\":14},\"showarrow\":false,\"text\":\"0.2% <br> 2\",\"x\":\"Bag\",\"xref\":\"x\",\"y\":\"Sandal\",\"yref\":\"y\"},{\"font\":{\"color\":\"#FFFFFF\",\"size\":14},\"showarrow\":false,\"text\":\"1.3% <br> 13\",\"x\":\"Ankle Boot\",\"xref\":\"x\",\"y\":\"Sandal\",\"yref\":\"y\"},{\"font\":{\"color\":\"#FFFFFF\",\"size\":14},\"showarrow\":false,\"text\":\"10.9% <br> 109\",\"x\":\"T-shirt/Top\",\"xref\":\"x\",\"y\":\"Shirt\",\"yref\":\"y\"},{\"font\":{\"color\":\"#FFFFFF\",\"size\":14},\"showarrow\":false,\"text\":\"0.2% <br> 2\",\"x\":\"Trouser\",\"xref\":\"x\",\"y\":\"Shirt\",\"yref\":\"y\"},{\"font\":{\"color\":\"#FFFFFF\",\"size\":14},\"showarrow\":false,\"text\":\"6.2% <br> 62\",\"x\":\"Pullover\",\"xref\":\"x\",\"y\":\"Shirt\",\"yref\":\"y\"},{\"font\":{\"color\":\"#FFFFFF\",\"size\":14},\"showarrow\":false,\"text\":\"3.4% <br> 34\",\"x\":\"Dress\",\"xref\":\"x\",\"y\":\"Shirt\",\"yref\":\"y\"},{\"font\":{\"color\":\"#FFFFFF\",\"size\":14},\"showarrow\":false,\"text\":\"5.2% <br> 52\",\"x\":\"Coat\",\"xref\":\"x\",\"y\":\"Shirt\",\"yref\":\"y\"},{\"font\":{\"color\":\"#FFFFFF\",\"size\":14},\"showarrow\":false,\"text\":\"0.1% <br> 1\",\"x\":\"Sandal\",\"xref\":\"x\",\"y\":\"Shirt\",\"yref\":\"y\"},{\"font\":{\"color\":\"#000000\",\"size\":14},\"showarrow\":false,\"text\":\"72.9% <br> 729/1000\",\"x\":\"Shirt\",\"xref\":\"x\",\"y\":\"Shirt\",\"yref\":\"y\"},{\"font\":{\"color\":\"#FFFFFF\",\"size\":14},\"showarrow\":false,\"text\":\"\",\"x\":\"Sneaker\",\"xref\":\"x\",\"y\":\"Shirt\",\"yref\":\"y\"},{\"font\":{\"color\":\"#FFFFFF\",\"size\":14},\"showarrow\":false,\"text\":\"1.1% <br> 11\",\"x\":\"Bag\",\"xref\":\"x\",\"y\":\"Shirt\",\"yref\":\"y\"},{\"font\":{\"color\":\"#FFFFFF\",\"size\":14},\"showarrow\":false,\"text\":\"\",\"x\":\"Ankle Boot\",\"xref\":\"x\",\"y\":\"Shirt\",\"yref\":\"y\"},{\"font\":{\"color\":\"#FFFFFF\",\"size\":14},\"showarrow\":false,\"text\":\"\",\"x\":\"T-shirt/Top\",\"xref\":\"x\",\"y\":\"Sneaker\",\"yref\":\"y\"},{\"font\":{\"color\":\"#FFFFFF\",\"size\":14},\"showarrow\":false,\"text\":\"\",\"x\":\"Trouser\",\"xref\":\"x\",\"y\":\"Sneaker\",\"yref\":\"y\"},{\"font\":{\"color\":\"#FFFFFF\",\"size\":14},\"showarrow\":false,\"text\":\"\",\"x\":\"Pullover\",\"xref\":\"x\",\"y\":\"Sneaker\",\"yref\":\"y\"},{\"font\":{\"color\":\"#FFFFFF\",\"size\":14},\"showarrow\":false,\"text\":\"\",\"x\":\"Dress\",\"xref\":\"x\",\"y\":\"Sneaker\",\"yref\":\"y\"},{\"font\":{\"color\":\"#FFFFFF\",\"size\":14},\"showarrow\":false,\"text\":\"\",\"x\":\"Coat\",\"xref\":\"x\",\"y\":\"Sneaker\",\"yref\":\"y\"},{\"font\":{\"color\":\"#FFFFFF\",\"size\":14},\"showarrow\":false,\"text\":\"4.3% <br> 43\",\"x\":\"Sandal\",\"xref\":\"x\",\"y\":\"Sneaker\",\"yref\":\"y\"},{\"font\":{\"color\":\"#FFFFFF\",\"size\":14},\"showarrow\":false,\"text\":\"\",\"x\":\"Shirt\",\"xref\":\"x\",\"y\":\"Sneaker\",\"yref\":\"y\"},{\"font\":{\"color\":\"#000000\",\"size\":14},\"showarrow\":false,\"text\":\"91.0% <br> 910/1000\",\"x\":\"Sneaker\",\"xref\":\"x\",\"y\":\"Sneaker\",\"yref\":\"y\"},{\"font\":{\"color\":\"#FFFFFF\",\"size\":14},\"showarrow\":false,\"text\":\"0.1% <br> 1\",\"x\":\"Bag\",\"xref\":\"x\",\"y\":\"Sneaker\",\"yref\":\"y\"},{\"font\":{\"color\":\"#FFFFFF\",\"size\":14},\"showarrow\":false,\"text\":\"4.6% <br> 46\",\"x\":\"Ankle Boot\",\"xref\":\"x\",\"y\":\"Sneaker\",\"yref\":\"y\"},{\"font\":{\"color\":\"#FFFFFF\",\"size\":14},\"showarrow\":false,\"text\":\"0.5% <br> 5\",\"x\":\"T-shirt/Top\",\"xref\":\"x\",\"y\":\"Bag\",\"yref\":\"y\"},{\"font\":{\"color\":\"#FFFFFF\",\"size\":14},\"showarrow\":false,\"text\":\"0.1% <br> 1\",\"x\":\"Trouser\",\"xref\":\"x\",\"y\":\"Bag\",\"yref\":\"y\"},{\"font\":{\"color\":\"#FFFFFF\",\"size\":14},\"showarrow\":false,\"text\":\"0.1% <br> 1\",\"x\":\"Pullover\",\"xref\":\"x\",\"y\":\"Bag\",\"yref\":\"y\"},{\"font\":{\"color\":\"#FFFFFF\",\"size\":14},\"showarrow\":false,\"text\":\"0.7% <br> 7\",\"x\":\"Dress\",\"xref\":\"x\",\"y\":\"Bag\",\"yref\":\"y\"},{\"font\":{\"color\":\"#FFFFFF\",\"size\":14},\"showarrow\":false,\"text\":\"0.4% <br> 4\",\"x\":\"Coat\",\"xref\":\"x\",\"y\":\"Bag\",\"yref\":\"y\"},{\"font\":{\"color\":\"#FFFFFF\",\"size\":14},\"showarrow\":false,\"text\":\"0.3% <br> 3\",\"x\":\"Sandal\",\"xref\":\"x\",\"y\":\"Bag\",\"yref\":\"y\"},{\"font\":{\"color\":\"#FFFFFF\",\"size\":14},\"showarrow\":false,\"text\":\"0.7% <br> 7\",\"x\":\"Shirt\",\"xref\":\"x\",\"y\":\"Bag\",\"yref\":\"y\"},{\"font\":{\"color\":\"#FFFFFF\",\"size\":14},\"showarrow\":false,\"text\":\"0.4% <br> 4\",\"x\":\"Sneaker\",\"xref\":\"x\",\"y\":\"Bag\",\"yref\":\"y\"},{\"font\":{\"color\":\"#000000\",\"size\":14},\"showarrow\":false,\"text\":\"96.8% <br> 968/1000\",\"x\":\"Bag\",\"xref\":\"x\",\"y\":\"Bag\",\"yref\":\"y\"},{\"font\":{\"color\":\"#FFFFFF\",\"size\":14},\"showarrow\":false,\"text\":\"\",\"x\":\"Ankle Boot\",\"xref\":\"x\",\"y\":\"Bag\",\"yref\":\"y\"},{\"font\":{\"color\":\"#FFFFFF\",\"size\":14},\"showarrow\":false,\"text\":\"0.1% <br> 1\",\"x\":\"T-shirt/Top\",\"xref\":\"x\",\"y\":\"Ankle Boot\",\"yref\":\"y\"},{\"font\":{\"color\":\"#FFFFFF\",\"size\":14},\"showarrow\":false,\"text\":\"\",\"x\":\"Trouser\",\"xref\":\"x\",\"y\":\"Ankle Boot\",\"yref\":\"y\"},{\"font\":{\"color\":\"#FFFFFF\",\"size\":14},\"showarrow\":false,\"text\":\"\",\"x\":\"Pullover\",\"xref\":\"x\",\"y\":\"Ankle Boot\",\"yref\":\"y\"},{\"font\":{\"color\":\"#FFFFFF\",\"size\":14},\"showarrow\":false,\"text\":\"0.1% <br> 1\",\"x\":\"Dress\",\"xref\":\"x\",\"y\":\"Ankle Boot\",\"yref\":\"y\"},{\"font\":{\"color\":\"#FFFFFF\",\"size\":14},\"showarrow\":false,\"text\":\"\",\"x\":\"Coat\",\"xref\":\"x\",\"y\":\"Ankle Boot\",\"yref\":\"y\"},{\"font\":{\"color\":\"#FFFFFF\",\"size\":14},\"showarrow\":false,\"text\":\"1.7% <br> 17\",\"x\":\"Sandal\",\"xref\":\"x\",\"y\":\"Ankle Boot\",\"yref\":\"y\"},{\"font\":{\"color\":\"#FFFFFF\",\"size\":14},\"showarrow\":false,\"text\":\"\",\"x\":\"Shirt\",\"xref\":\"x\",\"y\":\"Ankle Boot\",\"yref\":\"y\"},{\"font\":{\"color\":\"#FFFFFF\",\"size\":14},\"showarrow\":false,\"text\":\"2.1% <br> 21\",\"x\":\"Sneaker\",\"xref\":\"x\",\"y\":\"Ankle Boot\",\"yref\":\"y\"},{\"font\":{\"color\":\"#FFFFFF\",\"size\":14},\"showarrow\":false,\"text\":\"\",\"x\":\"Bag\",\"xref\":\"x\",\"y\":\"Ankle Boot\",\"yref\":\"y\"},{\"font\":{\"color\":\"#000000\",\"size\":14},\"showarrow\":false,\"text\":\"96.0% <br> 960/1000\",\"x\":\"Ankle Boot\",\"xref\":\"x\",\"y\":\"Ankle Boot\",\"yref\":\"y\"},{\"font\":{\"color\":\"black\",\"size\":14},\"showarrow\":false,\"text\":\"Predicted value\",\"x\":0.5,\"xref\":\"paper\",\"y\":-0.15,\"yref\":\"paper\"},{\"font\":{\"color\":\"black\",\"size\":14},\"showarrow\":false,\"text\":\"Real value\",\"textangle\":-90,\"x\":-0.35,\"xref\":\"paper\",\"y\":0.5,\"yref\":\"paper\"}],\"xaxis\":{\"dtick\":1,\"gridcolor\":\"rgb(0, 0, 0)\",\"side\":\"top\",\"ticks\":\"\"},\"yaxis\":{\"dtick\":1,\"ticks\":\"\",\"ticksuffix\":\"  \",\"autorange\":\"reversed\"},\"template\":{\"data\":{\"bar\":[{\"error_x\":{\"color\":\"#2a3f5f\"},\"error_y\":{\"color\":\"#2a3f5f\"},\"marker\":{\"line\":{\"color\":\"#E5ECF6\",\"width\":0.5},\"pattern\":{\"fillmode\":\"overlay\",\"size\":10,\"solidity\":0.2}},\"type\":\"bar\"}],\"barpolar\":[{\"marker\":{\"line\":{\"color\":\"#E5ECF6\",\"width\":0.5},\"pattern\":{\"fillmode\":\"overlay\",\"size\":10,\"solidity\":0.2}},\"type\":\"barpolar\"}],\"carpet\":[{\"aaxis\":{\"endlinecolor\":\"#2a3f5f\",\"gridcolor\":\"white\",\"linecolor\":\"white\",\"minorgridcolor\":\"white\",\"startlinecolor\":\"#2a3f5f\"},\"baxis\":{\"endlinecolor\":\"#2a3f5f\",\"gridcolor\":\"white\",\"linecolor\":\"white\",\"minorgridcolor\":\"white\",\"startlinecolor\":\"#2a3f5f\"},\"type\":\"carpet\"}],\"choropleth\":[{\"colorbar\":{\"outlinewidth\":0,\"ticks\":\"\"},\"type\":\"choropleth\"}],\"contour\":[{\"colorbar\":{\"outlinewidth\":0,\"ticks\":\"\"},\"colorscale\":[[0.0,\"#0d0887\"],[0.1111111111111111,\"#46039f\"],[0.2222222222222222,\"#7201a8\"],[0.3333333333333333,\"#9c179e\"],[0.4444444444444444,\"#bd3786\"],[0.5555555555555556,\"#d8576b\"],[0.6666666666666666,\"#ed7953\"],[0.7777777777777778,\"#fb9f3a\"],[0.8888888888888888,\"#fdca26\"],[1.0,\"#f0f921\"]],\"type\":\"contour\"}],\"contourcarpet\":[{\"colorbar\":{\"outlinewidth\":0,\"ticks\":\"\"},\"type\":\"contourcarpet\"}],\"heatmap\":[{\"colorbar\":{\"outlinewidth\":0,\"ticks\":\"\"},\"colorscale\":[[0.0,\"#0d0887\"],[0.1111111111111111,\"#46039f\"],[0.2222222222222222,\"#7201a8\"],[0.3333333333333333,\"#9c179e\"],[0.4444444444444444,\"#bd3786\"],[0.5555555555555556,\"#d8576b\"],[0.6666666666666666,\"#ed7953\"],[0.7777777777777778,\"#fb9f3a\"],[0.8888888888888888,\"#fdca26\"],[1.0,\"#f0f921\"]],\"type\":\"heatmap\"}],\"heatmapgl\":[{\"colorbar\":{\"outlinewidth\":0,\"ticks\":\"\"},\"colorscale\":[[0.0,\"#0d0887\"],[0.1111111111111111,\"#46039f\"],[0.2222222222222222,\"#7201a8\"],[0.3333333333333333,\"#9c179e\"],[0.4444444444444444,\"#bd3786\"],[0.5555555555555556,\"#d8576b\"],[0.6666666666666666,\"#ed7953\"],[0.7777777777777778,\"#fb9f3a\"],[0.8888888888888888,\"#fdca26\"],[1.0,\"#f0f921\"]],\"type\":\"heatmapgl\"}],\"histogram\":[{\"marker\":{\"pattern\":{\"fillmode\":\"overlay\",\"size\":10,\"solidity\":0.2}},\"type\":\"histogram\"}],\"histogram2d\":[{\"colorbar\":{\"outlinewidth\":0,\"ticks\":\"\"},\"colorscale\":[[0.0,\"#0d0887\"],[0.1111111111111111,\"#46039f\"],[0.2222222222222222,\"#7201a8\"],[0.3333333333333333,\"#9c179e\"],[0.4444444444444444,\"#bd3786\"],[0.5555555555555556,\"#d8576b\"],[0.6666666666666666,\"#ed7953\"],[0.7777777777777778,\"#fb9f3a\"],[0.8888888888888888,\"#fdca26\"],[1.0,\"#f0f921\"]],\"type\":\"histogram2d\"}],\"histogram2dcontour\":[{\"colorbar\":{\"outlinewidth\":0,\"ticks\":\"\"},\"colorscale\":[[0.0,\"#0d0887\"],[0.1111111111111111,\"#46039f\"],[0.2222222222222222,\"#7201a8\"],[0.3333333333333333,\"#9c179e\"],[0.4444444444444444,\"#bd3786\"],[0.5555555555555556,\"#d8576b\"],[0.6666666666666666,\"#ed7953\"],[0.7777777777777778,\"#fb9f3a\"],[0.8888888888888888,\"#fdca26\"],[1.0,\"#f0f921\"]],\"type\":\"histogram2dcontour\"}],\"mesh3d\":[{\"colorbar\":{\"outlinewidth\":0,\"ticks\":\"\"},\"type\":\"mesh3d\"}],\"parcoords\":[{\"line\":{\"colorbar\":{\"outlinewidth\":0,\"ticks\":\"\"}},\"type\":\"parcoords\"}],\"pie\":[{\"automargin\":true,\"type\":\"pie\"}],\"scatter\":[{\"marker\":{\"colorbar\":{\"outlinewidth\":0,\"ticks\":\"\"}},\"type\":\"scatter\"}],\"scatter3d\":[{\"line\":{\"colorbar\":{\"outlinewidth\":0,\"ticks\":\"\"}},\"marker\":{\"colorbar\":{\"outlinewidth\":0,\"ticks\":\"\"}},\"type\":\"scatter3d\"}],\"scattercarpet\":[{\"marker\":{\"colorbar\":{\"outlinewidth\":0,\"ticks\":\"\"}},\"type\":\"scattercarpet\"}],\"scattergeo\":[{\"marker\":{\"colorbar\":{\"outlinewidth\":0,\"ticks\":\"\"}},\"type\":\"scattergeo\"}],\"scattergl\":[{\"marker\":{\"colorbar\":{\"outlinewidth\":0,\"ticks\":\"\"}},\"type\":\"scattergl\"}],\"scattermapbox\":[{\"marker\":{\"colorbar\":{\"outlinewidth\":0,\"ticks\":\"\"}},\"type\":\"scattermapbox\"}],\"scatterpolar\":[{\"marker\":{\"colorbar\":{\"outlinewidth\":0,\"ticks\":\"\"}},\"type\":\"scatterpolar\"}],\"scatterpolargl\":[{\"marker\":{\"colorbar\":{\"outlinewidth\":0,\"ticks\":\"\"}},\"type\":\"scatterpolargl\"}],\"scatterternary\":[{\"marker\":{\"colorbar\":{\"outlinewidth\":0,\"ticks\":\"\"}},\"type\":\"scatterternary\"}],\"surface\":[{\"colorbar\":{\"outlinewidth\":0,\"ticks\":\"\"},\"colorscale\":[[0.0,\"#0d0887\"],[0.1111111111111111,\"#46039f\"],[0.2222222222222222,\"#7201a8\"],[0.3333333333333333,\"#9c179e\"],[0.4444444444444444,\"#bd3786\"],[0.5555555555555556,\"#d8576b\"],[0.6666666666666666,\"#ed7953\"],[0.7777777777777778,\"#fb9f3a\"],[0.8888888888888888,\"#fdca26\"],[1.0,\"#f0f921\"]],\"type\":\"surface\"}],\"table\":[{\"cells\":{\"fill\":{\"color\":\"#EBF0F8\"},\"line\":{\"color\":\"white\"}},\"header\":{\"fill\":{\"color\":\"#C8D4E3\"},\"line\":{\"color\":\"white\"}},\"type\":\"table\"}]},\"layout\":{\"annotationdefaults\":{\"arrowcolor\":\"#2a3f5f\",\"arrowhead\":0,\"arrowwidth\":1},\"autotypenumbers\":\"strict\",\"coloraxis\":{\"colorbar\":{\"outlinewidth\":0,\"ticks\":\"\"}},\"colorscale\":{\"diverging\":[[0,\"#8e0152\"],[0.1,\"#c51b7d\"],[0.2,\"#de77ae\"],[0.3,\"#f1b6da\"],[0.4,\"#fde0ef\"],[0.5,\"#f7f7f7\"],[0.6,\"#e6f5d0\"],[0.7,\"#b8e186\"],[0.8,\"#7fbc41\"],[0.9,\"#4d9221\"],[1,\"#276419\"]],\"sequential\":[[0.0,\"#0d0887\"],[0.1111111111111111,\"#46039f\"],[0.2222222222222222,\"#7201a8\"],[0.3333333333333333,\"#9c179e\"],[0.4444444444444444,\"#bd3786\"],[0.5555555555555556,\"#d8576b\"],[0.6666666666666666,\"#ed7953\"],[0.7777777777777778,\"#fb9f3a\"],[0.8888888888888888,\"#fdca26\"],[1.0,\"#f0f921\"]],\"sequentialminus\":[[0.0,\"#0d0887\"],[0.1111111111111111,\"#46039f\"],[0.2222222222222222,\"#7201a8\"],[0.3333333333333333,\"#9c179e\"],[0.4444444444444444,\"#bd3786\"],[0.5555555555555556,\"#d8576b\"],[0.6666666666666666,\"#ed7953\"],[0.7777777777777778,\"#fb9f3a\"],[0.8888888888888888,\"#fdca26\"],[1.0,\"#f0f921\"]]},\"colorway\":[\"#636efa\",\"#EF553B\",\"#00cc96\",\"#ab63fa\",\"#FFA15A\",\"#19d3f3\",\"#FF6692\",\"#B6E880\",\"#FF97FF\",\"#FECB52\"],\"font\":{\"color\":\"#2a3f5f\"},\"geo\":{\"bgcolor\":\"white\",\"lakecolor\":\"white\",\"landcolor\":\"#E5ECF6\",\"showlakes\":true,\"showland\":true,\"subunitcolor\":\"white\"},\"hoverlabel\":{\"align\":\"left\"},\"hovermode\":\"closest\",\"mapbox\":{\"style\":\"light\"},\"paper_bgcolor\":\"white\",\"plot_bgcolor\":\"#E5ECF6\",\"polar\":{\"angularaxis\":{\"gridcolor\":\"white\",\"linecolor\":\"white\",\"ticks\":\"\"},\"bgcolor\":\"#E5ECF6\",\"radialaxis\":{\"gridcolor\":\"white\",\"linecolor\":\"white\",\"ticks\":\"\"}},\"scene\":{\"xaxis\":{\"backgroundcolor\":\"#E5ECF6\",\"gridcolor\":\"white\",\"gridwidth\":2,\"linecolor\":\"white\",\"showbackground\":true,\"ticks\":\"\",\"zerolinecolor\":\"white\"},\"yaxis\":{\"backgroundcolor\":\"#E5ECF6\",\"gridcolor\":\"white\",\"gridwidth\":2,\"linecolor\":\"white\",\"showbackground\":true,\"ticks\":\"\",\"zerolinecolor\":\"white\"},\"zaxis\":{\"backgroundcolor\":\"#E5ECF6\",\"gridcolor\":\"white\",\"gridwidth\":2,\"linecolor\":\"white\",\"showbackground\":true,\"ticks\":\"\",\"zerolinecolor\":\"white\"}},\"shapedefaults\":{\"line\":{\"color\":\"#2a3f5f\"}},\"ternary\":{\"aaxis\":{\"gridcolor\":\"white\",\"linecolor\":\"white\",\"ticks\":\"\"},\"baxis\":{\"gridcolor\":\"white\",\"linecolor\":\"white\",\"ticks\":\"\"},\"bgcolor\":\"#E5ECF6\",\"caxis\":{\"gridcolor\":\"white\",\"linecolor\":\"white\",\"ticks\":\"\"}},\"title\":{\"x\":0.05},\"xaxis\":{\"automargin\":true,\"gridcolor\":\"white\",\"linecolor\":\"white\",\"ticks\":\"\",\"title\":{\"standoff\":15},\"zerolinecolor\":\"white\",\"zerolinewidth\":2},\"yaxis\":{\"automargin\":true,\"gridcolor\":\"white\",\"linecolor\":\"white\",\"ticks\":\"\",\"title\":{\"standoff\":15},\"zerolinecolor\":\"white\",\"zerolinewidth\":2}}},\"margin\":{\"t\":50,\"l\":200}},                        {\"responsive\": true}                    ).then(function(){\n",
              "                            \n",
              "var gd = document.getElementById('0d8dfb1f-bf2c-4456-a0e3-ffb7e55acfdb');\n",
              "var x = new MutationObserver(function (mutations, observer) {{\n",
              "        var display = window.getComputedStyle(gd).display;\n",
              "        if (!display || display === 'none') {{\n",
              "            console.log([gd, 'removed!']);\n",
              "            Plotly.purge(gd);\n",
              "            observer.disconnect();\n",
              "        }}\n",
              "}});\n",
              "\n",
              "// Listen for the removal of the full notebook cells\n",
              "var notebookContainer = gd.closest('#notebook-container');\n",
              "if (notebookContainer) {{\n",
              "    x.observe(notebookContainer, {childList: true});\n",
              "}}\n",
              "\n",
              "// Listen for the clearing of the current output cell\n",
              "var outputEl = gd.closest('.output');\n",
              "if (outputEl) {{\n",
              "    x.observe(outputEl, {childList: true});\n",
              "}}\n",
              "\n",
              "                        })                };                            </script>        </div>\n",
              "</body>\n",
              "</html>"
            ]
          },
          "metadata": {}
        },
        {
          "output_type": "stream",
          "name": "stdout",
          "text": [
            "epoch: 1  squared_error  train_acc : 0.8611666666666666 valid_acc : 0.863 test_acc : 0.8465\n",
            "epoch: 2  squared_error  train_acc : 0.8753333333333333 valid_acc : 0.8728333333333333 test_acc : 0.8572\n",
            "epoch: 3  squared_error  train_acc : 0.8838703703703704 valid_acc : 0.876 test_acc : 0.8642\n",
            "epoch: 4  squared_error  train_acc : 0.8917592592592593 valid_acc : 0.8781666666666667 test_acc : 0.8675\n",
            "epoch: 5  squared_error  train_acc : 0.8925740740740741 valid_acc : 0.8783333333333333 test_acc : 0.862\n"
          ]
        },
        {
          "output_type": "display_data",
          "data": {
            "image/png": "[encoded data removed]",
            "text/plain": [
              "<Figure size 900x432 with 10 Axes>"
            ]
          },
          "metadata": {
            "needs_background": "light"
          }
        },
        {
          "output_type": "display_data",
          "data": {
            "text/html": [
              "<br/>Waiting for W&B process to finish, PID 2007... <strong style=\"color:green\">(success).</strong>"
            ],
            "text/plain": [
              "<IPython.core.display.HTML object>"
            ]
          },
          "metadata": {}
        },
        {
          "output_type": "display_data",
          "data": {
            "application/vnd.jupyter.widget-view+json": {
              "model_id": "6b06bb7436eb41f1b1c572d4295b892f",
              "version_minor": 0,
              "version_major": 2
            },
            "text/plain": [
              "VBox(children=(Label(value=' 0.03MB of 0.03MB uploaded (0.00MB deduped)\\r'), FloatProgress(value=1.0, max=1.0)…"
            ]
          },
          "metadata": {}
        },
        {
          "output_type": "display_data",
          "data": {
            "text/html": [
              "<style>\n",
              "    table.wandb td:nth-child(1) { padding: 0 10px; text-align: right }\n",
              "    .wandb-row { display: flex; flex-direction: row; flex-wrap: wrap; width: 100% }\n",
              "    .wandb-col { display: flex; flex-direction: column; flex-basis: 100%; flex: 1; padding: 10px; }\n",
              "    </style>\n",
              "<div class=\"wandb-row\"><div class=\"wandb-col\">\n",
              "<h3>Run history:</h3><br/><table class=\"wandb\"><tr><td>Epoch</td><td>▁▃▅▆█</td></tr><tr><td>Train Acc</td><td>▁▃▅▇█</td></tr><tr><td>Train Acc (squared_error)</td><td>▁▄▆██</td></tr><tr><td>Train Loss</td><td>█▅▃▂▁</td></tr><tr><td>Train Loss (squared_error)</td><td>█▅▃▁▁</td></tr><tr><td>Valid Acc</td><td>▁▄▇▇█</td></tr><tr><td>Valid Acc (squared_error)</td><td>▁▅▇██</td></tr><tr><td>Valid Loss</td><td>█▅▃▁▁</td></tr><tr><td>Valid Loss (squared_error)</td><td>█▄▂▁▁</td></tr><tr><td>test_acc</td><td>▁</td></tr><tr><td>test_acc (squared error)</td><td>▁</td></tr><tr><td>test_loss</td><td>▁</td></tr><tr><td>test_loss (squared error)</td><td>▁</td></tr></table><br/></div><div class=\"wandb-col\">\n",
              "<h3>Run summary:</h3><br/><table class=\"wandb\"><tr><td>Epoch</td><td>5</td></tr><tr><td>Train Acc</td><td>0.90226</td></tr><tr><td>Train Acc (squared_error)</td><td>0.89257</td></tr><tr><td>Train Loss</td><td>0.26436</td></tr><tr><td>Train Loss (squared_error)</td><td>0.16284</td></tr><tr><td>Valid Acc</td><td>0.89217</td></tr><tr><td>Valid Acc (squared_error)</td><td>0.87833</td></tr><tr><td>Valid Loss</td><td>0.3095</td></tr><tr><td>Valid Loss (squared_error)</td><td>0.1794</td></tr><tr><td>test_acc</td><td>0.8722</td></tr><tr><td>test_acc (squared error)</td><td>0.862</td></tr><tr><td>test_loss</td><td>0.35114</td></tr><tr><td>test_loss (squared error)</td><td>0.20488</td></tr></table>\n",
              "</div></div>\n",
              "Synced 5 W&B file(s), 11 media file(s), 0 artifact file(s) and 0 other file(s)\n",
              "<br/>Synced <strong style=\"color:#cdcd00\">curious-sweep-1</strong>: <a href=\"https://wandb.ai/cs21m027_cs21m011/DL_ASG_1_final/runs/f0zebrsc\" target=\"_blank\">https://wandb.ai/cs21m027_cs21m011/DL_ASG_1_final/runs/f0zebrsc</a><br/>\n",
              "Find logs at: <code>./wandb/run-20220224_092744-f0zebrsc/logs</code><br/>\n"
            ],
            "text/plain": [
              "<IPython.core.display.HTML object>"
            ]
          },
          "metadata": {}
        },
        {
          "output_type": "stream",
          "name": "stderr",
          "text": [
            "\u001b[34m\u001b[1mwandb\u001b[0m: Sweep Agent: Waiting for job.\n",
            "\u001b[34m\u001b[1mwandb\u001b[0m: Sweep Agent: Exiting.\n"
          ]
        }
      ]
    },
    {
      "cell_type": "code",
      "source": [
        ""
      ],
      "metadata": {
        "id": "PDGITDvOCL2w"
      },
      "execution_count": null,
      "outputs": []
    },
    {
      "cell_type": "code",
      "source": [
        ""
      ],
      "metadata": {
        "id": "ICK8eMTr0hIe"
      },
      "execution_count": null,
      "outputs": []
    },
    {
      "cell_type": "code",
      "source": [
        ""
      ],
      "metadata": {
        "id": "O8bgYO4E0hK3"
      },
      "execution_count": null,
      "outputs": []
    },
    {
      "cell_type": "markdown",
      "source": [
        "#NAG BEST MODEL With cross_entropy and sq_error loss functions"
      ],
      "metadata": {
        "id": "uh1Gdmp2kTTh"
      }
    },
    {
      "cell_type": "code",
      "source": [
        "#wandb.agent(sweep_id, train)"
      ],
      "metadata": {
        "colab": {
          "base_uri": "https://localhost:8080/",
          "height": 1000,
          "referenced_widgets": [
            "e2ba29b3b6e448b0bbd5a6bc6fd0c89f",
            "6b664067c8524beabb8cfb20a928101a",
            "5cd4e44525304028860e51936ce2db78",
            "45dd4c7e7cc84456b2cd641c500a847b",
            "ec0cf584b21a4b6c850a256730287668",
            "d6692a71d2844839b9e92a61534a720d",
            "a293ad13d77f444bb72d089a63e06bc6",
            "37c4108ed9b440718def73d0c0dfdde7"
          ]
        },
        "id": "uxM0fyvukbIB",
        "outputId": "6c925868-7f46-4114-8b8b-3eca0c8c2ced"
      },
      "execution_count": 58,
      "outputs": [
        {
          "output_type": "stream",
          "name": "stderr",
          "text": [
            "\u001b[34m\u001b[1mwandb\u001b[0m: Agent Starting Run: ctcp55kj with config:\n",
            "\u001b[34m\u001b[1mwandb\u001b[0m: \tact_fun: relu\n",
            "\u001b[34m\u001b[1mwandb\u001b[0m: \talpha: 0\n",
            "\u001b[34m\u001b[1mwandb\u001b[0m: \tbatch_size: 32\n",
            "\u001b[34m\u001b[1mwandb\u001b[0m: \tepochs: 5\n",
            "\u001b[34m\u001b[1mwandb\u001b[0m: \teta: 0.001\n",
            "\u001b[34m\u001b[1mwandb\u001b[0m: \thidden_layer_size: 128\n",
            "\u001b[34m\u001b[1mwandb\u001b[0m: \thidden_layers: 3\n",
            "\u001b[34m\u001b[1mwandb\u001b[0m: \toptimizer: nag\n",
            "\u001b[34m\u001b[1mwandb\u001b[0m: \tstrat: xavier\n"
          ]
        },
        {
          "output_type": "display_data",
          "data": {
            "text/html": [
              "\n",
              "                    Syncing run <strong><a href=\"https://wandb.ai/cs21m027_cs21m011/DL_ASG_1_final/runs/ctcp55kj\" target=\"_blank\">snowy-sweep-1</a></strong> to <a href=\"https://wandb.ai/cs21m027_cs21m011/DL_ASG_1_final\" target=\"_blank\">Weights & Biases</a> (<a href=\"https://docs.wandb.com/integrations/jupyter.html\" target=\"_blank\">docs</a>).<br/>\n",
              "Sweep page: <a href=\"https://wandb.ai/cs21m027_cs21m011/DL_ASG_1_final/sweeps/t6o3vaqi\" target=\"_blank\">https://wandb.ai/cs21m027_cs21m011/DL_ASG_1_final/sweeps/t6o3vaqi</a><br/>\n",
              "\n",
              "                "
            ],
            "text/plain": [
              "<IPython.core.display.HTML object>"
            ]
          },
          "metadata": {}
        },
        {
          "output_type": "stream",
          "name": "stdout",
          "text": [
            "epoch: 1  cross_entropy  train_acc : 0.8492962962962963 valid_acc : 0.8493333333333334 test_acc : 0.8339\n",
            "epoch: 2  cross_entropy  train_acc : 0.866462962962963 valid_acc : 0.8666666666666667 test_acc : 0.8479\n",
            "epoch: 3  cross_entropy  train_acc : 0.8736481481481482 valid_acc : 0.865 test_acc : 0.8514\n",
            "epoch: 4  cross_entropy  train_acc : 0.8805185185185185 valid_acc : 0.8678333333333333 test_acc : 0.8557\n",
            "epoch: 5  cross_entropy  train_acc : 0.8838518518518519 valid_acc : 0.8725 test_acc : 0.8588\n"
          ]
        },
        {
          "output_type": "display_data",
          "data": {
            "text/html": [
              "<html>\n",
              "<head><meta charset=\"utf-8\" /></head>\n",
              "<body>\n",
              "    <div>            <script src=\"https://cdnjs.cloudflare.com/ajax/libs/mathjax/2.7.5/MathJax.js?config=TeX-AMS-MML_SVG\"></script><script type=\"text/javascript\">if (window.MathJax) {MathJax.Hub.Config({SVG: {font: \"STIX-Web\"}});}</script>                <script type=\"text/javascript\">window.PlotlyConfig = {MathJaxConfig: 'local'};</script>\n",
              "        <script src=\"https://cdn.plot.ly/plotly-2.8.3.min.js\"></script>                <div id=\"a7a7affe-5202-4192-92ae-2d107cf96f78\" class=\"plotly-graph-div\" style=\"height:525px; width:100%;\"></div>            <script type=\"text/javascript\">                                    window.PLOTLYENV=window.PLOTLYENV || {};                                    if (document.getElementById(\"a7a7affe-5202-4192-92ae-2d107cf96f78\")) {                    Plotly.newPlot(                        \"a7a7affe-5202-4192-92ae-2d107cf96f78\",                        [{\"colorscale\":[[0.0,\"rgb(29, 79, 96)\"],[0.16666666666666666,\"rgb(38, 107, 110)\"],[0.3333333333333333,\"rgb(54, 135, 122)\"],[0.5,\"rgb(77, 162, 132)\"],[0.6666666666666666,\"rgb(109, 188, 144)\"],[0.8333333333333334,\"rgb(150, 210, 164)\"],[1.0,\"rgb(196, 230, 195)\"]],\"hoverinfo\":\"text\",\"reversescale\":false,\"showscale\":true,\"text\":[[\"849 T-shirt/Top are correctly classified\",\"\",\"7 T-shirt/Top are wrongly classified as Pullover\",\"11 T-shirt/Top are wrongly classified as Dress\",\"6 T-shirt/Top are wrongly classified as Coat\",\"\",\"117 T-shirt/Top are wrongly classified as Shirt\",\"\",\"10 T-shirt/Top are wrongly classified as Bag\",\"\"],[\"12 Trouser are wrongly classified as T-shirt/Top\",\"954 Trouser are correctly classified\",\"\",\"27 Trouser are wrongly classified as Dress\",\"3 Trouser are wrongly classified as Coat\",\"\",\"2 Trouser are wrongly classified as Shirt\",\"\",\"2 Trouser are wrongly classified as Bag\",\"\"],[\"17 Pullover are wrongly classified as T-shirt/Top\",\"\",\"634 Pullover are correctly classified\",\"11 Pullover are wrongly classified as Dress\",\"116 Pullover are wrongly classified as Coat\",\"3 Pullover are wrongly classified as Sandal\",\"215 Pullover are wrongly classified as Shirt\",\"1 Pullover are wrongly classified as Sneaker\",\"3 Pullover are wrongly classified as Bag\",\"\"],[\"67 Dress are wrongly classified as T-shirt/Top\",\"3 Dress are wrongly classified as Trouser\",\"6 Dress are wrongly classified as Pullover\",\"841 Dress are correctly classified\",\"44 Dress are wrongly classified as Coat\",\"1 Dress are wrongly classified as Sandal\",\"31 Dress are wrongly classified as Shirt\",\"\",\"7 Dress are wrongly classified as Bag\",\"\"],[\"\",\"2 Coat are wrongly classified as Trouser\",\"54 Coat are wrongly classified as Pullover\",\"20 Coat are wrongly classified as Dress\",\"791 Coat are correctly classified\",\"1 Coat are wrongly classified as Sandal\",\"128 Coat are wrongly classified as Shirt\",\"\",\"4 Coat are wrongly classified as Bag\",\"\"],[\"1 Sandal are wrongly classified as T-shirt/Top\",\"\",\"\",\"\",\"\",\"942 Sandal are correctly classified\",\"\",\"24 Sandal are wrongly classified as Sneaker\",\"6 Sandal are wrongly classified as Bag\",\"27 Sandal are wrongly classified as Ankle Boot\"],[\"158 Shirt are wrongly classified as T-shirt/Top\",\"1 Shirt are wrongly classified as Trouser\",\"22 Shirt are wrongly classified as Pullover\",\"28 Shirt are wrongly classified as Dress\",\"55 Shirt are wrongly classified as Coat\",\"\",\"726 Shirt are correctly classified\",\"\",\"10 Shirt are wrongly classified as Bag\",\"\"],[\"\",\"\",\"\",\"\",\"\",\"31 Sneaker are wrongly classified as Sandal\",\"\",\"931 Sneaker are correctly classified\",\"2 Sneaker are wrongly classified as Bag\",\"36 Sneaker are wrongly classified as Ankle Boot\"],[\"6 Bag are wrongly classified as T-shirt/Top\",\"\",\"1 Bag are wrongly classified as Pullover\",\"3 Bag are wrongly classified as Dress\",\"5 Bag are wrongly classified as Coat\",\"7 Bag are wrongly classified as Sandal\",\"11 Bag are wrongly classified as Shirt\",\"2 Bag are wrongly classified as Sneaker\",\"965 Bag are correctly classified\",\"\"],[\"\",\"\",\"\",\"\",\"\",\"6 Ankle Boot are wrongly classified as Sandal\",\"1 Ankle Boot are wrongly classified as Shirt\",\"38 Ankle Boot are wrongly classified as Sneaker\",\"\",\"955 Ankle Boot are correctly classified\"]],\"x\":[\"T-shirt/Top\",\"Trouser\",\"Pullover\",\"Dress\",\"Coat\",\"Sandal\",\"Shirt\",\"Sneaker\",\"Bag\",\"Ankle Boot\"],\"y\":[\"T-shirt/Top\",\"Trouser\",\"Pullover\",\"Dress\",\"Coat\",\"Sandal\",\"Shirt\",\"Sneaker\",\"Bag\",\"Ankle Boot\"],\"z\":[[849,0,7,11,6,0,117,0,10,0],[12,954,0,27,3,0,2,0,2,0],[17,0,634,11,116,3,215,1,3,0],[67,3,6,841,44,1,31,0,7,0],[0,2,54,20,791,1,128,0,4,0],[1,0,0,0,0,942,0,24,6,27],[158,1,22,28,55,0,726,0,10,0],[0,0,0,0,0,31,0,931,2,36],[6,0,1,3,5,7,11,2,965,0],[0,0,0,0,0,6,1,38,0,955]],\"type\":\"heatmap\"}],                        {\"annotations\":[{\"font\":{\"color\":\"#000000\",\"size\":14},\"showarrow\":false,\"text\":\"84.9% <br> 849/1000\",\"x\":\"T-shirt/Top\",\"xref\":\"x\",\"y\":\"T-shirt/Top\",\"yref\":\"y\"},{\"font\":{\"color\":\"#FFFFFF\",\"size\":14},\"showarrow\":false,\"text\":\"\",\"x\":\"Trouser\",\"xref\":\"x\",\"y\":\"T-shirt/Top\",\"yref\":\"y\"},{\"font\":{\"color\":\"#FFFFFF\",\"size\":14},\"showarrow\":false,\"text\":\"0.7% <br> 7\",\"x\":\"Pullover\",\"xref\":\"x\",\"y\":\"T-shirt/Top\",\"yref\":\"y\"},{\"font\":{\"color\":\"#FFFFFF\",\"size\":14},\"showarrow\":false,\"text\":\"1.1% <br> 11\",\"x\":\"Dress\",\"xref\":\"x\",\"y\":\"T-shirt/Top\",\"yref\":\"y\"},{\"font\":{\"color\":\"#FFFFFF\",\"size\":14},\"showarrow\":false,\"text\":\"0.6% <br> 6\",\"x\":\"Coat\",\"xref\":\"x\",\"y\":\"T-shirt/Top\",\"yref\":\"y\"},{\"font\":{\"color\":\"#FFFFFF\",\"size\":14},\"showarrow\":false,\"text\":\"\",\"x\":\"Sandal\",\"xref\":\"x\",\"y\":\"T-shirt/Top\",\"yref\":\"y\"},{\"font\":{\"color\":\"#FFFFFF\",\"size\":14},\"showarrow\":false,\"text\":\"11.7% <br> 117\",\"x\":\"Shirt\",\"xref\":\"x\",\"y\":\"T-shirt/Top\",\"yref\":\"y\"},{\"font\":{\"color\":\"#FFFFFF\",\"size\":14},\"showarrow\":false,\"text\":\"\",\"x\":\"Sneaker\",\"xref\":\"x\",\"y\":\"T-shirt/Top\",\"yref\":\"y\"},{\"font\":{\"color\":\"#FFFFFF\",\"size\":14},\"showarrow\":false,\"text\":\"1.0% <br> 10\",\"x\":\"Bag\",\"xref\":\"x\",\"y\":\"T-shirt/Top\",\"yref\":\"y\"},{\"font\":{\"color\":\"#FFFFFF\",\"size\":14},\"showarrow\":false,\"text\":\"\",\"x\":\"Ankle Boot\",\"xref\":\"x\",\"y\":\"T-shirt/Top\",\"yref\":\"y\"},{\"font\":{\"color\":\"#FFFFFF\",\"size\":14},\"showarrow\":false,\"text\":\"1.2% <br> 12\",\"x\":\"T-shirt/Top\",\"xref\":\"x\",\"y\":\"Trouser\",\"yref\":\"y\"},{\"font\":{\"color\":\"#000000\",\"size\":14},\"showarrow\":false,\"text\":\"95.4% <br> 954/1000\",\"x\":\"Trouser\",\"xref\":\"x\",\"y\":\"Trouser\",\"yref\":\"y\"},{\"font\":{\"color\":\"#FFFFFF\",\"size\":14},\"showarrow\":false,\"text\":\"\",\"x\":\"Pullover\",\"xref\":\"x\",\"y\":\"Trouser\",\"yref\":\"y\"},{\"font\":{\"color\":\"#FFFFFF\",\"size\":14},\"showarrow\":false,\"text\":\"2.7% <br> 27\",\"x\":\"Dress\",\"xref\":\"x\",\"y\":\"Trouser\",\"yref\":\"y\"},{\"font\":{\"color\":\"#FFFFFF\",\"size\":14},\"showarrow\":false,\"text\":\"0.3% <br> 3\",\"x\":\"Coat\",\"xref\":\"x\",\"y\":\"Trouser\",\"yref\":\"y\"},{\"font\":{\"color\":\"#FFFFFF\",\"size\":14},\"showarrow\":false,\"text\":\"\",\"x\":\"Sandal\",\"xref\":\"x\",\"y\":\"Trouser\",\"yref\":\"y\"},{\"font\":{\"color\":\"#FFFFFF\",\"size\":14},\"showarrow\":false,\"text\":\"0.2% <br> 2\",\"x\":\"Shirt\",\"xref\":\"x\",\"y\":\"Trouser\",\"yref\":\"y\"},{\"font\":{\"color\":\"#FFFFFF\",\"size\":14},\"showarrow\":false,\"text\":\"\",\"x\":\"Sneaker\",\"xref\":\"x\",\"y\":\"Trouser\",\"yref\":\"y\"},{\"font\":{\"color\":\"#FFFFFF\",\"size\":14},\"showarrow\":false,\"text\":\"0.2% <br> 2\",\"x\":\"Bag\",\"xref\":\"x\",\"y\":\"Trouser\",\"yref\":\"y\"},{\"font\":{\"color\":\"#FFFFFF\",\"size\":14},\"showarrow\":false,\"text\":\"\",\"x\":\"Ankle Boot\",\"xref\":\"x\",\"y\":\"Trouser\",\"yref\":\"y\"},{\"font\":{\"color\":\"#FFFFFF\",\"size\":14},\"showarrow\":false,\"text\":\"1.7% <br> 17\",\"x\":\"T-shirt/Top\",\"xref\":\"x\",\"y\":\"Pullover\",\"yref\":\"y\"},{\"font\":{\"color\":\"#FFFFFF\",\"size\":14},\"showarrow\":false,\"text\":\"\",\"x\":\"Trouser\",\"xref\":\"x\",\"y\":\"Pullover\",\"yref\":\"y\"},{\"font\":{\"color\":\"#000000\",\"size\":14},\"showarrow\":false,\"text\":\"63.4% <br> 634/1000\",\"x\":\"Pullover\",\"xref\":\"x\",\"y\":\"Pullover\",\"yref\":\"y\"},{\"font\":{\"color\":\"#FFFFFF\",\"size\":14},\"showarrow\":false,\"text\":\"1.1% <br> 11\",\"x\":\"Dress\",\"xref\":\"x\",\"y\":\"Pullover\",\"yref\":\"y\"},{\"font\":{\"color\":\"#FFFFFF\",\"size\":14},\"showarrow\":false,\"text\":\"11.6% <br> 116\",\"x\":\"Coat\",\"xref\":\"x\",\"y\":\"Pullover\",\"yref\":\"y\"},{\"font\":{\"color\":\"#FFFFFF\",\"size\":14},\"showarrow\":false,\"text\":\"0.3% <br> 3\",\"x\":\"Sandal\",\"xref\":\"x\",\"y\":\"Pullover\",\"yref\":\"y\"},{\"font\":{\"color\":\"#FFFFFF\",\"size\":14},\"showarrow\":false,\"text\":\"21.5% <br> 215\",\"x\":\"Shirt\",\"xref\":\"x\",\"y\":\"Pullover\",\"yref\":\"y\"},{\"font\":{\"color\":\"#FFFFFF\",\"size\":14},\"showarrow\":false,\"text\":\"0.1% <br> 1\",\"x\":\"Sneaker\",\"xref\":\"x\",\"y\":\"Pullover\",\"yref\":\"y\"},{\"font\":{\"color\":\"#FFFFFF\",\"size\":14},\"showarrow\":false,\"text\":\"0.3% <br> 3\",\"x\":\"Bag\",\"xref\":\"x\",\"y\":\"Pullover\",\"yref\":\"y\"},{\"font\":{\"color\":\"#FFFFFF\",\"size\":14},\"showarrow\":false,\"text\":\"\",\"x\":\"Ankle Boot\",\"xref\":\"x\",\"y\":\"Pullover\",\"yref\":\"y\"},{\"font\":{\"color\":\"#FFFFFF\",\"size\":14},\"showarrow\":false,\"text\":\"6.7% <br> 67\",\"x\":\"T-shirt/Top\",\"xref\":\"x\",\"y\":\"Dress\",\"yref\":\"y\"},{\"font\":{\"color\":\"#FFFFFF\",\"size\":14},\"showarrow\":false,\"text\":\"0.3% <br> 3\",\"x\":\"Trouser\",\"xref\":\"x\",\"y\":\"Dress\",\"yref\":\"y\"},{\"font\":{\"color\":\"#FFFFFF\",\"size\":14},\"showarrow\":false,\"text\":\"0.6% <br> 6\",\"x\":\"Pullover\",\"xref\":\"x\",\"y\":\"Dress\",\"yref\":\"y\"},{\"font\":{\"color\":\"#000000\",\"size\":14},\"showarrow\":false,\"text\":\"84.1% <br> 841/1000\",\"x\":\"Dress\",\"xref\":\"x\",\"y\":\"Dress\",\"yref\":\"y\"},{\"font\":{\"color\":\"#FFFFFF\",\"size\":14},\"showarrow\":false,\"text\":\"4.4% <br> 44\",\"x\":\"Coat\",\"xref\":\"x\",\"y\":\"Dress\",\"yref\":\"y\"},{\"font\":{\"color\":\"#FFFFFF\",\"size\":14},\"showarrow\":false,\"text\":\"0.1% <br> 1\",\"x\":\"Sandal\",\"xref\":\"x\",\"y\":\"Dress\",\"yref\":\"y\"},{\"font\":{\"color\":\"#FFFFFF\",\"size\":14},\"showarrow\":false,\"text\":\"3.1% <br> 31\",\"x\":\"Shirt\",\"xref\":\"x\",\"y\":\"Dress\",\"yref\":\"y\"},{\"font\":{\"color\":\"#FFFFFF\",\"size\":14},\"showarrow\":false,\"text\":\"\",\"x\":\"Sneaker\",\"xref\":\"x\",\"y\":\"Dress\",\"yref\":\"y\"},{\"font\":{\"color\":\"#FFFFFF\",\"size\":14},\"showarrow\":false,\"text\":\"0.7% <br> 7\",\"x\":\"Bag\",\"xref\":\"x\",\"y\":\"Dress\",\"yref\":\"y\"},{\"font\":{\"color\":\"#FFFFFF\",\"size\":14},\"showarrow\":false,\"text\":\"\",\"x\":\"Ankle Boot\",\"xref\":\"x\",\"y\":\"Dress\",\"yref\":\"y\"},{\"font\":{\"color\":\"#FFFFFF\",\"size\":14},\"showarrow\":false,\"text\":\"\",\"x\":\"T-shirt/Top\",\"xref\":\"x\",\"y\":\"Coat\",\"yref\":\"y\"},{\"font\":{\"color\":\"#FFFFFF\",\"size\":14},\"showarrow\":false,\"text\":\"0.2% <br> 2\",\"x\":\"Trouser\",\"xref\":\"x\",\"y\":\"Coat\",\"yref\":\"y\"},{\"font\":{\"color\":\"#FFFFFF\",\"size\":14},\"showarrow\":false,\"text\":\"5.4% <br> 54\",\"x\":\"Pullover\",\"xref\":\"x\",\"y\":\"Coat\",\"yref\":\"y\"},{\"font\":{\"color\":\"#FFFFFF\",\"size\":14},\"showarrow\":false,\"text\":\"2.0% <br> 20\",\"x\":\"Dress\",\"xref\":\"x\",\"y\":\"Coat\",\"yref\":\"y\"},{\"font\":{\"color\":\"#000000\",\"size\":14},\"showarrow\":false,\"text\":\"79.1% <br> 791/1000\",\"x\":\"Coat\",\"xref\":\"x\",\"y\":\"Coat\",\"yref\":\"y\"},{\"font\":{\"color\":\"#FFFFFF\",\"size\":14},\"showarrow\":false,\"text\":\"0.1% <br> 1\",\"x\":\"Sandal\",\"xref\":\"x\",\"y\":\"Coat\",\"yref\":\"y\"},{\"font\":{\"color\":\"#FFFFFF\",\"size\":14},\"showarrow\":false,\"text\":\"12.8% <br> 128\",\"x\":\"Shirt\",\"xref\":\"x\",\"y\":\"Coat\",\"yref\":\"y\"},{\"font\":{\"color\":\"#FFFFFF\",\"size\":14},\"showarrow\":false,\"text\":\"\",\"x\":\"Sneaker\",\"xref\":\"x\",\"y\":\"Coat\",\"yref\":\"y\"},{\"font\":{\"color\":\"#FFFFFF\",\"size\":14},\"showarrow\":false,\"text\":\"0.4% <br> 4\",\"x\":\"Bag\",\"xref\":\"x\",\"y\":\"Coat\",\"yref\":\"y\"},{\"font\":{\"color\":\"#FFFFFF\",\"size\":14},\"showarrow\":false,\"text\":\"\",\"x\":\"Ankle Boot\",\"xref\":\"x\",\"y\":\"Coat\",\"yref\":\"y\"},{\"font\":{\"color\":\"#FFFFFF\",\"size\":14},\"showarrow\":false,\"text\":\"0.1% <br> 1\",\"x\":\"T-shirt/Top\",\"xref\":\"x\",\"y\":\"Sandal\",\"yref\":\"y\"},{\"font\":{\"color\":\"#FFFFFF\",\"size\":14},\"showarrow\":false,\"text\":\"\",\"x\":\"Trouser\",\"xref\":\"x\",\"y\":\"Sandal\",\"yref\":\"y\"},{\"font\":{\"color\":\"#FFFFFF\",\"size\":14},\"showarrow\":false,\"text\":\"\",\"x\":\"Pullover\",\"xref\":\"x\",\"y\":\"Sandal\",\"yref\":\"y\"},{\"font\":{\"color\":\"#FFFFFF\",\"size\":14},\"showarrow\":false,\"text\":\"\",\"x\":\"Dress\",\"xref\":\"x\",\"y\":\"Sandal\",\"yref\":\"y\"},{\"font\":{\"color\":\"#FFFFFF\",\"size\":14},\"showarrow\":false,\"text\":\"\",\"x\":\"Coat\",\"xref\":\"x\",\"y\":\"Sandal\",\"yref\":\"y\"},{\"font\":{\"color\":\"#000000\",\"size\":14},\"showarrow\":false,\"text\":\"94.2% <br> 942/1000\",\"x\":\"Sandal\",\"xref\":\"x\",\"y\":\"Sandal\",\"yref\":\"y\"},{\"font\":{\"color\":\"#FFFFFF\",\"size\":14},\"showarrow\":false,\"text\":\"\",\"x\":\"Shirt\",\"xref\":\"x\",\"y\":\"Sandal\",\"yref\":\"y\"},{\"font\":{\"color\":\"#FFFFFF\",\"size\":14},\"showarrow\":false,\"text\":\"2.4% <br> 24\",\"x\":\"Sneaker\",\"xref\":\"x\",\"y\":\"Sandal\",\"yref\":\"y\"},{\"font\":{\"color\":\"#FFFFFF\",\"size\":14},\"showarrow\":false,\"text\":\"0.6% <br> 6\",\"x\":\"Bag\",\"xref\":\"x\",\"y\":\"Sandal\",\"yref\":\"y\"},{\"font\":{\"color\":\"#FFFFFF\",\"size\":14},\"showarrow\":false,\"text\":\"2.7% <br> 27\",\"x\":\"Ankle Boot\",\"xref\":\"x\",\"y\":\"Sandal\",\"yref\":\"y\"},{\"font\":{\"color\":\"#FFFFFF\",\"size\":14},\"showarrow\":false,\"text\":\"15.8% <br> 158\",\"x\":\"T-shirt/Top\",\"xref\":\"x\",\"y\":\"Shirt\",\"yref\":\"y\"},{\"font\":{\"color\":\"#FFFFFF\",\"size\":14},\"showarrow\":false,\"text\":\"0.1% <br> 1\",\"x\":\"Trouser\",\"xref\":\"x\",\"y\":\"Shirt\",\"yref\":\"y\"},{\"font\":{\"color\":\"#FFFFFF\",\"size\":14},\"showarrow\":false,\"text\":\"2.2% <br> 22\",\"x\":\"Pullover\",\"xref\":\"x\",\"y\":\"Shirt\",\"yref\":\"y\"},{\"font\":{\"color\":\"#FFFFFF\",\"size\":14},\"showarrow\":false,\"text\":\"2.8% <br> 28\",\"x\":\"Dress\",\"xref\":\"x\",\"y\":\"Shirt\",\"yref\":\"y\"},{\"font\":{\"color\":\"#FFFFFF\",\"size\":14},\"showarrow\":false,\"text\":\"5.5% <br> 55\",\"x\":\"Coat\",\"xref\":\"x\",\"y\":\"Shirt\",\"yref\":\"y\"},{\"font\":{\"color\":\"#FFFFFF\",\"size\":14},\"showarrow\":false,\"text\":\"\",\"x\":\"Sandal\",\"xref\":\"x\",\"y\":\"Shirt\",\"yref\":\"y\"},{\"font\":{\"color\":\"#000000\",\"size\":14},\"showarrow\":false,\"text\":\"72.6% <br> 726/1000\",\"x\":\"Shirt\",\"xref\":\"x\",\"y\":\"Shirt\",\"yref\":\"y\"},{\"font\":{\"color\":\"#FFFFFF\",\"size\":14},\"showarrow\":false,\"text\":\"\",\"x\":\"Sneaker\",\"xref\":\"x\",\"y\":\"Shirt\",\"yref\":\"y\"},{\"font\":{\"color\":\"#FFFFFF\",\"size\":14},\"showarrow\":false,\"text\":\"1.0% <br> 10\",\"x\":\"Bag\",\"xref\":\"x\",\"y\":\"Shirt\",\"yref\":\"y\"},{\"font\":{\"color\":\"#FFFFFF\",\"size\":14},\"showarrow\":false,\"text\":\"\",\"x\":\"Ankle Boot\",\"xref\":\"x\",\"y\":\"Shirt\",\"yref\":\"y\"},{\"font\":{\"color\":\"#FFFFFF\",\"size\":14},\"showarrow\":false,\"text\":\"\",\"x\":\"T-shirt/Top\",\"xref\":\"x\",\"y\":\"Sneaker\",\"yref\":\"y\"},{\"font\":{\"color\":\"#FFFFFF\",\"size\":14},\"showarrow\":false,\"text\":\"\",\"x\":\"Trouser\",\"xref\":\"x\",\"y\":\"Sneaker\",\"yref\":\"y\"},{\"font\":{\"color\":\"#FFFFFF\",\"size\":14},\"showarrow\":false,\"text\":\"\",\"x\":\"Pullover\",\"xref\":\"x\",\"y\":\"Sneaker\",\"yref\":\"y\"},{\"font\":{\"color\":\"#FFFFFF\",\"size\":14},\"showarrow\":false,\"text\":\"\",\"x\":\"Dress\",\"xref\":\"x\",\"y\":\"Sneaker\",\"yref\":\"y\"},{\"font\":{\"color\":\"#FFFFFF\",\"size\":14},\"showarrow\":false,\"text\":\"\",\"x\":\"Coat\",\"xref\":\"x\",\"y\":\"Sneaker\",\"yref\":\"y\"},{\"font\":{\"color\":\"#FFFFFF\",\"size\":14},\"showarrow\":false,\"text\":\"3.1% <br> 31\",\"x\":\"Sandal\",\"xref\":\"x\",\"y\":\"Sneaker\",\"yref\":\"y\"},{\"font\":{\"color\":\"#FFFFFF\",\"size\":14},\"showarrow\":false,\"text\":\"\",\"x\":\"Shirt\",\"xref\":\"x\",\"y\":\"Sneaker\",\"yref\":\"y\"},{\"font\":{\"color\":\"#000000\",\"size\":14},\"showarrow\":false,\"text\":\"93.1% <br> 931/1000\",\"x\":\"Sneaker\",\"xref\":\"x\",\"y\":\"Sneaker\",\"yref\":\"y\"},{\"font\":{\"color\":\"#FFFFFF\",\"size\":14},\"showarrow\":false,\"text\":\"0.2% <br> 2\",\"x\":\"Bag\",\"xref\":\"x\",\"y\":\"Sneaker\",\"yref\":\"y\"},{\"font\":{\"color\":\"#FFFFFF\",\"size\":14},\"showarrow\":false,\"text\":\"3.6% <br> 36\",\"x\":\"Ankle Boot\",\"xref\":\"x\",\"y\":\"Sneaker\",\"yref\":\"y\"},{\"font\":{\"color\":\"#FFFFFF\",\"size\":14},\"showarrow\":false,\"text\":\"0.6% <br> 6\",\"x\":\"T-shirt/Top\",\"xref\":\"x\",\"y\":\"Bag\",\"yref\":\"y\"},{\"font\":{\"color\":\"#FFFFFF\",\"size\":14},\"showarrow\":false,\"text\":\"\",\"x\":\"Trouser\",\"xref\":\"x\",\"y\":\"Bag\",\"yref\":\"y\"},{\"font\":{\"color\":\"#FFFFFF\",\"size\":14},\"showarrow\":false,\"text\":\"0.1% <br> 1\",\"x\":\"Pullover\",\"xref\":\"x\",\"y\":\"Bag\",\"yref\":\"y\"},{\"font\":{\"color\":\"#FFFFFF\",\"size\":14},\"showarrow\":false,\"text\":\"0.3% <br> 3\",\"x\":\"Dress\",\"xref\":\"x\",\"y\":\"Bag\",\"yref\":\"y\"},{\"font\":{\"color\":\"#FFFFFF\",\"size\":14},\"showarrow\":false,\"text\":\"0.5% <br> 5\",\"x\":\"Coat\",\"xref\":\"x\",\"y\":\"Bag\",\"yref\":\"y\"},{\"font\":{\"color\":\"#FFFFFF\",\"size\":14},\"showarrow\":false,\"text\":\"0.7% <br> 7\",\"x\":\"Sandal\",\"xref\":\"x\",\"y\":\"Bag\",\"yref\":\"y\"},{\"font\":{\"color\":\"#FFFFFF\",\"size\":14},\"showarrow\":false,\"text\":\"1.1% <br> 11\",\"x\":\"Shirt\",\"xref\":\"x\",\"y\":\"Bag\",\"yref\":\"y\"},{\"font\":{\"color\":\"#FFFFFF\",\"size\":14},\"showarrow\":false,\"text\":\"0.2% <br> 2\",\"x\":\"Sneaker\",\"xref\":\"x\",\"y\":\"Bag\",\"yref\":\"y\"},{\"font\":{\"color\":\"#000000\",\"size\":14},\"showarrow\":false,\"text\":\"96.5% <br> 965/1000\",\"x\":\"Bag\",\"xref\":\"x\",\"y\":\"Bag\",\"yref\":\"y\"},{\"font\":{\"color\":\"#FFFFFF\",\"size\":14},\"showarrow\":false,\"text\":\"\",\"x\":\"Ankle Boot\",\"xref\":\"x\",\"y\":\"Bag\",\"yref\":\"y\"},{\"font\":{\"color\":\"#FFFFFF\",\"size\":14},\"showarrow\":false,\"text\":\"\",\"x\":\"T-shirt/Top\",\"xref\":\"x\",\"y\":\"Ankle Boot\",\"yref\":\"y\"},{\"font\":{\"color\":\"#FFFFFF\",\"size\":14},\"showarrow\":false,\"text\":\"\",\"x\":\"Trouser\",\"xref\":\"x\",\"y\":\"Ankle Boot\",\"yref\":\"y\"},{\"font\":{\"color\":\"#FFFFFF\",\"size\":14},\"showarrow\":false,\"text\":\"\",\"x\":\"Pullover\",\"xref\":\"x\",\"y\":\"Ankle Boot\",\"yref\":\"y\"},{\"font\":{\"color\":\"#FFFFFF\",\"size\":14},\"showarrow\":false,\"text\":\"\",\"x\":\"Dress\",\"xref\":\"x\",\"y\":\"Ankle Boot\",\"yref\":\"y\"},{\"font\":{\"color\":\"#FFFFFF\",\"size\":14},\"showarrow\":false,\"text\":\"\",\"x\":\"Coat\",\"xref\":\"x\",\"y\":\"Ankle Boot\",\"yref\":\"y\"},{\"font\":{\"color\":\"#FFFFFF\",\"size\":14},\"showarrow\":false,\"text\":\"0.6% <br> 6\",\"x\":\"Sandal\",\"xref\":\"x\",\"y\":\"Ankle Boot\",\"yref\":\"y\"},{\"font\":{\"color\":\"#FFFFFF\",\"size\":14},\"showarrow\":false,\"text\":\"0.1% <br> 1\",\"x\":\"Shirt\",\"xref\":\"x\",\"y\":\"Ankle Boot\",\"yref\":\"y\"},{\"font\":{\"color\":\"#FFFFFF\",\"size\":14},\"showarrow\":false,\"text\":\"3.8% <br> 38\",\"x\":\"Sneaker\",\"xref\":\"x\",\"y\":\"Ankle Boot\",\"yref\":\"y\"},{\"font\":{\"color\":\"#FFFFFF\",\"size\":14},\"showarrow\":false,\"text\":\"\",\"x\":\"Bag\",\"xref\":\"x\",\"y\":\"Ankle Boot\",\"yref\":\"y\"},{\"font\":{\"color\":\"#000000\",\"size\":14},\"showarrow\":false,\"text\":\"95.5% <br> 955/1000\",\"x\":\"Ankle Boot\",\"xref\":\"x\",\"y\":\"Ankle Boot\",\"yref\":\"y\"},{\"font\":{\"color\":\"black\",\"size\":14},\"showarrow\":false,\"text\":\"Predicted value\",\"x\":0.5,\"xref\":\"paper\",\"y\":-0.15,\"yref\":\"paper\"},{\"font\":{\"color\":\"black\",\"size\":14},\"showarrow\":false,\"text\":\"Real value\",\"textangle\":-90,\"x\":-0.35,\"xref\":\"paper\",\"y\":0.5,\"yref\":\"paper\"}],\"xaxis\":{\"dtick\":1,\"gridcolor\":\"rgb(0, 0, 0)\",\"side\":\"top\",\"ticks\":\"\"},\"yaxis\":{\"dtick\":1,\"ticks\":\"\",\"ticksuffix\":\"  \",\"autorange\":\"reversed\"},\"template\":{\"data\":{\"bar\":[{\"error_x\":{\"color\":\"#2a3f5f\"},\"error_y\":{\"color\":\"#2a3f5f\"},\"marker\":{\"line\":{\"color\":\"#E5ECF6\",\"width\":0.5},\"pattern\":{\"fillmode\":\"overlay\",\"size\":10,\"solidity\":0.2}},\"type\":\"bar\"}],\"barpolar\":[{\"marker\":{\"line\":{\"color\":\"#E5ECF6\",\"width\":0.5},\"pattern\":{\"fillmode\":\"overlay\",\"size\":10,\"solidity\":0.2}},\"type\":\"barpolar\"}],\"carpet\":[{\"aaxis\":{\"endlinecolor\":\"#2a3f5f\",\"gridcolor\":\"white\",\"linecolor\":\"white\",\"minorgridcolor\":\"white\",\"startlinecolor\":\"#2a3f5f\"},\"baxis\":{\"endlinecolor\":\"#2a3f5f\",\"gridcolor\":\"white\",\"linecolor\":\"white\",\"minorgridcolor\":\"white\",\"startlinecolor\":\"#2a3f5f\"},\"type\":\"carpet\"}],\"choropleth\":[{\"colorbar\":{\"outlinewidth\":0,\"ticks\":\"\"},\"type\":\"choropleth\"}],\"contour\":[{\"colorbar\":{\"outlinewidth\":0,\"ticks\":\"\"},\"colorscale\":[[0.0,\"#0d0887\"],[0.1111111111111111,\"#46039f\"],[0.2222222222222222,\"#7201a8\"],[0.3333333333333333,\"#9c179e\"],[0.4444444444444444,\"#bd3786\"],[0.5555555555555556,\"#d8576b\"],[0.6666666666666666,\"#ed7953\"],[0.7777777777777778,\"#fb9f3a\"],[0.8888888888888888,\"#fdca26\"],[1.0,\"#f0f921\"]],\"type\":\"contour\"}],\"contourcarpet\":[{\"colorbar\":{\"outlinewidth\":0,\"ticks\":\"\"},\"type\":\"contourcarpet\"}],\"heatmap\":[{\"colorbar\":{\"outlinewidth\":0,\"ticks\":\"\"},\"colorscale\":[[0.0,\"#0d0887\"],[0.1111111111111111,\"#46039f\"],[0.2222222222222222,\"#7201a8\"],[0.3333333333333333,\"#9c179e\"],[0.4444444444444444,\"#bd3786\"],[0.5555555555555556,\"#d8576b\"],[0.6666666666666666,\"#ed7953\"],[0.7777777777777778,\"#fb9f3a\"],[0.8888888888888888,\"#fdca26\"],[1.0,\"#f0f921\"]],\"type\":\"heatmap\"}],\"heatmapgl\":[{\"colorbar\":{\"outlinewidth\":0,\"ticks\":\"\"},\"colorscale\":[[0.0,\"#0d0887\"],[0.1111111111111111,\"#46039f\"],[0.2222222222222222,\"#7201a8\"],[0.3333333333333333,\"#9c179e\"],[0.4444444444444444,\"#bd3786\"],[0.5555555555555556,\"#d8576b\"],[0.6666666666666666,\"#ed7953\"],[0.7777777777777778,\"#fb9f3a\"],[0.8888888888888888,\"#fdca26\"],[1.0,\"#f0f921\"]],\"type\":\"heatmapgl\"}],\"histogram\":[{\"marker\":{\"pattern\":{\"fillmode\":\"overlay\",\"size\":10,\"solidity\":0.2}},\"type\":\"histogram\"}],\"histogram2d\":[{\"colorbar\":{\"outlinewidth\":0,\"ticks\":\"\"},\"colorscale\":[[0.0,\"#0d0887\"],[0.1111111111111111,\"#46039f\"],[0.2222222222222222,\"#7201a8\"],[0.3333333333333333,\"#9c179e\"],[0.4444444444444444,\"#bd3786\"],[0.5555555555555556,\"#d8576b\"],[0.6666666666666666,\"#ed7953\"],[0.7777777777777778,\"#fb9f3a\"],[0.8888888888888888,\"#fdca26\"],[1.0,\"#f0f921\"]],\"type\":\"histogram2d\"}],\"histogram2dcontour\":[{\"colorbar\":{\"outlinewidth\":0,\"ticks\":\"\"},\"colorscale\":[[0.0,\"#0d0887\"],[0.1111111111111111,\"#46039f\"],[0.2222222222222222,\"#7201a8\"],[0.3333333333333333,\"#9c179e\"],[0.4444444444444444,\"#bd3786\"],[0.5555555555555556,\"#d8576b\"],[0.6666666666666666,\"#ed7953\"],[0.7777777777777778,\"#fb9f3a\"],[0.8888888888888888,\"#fdca26\"],[1.0,\"#f0f921\"]],\"type\":\"histogram2dcontour\"}],\"mesh3d\":[{\"colorbar\":{\"outlinewidth\":0,\"ticks\":\"\"},\"type\":\"mesh3d\"}],\"parcoords\":[{\"line\":{\"colorbar\":{\"outlinewidth\":0,\"ticks\":\"\"}},\"type\":\"parcoords\"}],\"pie\":[{\"automargin\":true,\"type\":\"pie\"}],\"scatter\":[{\"marker\":{\"colorbar\":{\"outlinewidth\":0,\"ticks\":\"\"}},\"type\":\"scatter\"}],\"scatter3d\":[{\"line\":{\"colorbar\":{\"outlinewidth\":0,\"ticks\":\"\"}},\"marker\":{\"colorbar\":{\"outlinewidth\":0,\"ticks\":\"\"}},\"type\":\"scatter3d\"}],\"scattercarpet\":[{\"marker\":{\"colorbar\":{\"outlinewidth\":0,\"ticks\":\"\"}},\"type\":\"scattercarpet\"}],\"scattergeo\":[{\"marker\":{\"colorbar\":{\"outlinewidth\":0,\"ticks\":\"\"}},\"type\":\"scattergeo\"}],\"scattergl\":[{\"marker\":{\"colorbar\":{\"outlinewidth\":0,\"ticks\":\"\"}},\"type\":\"scattergl\"}],\"scattermapbox\":[{\"marker\":{\"colorbar\":{\"outlinewidth\":0,\"ticks\":\"\"}},\"type\":\"scattermapbox\"}],\"scatterpolar\":[{\"marker\":{\"colorbar\":{\"outlinewidth\":0,\"ticks\":\"\"}},\"type\":\"scatterpolar\"}],\"scatterpolargl\":[{\"marker\":{\"colorbar\":{\"outlinewidth\":0,\"ticks\":\"\"}},\"type\":\"scatterpolargl\"}],\"scatterternary\":[{\"marker\":{\"colorbar\":{\"outlinewidth\":0,\"ticks\":\"\"}},\"type\":\"scatterternary\"}],\"surface\":[{\"colorbar\":{\"outlinewidth\":0,\"ticks\":\"\"},\"colorscale\":[[0.0,\"#0d0887\"],[0.1111111111111111,\"#46039f\"],[0.2222222222222222,\"#7201a8\"],[0.3333333333333333,\"#9c179e\"],[0.4444444444444444,\"#bd3786\"],[0.5555555555555556,\"#d8576b\"],[0.6666666666666666,\"#ed7953\"],[0.7777777777777778,\"#fb9f3a\"],[0.8888888888888888,\"#fdca26\"],[1.0,\"#f0f921\"]],\"type\":\"surface\"}],\"table\":[{\"cells\":{\"fill\":{\"color\":\"#EBF0F8\"},\"line\":{\"color\":\"white\"}},\"header\":{\"fill\":{\"color\":\"#C8D4E3\"},\"line\":{\"color\":\"white\"}},\"type\":\"table\"}]},\"layout\":{\"annotationdefaults\":{\"arrowcolor\":\"#2a3f5f\",\"arrowhead\":0,\"arrowwidth\":1},\"autotypenumbers\":\"strict\",\"coloraxis\":{\"colorbar\":{\"outlinewidth\":0,\"ticks\":\"\"}},\"colorscale\":{\"diverging\":[[0,\"#8e0152\"],[0.1,\"#c51b7d\"],[0.2,\"#de77ae\"],[0.3,\"#f1b6da\"],[0.4,\"#fde0ef\"],[0.5,\"#f7f7f7\"],[0.6,\"#e6f5d0\"],[0.7,\"#b8e186\"],[0.8,\"#7fbc41\"],[0.9,\"#4d9221\"],[1,\"#276419\"]],\"sequential\":[[0.0,\"#0d0887\"],[0.1111111111111111,\"#46039f\"],[0.2222222222222222,\"#7201a8\"],[0.3333333333333333,\"#9c179e\"],[0.4444444444444444,\"#bd3786\"],[0.5555555555555556,\"#d8576b\"],[0.6666666666666666,\"#ed7953\"],[0.7777777777777778,\"#fb9f3a\"],[0.8888888888888888,\"#fdca26\"],[1.0,\"#f0f921\"]],\"sequentialminus\":[[0.0,\"#0d0887\"],[0.1111111111111111,\"#46039f\"],[0.2222222222222222,\"#7201a8\"],[0.3333333333333333,\"#9c179e\"],[0.4444444444444444,\"#bd3786\"],[0.5555555555555556,\"#d8576b\"],[0.6666666666666666,\"#ed7953\"],[0.7777777777777778,\"#fb9f3a\"],[0.8888888888888888,\"#fdca26\"],[1.0,\"#f0f921\"]]},\"colorway\":[\"#636efa\",\"#EF553B\",\"#00cc96\",\"#ab63fa\",\"#FFA15A\",\"#19d3f3\",\"#FF6692\",\"#B6E880\",\"#FF97FF\",\"#FECB52\"],\"font\":{\"color\":\"#2a3f5f\"},\"geo\":{\"bgcolor\":\"white\",\"lakecolor\":\"white\",\"landcolor\":\"#E5ECF6\",\"showlakes\":true,\"showland\":true,\"subunitcolor\":\"white\"},\"hoverlabel\":{\"align\":\"left\"},\"hovermode\":\"closest\",\"mapbox\":{\"style\":\"light\"},\"paper_bgcolor\":\"white\",\"plot_bgcolor\":\"#E5ECF6\",\"polar\":{\"angularaxis\":{\"gridcolor\":\"white\",\"linecolor\":\"white\",\"ticks\":\"\"},\"bgcolor\":\"#E5ECF6\",\"radialaxis\":{\"gridcolor\":\"white\",\"linecolor\":\"white\",\"ticks\":\"\"}},\"scene\":{\"xaxis\":{\"backgroundcolor\":\"#E5ECF6\",\"gridcolor\":\"white\",\"gridwidth\":2,\"linecolor\":\"white\",\"showbackground\":true,\"ticks\":\"\",\"zerolinecolor\":\"white\"},\"yaxis\":{\"backgroundcolor\":\"#E5ECF6\",\"gridcolor\":\"white\",\"gridwidth\":2,\"linecolor\":\"white\",\"showbackground\":true,\"ticks\":\"\",\"zerolinecolor\":\"white\"},\"zaxis\":{\"backgroundcolor\":\"#E5ECF6\",\"gridcolor\":\"white\",\"gridwidth\":2,\"linecolor\":\"white\",\"showbackground\":true,\"ticks\":\"\",\"zerolinecolor\":\"white\"}},\"shapedefaults\":{\"line\":{\"color\":\"#2a3f5f\"}},\"ternary\":{\"aaxis\":{\"gridcolor\":\"white\",\"linecolor\":\"white\",\"ticks\":\"\"},\"baxis\":{\"gridcolor\":\"white\",\"linecolor\":\"white\",\"ticks\":\"\"},\"bgcolor\":\"#E5ECF6\",\"caxis\":{\"gridcolor\":\"white\",\"linecolor\":\"white\",\"ticks\":\"\"}},\"title\":{\"x\":0.05},\"xaxis\":{\"automargin\":true,\"gridcolor\":\"white\",\"linecolor\":\"white\",\"ticks\":\"\",\"title\":{\"standoff\":15},\"zerolinecolor\":\"white\",\"zerolinewidth\":2},\"yaxis\":{\"automargin\":true,\"gridcolor\":\"white\",\"linecolor\":\"white\",\"ticks\":\"\",\"title\":{\"standoff\":15},\"zerolinecolor\":\"white\",\"zerolinewidth\":2}}},\"margin\":{\"t\":50,\"l\":200}},                        {\"responsive\": true}                    ).then(function(){\n",
              "                            \n",
              "var gd = document.getElementById('a7a7affe-5202-4192-92ae-2d107cf96f78');\n",
              "var x = new MutationObserver(function (mutations, observer) {{\n",
              "        var display = window.getComputedStyle(gd).display;\n",
              "        if (!display || display === 'none') {{\n",
              "            console.log([gd, 'removed!']);\n",
              "            Plotly.purge(gd);\n",
              "            observer.disconnect();\n",
              "        }}\n",
              "}});\n",
              "\n",
              "// Listen for the removal of the full notebook cells\n",
              "var notebookContainer = gd.closest('#notebook-container');\n",
              "if (notebookContainer) {{\n",
              "    x.observe(notebookContainer, {childList: true});\n",
              "}}\n",
              "\n",
              "// Listen for the clearing of the current output cell\n",
              "var outputEl = gd.closest('.output');\n",
              "if (outputEl) {{\n",
              "    x.observe(outputEl, {childList: true});\n",
              "}}\n",
              "\n",
              "                        })                };                            </script>        </div>\n",
              "</body>\n",
              "</html>"
            ]
          },
          "metadata": {}
        },
        {
          "output_type": "stream",
          "name": "stdout",
          "text": [
            "epoch: 1  squared_error  train_acc : 0.8386296296296296 valid_acc : 0.8415 test_acc : 0.825\n",
            "epoch: 2  squared_error  train_acc : 0.8628703703703704 valid_acc : 0.8608333333333333 test_acc : 0.8463\n",
            "epoch: 3  squared_error  train_acc : 0.8714259259259259 valid_acc : 0.8693333333333333 test_acc : 0.85\n",
            "epoch: 4  squared_error  train_acc : 0.8758148148148148 valid_acc : 0.8716666666666667 test_acc : 0.8542\n",
            "epoch: 5  squared_error  train_acc : 0.8883333333333333 valid_acc : 0.8771666666666667 test_acc : 0.8616\n"
          ]
        },
        {
          "output_type": "display_data",
          "data": {
            "image/png": "[encoded data removed]",
            "text/plain": [
              "<Figure size 900x432 with 10 Axes>"
            ]
          },
          "metadata": {
            "needs_background": "light"
          }
        },
        {
          "output_type": "display_data",
          "data": {
            "text/html": [
              "<br/>Waiting for W&B process to finish, PID 871... <strong style=\"color:green\">(success).</strong>"
            ],
            "text/plain": [
              "<IPython.core.display.HTML object>"
            ]
          },
          "metadata": {}
        },
        {
          "output_type": "display_data",
          "data": {
            "application/vnd.jupyter.widget-view+json": {
              "model_id": "e2ba29b3b6e448b0bbd5a6bc6fd0c89f",
              "version_minor": 0,
              "version_major": 2
            },
            "text/plain": [
              "VBox(children=(Label(value=' 0.03MB of 0.03MB uploaded (0.00MB deduped)\\r'), FloatProgress(value=0.84150706436…"
            ]
          },
          "metadata": {}
        },
        {
          "output_type": "display_data",
          "data": {
            "text/html": [
              "<style>\n",
              "    table.wandb td:nth-child(1) { padding: 0 10px; text-align: right }\n",
              "    .wandb-row { display: flex; flex-direction: row; flex-wrap: wrap; width: 100% }\n",
              "    .wandb-col { display: flex; flex-direction: column; flex-basis: 100%; flex: 1; padding: 10px; }\n",
              "    </style>\n",
              "<div class=\"wandb-row\"><div class=\"wandb-col\">\n",
              "<h3>Run history:</h3><br/><table class=\"wandb\"><tr><td>Epoch</td><td>▁▃▅▆█</td></tr><tr><td>Train Acc</td><td>▁▄▆▇█</td></tr><tr><td>Train Acc (squared_error)</td><td>▁▄▆▆█</td></tr><tr><td>Train Loss</td><td>█▅▄▂▁</td></tr><tr><td>Train Loss (squared_error)</td><td>█▅▃▃▁</td></tr><tr><td>Valid Acc</td><td>▁▆▆▇█</td></tr><tr><td>Valid Acc (squared_error)</td><td>▁▅▆▇█</td></tr><tr><td>Valid Loss</td><td>█▅▃▂▁</td></tr><tr><td>Valid Loss (squared_error)</td><td>█▄▃▃▁</td></tr><tr><td>test_acc</td><td>▁</td></tr><tr><td>test_acc (squared error)</td><td>▁</td></tr><tr><td>test_loss</td><td>▁</td></tr><tr><td>test_loss (squared error)</td><td>▁</td></tr></table><br/></div><div class=\"wandb-col\">\n",
              "<h3>Run summary:</h3><br/><table class=\"wandb\"><tr><td>Epoch</td><td>5</td></tr><tr><td>Train Acc</td><td>0.88385</td></tr><tr><td>Train Acc (squared_error)</td><td>0.88833</td></tr><tr><td>Train Loss</td><td>0.30063</td></tr><tr><td>Train Loss (squared_error)</td><td>0.17186</td></tr><tr><td>Valid Acc</td><td>0.8725</td></tr><tr><td>Valid Acc (squared_error)</td><td>0.87717</td></tr><tr><td>Valid Loss</td><td>0.35736</td></tr><tr><td>Valid Loss (squared_error)</td><td>0.18876</td></tr><tr><td>test_acc</td><td>0.8588</td></tr><tr><td>test_acc (squared error)</td><td>0.8616</td></tr><tr><td>test_loss</td><td>0.39403</td></tr><tr><td>test_loss (squared error)</td><td>0.21193</td></tr></table>\n",
              "</div></div>\n",
              "Synced 5 W&B file(s), 11 media file(s), 0 artifact file(s) and 0 other file(s)\n",
              "<br/>Synced <strong style=\"color:#cdcd00\">snowy-sweep-1</strong>: <a href=\"https://wandb.ai/cs21m027_cs21m011/DL_ASG_1_final/runs/ctcp55kj\" target=\"_blank\">https://wandb.ai/cs21m027_cs21m011/DL_ASG_1_final/runs/ctcp55kj</a><br/>\n",
              "Find logs at: <code>./wandb/run-20220224_072449-ctcp55kj/logs</code><br/>\n"
            ],
            "text/plain": [
              "<IPython.core.display.HTML object>"
            ]
          },
          "metadata": {}
        },
        {
          "output_type": "stream",
          "name": "stderr",
          "text": [
            "\u001b[34m\u001b[1mwandb\u001b[0m: Sweep Agent: Waiting for job.\n",
            "\u001b[34m\u001b[1mwandb\u001b[0m: Sweep Agent: Exiting.\n"
          ]
        }
      ]
    },
    {
      "cell_type": "markdown",
      "source": [
        "#MGD BEST MODEL with cross_entropy and sq_error loss functions"
      ],
      "metadata": {
        "id": "0umqZPs3hAgT"
      }
    },
    {
      "cell_type": "code",
      "source": [
        "#wandb.agent(sweep_id, train)"
      ],
      "metadata": {
        "colab": {
          "base_uri": "https://localhost:8080/",
          "height": 1000,
          "referenced_widgets": [
            "8633df41ce46490591c85683cf04b108",
            "2c2a0cac534c4e00bc4ce6ea1472b5b1",
            "6d54bfdf933b4dbfa4ca8c6cfc8ee3fa",
            "4f2fd56eb3bf4795a914b1dafb3e845a",
            "827759d55627484a97ea947ef00f5bbd",
            "7fb765643db14f5492c0c4dcc8f38e06",
            "509914470cd147b6b3bcb88f218c1281",
            "1764820052e44f3787d8de5c54779cf5"
          ]
        },
        "id": "smOJIEaZgsyM",
        "outputId": "679c7321-1a21-4621-9611-4eace3b97a4b"
      },
      "execution_count": 55,
      "outputs": [
        {
          "output_type": "stream",
          "name": "stderr",
          "text": [
            "\u001b[34m\u001b[1mwandb\u001b[0m: Agent Starting Run: 98wk3ymp with config:\n",
            "\u001b[34m\u001b[1mwandb\u001b[0m: \tact_fun: sigmoid\n",
            "\u001b[34m\u001b[1mwandb\u001b[0m: \talpha: 0\n",
            "\u001b[34m\u001b[1mwandb\u001b[0m: \tbatch_size: 32\n",
            "\u001b[34m\u001b[1mwandb\u001b[0m: \tepochs: 5\n",
            "\u001b[34m\u001b[1mwandb\u001b[0m: \teta: 0.01\n",
            "\u001b[34m\u001b[1mwandb\u001b[0m: \thidden_layer_size: 64\n",
            "\u001b[34m\u001b[1mwandb\u001b[0m: \thidden_layers: 4\n",
            "\u001b[34m\u001b[1mwandb\u001b[0m: \toptimizer: mgd\n",
            "\u001b[34m\u001b[1mwandb\u001b[0m: \tstrat: xavier\n"
          ]
        },
        {
          "output_type": "display_data",
          "data": {
            "text/html": [
              "\n",
              "                    Syncing run <strong><a href=\"https://wandb.ai/cs21m027_cs21m011/DL_ASG_1_final/runs/98wk3ymp\" target=\"_blank\">expert-sweep-1</a></strong> to <a href=\"https://wandb.ai/cs21m027_cs21m011/DL_ASG_1_final\" target=\"_blank\">Weights & Biases</a> (<a href=\"https://docs.wandb.com/integrations/jupyter.html\" target=\"_blank\">docs</a>).<br/>\n",
              "Sweep page: <a href=\"https://wandb.ai/cs21m027_cs21m011/DL_ASG_1_final/sweeps/taa3qa1i\" target=\"_blank\">https://wandb.ai/cs21m027_cs21m011/DL_ASG_1_final/sweeps/taa3qa1i</a><br/>\n",
              "\n",
              "                "
            ],
            "text/plain": [
              "<IPython.core.display.HTML object>"
            ]
          },
          "metadata": {}
        },
        {
          "output_type": "stream",
          "name": "stdout",
          "text": [
            "epoch: 1  cross_entropy  train_acc : 0.7309629629629629 valid_acc : 0.7313333333333333 test_acc : 0.7251\n",
            "epoch: 2  cross_entropy  train_acc : 0.8398703703703704 valid_acc : 0.8401666666666666 test_acc : 0.8224\n",
            "epoch: 3  cross_entropy  train_acc : 0.8663148148148148 valid_acc : 0.8615 test_acc : 0.8439\n",
            "epoch: 4  cross_entropy  train_acc : 0.8633148148148149 valid_acc : 0.8573333333333333 test_acc : 0.8421\n",
            "epoch: 5  cross_entropy  train_acc : 0.8845740740740741 valid_acc : 0.8773333333333333 test_acc : 0.8592\n"
          ]
        },
        {
          "output_type": "display_data",
          "data": {
            "text/html": [
              "<html>\n",
              "<head><meta charset=\"utf-8\" /></head>\n",
              "<body>\n",
              "    <div>            <script src=\"https://cdnjs.cloudflare.com/ajax/libs/mathjax/2.7.5/MathJax.js?config=TeX-AMS-MML_SVG\"></script><script type=\"text/javascript\">if (window.MathJax) {MathJax.Hub.Config({SVG: {font: \"STIX-Web\"}});}</script>                <script type=\"text/javascript\">window.PlotlyConfig = {MathJaxConfig: 'local'};</script>\n",
              "        <script src=\"https://cdn.plot.ly/plotly-2.8.3.min.js\"></script>                <div id=\"2fd5bc81-b2e6-4b7c-a740-a95707d711a8\" class=\"plotly-graph-div\" style=\"height:525px; width:100%;\"></div>            <script type=\"text/javascript\">                                    window.PLOTLYENV=window.PLOTLYENV || {};                                    if (document.getElementById(\"2fd5bc81-b2e6-4b7c-a740-a95707d711a8\")) {                    Plotly.newPlot(                        \"2fd5bc81-b2e6-4b7c-a740-a95707d711a8\",                        [{\"colorscale\":[[0.0,\"rgb(29, 79, 96)\"],[0.16666666666666666,\"rgb(38, 107, 110)\"],[0.3333333333333333,\"rgb(54, 135, 122)\"],[0.5,\"rgb(77, 162, 132)\"],[0.6666666666666666,\"rgb(109, 188, 144)\"],[0.8333333333333334,\"rgb(150, 210, 164)\"],[1.0,\"rgb(196, 230, 195)\"]],\"hoverinfo\":\"text\",\"reversescale\":false,\"showscale\":true,\"text\":[[\"833 T-shirt/Top are correctly classified\",\"\",\"12 T-shirt/Top are wrongly classified as Pullover\",\"21 T-shirt/Top are wrongly classified as Dress\",\"9 T-shirt/Top are wrongly classified as Coat\",\"2 T-shirt/Top are wrongly classified as Sandal\",\"107 T-shirt/Top are wrongly classified as Shirt\",\"\",\"16 T-shirt/Top are wrongly classified as Bag\",\"\"],[\"10 Trouser are wrongly classified as T-shirt/Top\",\"957 Trouser are correctly classified\",\"1 Trouser are wrongly classified as Pullover\",\"22 Trouser are wrongly classified as Dress\",\"6 Trouser are wrongly classified as Coat\",\"\",\"4 Trouser are wrongly classified as Shirt\",\"\",\"\",\"\"],[\"10 Pullover are wrongly classified as T-shirt/Top\",\"1 Pullover are wrongly classified as Trouser\",\"729 Pullover are correctly classified\",\"14 Pullover are wrongly classified as Dress\",\"164 Pullover are wrongly classified as Coat\",\"1 Pullover are wrongly classified as Sandal\",\"79 Pullover are wrongly classified as Shirt\",\"\",\"2 Pullover are wrongly classified as Bag\",\"\"],[\"50 Dress are wrongly classified as T-shirt/Top\",\"7 Dress are wrongly classified as Trouser\",\"8 Dress are wrongly classified as Pullover\",\"850 Dress are correctly classified\",\"62 Dress are wrongly classified as Coat\",\"4 Dress are wrongly classified as Sandal\",\"15 Dress are wrongly classified as Shirt\",\"\",\"4 Dress are wrongly classified as Bag\",\"\"],[\"\",\"1 Coat are wrongly classified as Trouser\",\"59 Coat are wrongly classified as Pullover\",\"22 Coat are wrongly classified as Dress\",\"878 Coat are correctly classified\",\"\",\"35 Coat are wrongly classified as Shirt\",\"\",\"5 Coat are wrongly classified as Bag\",\"\"],[\"\",\"\",\"\",\"1 Sandal are wrongly classified as Dress\",\"\",\"933 Sandal are correctly classified\",\"\",\"36 Sandal are wrongly classified as Sneaker\",\"3 Sandal are wrongly classified as Bag\",\"27 Sandal are wrongly classified as Ankle Boot\"],[\"190 Shirt are wrongly classified as T-shirt/Top\",\"\",\"65 Shirt are wrongly classified as Pullover\",\"27 Shirt are wrongly classified as Dress\",\"142 Shirt are wrongly classified as Coat\",\"1 Shirt are wrongly classified as Sandal\",\"560 Shirt are correctly classified\",\"\",\"15 Shirt are wrongly classified as Bag\",\"\"],[\"\",\"\",\"\",\"\",\"\",\"21 Sneaker are wrongly classified as Sandal\",\"\",\"931 Sneaker are correctly classified\",\"\",\"48 Sneaker are wrongly classified as Ankle Boot\"],[\"1 Bag are wrongly classified as T-shirt/Top\",\"\",\"3 Bag are wrongly classified as Pullover\",\"2 Bag are wrongly classified as Dress\",\"8 Bag are wrongly classified as Coat\",\"11 Bag are wrongly classified as Sandal\",\"6 Bag are wrongly classified as Shirt\",\"5 Bag are wrongly classified as Sneaker\",\"964 Bag are correctly classified\",\"\"],[\"\",\"\",\"\",\"\",\"\",\"11 Ankle Boot are wrongly classified as Sandal\",\"\",\"31 Ankle Boot are wrongly classified as Sneaker\",\"1 Ankle Boot are wrongly classified as Bag\",\"957 Ankle Boot are correctly classified\"]],\"x\":[\"T-shirt/Top\",\"Trouser\",\"Pullover\",\"Dress\",\"Coat\",\"Sandal\",\"Shirt\",\"Sneaker\",\"Bag\",\"Ankle Boot\"],\"y\":[\"T-shirt/Top\",\"Trouser\",\"Pullover\",\"Dress\",\"Coat\",\"Sandal\",\"Shirt\",\"Sneaker\",\"Bag\",\"Ankle Boot\"],\"z\":[[833,0,12,21,9,2,107,0,16,0],[10,957,1,22,6,0,4,0,0,0],[10,1,729,14,164,1,79,0,2,0],[50,7,8,850,62,4,15,0,4,0],[0,1,59,22,878,0,35,0,5,0],[0,0,0,1,0,933,0,36,3,27],[190,0,65,27,142,1,560,0,15,0],[0,0,0,0,0,21,0,931,0,48],[1,0,3,2,8,11,6,5,964,0],[0,0,0,0,0,11,0,31,1,957]],\"type\":\"heatmap\"}],                        {\"annotations\":[{\"font\":{\"color\":\"#000000\",\"size\":14},\"showarrow\":false,\"text\":\"83.3% <br> 833/1000\",\"x\":\"T-shirt/Top\",\"xref\":\"x\",\"y\":\"T-shirt/Top\",\"yref\":\"y\"},{\"font\":{\"color\":\"#FFFFFF\",\"size\":14},\"showarrow\":false,\"text\":\"\",\"x\":\"Trouser\",\"xref\":\"x\",\"y\":\"T-shirt/Top\",\"yref\":\"y\"},{\"font\":{\"color\":\"#FFFFFF\",\"size\":14},\"showarrow\":false,\"text\":\"1.2% <br> 12\",\"x\":\"Pullover\",\"xref\":\"x\",\"y\":\"T-shirt/Top\",\"yref\":\"y\"},{\"font\":{\"color\":\"#FFFFFF\",\"size\":14},\"showarrow\":false,\"text\":\"2.1% <br> 21\",\"x\":\"Dress\",\"xref\":\"x\",\"y\":\"T-shirt/Top\",\"yref\":\"y\"},{\"font\":{\"color\":\"#FFFFFF\",\"size\":14},\"showarrow\":false,\"text\":\"0.9% <br> 9\",\"x\":\"Coat\",\"xref\":\"x\",\"y\":\"T-shirt/Top\",\"yref\":\"y\"},{\"font\":{\"color\":\"#FFFFFF\",\"size\":14},\"showarrow\":false,\"text\":\"0.2% <br> 2\",\"x\":\"Sandal\",\"xref\":\"x\",\"y\":\"T-shirt/Top\",\"yref\":\"y\"},{\"font\":{\"color\":\"#FFFFFF\",\"size\":14},\"showarrow\":false,\"text\":\"10.7% <br> 107\",\"x\":\"Shirt\",\"xref\":\"x\",\"y\":\"T-shirt/Top\",\"yref\":\"y\"},{\"font\":{\"color\":\"#FFFFFF\",\"size\":14},\"showarrow\":false,\"text\":\"\",\"x\":\"Sneaker\",\"xref\":\"x\",\"y\":\"T-shirt/Top\",\"yref\":\"y\"},{\"font\":{\"color\":\"#FFFFFF\",\"size\":14},\"showarrow\":false,\"text\":\"1.6% <br> 16\",\"x\":\"Bag\",\"xref\":\"x\",\"y\":\"T-shirt/Top\",\"yref\":\"y\"},{\"font\":{\"color\":\"#FFFFFF\",\"size\":14},\"showarrow\":false,\"text\":\"\",\"x\":\"Ankle Boot\",\"xref\":\"x\",\"y\":\"T-shirt/Top\",\"yref\":\"y\"},{\"font\":{\"color\":\"#FFFFFF\",\"size\":14},\"showarrow\":false,\"text\":\"1.0% <br> 10\",\"x\":\"T-shirt/Top\",\"xref\":\"x\",\"y\":\"Trouser\",\"yref\":\"y\"},{\"font\":{\"color\":\"#000000\",\"size\":14},\"showarrow\":false,\"text\":\"95.7% <br> 957/1000\",\"x\":\"Trouser\",\"xref\":\"x\",\"y\":\"Trouser\",\"yref\":\"y\"},{\"font\":{\"color\":\"#FFFFFF\",\"size\":14},\"showarrow\":false,\"text\":\"0.1% <br> 1\",\"x\":\"Pullover\",\"xref\":\"x\",\"y\":\"Trouser\",\"yref\":\"y\"},{\"font\":{\"color\":\"#FFFFFF\",\"size\":14},\"showarrow\":false,\"text\":\"2.2% <br> 22\",\"x\":\"Dress\",\"xref\":\"x\",\"y\":\"Trouser\",\"yref\":\"y\"},{\"font\":{\"color\":\"#FFFFFF\",\"size\":14},\"showarrow\":false,\"text\":\"0.6% <br> 6\",\"x\":\"Coat\",\"xref\":\"x\",\"y\":\"Trouser\",\"yref\":\"y\"},{\"font\":{\"color\":\"#FFFFFF\",\"size\":14},\"showarrow\":false,\"text\":\"\",\"x\":\"Sandal\",\"xref\":\"x\",\"y\":\"Trouser\",\"yref\":\"y\"},{\"font\":{\"color\":\"#FFFFFF\",\"size\":14},\"showarrow\":false,\"text\":\"0.4% <br> 4\",\"x\":\"Shirt\",\"xref\":\"x\",\"y\":\"Trouser\",\"yref\":\"y\"},{\"font\":{\"color\":\"#FFFFFF\",\"size\":14},\"showarrow\":false,\"text\":\"\",\"x\":\"Sneaker\",\"xref\":\"x\",\"y\":\"Trouser\",\"yref\":\"y\"},{\"font\":{\"color\":\"#FFFFFF\",\"size\":14},\"showarrow\":false,\"text\":\"\",\"x\":\"Bag\",\"xref\":\"x\",\"y\":\"Trouser\",\"yref\":\"y\"},{\"font\":{\"color\":\"#FFFFFF\",\"size\":14},\"showarrow\":false,\"text\":\"\",\"x\":\"Ankle Boot\",\"xref\":\"x\",\"y\":\"Trouser\",\"yref\":\"y\"},{\"font\":{\"color\":\"#FFFFFF\",\"size\":14},\"showarrow\":false,\"text\":\"1.0% <br> 10\",\"x\":\"T-shirt/Top\",\"xref\":\"x\",\"y\":\"Pullover\",\"yref\":\"y\"},{\"font\":{\"color\":\"#FFFFFF\",\"size\":14},\"showarrow\":false,\"text\":\"0.1% <br> 1\",\"x\":\"Trouser\",\"xref\":\"x\",\"y\":\"Pullover\",\"yref\":\"y\"},{\"font\":{\"color\":\"#000000\",\"size\":14},\"showarrow\":false,\"text\":\"72.9% <br> 729/1000\",\"x\":\"Pullover\",\"xref\":\"x\",\"y\":\"Pullover\",\"yref\":\"y\"},{\"font\":{\"color\":\"#FFFFFF\",\"size\":14},\"showarrow\":false,\"text\":\"1.4% <br> 14\",\"x\":\"Dress\",\"xref\":\"x\",\"y\":\"Pullover\",\"yref\":\"y\"},{\"font\":{\"color\":\"#FFFFFF\",\"size\":14},\"showarrow\":false,\"text\":\"16.4% <br> 164\",\"x\":\"Coat\",\"xref\":\"x\",\"y\":\"Pullover\",\"yref\":\"y\"},{\"font\":{\"color\":\"#FFFFFF\",\"size\":14},\"showarrow\":false,\"text\":\"0.1% <br> 1\",\"x\":\"Sandal\",\"xref\":\"x\",\"y\":\"Pullover\",\"yref\":\"y\"},{\"font\":{\"color\":\"#FFFFFF\",\"size\":14},\"showarrow\":false,\"text\":\"7.9% <br> 79\",\"x\":\"Shirt\",\"xref\":\"x\",\"y\":\"Pullover\",\"yref\":\"y\"},{\"font\":{\"color\":\"#FFFFFF\",\"size\":14},\"showarrow\":false,\"text\":\"\",\"x\":\"Sneaker\",\"xref\":\"x\",\"y\":\"Pullover\",\"yref\":\"y\"},{\"font\":{\"color\":\"#FFFFFF\",\"size\":14},\"showarrow\":false,\"text\":\"0.2% <br> 2\",\"x\":\"Bag\",\"xref\":\"x\",\"y\":\"Pullover\",\"yref\":\"y\"},{\"font\":{\"color\":\"#FFFFFF\",\"size\":14},\"showarrow\":false,\"text\":\"\",\"x\":\"Ankle Boot\",\"xref\":\"x\",\"y\":\"Pullover\",\"yref\":\"y\"},{\"font\":{\"color\":\"#FFFFFF\",\"size\":14},\"showarrow\":false,\"text\":\"5.0% <br> 50\",\"x\":\"T-shirt/Top\",\"xref\":\"x\",\"y\":\"Dress\",\"yref\":\"y\"},{\"font\":{\"color\":\"#FFFFFF\",\"size\":14},\"showarrow\":false,\"text\":\"0.7% <br> 7\",\"x\":\"Trouser\",\"xref\":\"x\",\"y\":\"Dress\",\"yref\":\"y\"},{\"font\":{\"color\":\"#FFFFFF\",\"size\":14},\"showarrow\":false,\"text\":\"0.8% <br> 8\",\"x\":\"Pullover\",\"xref\":\"x\",\"y\":\"Dress\",\"yref\":\"y\"},{\"font\":{\"color\":\"#000000\",\"size\":14},\"showarrow\":false,\"text\":\"85.0% <br> 850/1000\",\"x\":\"Dress\",\"xref\":\"x\",\"y\":\"Dress\",\"yref\":\"y\"},{\"font\":{\"color\":\"#FFFFFF\",\"size\":14},\"showarrow\":false,\"text\":\"6.2% <br> 62\",\"x\":\"Coat\",\"xref\":\"x\",\"y\":\"Dress\",\"yref\":\"y\"},{\"font\":{\"color\":\"#FFFFFF\",\"size\":14},\"showarrow\":false,\"text\":\"0.4% <br> 4\",\"x\":\"Sandal\",\"xref\":\"x\",\"y\":\"Dress\",\"yref\":\"y\"},{\"font\":{\"color\":\"#FFFFFF\",\"size\":14},\"showarrow\":false,\"text\":\"1.5% <br> 15\",\"x\":\"Shirt\",\"xref\":\"x\",\"y\":\"Dress\",\"yref\":\"y\"},{\"font\":{\"color\":\"#FFFFFF\",\"size\":14},\"showarrow\":false,\"text\":\"\",\"x\":\"Sneaker\",\"xref\":\"x\",\"y\":\"Dress\",\"yref\":\"y\"},{\"font\":{\"color\":\"#FFFFFF\",\"size\":14},\"showarrow\":false,\"text\":\"0.4% <br> 4\",\"x\":\"Bag\",\"xref\":\"x\",\"y\":\"Dress\",\"yref\":\"y\"},{\"font\":{\"color\":\"#FFFFFF\",\"size\":14},\"showarrow\":false,\"text\":\"\",\"x\":\"Ankle Boot\",\"xref\":\"x\",\"y\":\"Dress\",\"yref\":\"y\"},{\"font\":{\"color\":\"#FFFFFF\",\"size\":14},\"showarrow\":false,\"text\":\"\",\"x\":\"T-shirt/Top\",\"xref\":\"x\",\"y\":\"Coat\",\"yref\":\"y\"},{\"font\":{\"color\":\"#FFFFFF\",\"size\":14},\"showarrow\":false,\"text\":\"0.1% <br> 1\",\"x\":\"Trouser\",\"xref\":\"x\",\"y\":\"Coat\",\"yref\":\"y\"},{\"font\":{\"color\":\"#FFFFFF\",\"size\":14},\"showarrow\":false,\"text\":\"5.9% <br> 59\",\"x\":\"Pullover\",\"xref\":\"x\",\"y\":\"Coat\",\"yref\":\"y\"},{\"font\":{\"color\":\"#FFFFFF\",\"size\":14},\"showarrow\":false,\"text\":\"2.2% <br> 22\",\"x\":\"Dress\",\"xref\":\"x\",\"y\":\"Coat\",\"yref\":\"y\"},{\"font\":{\"color\":\"#000000\",\"size\":14},\"showarrow\":false,\"text\":\"87.8% <br> 878/1000\",\"x\":\"Coat\",\"xref\":\"x\",\"y\":\"Coat\",\"yref\":\"y\"},{\"font\":{\"color\":\"#FFFFFF\",\"size\":14},\"showarrow\":false,\"text\":\"\",\"x\":\"Sandal\",\"xref\":\"x\",\"y\":\"Coat\",\"yref\":\"y\"},{\"font\":{\"color\":\"#FFFFFF\",\"size\":14},\"showarrow\":false,\"text\":\"3.5% <br> 35\",\"x\":\"Shirt\",\"xref\":\"x\",\"y\":\"Coat\",\"yref\":\"y\"},{\"font\":{\"color\":\"#FFFFFF\",\"size\":14},\"showarrow\":false,\"text\":\"\",\"x\":\"Sneaker\",\"xref\":\"x\",\"y\":\"Coat\",\"yref\":\"y\"},{\"font\":{\"color\":\"#FFFFFF\",\"size\":14},\"showarrow\":false,\"text\":\"0.5% <br> 5\",\"x\":\"Bag\",\"xref\":\"x\",\"y\":\"Coat\",\"yref\":\"y\"},{\"font\":{\"color\":\"#FFFFFF\",\"size\":14},\"showarrow\":false,\"text\":\"\",\"x\":\"Ankle Boot\",\"xref\":\"x\",\"y\":\"Coat\",\"yref\":\"y\"},{\"font\":{\"color\":\"#FFFFFF\",\"size\":14},\"showarrow\":false,\"text\":\"\",\"x\":\"T-shirt/Top\",\"xref\":\"x\",\"y\":\"Sandal\",\"yref\":\"y\"},{\"font\":{\"color\":\"#FFFFFF\",\"size\":14},\"showarrow\":false,\"text\":\"\",\"x\":\"Trouser\",\"xref\":\"x\",\"y\":\"Sandal\",\"yref\":\"y\"},{\"font\":{\"color\":\"#FFFFFF\",\"size\":14},\"showarrow\":false,\"text\":\"\",\"x\":\"Pullover\",\"xref\":\"x\",\"y\":\"Sandal\",\"yref\":\"y\"},{\"font\":{\"color\":\"#FFFFFF\",\"size\":14},\"showarrow\":false,\"text\":\"0.1% <br> 1\",\"x\":\"Dress\",\"xref\":\"x\",\"y\":\"Sandal\",\"yref\":\"y\"},{\"font\":{\"color\":\"#FFFFFF\",\"size\":14},\"showarrow\":false,\"text\":\"\",\"x\":\"Coat\",\"xref\":\"x\",\"y\":\"Sandal\",\"yref\":\"y\"},{\"font\":{\"color\":\"#000000\",\"size\":14},\"showarrow\":false,\"text\":\"93.3% <br> 933/1000\",\"x\":\"Sandal\",\"xref\":\"x\",\"y\":\"Sandal\",\"yref\":\"y\"},{\"font\":{\"color\":\"#FFFFFF\",\"size\":14},\"showarrow\":false,\"text\":\"\",\"x\":\"Shirt\",\"xref\":\"x\",\"y\":\"Sandal\",\"yref\":\"y\"},{\"font\":{\"color\":\"#FFFFFF\",\"size\":14},\"showarrow\":false,\"text\":\"3.6% <br> 36\",\"x\":\"Sneaker\",\"xref\":\"x\",\"y\":\"Sandal\",\"yref\":\"y\"},{\"font\":{\"color\":\"#FFFFFF\",\"size\":14},\"showarrow\":false,\"text\":\"0.3% <br> 3\",\"x\":\"Bag\",\"xref\":\"x\",\"y\":\"Sandal\",\"yref\":\"y\"},{\"font\":{\"color\":\"#FFFFFF\",\"size\":14},\"showarrow\":false,\"text\":\"2.7% <br> 27\",\"x\":\"Ankle Boot\",\"xref\":\"x\",\"y\":\"Sandal\",\"yref\":\"y\"},{\"font\":{\"color\":\"#FFFFFF\",\"size\":14},\"showarrow\":false,\"text\":\"19.0% <br> 190\",\"x\":\"T-shirt/Top\",\"xref\":\"x\",\"y\":\"Shirt\",\"yref\":\"y\"},{\"font\":{\"color\":\"#FFFFFF\",\"size\":14},\"showarrow\":false,\"text\":\"\",\"x\":\"Trouser\",\"xref\":\"x\",\"y\":\"Shirt\",\"yref\":\"y\"},{\"font\":{\"color\":\"#FFFFFF\",\"size\":14},\"showarrow\":false,\"text\":\"6.5% <br> 65\",\"x\":\"Pullover\",\"xref\":\"x\",\"y\":\"Shirt\",\"yref\":\"y\"},{\"font\":{\"color\":\"#FFFFFF\",\"size\":14},\"showarrow\":false,\"text\":\"2.7% <br> 27\",\"x\":\"Dress\",\"xref\":\"x\",\"y\":\"Shirt\",\"yref\":\"y\"},{\"font\":{\"color\":\"#FFFFFF\",\"size\":14},\"showarrow\":false,\"text\":\"14.2% <br> 142\",\"x\":\"Coat\",\"xref\":\"x\",\"y\":\"Shirt\",\"yref\":\"y\"},{\"font\":{\"color\":\"#FFFFFF\",\"size\":14},\"showarrow\":false,\"text\":\"0.1% <br> 1\",\"x\":\"Sandal\",\"xref\":\"x\",\"y\":\"Shirt\",\"yref\":\"y\"},{\"font\":{\"color\":\"#000000\",\"size\":14},\"showarrow\":false,\"text\":\"56.0% <br> 560/1000\",\"x\":\"Shirt\",\"xref\":\"x\",\"y\":\"Shirt\",\"yref\":\"y\"},{\"font\":{\"color\":\"#FFFFFF\",\"size\":14},\"showarrow\":false,\"text\":\"\",\"x\":\"Sneaker\",\"xref\":\"x\",\"y\":\"Shirt\",\"yref\":\"y\"},{\"font\":{\"color\":\"#FFFFFF\",\"size\":14},\"showarrow\":false,\"text\":\"1.5% <br> 15\",\"x\":\"Bag\",\"xref\":\"x\",\"y\":\"Shirt\",\"yref\":\"y\"},{\"font\":{\"color\":\"#FFFFFF\",\"size\":14},\"showarrow\":false,\"text\":\"\",\"x\":\"Ankle Boot\",\"xref\":\"x\",\"y\":\"Shirt\",\"yref\":\"y\"},{\"font\":{\"color\":\"#FFFFFF\",\"size\":14},\"showarrow\":false,\"text\":\"\",\"x\":\"T-shirt/Top\",\"xref\":\"x\",\"y\":\"Sneaker\",\"yref\":\"y\"},{\"font\":{\"color\":\"#FFFFFF\",\"size\":14},\"showarrow\":false,\"text\":\"\",\"x\":\"Trouser\",\"xref\":\"x\",\"y\":\"Sneaker\",\"yref\":\"y\"},{\"font\":{\"color\":\"#FFFFFF\",\"size\":14},\"showarrow\":false,\"text\":\"\",\"x\":\"Pullover\",\"xref\":\"x\",\"y\":\"Sneaker\",\"yref\":\"y\"},{\"font\":{\"color\":\"#FFFFFF\",\"size\":14},\"showarrow\":false,\"text\":\"\",\"x\":\"Dress\",\"xref\":\"x\",\"y\":\"Sneaker\",\"yref\":\"y\"},{\"font\":{\"color\":\"#FFFFFF\",\"size\":14},\"showarrow\":false,\"text\":\"\",\"x\":\"Coat\",\"xref\":\"x\",\"y\":\"Sneaker\",\"yref\":\"y\"},{\"font\":{\"color\":\"#FFFFFF\",\"size\":14},\"showarrow\":false,\"text\":\"2.1% <br> 21\",\"x\":\"Sandal\",\"xref\":\"x\",\"y\":\"Sneaker\",\"yref\":\"y\"},{\"font\":{\"color\":\"#FFFFFF\",\"size\":14},\"showarrow\":false,\"text\":\"\",\"x\":\"Shirt\",\"xref\":\"x\",\"y\":\"Sneaker\",\"yref\":\"y\"},{\"font\":{\"color\":\"#000000\",\"size\":14},\"showarrow\":false,\"text\":\"93.1% <br> 931/1000\",\"x\":\"Sneaker\",\"xref\":\"x\",\"y\":\"Sneaker\",\"yref\":\"y\"},{\"font\":{\"color\":\"#FFFFFF\",\"size\":14},\"showarrow\":false,\"text\":\"\",\"x\":\"Bag\",\"xref\":\"x\",\"y\":\"Sneaker\",\"yref\":\"y\"},{\"font\":{\"color\":\"#FFFFFF\",\"size\":14},\"showarrow\":false,\"text\":\"4.8% <br> 48\",\"x\":\"Ankle Boot\",\"xref\":\"x\",\"y\":\"Sneaker\",\"yref\":\"y\"},{\"font\":{\"color\":\"#FFFFFF\",\"size\":14},\"showarrow\":false,\"text\":\"0.1% <br> 1\",\"x\":\"T-shirt/Top\",\"xref\":\"x\",\"y\":\"Bag\",\"yref\":\"y\"},{\"font\":{\"color\":\"#FFFFFF\",\"size\":14},\"showarrow\":false,\"text\":\"\",\"x\":\"Trouser\",\"xref\":\"x\",\"y\":\"Bag\",\"yref\":\"y\"},{\"font\":{\"color\":\"#FFFFFF\",\"size\":14},\"showarrow\":false,\"text\":\"0.3% <br> 3\",\"x\":\"Pullover\",\"xref\":\"x\",\"y\":\"Bag\",\"yref\":\"y\"},{\"font\":{\"color\":\"#FFFFFF\",\"size\":14},\"showarrow\":false,\"text\":\"0.2% <br> 2\",\"x\":\"Dress\",\"xref\":\"x\",\"y\":\"Bag\",\"yref\":\"y\"},{\"font\":{\"color\":\"#FFFFFF\",\"size\":14},\"showarrow\":false,\"text\":\"0.8% <br> 8\",\"x\":\"Coat\",\"xref\":\"x\",\"y\":\"Bag\",\"yref\":\"y\"},{\"font\":{\"color\":\"#FFFFFF\",\"size\":14},\"showarrow\":false,\"text\":\"1.1% <br> 11\",\"x\":\"Sandal\",\"xref\":\"x\",\"y\":\"Bag\",\"yref\":\"y\"},{\"font\":{\"color\":\"#FFFFFF\",\"size\":14},\"showarrow\":false,\"text\":\"0.6% <br> 6\",\"x\":\"Shirt\",\"xref\":\"x\",\"y\":\"Bag\",\"yref\":\"y\"},{\"font\":{\"color\":\"#FFFFFF\",\"size\":14},\"showarrow\":false,\"text\":\"0.5% <br> 5\",\"x\":\"Sneaker\",\"xref\":\"x\",\"y\":\"Bag\",\"yref\":\"y\"},{\"font\":{\"color\":\"#000000\",\"size\":14},\"showarrow\":false,\"text\":\"96.4% <br> 964/1000\",\"x\":\"Bag\",\"xref\":\"x\",\"y\":\"Bag\",\"yref\":\"y\"},{\"font\":{\"color\":\"#FFFFFF\",\"size\":14},\"showarrow\":false,\"text\":\"\",\"x\":\"Ankle Boot\",\"xref\":\"x\",\"y\":\"Bag\",\"yref\":\"y\"},{\"font\":{\"color\":\"#FFFFFF\",\"size\":14},\"showarrow\":false,\"text\":\"\",\"x\":\"T-shirt/Top\",\"xref\":\"x\",\"y\":\"Ankle Boot\",\"yref\":\"y\"},{\"font\":{\"color\":\"#FFFFFF\",\"size\":14},\"showarrow\":false,\"text\":\"\",\"x\":\"Trouser\",\"xref\":\"x\",\"y\":\"Ankle Boot\",\"yref\":\"y\"},{\"font\":{\"color\":\"#FFFFFF\",\"size\":14},\"showarrow\":false,\"text\":\"\",\"x\":\"Pullover\",\"xref\":\"x\",\"y\":\"Ankle Boot\",\"yref\":\"y\"},{\"font\":{\"color\":\"#FFFFFF\",\"size\":14},\"showarrow\":false,\"text\":\"\",\"x\":\"Dress\",\"xref\":\"x\",\"y\":\"Ankle Boot\",\"yref\":\"y\"},{\"font\":{\"color\":\"#FFFFFF\",\"size\":14},\"showarrow\":false,\"text\":\"\",\"x\":\"Coat\",\"xref\":\"x\",\"y\":\"Ankle Boot\",\"yref\":\"y\"},{\"font\":{\"color\":\"#FFFFFF\",\"size\":14},\"showarrow\":false,\"text\":\"1.1% <br> 11\",\"x\":\"Sandal\",\"xref\":\"x\",\"y\":\"Ankle Boot\",\"yref\":\"y\"},{\"font\":{\"color\":\"#FFFFFF\",\"size\":14},\"showarrow\":false,\"text\":\"\",\"x\":\"Shirt\",\"xref\":\"x\",\"y\":\"Ankle Boot\",\"yref\":\"y\"},{\"font\":{\"color\":\"#FFFFFF\",\"size\":14},\"showarrow\":false,\"text\":\"3.1% <br> 31\",\"x\":\"Sneaker\",\"xref\":\"x\",\"y\":\"Ankle Boot\",\"yref\":\"y\"},{\"font\":{\"color\":\"#FFFFFF\",\"size\":14},\"showarrow\":false,\"text\":\"0.1% <br> 1\",\"x\":\"Bag\",\"xref\":\"x\",\"y\":\"Ankle Boot\",\"yref\":\"y\"},{\"font\":{\"color\":\"#000000\",\"size\":14},\"showarrow\":false,\"text\":\"95.7% <br> 957/1000\",\"x\":\"Ankle Boot\",\"xref\":\"x\",\"y\":\"Ankle Boot\",\"yref\":\"y\"},{\"font\":{\"color\":\"black\",\"size\":14},\"showarrow\":false,\"text\":\"Predicted value\",\"x\":0.5,\"xref\":\"paper\",\"y\":-0.15,\"yref\":\"paper\"},{\"font\":{\"color\":\"black\",\"size\":14},\"showarrow\":false,\"text\":\"Real value\",\"textangle\":-90,\"x\":-0.35,\"xref\":\"paper\",\"y\":0.5,\"yref\":\"paper\"}],\"xaxis\":{\"dtick\":1,\"gridcolor\":\"rgb(0, 0, 0)\",\"side\":\"top\",\"ticks\":\"\"},\"yaxis\":{\"dtick\":1,\"ticks\":\"\",\"ticksuffix\":\"  \",\"autorange\":\"reversed\"},\"template\":{\"data\":{\"bar\":[{\"error_x\":{\"color\":\"#2a3f5f\"},\"error_y\":{\"color\":\"#2a3f5f\"},\"marker\":{\"line\":{\"color\":\"#E5ECF6\",\"width\":0.5},\"pattern\":{\"fillmode\":\"overlay\",\"size\":10,\"solidity\":0.2}},\"type\":\"bar\"}],\"barpolar\":[{\"marker\":{\"line\":{\"color\":\"#E5ECF6\",\"width\":0.5},\"pattern\":{\"fillmode\":\"overlay\",\"size\":10,\"solidity\":0.2}},\"type\":\"barpolar\"}],\"carpet\":[{\"aaxis\":{\"endlinecolor\":\"#2a3f5f\",\"gridcolor\":\"white\",\"linecolor\":\"white\",\"minorgridcolor\":\"white\",\"startlinecolor\":\"#2a3f5f\"},\"baxis\":{\"endlinecolor\":\"#2a3f5f\",\"gridcolor\":\"white\",\"linecolor\":\"white\",\"minorgridcolor\":\"white\",\"startlinecolor\":\"#2a3f5f\"},\"type\":\"carpet\"}],\"choropleth\":[{\"colorbar\":{\"outlinewidth\":0,\"ticks\":\"\"},\"type\":\"choropleth\"}],\"contour\":[{\"colorbar\":{\"outlinewidth\":0,\"ticks\":\"\"},\"colorscale\":[[0.0,\"#0d0887\"],[0.1111111111111111,\"#46039f\"],[0.2222222222222222,\"#7201a8\"],[0.3333333333333333,\"#9c179e\"],[0.4444444444444444,\"#bd3786\"],[0.5555555555555556,\"#d8576b\"],[0.6666666666666666,\"#ed7953\"],[0.7777777777777778,\"#fb9f3a\"],[0.8888888888888888,\"#fdca26\"],[1.0,\"#f0f921\"]],\"type\":\"contour\"}],\"contourcarpet\":[{\"colorbar\":{\"outlinewidth\":0,\"ticks\":\"\"},\"type\":\"contourcarpet\"}],\"heatmap\":[{\"colorbar\":{\"outlinewidth\":0,\"ticks\":\"\"},\"colorscale\":[[0.0,\"#0d0887\"],[0.1111111111111111,\"#46039f\"],[0.2222222222222222,\"#7201a8\"],[0.3333333333333333,\"#9c179e\"],[0.4444444444444444,\"#bd3786\"],[0.5555555555555556,\"#d8576b\"],[0.6666666666666666,\"#ed7953\"],[0.7777777777777778,\"#fb9f3a\"],[0.8888888888888888,\"#fdca26\"],[1.0,\"#f0f921\"]],\"type\":\"heatmap\"}],\"heatmapgl\":[{\"colorbar\":{\"outlinewidth\":0,\"ticks\":\"\"},\"colorscale\":[[0.0,\"#0d0887\"],[0.1111111111111111,\"#46039f\"],[0.2222222222222222,\"#7201a8\"],[0.3333333333333333,\"#9c179e\"],[0.4444444444444444,\"#bd3786\"],[0.5555555555555556,\"#d8576b\"],[0.6666666666666666,\"#ed7953\"],[0.7777777777777778,\"#fb9f3a\"],[0.8888888888888888,\"#fdca26\"],[1.0,\"#f0f921\"]],\"type\":\"heatmapgl\"}],\"histogram\":[{\"marker\":{\"pattern\":{\"fillmode\":\"overlay\",\"size\":10,\"solidity\":0.2}},\"type\":\"histogram\"}],\"histogram2d\":[{\"colorbar\":{\"outlinewidth\":0,\"ticks\":\"\"},\"colorscale\":[[0.0,\"#0d0887\"],[0.1111111111111111,\"#46039f\"],[0.2222222222222222,\"#7201a8\"],[0.3333333333333333,\"#9c179e\"],[0.4444444444444444,\"#bd3786\"],[0.5555555555555556,\"#d8576b\"],[0.6666666666666666,\"#ed7953\"],[0.7777777777777778,\"#fb9f3a\"],[0.8888888888888888,\"#fdca26\"],[1.0,\"#f0f921\"]],\"type\":\"histogram2d\"}],\"histogram2dcontour\":[{\"colorbar\":{\"outlinewidth\":0,\"ticks\":\"\"},\"colorscale\":[[0.0,\"#0d0887\"],[0.1111111111111111,\"#46039f\"],[0.2222222222222222,\"#7201a8\"],[0.3333333333333333,\"#9c179e\"],[0.4444444444444444,\"#bd3786\"],[0.5555555555555556,\"#d8576b\"],[0.6666666666666666,\"#ed7953\"],[0.7777777777777778,\"#fb9f3a\"],[0.8888888888888888,\"#fdca26\"],[1.0,\"#f0f921\"]],\"type\":\"histogram2dcontour\"}],\"mesh3d\":[{\"colorbar\":{\"outlinewidth\":0,\"ticks\":\"\"},\"type\":\"mesh3d\"}],\"parcoords\":[{\"line\":{\"colorbar\":{\"outlinewidth\":0,\"ticks\":\"\"}},\"type\":\"parcoords\"}],\"pie\":[{\"automargin\":true,\"type\":\"pie\"}],\"scatter\":[{\"marker\":{\"colorbar\":{\"outlinewidth\":0,\"ticks\":\"\"}},\"type\":\"scatter\"}],\"scatter3d\":[{\"line\":{\"colorbar\":{\"outlinewidth\":0,\"ticks\":\"\"}},\"marker\":{\"colorbar\":{\"outlinewidth\":0,\"ticks\":\"\"}},\"type\":\"scatter3d\"}],\"scattercarpet\":[{\"marker\":{\"colorbar\":{\"outlinewidth\":0,\"ticks\":\"\"}},\"type\":\"scattercarpet\"}],\"scattergeo\":[{\"marker\":{\"colorbar\":{\"outlinewidth\":0,\"ticks\":\"\"}},\"type\":\"scattergeo\"}],\"scattergl\":[{\"marker\":{\"colorbar\":{\"outlinewidth\":0,\"ticks\":\"\"}},\"type\":\"scattergl\"}],\"scattermapbox\":[{\"marker\":{\"colorbar\":{\"outlinewidth\":0,\"ticks\":\"\"}},\"type\":\"scattermapbox\"}],\"scatterpolar\":[{\"marker\":{\"colorbar\":{\"outlinewidth\":0,\"ticks\":\"\"}},\"type\":\"scatterpolar\"}],\"scatterpolargl\":[{\"marker\":{\"colorbar\":{\"outlinewidth\":0,\"ticks\":\"\"}},\"type\":\"scatterpolargl\"}],\"scatterternary\":[{\"marker\":{\"colorbar\":{\"outlinewidth\":0,\"ticks\":\"\"}},\"type\":\"scatterternary\"}],\"surface\":[{\"colorbar\":{\"outlinewidth\":0,\"ticks\":\"\"},\"colorscale\":[[0.0,\"#0d0887\"],[0.1111111111111111,\"#46039f\"],[0.2222222222222222,\"#7201a8\"],[0.3333333333333333,\"#9c179e\"],[0.4444444444444444,\"#bd3786\"],[0.5555555555555556,\"#d8576b\"],[0.6666666666666666,\"#ed7953\"],[0.7777777777777778,\"#fb9f3a\"],[0.8888888888888888,\"#fdca26\"],[1.0,\"#f0f921\"]],\"type\":\"surface\"}],\"table\":[{\"cells\":{\"fill\":{\"color\":\"#EBF0F8\"},\"line\":{\"color\":\"white\"}},\"header\":{\"fill\":{\"color\":\"#C8D4E3\"},\"line\":{\"color\":\"white\"}},\"type\":\"table\"}]},\"layout\":{\"annotationdefaults\":{\"arrowcolor\":\"#2a3f5f\",\"arrowhead\":0,\"arrowwidth\":1},\"autotypenumbers\":\"strict\",\"coloraxis\":{\"colorbar\":{\"outlinewidth\":0,\"ticks\":\"\"}},\"colorscale\":{\"diverging\":[[0,\"#8e0152\"],[0.1,\"#c51b7d\"],[0.2,\"#de77ae\"],[0.3,\"#f1b6da\"],[0.4,\"#fde0ef\"],[0.5,\"#f7f7f7\"],[0.6,\"#e6f5d0\"],[0.7,\"#b8e186\"],[0.8,\"#7fbc41\"],[0.9,\"#4d9221\"],[1,\"#276419\"]],\"sequential\":[[0.0,\"#0d0887\"],[0.1111111111111111,\"#46039f\"],[0.2222222222222222,\"#7201a8\"],[0.3333333333333333,\"#9c179e\"],[0.4444444444444444,\"#bd3786\"],[0.5555555555555556,\"#d8576b\"],[0.6666666666666666,\"#ed7953\"],[0.7777777777777778,\"#fb9f3a\"],[0.8888888888888888,\"#fdca26\"],[1.0,\"#f0f921\"]],\"sequentialminus\":[[0.0,\"#0d0887\"],[0.1111111111111111,\"#46039f\"],[0.2222222222222222,\"#7201a8\"],[0.3333333333333333,\"#9c179e\"],[0.4444444444444444,\"#bd3786\"],[0.5555555555555556,\"#d8576b\"],[0.6666666666666666,\"#ed7953\"],[0.7777777777777778,\"#fb9f3a\"],[0.8888888888888888,\"#fdca26\"],[1.0,\"#f0f921\"]]},\"colorway\":[\"#636efa\",\"#EF553B\",\"#00cc96\",\"#ab63fa\",\"#FFA15A\",\"#19d3f3\",\"#FF6692\",\"#B6E880\",\"#FF97FF\",\"#FECB52\"],\"font\":{\"color\":\"#2a3f5f\"},\"geo\":{\"bgcolor\":\"white\",\"lakecolor\":\"white\",\"landcolor\":\"#E5ECF6\",\"showlakes\":true,\"showland\":true,\"subunitcolor\":\"white\"},\"hoverlabel\":{\"align\":\"left\"},\"hovermode\":\"closest\",\"mapbox\":{\"style\":\"light\"},\"paper_bgcolor\":\"white\",\"plot_bgcolor\":\"#E5ECF6\",\"polar\":{\"angularaxis\":{\"gridcolor\":\"white\",\"linecolor\":\"white\",\"ticks\":\"\"},\"bgcolor\":\"#E5ECF6\",\"radialaxis\":{\"gridcolor\":\"white\",\"linecolor\":\"white\",\"ticks\":\"\"}},\"scene\":{\"xaxis\":{\"backgroundcolor\":\"#E5ECF6\",\"gridcolor\":\"white\",\"gridwidth\":2,\"linecolor\":\"white\",\"showbackground\":true,\"ticks\":\"\",\"zerolinecolor\":\"white\"},\"yaxis\":{\"backgroundcolor\":\"#E5ECF6\",\"gridcolor\":\"white\",\"gridwidth\":2,\"linecolor\":\"white\",\"showbackground\":true,\"ticks\":\"\",\"zerolinecolor\":\"white\"},\"zaxis\":{\"backgroundcolor\":\"#E5ECF6\",\"gridcolor\":\"white\",\"gridwidth\":2,\"linecolor\":\"white\",\"showbackground\":true,\"ticks\":\"\",\"zerolinecolor\":\"white\"}},\"shapedefaults\":{\"line\":{\"color\":\"#2a3f5f\"}},\"ternary\":{\"aaxis\":{\"gridcolor\":\"white\",\"linecolor\":\"white\",\"ticks\":\"\"},\"baxis\":{\"gridcolor\":\"white\",\"linecolor\":\"white\",\"ticks\":\"\"},\"bgcolor\":\"#E5ECF6\",\"caxis\":{\"gridcolor\":\"white\",\"linecolor\":\"white\",\"ticks\":\"\"}},\"title\":{\"x\":0.05},\"xaxis\":{\"automargin\":true,\"gridcolor\":\"white\",\"linecolor\":\"white\",\"ticks\":\"\",\"title\":{\"standoff\":15},\"zerolinecolor\":\"white\",\"zerolinewidth\":2},\"yaxis\":{\"automargin\":true,\"gridcolor\":\"white\",\"linecolor\":\"white\",\"ticks\":\"\",\"title\":{\"standoff\":15},\"zerolinecolor\":\"white\",\"zerolinewidth\":2}}},\"margin\":{\"t\":50,\"l\":200}},                        {\"responsive\": true}                    ).then(function(){\n",
              "                            \n",
              "var gd = document.getElementById('2fd5bc81-b2e6-4b7c-a740-a95707d711a8');\n",
              "var x = new MutationObserver(function (mutations, observer) {{\n",
              "        var display = window.getComputedStyle(gd).display;\n",
              "        if (!display || display === 'none') {{\n",
              "            console.log([gd, 'removed!']);\n",
              "            Plotly.purge(gd);\n",
              "            observer.disconnect();\n",
              "        }}\n",
              "}});\n",
              "\n",
              "// Listen for the removal of the full notebook cells\n",
              "var notebookContainer = gd.closest('#notebook-container');\n",
              "if (notebookContainer) {{\n",
              "    x.observe(notebookContainer, {childList: true});\n",
              "}}\n",
              "\n",
              "// Listen for the clearing of the current output cell\n",
              "var outputEl = gd.closest('.output');\n",
              "if (outputEl) {{\n",
              "    x.observe(outputEl, {childList: true});\n",
              "}}\n",
              "\n",
              "                        })                };                            </script>        </div>\n",
              "</body>\n",
              "</html>"
            ]
          },
          "metadata": {}
        },
        {
          "output_type": "stream",
          "name": "stdout",
          "text": [
            "epoch: 1  squared_error  train_acc : 0.6946666666666667 valid_acc : 0.6963333333333334 test_acc : 0.6894\n",
            "epoch: 2  squared_error  train_acc : 0.8061296296296296 valid_acc : 0.804 test_acc : 0.7921\n",
            "epoch: 3  squared_error  train_acc : 0.844037037037037 valid_acc : 0.8453333333333334 test_acc : 0.8295\n",
            "epoch: 4  squared_error  train_acc : 0.8605 valid_acc : 0.859 test_acc : 0.8426\n",
            "epoch: 5  squared_error  train_acc : 0.8699814814814815 valid_acc : 0.8671666666666666 test_acc : 0.8502\n"
          ]
        },
        {
          "output_type": "display_data",
          "data": {
            "image/png": "[encoded data removed]",
            "text/plain": [
              "<Figure size 900x432 with 10 Axes>"
            ]
          },
          "metadata": {
            "needs_background": "light"
          }
        },
        {
          "output_type": "display_data",
          "data": {
            "text/html": [
              "<br/>Waiting for W&B process to finish, PID 622... <strong style=\"color:green\">(success).</strong>"
            ],
            "text/plain": [
              "<IPython.core.display.HTML object>"
            ]
          },
          "metadata": {}
        },
        {
          "output_type": "display_data",
          "data": {
            "application/vnd.jupyter.widget-view+json": {
              "model_id": "8633df41ce46490591c85683cf04b108",
              "version_minor": 0,
              "version_major": 2
            },
            "text/plain": [
              "VBox(children=(Label(value=' 0.03MB of 0.03MB uploaded (0.00MB deduped)\\r'), FloatProgress(value=1.0, max=1.0)…"
            ]
          },
          "metadata": {}
        },
        {
          "output_type": "display_data",
          "data": {
            "text/html": [
              "<style>\n",
              "    table.wandb td:nth-child(1) { padding: 0 10px; text-align: right }\n",
              "    .wandb-row { display: flex; flex-direction: row; flex-wrap: wrap; width: 100% }\n",
              "    .wandb-col { display: flex; flex-direction: column; flex-basis: 100%; flex: 1; padding: 10px; }\n",
              "    </style>\n",
              "<div class=\"wandb-row\"><div class=\"wandb-col\">\n",
              "<h3>Run history:</h3><br/><table class=\"wandb\"><tr><td>Epoch</td><td>▁▃▅▆█</td></tr><tr><td>Train Acc</td><td>▁▆▇▇█</td></tr><tr><td>Train Acc (squared_error)</td><td>▁▅▇██</td></tr><tr><td>Train Loss</td><td>█▄▃▃▁</td></tr><tr><td>Train Loss (squared_error)</td><td>█▄▂▁▁</td></tr><tr><td>Valid Acc</td><td>▁▆▇▇█</td></tr><tr><td>Valid Acc (squared_error)</td><td>▁▅▇██</td></tr><tr><td>Valid Loss</td><td>█▄▂▃▁</td></tr><tr><td>Valid Loss (squared_error)</td><td>█▄▂▁▁</td></tr><tr><td>test_acc</td><td>▁</td></tr><tr><td>test_acc (squared error)</td><td>▁</td></tr><tr><td>test_loss</td><td>▁</td></tr><tr><td>test_loss (squared error)</td><td>▁</td></tr></table><br/></div><div class=\"wandb-col\">\n",
              "<h3>Run summary:</h3><br/><table class=\"wandb\"><tr><td>Epoch</td><td>5</td></tr><tr><td>Train Acc</td><td>0.88457</td></tr><tr><td>Train Acc (squared_error)</td><td>0.86998</td></tr><tr><td>Train Loss</td><td>0.32351</td></tr><tr><td>Train Loss (squared_error)</td><td>0.2029</td></tr><tr><td>Valid Acc</td><td>0.87733</td></tr><tr><td>Valid Acc (squared_error)</td><td>0.86717</td></tr><tr><td>Valid Loss</td><td>0.35704</td></tr><tr><td>Valid Loss (squared_error)</td><td>0.20663</td></tr><tr><td>test_acc</td><td>0.8592</td></tr><tr><td>test_acc (squared error)</td><td>0.8502</td></tr><tr><td>test_loss</td><td>0.40727</td></tr><tr><td>test_loss (squared error)</td><td>0.23622</td></tr></table>\n",
              "</div></div>\n",
              "Synced 5 W&B file(s), 11 media file(s), 0 artifact file(s) and 0 other file(s)\n",
              "<br/>Synced <strong style=\"color:#cdcd00\">expert-sweep-1</strong>: <a href=\"https://wandb.ai/cs21m027_cs21m011/DL_ASG_1_final/runs/98wk3ymp\" target=\"_blank\">https://wandb.ai/cs21m027_cs21m011/DL_ASG_1_final/runs/98wk3ymp</a><br/>\n",
              "Find logs at: <code>./wandb/run-20220224_065613-98wk3ymp/logs</code><br/>\n"
            ],
            "text/plain": [
              "<IPython.core.display.HTML object>"
            ]
          },
          "metadata": {}
        },
        {
          "output_type": "stream",
          "name": "stderr",
          "text": [
            "\u001b[34m\u001b[1mwandb\u001b[0m: Sweep Agent: Waiting for job.\n",
            "\u001b[34m\u001b[1mwandb\u001b[0m: Sweep Agent: Exiting.\n"
          ]
        }
      ]
    },
    {
      "cell_type": "markdown",
      "source": [
        "#SGD BEST MODEL with cross_entropy and sq_error loss functions"
      ],
      "metadata": {
        "id": "2Ceh9Q2AgocG"
      }
    },
    {
      "cell_type": "code",
      "source": [
        "#wandb.agent(sweep_id, train)"
      ],
      "metadata": {
        "colab": {
          "base_uri": "https://localhost:8080/",
          "height": 1000,
          "referenced_widgets": [
            "84639497926844f5bad14f16f06f1d69",
            "f4ea852998154931b87910e297f165b4",
            "0c1db026a8de4815bac80fa552ff633b",
            "d5640a10ca1f40d79731b9b421b9c76d",
            "b9b68176053d49eb8172890be458d650",
            "397547696a884e9fa2df54eab8c3dc8f",
            "c8dcc3331bdc437c9c9fa941389b130f",
            "ab527d9dfbec4364ab0de1917bd02b99"
          ]
        },
        "id": "MSc8sVZQNw9B",
        "outputId": "aa74c677-96ca-4136-a9fb-4c7fbbbcbe96"
      },
      "execution_count": 52,
      "outputs": [
        {
          "output_type": "stream",
          "name": "stderr",
          "text": [
            "\u001b[34m\u001b[1mwandb\u001b[0m: Agent Starting Run: ndtxzvxm with config:\n",
            "\u001b[34m\u001b[1mwandb\u001b[0m: \tact_fun: tanh\n",
            "\u001b[34m\u001b[1mwandb\u001b[0m: \talpha: 0\n",
            "\u001b[34m\u001b[1mwandb\u001b[0m: \tbatch_size: 32\n",
            "\u001b[34m\u001b[1mwandb\u001b[0m: \tepochs: 5\n",
            "\u001b[34m\u001b[1mwandb\u001b[0m: \teta: 0.01\n",
            "\u001b[34m\u001b[1mwandb\u001b[0m: \thidden_layer_size: 64\n",
            "\u001b[34m\u001b[1mwandb\u001b[0m: \thidden_layers: 5\n",
            "\u001b[34m\u001b[1mwandb\u001b[0m: \toptimizer: sgd\n",
            "\u001b[34m\u001b[1mwandb\u001b[0m: \tstrat: xavier\n"
          ]
        },
        {
          "output_type": "display_data",
          "data": {
            "text/html": [
              "\n",
              "                    Syncing run <strong><a href=\"https://wandb.ai/cs21m027_cs21m011/DL_ASG_1_final/runs/ndtxzvxm\" target=\"_blank\">swift-sweep-1</a></strong> to <a href=\"https://wandb.ai/cs21m027_cs21m011/DL_ASG_1_final\" target=\"_blank\">Weights & Biases</a> (<a href=\"https://docs.wandb.com/integrations/jupyter.html\" target=\"_blank\">docs</a>).<br/>\n",
              "Sweep page: <a href=\"https://wandb.ai/cs21m027_cs21m011/DL_ASG_1_final/sweeps/7jdkjw7w\" target=\"_blank\">https://wandb.ai/cs21m027_cs21m011/DL_ASG_1_final/sweeps/7jdkjw7w</a><br/>\n",
              "\n",
              "                "
            ],
            "text/plain": [
              "<IPython.core.display.HTML object>"
            ]
          },
          "metadata": {}
        },
        {
          "output_type": "stream",
          "name": "stdout",
          "text": [
            "epoch: 1  cross_entropy  train_acc : 0.8512222222222222 valid_acc : 0.8501666666666666 test_acc : 0.834\n",
            "epoch: 2  cross_entropy  train_acc : 0.8691666666666666 valid_acc : 0.8648333333333333 test_acc : 0.8505\n",
            "epoch: 3  cross_entropy  train_acc : 0.8785185185185185 valid_acc : 0.8706666666666667 test_acc : 0.855\n",
            "epoch: 4  cross_entropy  train_acc : 0.8823518518518518 valid_acc : 0.8723333333333333 test_acc : 0.8613\n",
            "epoch: 5  cross_entropy  train_acc : 0.8909259259259259 valid_acc : 0.88 test_acc : 0.8624\n"
          ]
        },
        {
          "output_type": "display_data",
          "data": {
            "text/html": [
              "<html>\n",
              "<head><meta charset=\"utf-8\" /></head>\n",
              "<body>\n",
              "    <div>            <script src=\"https://cdnjs.cloudflare.com/ajax/libs/mathjax/2.7.5/MathJax.js?config=TeX-AMS-MML_SVG\"></script><script type=\"text/javascript\">if (window.MathJax) {MathJax.Hub.Config({SVG: {font: \"STIX-Web\"}});}</script>                <script type=\"text/javascript\">window.PlotlyConfig = {MathJaxConfig: 'local'};</script>\n",
              "        <script src=\"https://cdn.plot.ly/plotly-2.8.3.min.js\"></script>                <div id=\"40e03503-4b35-46e0-9b6b-9f72853807b0\" class=\"plotly-graph-div\" style=\"height:525px; width:100%;\"></div>            <script type=\"text/javascript\">                                    window.PLOTLYENV=window.PLOTLYENV || {};                                    if (document.getElementById(\"40e03503-4b35-46e0-9b6b-9f72853807b0\")) {                    Plotly.newPlot(                        \"40e03503-4b35-46e0-9b6b-9f72853807b0\",                        [{\"colorscale\":[[0.0,\"rgb(29, 79, 96)\"],[0.16666666666666666,\"rgb(38, 107, 110)\"],[0.3333333333333333,\"rgb(54, 135, 122)\"],[0.5,\"rgb(77, 162, 132)\"],[0.6666666666666666,\"rgb(109, 188, 144)\"],[0.8333333333333334,\"rgb(150, 210, 164)\"],[1.0,\"rgb(196, 230, 195)\"]],\"hoverinfo\":\"text\",\"reversescale\":false,\"showscale\":true,\"text\":[[\"836 T-shirt/Top are correctly classified\",\"\",\"9 T-shirt/Top are wrongly classified as Pullover\",\"38 T-shirt/Top are wrongly classified as Dress\",\"2 T-shirt/Top are wrongly classified as Coat\",\"\",\"102 T-shirt/Top are wrongly classified as Shirt\",\"\",\"13 T-shirt/Top are wrongly classified as Bag\",\"\"],[\"4 Trouser are wrongly classified as T-shirt/Top\",\"959 Trouser are correctly classified\",\"2 Trouser are wrongly classified as Pullover\",\"27 Trouser are wrongly classified as Dress\",\"4 Trouser are wrongly classified as Coat\",\"\",\"2 Trouser are wrongly classified as Shirt\",\"\",\"2 Trouser are wrongly classified as Bag\",\"\"],[\"15 Pullover are wrongly classified as T-shirt/Top\",\"\",\"784 Pullover are correctly classified\",\"22 Pullover are wrongly classified as Dress\",\"93 Pullover are wrongly classified as Coat\",\"1 Pullover are wrongly classified as Sandal\",\"81 Pullover are wrongly classified as Shirt\",\"\",\"4 Pullover are wrongly classified as Bag\",\"\"],[\"43 Dress are wrongly classified as T-shirt/Top\",\"14 Dress are wrongly classified as Trouser\",\"5 Dress are wrongly classified as Pullover\",\"889 Dress are correctly classified\",\"23 Dress are wrongly classified as Coat\",\"\",\"16 Dress are wrongly classified as Shirt\",\"\",\"10 Dress are wrongly classified as Bag\",\"\"],[\"\",\"2 Coat are wrongly classified as Trouser\",\"107 Coat are wrongly classified as Pullover\",\"53 Coat are wrongly classified as Dress\",\"793 Coat are correctly classified\",\"1 Coat are wrongly classified as Sandal\",\"40 Coat are wrongly classified as Shirt\",\"\",\"4 Coat are wrongly classified as Bag\",\"\"],[\"\",\"\",\"\",\"1 Sandal are wrongly classified as Dress\",\"\",\"964 Sandal are correctly classified\",\"\",\"19 Sandal are wrongly classified as Sneaker\",\"4 Sandal are wrongly classified as Bag\",\"12 Sandal are wrongly classified as Ankle Boot\"],[\"178 Shirt are wrongly classified as T-shirt/Top\",\"\",\"76 Shirt are wrongly classified as Pullover\",\"37 Shirt are wrongly classified as Dress\",\"118 Shirt are wrongly classified as Coat\",\"1 Shirt are wrongly classified as Sandal\",\"576 Shirt are correctly classified\",\"\",\"14 Shirt are wrongly classified as Bag\",\"\"],[\"\",\"\",\"\",\"\",\"\",\"51 Sneaker are wrongly classified as Sandal\",\"\",\"917 Sneaker are correctly classified\",\"2 Sneaker are wrongly classified as Bag\",\"30 Sneaker are wrongly classified as Ankle Boot\"],[\"2 Bag are wrongly classified as T-shirt/Top\",\"\",\"1 Bag are wrongly classified as Pullover\",\"6 Bag are wrongly classified as Dress\",\"5 Bag are wrongly classified as Coat\",\"3 Bag are wrongly classified as Sandal\",\"7 Bag are wrongly classified as Shirt\",\"2 Bag are wrongly classified as Sneaker\",\"974 Bag are correctly classified\",\"\"],[\"\",\"\",\"\",\"\",\"\",\"33 Ankle Boot are wrongly classified as Sandal\",\"\",\"34 Ankle Boot are wrongly classified as Sneaker\",\"1 Ankle Boot are wrongly classified as Bag\",\"932 Ankle Boot are correctly classified\"]],\"x\":[\"T-shirt/Top\",\"Trouser\",\"Pullover\",\"Dress\",\"Coat\",\"Sandal\",\"Shirt\",\"Sneaker\",\"Bag\",\"Ankle Boot\"],\"y\":[\"T-shirt/Top\",\"Trouser\",\"Pullover\",\"Dress\",\"Coat\",\"Sandal\",\"Shirt\",\"Sneaker\",\"Bag\",\"Ankle Boot\"],\"z\":[[836,0,9,38,2,0,102,0,13,0],[4,959,2,27,4,0,2,0,2,0],[15,0,784,22,93,1,81,0,4,0],[43,14,5,889,23,0,16,0,10,0],[0,2,107,53,793,1,40,0,4,0],[0,0,0,1,0,964,0,19,4,12],[178,0,76,37,118,1,576,0,14,0],[0,0,0,0,0,51,0,917,2,30],[2,0,1,6,5,3,7,2,974,0],[0,0,0,0,0,33,0,34,1,932]],\"type\":\"heatmap\"}],                        {\"annotations\":[{\"font\":{\"color\":\"#000000\",\"size\":14},\"showarrow\":false,\"text\":\"83.6% <br> 836/1000\",\"x\":\"T-shirt/Top\",\"xref\":\"x\",\"y\":\"T-shirt/Top\",\"yref\":\"y\"},{\"font\":{\"color\":\"#FFFFFF\",\"size\":14},\"showarrow\":false,\"text\":\"\",\"x\":\"Trouser\",\"xref\":\"x\",\"y\":\"T-shirt/Top\",\"yref\":\"y\"},{\"font\":{\"color\":\"#FFFFFF\",\"size\":14},\"showarrow\":false,\"text\":\"0.9% <br> 9\",\"x\":\"Pullover\",\"xref\":\"x\",\"y\":\"T-shirt/Top\",\"yref\":\"y\"},{\"font\":{\"color\":\"#FFFFFF\",\"size\":14},\"showarrow\":false,\"text\":\"3.8% <br> 38\",\"x\":\"Dress\",\"xref\":\"x\",\"y\":\"T-shirt/Top\",\"yref\":\"y\"},{\"font\":{\"color\":\"#FFFFFF\",\"size\":14},\"showarrow\":false,\"text\":\"0.2% <br> 2\",\"x\":\"Coat\",\"xref\":\"x\",\"y\":\"T-shirt/Top\",\"yref\":\"y\"},{\"font\":{\"color\":\"#FFFFFF\",\"size\":14},\"showarrow\":false,\"text\":\"\",\"x\":\"Sandal\",\"xref\":\"x\",\"y\":\"T-shirt/Top\",\"yref\":\"y\"},{\"font\":{\"color\":\"#FFFFFF\",\"size\":14},\"showarrow\":false,\"text\":\"10.2% <br> 102\",\"x\":\"Shirt\",\"xref\":\"x\",\"y\":\"T-shirt/Top\",\"yref\":\"y\"},{\"font\":{\"color\":\"#FFFFFF\",\"size\":14},\"showarrow\":false,\"text\":\"\",\"x\":\"Sneaker\",\"xref\":\"x\",\"y\":\"T-shirt/Top\",\"yref\":\"y\"},{\"font\":{\"color\":\"#FFFFFF\",\"size\":14},\"showarrow\":false,\"text\":\"1.3% <br> 13\",\"x\":\"Bag\",\"xref\":\"x\",\"y\":\"T-shirt/Top\",\"yref\":\"y\"},{\"font\":{\"color\":\"#FFFFFF\",\"size\":14},\"showarrow\":false,\"text\":\"\",\"x\":\"Ankle Boot\",\"xref\":\"x\",\"y\":\"T-shirt/Top\",\"yref\":\"y\"},{\"font\":{\"color\":\"#FFFFFF\",\"size\":14},\"showarrow\":false,\"text\":\"0.4% <br> 4\",\"x\":\"T-shirt/Top\",\"xref\":\"x\",\"y\":\"Trouser\",\"yref\":\"y\"},{\"font\":{\"color\":\"#000000\",\"size\":14},\"showarrow\":false,\"text\":\"95.9% <br> 959/1000\",\"x\":\"Trouser\",\"xref\":\"x\",\"y\":\"Trouser\",\"yref\":\"y\"},{\"font\":{\"color\":\"#FFFFFF\",\"size\":14},\"showarrow\":false,\"text\":\"0.2% <br> 2\",\"x\":\"Pullover\",\"xref\":\"x\",\"y\":\"Trouser\",\"yref\":\"y\"},{\"font\":{\"color\":\"#FFFFFF\",\"size\":14},\"showarrow\":false,\"text\":\"2.7% <br> 27\",\"x\":\"Dress\",\"xref\":\"x\",\"y\":\"Trouser\",\"yref\":\"y\"},{\"font\":{\"color\":\"#FFFFFF\",\"size\":14},\"showarrow\":false,\"text\":\"0.4% <br> 4\",\"x\":\"Coat\",\"xref\":\"x\",\"y\":\"Trouser\",\"yref\":\"y\"},{\"font\":{\"color\":\"#FFFFFF\",\"size\":14},\"showarrow\":false,\"text\":\"\",\"x\":\"Sandal\",\"xref\":\"x\",\"y\":\"Trouser\",\"yref\":\"y\"},{\"font\":{\"color\":\"#FFFFFF\",\"size\":14},\"showarrow\":false,\"text\":\"0.2% <br> 2\",\"x\":\"Shirt\",\"xref\":\"x\",\"y\":\"Trouser\",\"yref\":\"y\"},{\"font\":{\"color\":\"#FFFFFF\",\"size\":14},\"showarrow\":false,\"text\":\"\",\"x\":\"Sneaker\",\"xref\":\"x\",\"y\":\"Trouser\",\"yref\":\"y\"},{\"font\":{\"color\":\"#FFFFFF\",\"size\":14},\"showarrow\":false,\"text\":\"0.2% <br> 2\",\"x\":\"Bag\",\"xref\":\"x\",\"y\":\"Trouser\",\"yref\":\"y\"},{\"font\":{\"color\":\"#FFFFFF\",\"size\":14},\"showarrow\":false,\"text\":\"\",\"x\":\"Ankle Boot\",\"xref\":\"x\",\"y\":\"Trouser\",\"yref\":\"y\"},{\"font\":{\"color\":\"#FFFFFF\",\"size\":14},\"showarrow\":false,\"text\":\"1.5% <br> 15\",\"x\":\"T-shirt/Top\",\"xref\":\"x\",\"y\":\"Pullover\",\"yref\":\"y\"},{\"font\":{\"color\":\"#FFFFFF\",\"size\":14},\"showarrow\":false,\"text\":\"\",\"x\":\"Trouser\",\"xref\":\"x\",\"y\":\"Pullover\",\"yref\":\"y\"},{\"font\":{\"color\":\"#000000\",\"size\":14},\"showarrow\":false,\"text\":\"78.4% <br> 784/1000\",\"x\":\"Pullover\",\"xref\":\"x\",\"y\":\"Pullover\",\"yref\":\"y\"},{\"font\":{\"color\":\"#FFFFFF\",\"size\":14},\"showarrow\":false,\"text\":\"2.2% <br> 22\",\"x\":\"Dress\",\"xref\":\"x\",\"y\":\"Pullover\",\"yref\":\"y\"},{\"font\":{\"color\":\"#FFFFFF\",\"size\":14},\"showarrow\":false,\"text\":\"9.3% <br> 93\",\"x\":\"Coat\",\"xref\":\"x\",\"y\":\"Pullover\",\"yref\":\"y\"},{\"font\":{\"color\":\"#FFFFFF\",\"size\":14},\"showarrow\":false,\"text\":\"0.1% <br> 1\",\"x\":\"Sandal\",\"xref\":\"x\",\"y\":\"Pullover\",\"yref\":\"y\"},{\"font\":{\"color\":\"#FFFFFF\",\"size\":14},\"showarrow\":false,\"text\":\"8.1% <br> 81\",\"x\":\"Shirt\",\"xref\":\"x\",\"y\":\"Pullover\",\"yref\":\"y\"},{\"font\":{\"color\":\"#FFFFFF\",\"size\":14},\"showarrow\":false,\"text\":\"\",\"x\":\"Sneaker\",\"xref\":\"x\",\"y\":\"Pullover\",\"yref\":\"y\"},{\"font\":{\"color\":\"#FFFFFF\",\"size\":14},\"showarrow\":false,\"text\":\"0.4% <br> 4\",\"x\":\"Bag\",\"xref\":\"x\",\"y\":\"Pullover\",\"yref\":\"y\"},{\"font\":{\"color\":\"#FFFFFF\",\"size\":14},\"showarrow\":false,\"text\":\"\",\"x\":\"Ankle Boot\",\"xref\":\"x\",\"y\":\"Pullover\",\"yref\":\"y\"},{\"font\":{\"color\":\"#FFFFFF\",\"size\":14},\"showarrow\":false,\"text\":\"4.3% <br> 43\",\"x\":\"T-shirt/Top\",\"xref\":\"x\",\"y\":\"Dress\",\"yref\":\"y\"},{\"font\":{\"color\":\"#FFFFFF\",\"size\":14},\"showarrow\":false,\"text\":\"1.4% <br> 14\",\"x\":\"Trouser\",\"xref\":\"x\",\"y\":\"Dress\",\"yref\":\"y\"},{\"font\":{\"color\":\"#FFFFFF\",\"size\":14},\"showarrow\":false,\"text\":\"0.5% <br> 5\",\"x\":\"Pullover\",\"xref\":\"x\",\"y\":\"Dress\",\"yref\":\"y\"},{\"font\":{\"color\":\"#000000\",\"size\":14},\"showarrow\":false,\"text\":\"88.9% <br> 889/1000\",\"x\":\"Dress\",\"xref\":\"x\",\"y\":\"Dress\",\"yref\":\"y\"},{\"font\":{\"color\":\"#FFFFFF\",\"size\":14},\"showarrow\":false,\"text\":\"2.3% <br> 23\",\"x\":\"Coat\",\"xref\":\"x\",\"y\":\"Dress\",\"yref\":\"y\"},{\"font\":{\"color\":\"#FFFFFF\",\"size\":14},\"showarrow\":false,\"text\":\"\",\"x\":\"Sandal\",\"xref\":\"x\",\"y\":\"Dress\",\"yref\":\"y\"},{\"font\":{\"color\":\"#FFFFFF\",\"size\":14},\"showarrow\":false,\"text\":\"1.6% <br> 16\",\"x\":\"Shirt\",\"xref\":\"x\",\"y\":\"Dress\",\"yref\":\"y\"},{\"font\":{\"color\":\"#FFFFFF\",\"size\":14},\"showarrow\":false,\"text\":\"\",\"x\":\"Sneaker\",\"xref\":\"x\",\"y\":\"Dress\",\"yref\":\"y\"},{\"font\":{\"color\":\"#FFFFFF\",\"size\":14},\"showarrow\":false,\"text\":\"1.0% <br> 10\",\"x\":\"Bag\",\"xref\":\"x\",\"y\":\"Dress\",\"yref\":\"y\"},{\"font\":{\"color\":\"#FFFFFF\",\"size\":14},\"showarrow\":false,\"text\":\"\",\"x\":\"Ankle Boot\",\"xref\":\"x\",\"y\":\"Dress\",\"yref\":\"y\"},{\"font\":{\"color\":\"#FFFFFF\",\"size\":14},\"showarrow\":false,\"text\":\"\",\"x\":\"T-shirt/Top\",\"xref\":\"x\",\"y\":\"Coat\",\"yref\":\"y\"},{\"font\":{\"color\":\"#FFFFFF\",\"size\":14},\"showarrow\":false,\"text\":\"0.2% <br> 2\",\"x\":\"Trouser\",\"xref\":\"x\",\"y\":\"Coat\",\"yref\":\"y\"},{\"font\":{\"color\":\"#FFFFFF\",\"size\":14},\"showarrow\":false,\"text\":\"10.7% <br> 107\",\"x\":\"Pullover\",\"xref\":\"x\",\"y\":\"Coat\",\"yref\":\"y\"},{\"font\":{\"color\":\"#FFFFFF\",\"size\":14},\"showarrow\":false,\"text\":\"5.3% <br> 53\",\"x\":\"Dress\",\"xref\":\"x\",\"y\":\"Coat\",\"yref\":\"y\"},{\"font\":{\"color\":\"#000000\",\"size\":14},\"showarrow\":false,\"text\":\"79.3% <br> 793/1000\",\"x\":\"Coat\",\"xref\":\"x\",\"y\":\"Coat\",\"yref\":\"y\"},{\"font\":{\"color\":\"#FFFFFF\",\"size\":14},\"showarrow\":false,\"text\":\"0.1% <br> 1\",\"x\":\"Sandal\",\"xref\":\"x\",\"y\":\"Coat\",\"yref\":\"y\"},{\"font\":{\"color\":\"#FFFFFF\",\"size\":14},\"showarrow\":false,\"text\":\"4.0% <br> 40\",\"x\":\"Shirt\",\"xref\":\"x\",\"y\":\"Coat\",\"yref\":\"y\"},{\"font\":{\"color\":\"#FFFFFF\",\"size\":14},\"showarrow\":false,\"text\":\"\",\"x\":\"Sneaker\",\"xref\":\"x\",\"y\":\"Coat\",\"yref\":\"y\"},{\"font\":{\"color\":\"#FFFFFF\",\"size\":14},\"showarrow\":false,\"text\":\"0.4% <br> 4\",\"x\":\"Bag\",\"xref\":\"x\",\"y\":\"Coat\",\"yref\":\"y\"},{\"font\":{\"color\":\"#FFFFFF\",\"size\":14},\"showarrow\":false,\"text\":\"\",\"x\":\"Ankle Boot\",\"xref\":\"x\",\"y\":\"Coat\",\"yref\":\"y\"},{\"font\":{\"color\":\"#FFFFFF\",\"size\":14},\"showarrow\":false,\"text\":\"\",\"x\":\"T-shirt/Top\",\"xref\":\"x\",\"y\":\"Sandal\",\"yref\":\"y\"},{\"font\":{\"color\":\"#FFFFFF\",\"size\":14},\"showarrow\":false,\"text\":\"\",\"x\":\"Trouser\",\"xref\":\"x\",\"y\":\"Sandal\",\"yref\":\"y\"},{\"font\":{\"color\":\"#FFFFFF\",\"size\":14},\"showarrow\":false,\"text\":\"\",\"x\":\"Pullover\",\"xref\":\"x\",\"y\":\"Sandal\",\"yref\":\"y\"},{\"font\":{\"color\":\"#FFFFFF\",\"size\":14},\"showarrow\":false,\"text\":\"0.1% <br> 1\",\"x\":\"Dress\",\"xref\":\"x\",\"y\":\"Sandal\",\"yref\":\"y\"},{\"font\":{\"color\":\"#FFFFFF\",\"size\":14},\"showarrow\":false,\"text\":\"\",\"x\":\"Coat\",\"xref\":\"x\",\"y\":\"Sandal\",\"yref\":\"y\"},{\"font\":{\"color\":\"#000000\",\"size\":14},\"showarrow\":false,\"text\":\"96.4% <br> 964/1000\",\"x\":\"Sandal\",\"xref\":\"x\",\"y\":\"Sandal\",\"yref\":\"y\"},{\"font\":{\"color\":\"#FFFFFF\",\"size\":14},\"showarrow\":false,\"text\":\"\",\"x\":\"Shirt\",\"xref\":\"x\",\"y\":\"Sandal\",\"yref\":\"y\"},{\"font\":{\"color\":\"#FFFFFF\",\"size\":14},\"showarrow\":false,\"text\":\"1.9% <br> 19\",\"x\":\"Sneaker\",\"xref\":\"x\",\"y\":\"Sandal\",\"yref\":\"y\"},{\"font\":{\"color\":\"#FFFFFF\",\"size\":14},\"showarrow\":false,\"text\":\"0.4% <br> 4\",\"x\":\"Bag\",\"xref\":\"x\",\"y\":\"Sandal\",\"yref\":\"y\"},{\"font\":{\"color\":\"#FFFFFF\",\"size\":14},\"showarrow\":false,\"text\":\"1.2% <br> 12\",\"x\":\"Ankle Boot\",\"xref\":\"x\",\"y\":\"Sandal\",\"yref\":\"y\"},{\"font\":{\"color\":\"#FFFFFF\",\"size\":14},\"showarrow\":false,\"text\":\"17.8% <br> 178\",\"x\":\"T-shirt/Top\",\"xref\":\"x\",\"y\":\"Shirt\",\"yref\":\"y\"},{\"font\":{\"color\":\"#FFFFFF\",\"size\":14},\"showarrow\":false,\"text\":\"\",\"x\":\"Trouser\",\"xref\":\"x\",\"y\":\"Shirt\",\"yref\":\"y\"},{\"font\":{\"color\":\"#FFFFFF\",\"size\":14},\"showarrow\":false,\"text\":\"7.6% <br> 76\",\"x\":\"Pullover\",\"xref\":\"x\",\"y\":\"Shirt\",\"yref\":\"y\"},{\"font\":{\"color\":\"#FFFFFF\",\"size\":14},\"showarrow\":false,\"text\":\"3.7% <br> 37\",\"x\":\"Dress\",\"xref\":\"x\",\"y\":\"Shirt\",\"yref\":\"y\"},{\"font\":{\"color\":\"#FFFFFF\",\"size\":14},\"showarrow\":false,\"text\":\"11.8% <br> 118\",\"x\":\"Coat\",\"xref\":\"x\",\"y\":\"Shirt\",\"yref\":\"y\"},{\"font\":{\"color\":\"#FFFFFF\",\"size\":14},\"showarrow\":false,\"text\":\"0.1% <br> 1\",\"x\":\"Sandal\",\"xref\":\"x\",\"y\":\"Shirt\",\"yref\":\"y\"},{\"font\":{\"color\":\"#000000\",\"size\":14},\"showarrow\":false,\"text\":\"57.6% <br> 576/1000\",\"x\":\"Shirt\",\"xref\":\"x\",\"y\":\"Shirt\",\"yref\":\"y\"},{\"font\":{\"color\":\"#FFFFFF\",\"size\":14},\"showarrow\":false,\"text\":\"\",\"x\":\"Sneaker\",\"xref\":\"x\",\"y\":\"Shirt\",\"yref\":\"y\"},{\"font\":{\"color\":\"#FFFFFF\",\"size\":14},\"showarrow\":false,\"text\":\"1.4% <br> 14\",\"x\":\"Bag\",\"xref\":\"x\",\"y\":\"Shirt\",\"yref\":\"y\"},{\"font\":{\"color\":\"#FFFFFF\",\"size\":14},\"showarrow\":false,\"text\":\"\",\"x\":\"Ankle Boot\",\"xref\":\"x\",\"y\":\"Shirt\",\"yref\":\"y\"},{\"font\":{\"color\":\"#FFFFFF\",\"size\":14},\"showarrow\":false,\"text\":\"\",\"x\":\"T-shirt/Top\",\"xref\":\"x\",\"y\":\"Sneaker\",\"yref\":\"y\"},{\"font\":{\"color\":\"#FFFFFF\",\"size\":14},\"showarrow\":false,\"text\":\"\",\"x\":\"Trouser\",\"xref\":\"x\",\"y\":\"Sneaker\",\"yref\":\"y\"},{\"font\":{\"color\":\"#FFFFFF\",\"size\":14},\"showarrow\":false,\"text\":\"\",\"x\":\"Pullover\",\"xref\":\"x\",\"y\":\"Sneaker\",\"yref\":\"y\"},{\"font\":{\"color\":\"#FFFFFF\",\"size\":14},\"showarrow\":false,\"text\":\"\",\"x\":\"Dress\",\"xref\":\"x\",\"y\":\"Sneaker\",\"yref\":\"y\"},{\"font\":{\"color\":\"#FFFFFF\",\"size\":14},\"showarrow\":false,\"text\":\"\",\"x\":\"Coat\",\"xref\":\"x\",\"y\":\"Sneaker\",\"yref\":\"y\"},{\"font\":{\"color\":\"#FFFFFF\",\"size\":14},\"showarrow\":false,\"text\":\"5.1% <br> 51\",\"x\":\"Sandal\",\"xref\":\"x\",\"y\":\"Sneaker\",\"yref\":\"y\"},{\"font\":{\"color\":\"#FFFFFF\",\"size\":14},\"showarrow\":false,\"text\":\"\",\"x\":\"Shirt\",\"xref\":\"x\",\"y\":\"Sneaker\",\"yref\":\"y\"},{\"font\":{\"color\":\"#000000\",\"size\":14},\"showarrow\":false,\"text\":\"91.7% <br> 917/1000\",\"x\":\"Sneaker\",\"xref\":\"x\",\"y\":\"Sneaker\",\"yref\":\"y\"},{\"font\":{\"color\":\"#FFFFFF\",\"size\":14},\"showarrow\":false,\"text\":\"0.2% <br> 2\",\"x\":\"Bag\",\"xref\":\"x\",\"y\":\"Sneaker\",\"yref\":\"y\"},{\"font\":{\"color\":\"#FFFFFF\",\"size\":14},\"showarrow\":false,\"text\":\"3.0% <br> 30\",\"x\":\"Ankle Boot\",\"xref\":\"x\",\"y\":\"Sneaker\",\"yref\":\"y\"},{\"font\":{\"color\":\"#FFFFFF\",\"size\":14},\"showarrow\":false,\"text\":\"0.2% <br> 2\",\"x\":\"T-shirt/Top\",\"xref\":\"x\",\"y\":\"Bag\",\"yref\":\"y\"},{\"font\":{\"color\":\"#FFFFFF\",\"size\":14},\"showarrow\":false,\"text\":\"\",\"x\":\"Trouser\",\"xref\":\"x\",\"y\":\"Bag\",\"yref\":\"y\"},{\"font\":{\"color\":\"#FFFFFF\",\"size\":14},\"showarrow\":false,\"text\":\"0.1% <br> 1\",\"x\":\"Pullover\",\"xref\":\"x\",\"y\":\"Bag\",\"yref\":\"y\"},{\"font\":{\"color\":\"#FFFFFF\",\"size\":14},\"showarrow\":false,\"text\":\"0.6% <br> 6\",\"x\":\"Dress\",\"xref\":\"x\",\"y\":\"Bag\",\"yref\":\"y\"},{\"font\":{\"color\":\"#FFFFFF\",\"size\":14},\"showarrow\":false,\"text\":\"0.5% <br> 5\",\"x\":\"Coat\",\"xref\":\"x\",\"y\":\"Bag\",\"yref\":\"y\"},{\"font\":{\"color\":\"#FFFFFF\",\"size\":14},\"showarrow\":false,\"text\":\"0.3% <br> 3\",\"x\":\"Sandal\",\"xref\":\"x\",\"y\":\"Bag\",\"yref\":\"y\"},{\"font\":{\"color\":\"#FFFFFF\",\"size\":14},\"showarrow\":false,\"text\":\"0.7% <br> 7\",\"x\":\"Shirt\",\"xref\":\"x\",\"y\":\"Bag\",\"yref\":\"y\"},{\"font\":{\"color\":\"#FFFFFF\",\"size\":14},\"showarrow\":false,\"text\":\"0.2% <br> 2\",\"x\":\"Sneaker\",\"xref\":\"x\",\"y\":\"Bag\",\"yref\":\"y\"},{\"font\":{\"color\":\"#000000\",\"size\":14},\"showarrow\":false,\"text\":\"97.4% <br> 974/1000\",\"x\":\"Bag\",\"xref\":\"x\",\"y\":\"Bag\",\"yref\":\"y\"},{\"font\":{\"color\":\"#FFFFFF\",\"size\":14},\"showarrow\":false,\"text\":\"\",\"x\":\"Ankle Boot\",\"xref\":\"x\",\"y\":\"Bag\",\"yref\":\"y\"},{\"font\":{\"color\":\"#FFFFFF\",\"size\":14},\"showarrow\":false,\"text\":\"\",\"x\":\"T-shirt/Top\",\"xref\":\"x\",\"y\":\"Ankle Boot\",\"yref\":\"y\"},{\"font\":{\"color\":\"#FFFFFF\",\"size\":14},\"showarrow\":false,\"text\":\"\",\"x\":\"Trouser\",\"xref\":\"x\",\"y\":\"Ankle Boot\",\"yref\":\"y\"},{\"font\":{\"color\":\"#FFFFFF\",\"size\":14},\"showarrow\":false,\"text\":\"\",\"x\":\"Pullover\",\"xref\":\"x\",\"y\":\"Ankle Boot\",\"yref\":\"y\"},{\"font\":{\"color\":\"#FFFFFF\",\"size\":14},\"showarrow\":false,\"text\":\"\",\"x\":\"Dress\",\"xref\":\"x\",\"y\":\"Ankle Boot\",\"yref\":\"y\"},{\"font\":{\"color\":\"#FFFFFF\",\"size\":14},\"showarrow\":false,\"text\":\"\",\"x\":\"Coat\",\"xref\":\"x\",\"y\":\"Ankle Boot\",\"yref\":\"y\"},{\"font\":{\"color\":\"#FFFFFF\",\"size\":14},\"showarrow\":false,\"text\":\"3.3% <br> 33\",\"x\":\"Sandal\",\"xref\":\"x\",\"y\":\"Ankle Boot\",\"yref\":\"y\"},{\"font\":{\"color\":\"#FFFFFF\",\"size\":14},\"showarrow\":false,\"text\":\"\",\"x\":\"Shirt\",\"xref\":\"x\",\"y\":\"Ankle Boot\",\"yref\":\"y\"},{\"font\":{\"color\":\"#FFFFFF\",\"size\":14},\"showarrow\":false,\"text\":\"3.4% <br> 34\",\"x\":\"Sneaker\",\"xref\":\"x\",\"y\":\"Ankle Boot\",\"yref\":\"y\"},{\"font\":{\"color\":\"#FFFFFF\",\"size\":14},\"showarrow\":false,\"text\":\"0.1% <br> 1\",\"x\":\"Bag\",\"xref\":\"x\",\"y\":\"Ankle Boot\",\"yref\":\"y\"},{\"font\":{\"color\":\"#000000\",\"size\":14},\"showarrow\":false,\"text\":\"93.2% <br> 932/1000\",\"x\":\"Ankle Boot\",\"xref\":\"x\",\"y\":\"Ankle Boot\",\"yref\":\"y\"},{\"font\":{\"color\":\"black\",\"size\":14},\"showarrow\":false,\"text\":\"Predicted value\",\"x\":0.5,\"xref\":\"paper\",\"y\":-0.15,\"yref\":\"paper\"},{\"font\":{\"color\":\"black\",\"size\":14},\"showarrow\":false,\"text\":\"Real value\",\"textangle\":-90,\"x\":-0.35,\"xref\":\"paper\",\"y\":0.5,\"yref\":\"paper\"}],\"xaxis\":{\"dtick\":1,\"gridcolor\":\"rgb(0, 0, 0)\",\"side\":\"top\",\"ticks\":\"\"},\"yaxis\":{\"dtick\":1,\"ticks\":\"\",\"ticksuffix\":\"  \",\"autorange\":\"reversed\"},\"template\":{\"data\":{\"bar\":[{\"error_x\":{\"color\":\"#2a3f5f\"},\"error_y\":{\"color\":\"#2a3f5f\"},\"marker\":{\"line\":{\"color\":\"#E5ECF6\",\"width\":0.5},\"pattern\":{\"fillmode\":\"overlay\",\"size\":10,\"solidity\":0.2}},\"type\":\"bar\"}],\"barpolar\":[{\"marker\":{\"line\":{\"color\":\"#E5ECF6\",\"width\":0.5},\"pattern\":{\"fillmode\":\"overlay\",\"size\":10,\"solidity\":0.2}},\"type\":\"barpolar\"}],\"carpet\":[{\"aaxis\":{\"endlinecolor\":\"#2a3f5f\",\"gridcolor\":\"white\",\"linecolor\":\"white\",\"minorgridcolor\":\"white\",\"startlinecolor\":\"#2a3f5f\"},\"baxis\":{\"endlinecolor\":\"#2a3f5f\",\"gridcolor\":\"white\",\"linecolor\":\"white\",\"minorgridcolor\":\"white\",\"startlinecolor\":\"#2a3f5f\"},\"type\":\"carpet\"}],\"choropleth\":[{\"colorbar\":{\"outlinewidth\":0,\"ticks\":\"\"},\"type\":\"choropleth\"}],\"contour\":[{\"colorbar\":{\"outlinewidth\":0,\"ticks\":\"\"},\"colorscale\":[[0.0,\"#0d0887\"],[0.1111111111111111,\"#46039f\"],[0.2222222222222222,\"#7201a8\"],[0.3333333333333333,\"#9c179e\"],[0.4444444444444444,\"#bd3786\"],[0.5555555555555556,\"#d8576b\"],[0.6666666666666666,\"#ed7953\"],[0.7777777777777778,\"#fb9f3a\"],[0.8888888888888888,\"#fdca26\"],[1.0,\"#f0f921\"]],\"type\":\"contour\"}],\"contourcarpet\":[{\"colorbar\":{\"outlinewidth\":0,\"ticks\":\"\"},\"type\":\"contourcarpet\"}],\"heatmap\":[{\"colorbar\":{\"outlinewidth\":0,\"ticks\":\"\"},\"colorscale\":[[0.0,\"#0d0887\"],[0.1111111111111111,\"#46039f\"],[0.2222222222222222,\"#7201a8\"],[0.3333333333333333,\"#9c179e\"],[0.4444444444444444,\"#bd3786\"],[0.5555555555555556,\"#d8576b\"],[0.6666666666666666,\"#ed7953\"],[0.7777777777777778,\"#fb9f3a\"],[0.8888888888888888,\"#fdca26\"],[1.0,\"#f0f921\"]],\"type\":\"heatmap\"}],\"heatmapgl\":[{\"colorbar\":{\"outlinewidth\":0,\"ticks\":\"\"},\"colorscale\":[[0.0,\"#0d0887\"],[0.1111111111111111,\"#46039f\"],[0.2222222222222222,\"#7201a8\"],[0.3333333333333333,\"#9c179e\"],[0.4444444444444444,\"#bd3786\"],[0.5555555555555556,\"#d8576b\"],[0.6666666666666666,\"#ed7953\"],[0.7777777777777778,\"#fb9f3a\"],[0.8888888888888888,\"#fdca26\"],[1.0,\"#f0f921\"]],\"type\":\"heatmapgl\"}],\"histogram\":[{\"marker\":{\"pattern\":{\"fillmode\":\"overlay\",\"size\":10,\"solidity\":0.2}},\"type\":\"histogram\"}],\"histogram2d\":[{\"colorbar\":{\"outlinewidth\":0,\"ticks\":\"\"},\"colorscale\":[[0.0,\"#0d0887\"],[0.1111111111111111,\"#46039f\"],[0.2222222222222222,\"#7201a8\"],[0.3333333333333333,\"#9c179e\"],[0.4444444444444444,\"#bd3786\"],[0.5555555555555556,\"#d8576b\"],[0.6666666666666666,\"#ed7953\"],[0.7777777777777778,\"#fb9f3a\"],[0.8888888888888888,\"#fdca26\"],[1.0,\"#f0f921\"]],\"type\":\"histogram2d\"}],\"histogram2dcontour\":[{\"colorbar\":{\"outlinewidth\":0,\"ticks\":\"\"},\"colorscale\":[[0.0,\"#0d0887\"],[0.1111111111111111,\"#46039f\"],[0.2222222222222222,\"#7201a8\"],[0.3333333333333333,\"#9c179e\"],[0.4444444444444444,\"#bd3786\"],[0.5555555555555556,\"#d8576b\"],[0.6666666666666666,\"#ed7953\"],[0.7777777777777778,\"#fb9f3a\"],[0.8888888888888888,\"#fdca26\"],[1.0,\"#f0f921\"]],\"type\":\"histogram2dcontour\"}],\"mesh3d\":[{\"colorbar\":{\"outlinewidth\":0,\"ticks\":\"\"},\"type\":\"mesh3d\"}],\"parcoords\":[{\"line\":{\"colorbar\":{\"outlinewidth\":0,\"ticks\":\"\"}},\"type\":\"parcoords\"}],\"pie\":[{\"automargin\":true,\"type\":\"pie\"}],\"scatter\":[{\"marker\":{\"colorbar\":{\"outlinewidth\":0,\"ticks\":\"\"}},\"type\":\"scatter\"}],\"scatter3d\":[{\"line\":{\"colorbar\":{\"outlinewidth\":0,\"ticks\":\"\"}},\"marker\":{\"colorbar\":{\"outlinewidth\":0,\"ticks\":\"\"}},\"type\":\"scatter3d\"}],\"scattercarpet\":[{\"marker\":{\"colorbar\":{\"outlinewidth\":0,\"ticks\":\"\"}},\"type\":\"scattercarpet\"}],\"scattergeo\":[{\"marker\":{\"colorbar\":{\"outlinewidth\":0,\"ticks\":\"\"}},\"type\":\"scattergeo\"}],\"scattergl\":[{\"marker\":{\"colorbar\":{\"outlinewidth\":0,\"ticks\":\"\"}},\"type\":\"scattergl\"}],\"scattermapbox\":[{\"marker\":{\"colorbar\":{\"outlinewidth\":0,\"ticks\":\"\"}},\"type\":\"scattermapbox\"}],\"scatterpolar\":[{\"marker\":{\"colorbar\":{\"outlinewidth\":0,\"ticks\":\"\"}},\"type\":\"scatterpolar\"}],\"scatterpolargl\":[{\"marker\":{\"colorbar\":{\"outlinewidth\":0,\"ticks\":\"\"}},\"type\":\"scatterpolargl\"}],\"scatterternary\":[{\"marker\":{\"colorbar\":{\"outlinewidth\":0,\"ticks\":\"\"}},\"type\":\"scatterternary\"}],\"surface\":[{\"colorbar\":{\"outlinewidth\":0,\"ticks\":\"\"},\"colorscale\":[[0.0,\"#0d0887\"],[0.1111111111111111,\"#46039f\"],[0.2222222222222222,\"#7201a8\"],[0.3333333333333333,\"#9c179e\"],[0.4444444444444444,\"#bd3786\"],[0.5555555555555556,\"#d8576b\"],[0.6666666666666666,\"#ed7953\"],[0.7777777777777778,\"#fb9f3a\"],[0.8888888888888888,\"#fdca26\"],[1.0,\"#f0f921\"]],\"type\":\"surface\"}],\"table\":[{\"cells\":{\"fill\":{\"color\":\"#EBF0F8\"},\"line\":{\"color\":\"white\"}},\"header\":{\"fill\":{\"color\":\"#C8D4E3\"},\"line\":{\"color\":\"white\"}},\"type\":\"table\"}]},\"layout\":{\"annotationdefaults\":{\"arrowcolor\":\"#2a3f5f\",\"arrowhead\":0,\"arrowwidth\":1},\"autotypenumbers\":\"strict\",\"coloraxis\":{\"colorbar\":{\"outlinewidth\":0,\"ticks\":\"\"}},\"colorscale\":{\"diverging\":[[0,\"#8e0152\"],[0.1,\"#c51b7d\"],[0.2,\"#de77ae\"],[0.3,\"#f1b6da\"],[0.4,\"#fde0ef\"],[0.5,\"#f7f7f7\"],[0.6,\"#e6f5d0\"],[0.7,\"#b8e186\"],[0.8,\"#7fbc41\"],[0.9,\"#4d9221\"],[1,\"#276419\"]],\"sequential\":[[0.0,\"#0d0887\"],[0.1111111111111111,\"#46039f\"],[0.2222222222222222,\"#7201a8\"],[0.3333333333333333,\"#9c179e\"],[0.4444444444444444,\"#bd3786\"],[0.5555555555555556,\"#d8576b\"],[0.6666666666666666,\"#ed7953\"],[0.7777777777777778,\"#fb9f3a\"],[0.8888888888888888,\"#fdca26\"],[1.0,\"#f0f921\"]],\"sequentialminus\":[[0.0,\"#0d0887\"],[0.1111111111111111,\"#46039f\"],[0.2222222222222222,\"#7201a8\"],[0.3333333333333333,\"#9c179e\"],[0.4444444444444444,\"#bd3786\"],[0.5555555555555556,\"#d8576b\"],[0.6666666666666666,\"#ed7953\"],[0.7777777777777778,\"#fb9f3a\"],[0.8888888888888888,\"#fdca26\"],[1.0,\"#f0f921\"]]},\"colorway\":[\"#636efa\",\"#EF553B\",\"#00cc96\",\"#ab63fa\",\"#FFA15A\",\"#19d3f3\",\"#FF6692\",\"#B6E880\",\"#FF97FF\",\"#FECB52\"],\"font\":{\"color\":\"#2a3f5f\"},\"geo\":{\"bgcolor\":\"white\",\"lakecolor\":\"white\",\"landcolor\":\"#E5ECF6\",\"showlakes\":true,\"showland\":true,\"subunitcolor\":\"white\"},\"hoverlabel\":{\"align\":\"left\"},\"hovermode\":\"closest\",\"mapbox\":{\"style\":\"light\"},\"paper_bgcolor\":\"white\",\"plot_bgcolor\":\"#E5ECF6\",\"polar\":{\"angularaxis\":{\"gridcolor\":\"white\",\"linecolor\":\"white\",\"ticks\":\"\"},\"bgcolor\":\"#E5ECF6\",\"radialaxis\":{\"gridcolor\":\"white\",\"linecolor\":\"white\",\"ticks\":\"\"}},\"scene\":{\"xaxis\":{\"backgroundcolor\":\"#E5ECF6\",\"gridcolor\":\"white\",\"gridwidth\":2,\"linecolor\":\"white\",\"showbackground\":true,\"ticks\":\"\",\"zerolinecolor\":\"white\"},\"yaxis\":{\"backgroundcolor\":\"#E5ECF6\",\"gridcolor\":\"white\",\"gridwidth\":2,\"linecolor\":\"white\",\"showbackground\":true,\"ticks\":\"\",\"zerolinecolor\":\"white\"},\"zaxis\":{\"backgroundcolor\":\"#E5ECF6\",\"gridcolor\":\"white\",\"gridwidth\":2,\"linecolor\":\"white\",\"showbackground\":true,\"ticks\":\"\",\"zerolinecolor\":\"white\"}},\"shapedefaults\":{\"line\":{\"color\":\"#2a3f5f\"}},\"ternary\":{\"aaxis\":{\"gridcolor\":\"white\",\"linecolor\":\"white\",\"ticks\":\"\"},\"baxis\":{\"gridcolor\":\"white\",\"linecolor\":\"white\",\"ticks\":\"\"},\"bgcolor\":\"#E5ECF6\",\"caxis\":{\"gridcolor\":\"white\",\"linecolor\":\"white\",\"ticks\":\"\"}},\"title\":{\"x\":0.05},\"xaxis\":{\"automargin\":true,\"gridcolor\":\"white\",\"linecolor\":\"white\",\"ticks\":\"\",\"title\":{\"standoff\":15},\"zerolinecolor\":\"white\",\"zerolinewidth\":2},\"yaxis\":{\"automargin\":true,\"gridcolor\":\"white\",\"linecolor\":\"white\",\"ticks\":\"\",\"title\":{\"standoff\":15},\"zerolinecolor\":\"white\",\"zerolinewidth\":2}}},\"margin\":{\"t\":50,\"l\":200}},                        {\"responsive\": true}                    ).then(function(){\n",
              "                            \n",
              "var gd = document.getElementById('40e03503-4b35-46e0-9b6b-9f72853807b0');\n",
              "var x = new MutationObserver(function (mutations, observer) {{\n",
              "        var display = window.getComputedStyle(gd).display;\n",
              "        if (!display || display === 'none') {{\n",
              "            console.log([gd, 'removed!']);\n",
              "            Plotly.purge(gd);\n",
              "            observer.disconnect();\n",
              "        }}\n",
              "}});\n",
              "\n",
              "// Listen for the removal of the full notebook cells\n",
              "var notebookContainer = gd.closest('#notebook-container');\n",
              "if (notebookContainer) {{\n",
              "    x.observe(notebookContainer, {childList: true});\n",
              "}}\n",
              "\n",
              "// Listen for the clearing of the current output cell\n",
              "var outputEl = gd.closest('.output');\n",
              "if (outputEl) {{\n",
              "    x.observe(outputEl, {childList: true});\n",
              "}}\n",
              "\n",
              "                        })                };                            </script>        </div>\n",
              "</body>\n",
              "</html>"
            ]
          },
          "metadata": {}
        },
        {
          "output_type": "stream",
          "name": "stdout",
          "text": [
            "epoch: 1  squared_error  train_acc : 0.8389629629629629 valid_acc : 0.8443333333333334 test_acc : 0.8224\n",
            "epoch: 2  squared_error  train_acc : 0.8663703703703703 valid_acc : 0.8691666666666666 test_acc : 0.8493\n",
            "epoch: 3  squared_error  train_acc : 0.8729259259259259 valid_acc : 0.8703333333333333 test_acc : 0.8514\n",
            "epoch: 4  squared_error  train_acc : 0.8792777777777778 valid_acc : 0.8775 test_acc : 0.8597\n",
            "epoch: 5  squared_error  train_acc : 0.8909444444444444 valid_acc : 0.8826666666666667 test_acc : 0.8631\n"
          ]
        },
        {
          "output_type": "display_data",
          "data": {
            "image/png": "[encoded data removed]",
            "text/plain": [
              "<Figure size 900x432 with 10 Axes>"
            ]
          },
          "metadata": {
            "needs_background": "light"
          }
        },
        {
          "output_type": "display_data",
          "data": {
            "text/html": [
              "<br/>Waiting for W&B process to finish, PID 429... <strong style=\"color:green\">(success).</strong>"
            ],
            "text/plain": [
              "<IPython.core.display.HTML object>"
            ]
          },
          "metadata": {}
        },
        {
          "output_type": "display_data",
          "data": {
            "application/vnd.jupyter.widget-view+json": {
              "model_id": "84639497926844f5bad14f16f06f1d69",
              "version_minor": 0,
              "version_major": 2
            },
            "text/plain": [
              "VBox(children=(Label(value=' 0.03MB of 0.03MB uploaded (0.00MB deduped)\\r'), FloatProgress(value=1.0, max=1.0)…"
            ]
          },
          "metadata": {}
        },
        {
          "output_type": "display_data",
          "data": {
            "text/html": [
              "<style>\n",
              "    table.wandb td:nth-child(1) { padding: 0 10px; text-align: right }\n",
              "    .wandb-row { display: flex; flex-direction: row; flex-wrap: wrap; width: 100% }\n",
              "    .wandb-col { display: flex; flex-direction: column; flex-basis: 100%; flex: 1; padding: 10px; }\n",
              "    </style>\n",
              "<div class=\"wandb-row\"><div class=\"wandb-col\">\n",
              "<h3>Run history:</h3><br/><table class=\"wandb\"><tr><td>Epoch</td><td>▁▃▅▆█</td></tr><tr><td>Train Acc</td><td>▁▄▆▆█</td></tr><tr><td>Train Acc (squared_error)</td><td>▁▅▆▆█</td></tr><tr><td>Train Loss</td><td>█▅▃▂▁</td></tr><tr><td>Train Loss (squared_error)</td><td>█▄▃▂▁</td></tr><tr><td>Valid Acc</td><td>▁▄▆▆█</td></tr><tr><td>Valid Acc (squared_error)</td><td>▁▆▆▇█</td></tr><tr><td>Valid Loss</td><td>█▄▂▂▁</td></tr><tr><td>Valid Loss (squared_error)</td><td>█▄▃▂▁</td></tr><tr><td>test_acc</td><td>▁</td></tr><tr><td>test_acc (squared error)</td><td>▁</td></tr><tr><td>test_loss</td><td>▁</td></tr><tr><td>test_loss (squared error)</td><td>▁</td></tr></table><br/></div><div class=\"wandb-col\">\n",
              "<h3>Run summary:</h3><br/><table class=\"wandb\"><tr><td>Epoch</td><td>5</td></tr><tr><td>Train Acc</td><td>0.89093</td></tr><tr><td>Train Acc (squared_error)</td><td>0.89094</td></tr><tr><td>Train Loss</td><td>0.3081</td></tr><tr><td>Train Loss (squared_error)</td><td>0.16823</td></tr><tr><td>Valid Acc</td><td>0.88</td></tr><tr><td>Valid Acc (squared_error)</td><td>0.88267</td></tr><tr><td>Valid Loss</td><td>0.35013</td></tr><tr><td>Valid Loss (squared_error)</td><td>0.18073</td></tr><tr><td>test_acc</td><td>0.8624</td></tr><tr><td>test_acc (squared error)</td><td>0.8631</td></tr><tr><td>test_loss</td><td>0.39695</td></tr><tr><td>test_loss (squared error)</td><td>0.21128</td></tr></table>\n",
              "</div></div>\n",
              "Synced 5 W&B file(s), 11 media file(s), 0 artifact file(s) and 0 other file(s)\n",
              "<br/>Synced <strong style=\"color:#cdcd00\">swift-sweep-1</strong>: <a href=\"https://wandb.ai/cs21m027_cs21m011/DL_ASG_1_final/runs/ndtxzvxm\" target=\"_blank\">https://wandb.ai/cs21m027_cs21m011/DL_ASG_1_final/runs/ndtxzvxm</a><br/>\n",
              "Find logs at: <code>./wandb/run-20220224_061223-ndtxzvxm/logs</code><br/>\n"
            ],
            "text/plain": [
              "<IPython.core.display.HTML object>"
            ]
          },
          "metadata": {}
        },
        {
          "output_type": "stream",
          "name": "stderr",
          "text": [
            "\u001b[34m\u001b[1mwandb\u001b[0m: Sweep Agent: Waiting for job.\n",
            "\u001b[34m\u001b[1mwandb\u001b[0m: Sweep Agent: Exiting.\n"
          ]
        }
      ]
    },
    {
      "cell_type": "code",
      "source": [
        ""
      ],
      "metadata": {
        "id": "VPo--5Bhj3Ik"
      },
      "execution_count": 274,
      "outputs": []
    },
    {
      "cell_type": "code",
      "source": [
        ""
      ],
      "metadata": {
        "id": "bC4eZDwh2hip"
      },
      "execution_count": 274,
      "outputs": []
    },
    {
      "cell_type": "code",
      "source": [
        ""
      ],
      "metadata": {
        "id": "w9SchTUV2hlh"
      },
      "execution_count": 274,
      "outputs": []
    },
    {
      "cell_type": "code",
      "source": [
        ""
      ],
      "metadata": {
        "id": "SDvE0Ejd2hoG"
      },
      "execution_count": 274,
      "outputs": []
    },
    {
      "cell_type": "code",
      "source": [
        ""
      ],
      "metadata": {
        "id": "XjduC7Va2hqg"
      },
      "execution_count": 274,
      "outputs": []
    },
    {
      "cell_type": "code",
      "source": [
        ""
      ],
      "metadata": {
        "id": "wDnquUG7pPCn"
      },
      "execution_count": 274,
      "outputs": []
    },
    {
      "cell_type": "code",
      "source": [
        ""
      ],
      "metadata": {
        "id": "Tfa5A0xrA2NC"
      },
      "execution_count": 276,
      "outputs": []
    }
  ]
}