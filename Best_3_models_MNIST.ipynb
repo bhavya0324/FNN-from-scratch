{
 "cells": [
  {
   "cell_type": "code",
   "execution_count": 1,
   "metadata": {
    "colab": {
     "base_uri": "https://localhost:8080/"
    },
    "id": "kE3b2hyRN6tC",
    "outputId": "35ce0748-c3cf-4f89-c422-481b9871bd99"
   },
   "outputs": [
    {
     "name": "stderr",
     "output_type": "stream",
     "text": [
      "wandb: Currently logged in as: bhavya99 (use `wandb login --relogin` to force relogin)\n"
     ]
    },
    {
     "data": {
      "text/plain": [
       "True"
      ]
     },
     "execution_count": 1,
     "metadata": {},
     "output_type": "execute_result"
    }
   ],
   "source": [
    "!pip install wandb -qqq\n",
    "import wandb\n",
    "wandb.login()"
   ]
  },
  {
   "cell_type": "code",
   "execution_count": 3,
   "metadata": {
    "id": "DAu1iUAvPBjA"
   },
   "outputs": [],
   "source": [
    "import matplotlib.pyplot as plt\n",
    "import matplotlib.colors\n",
    "import numpy as np\n",
    "from sklearn.metrics import accuracy_score, mean_squared_error\n",
    "from sklearn.metrics import log_loss\n",
    "from keras.datasets import mnist"
   ]
  },
  {
   "cell_type": "code",
   "execution_count": 4,
   "metadata": {
    "id": "pNmFx17BbCY9"
   },
   "outputs": [],
   "source": [
    "(train_images, train_labels), (test_images, test_labels) = mnist.load_data()\n",
    "labels = [\"T-shirt/Top\", \"Trouser\", \"Pullover\", \"Dress\", \"Coat\", \"Sandal\", \"Shirt\", \"Sneaker\", \"Bag\", \"Ankle Boot\"]\n",
    "N , a , b = train_images.shape\n",
    "#Dimesion of each Datapoint will be a*b\n",
    "x = a*b\n",
    "d = x\n",
    "nl = len(labels)"
   ]
  },
  {
   "cell_type": "markdown",
   "metadata": {
    "id": "l39O5G0LLouw"
   },
   "source": [
    "#Question 1\n"
   ]
  },
  {
   "cell_type": "code",
   "execution_count": 5,
   "metadata": {
    "id": "1DDfpoyEVbND"
   },
   "outputs": [],
   "source": [
    "def show_images(train_images , train_labels , desc):\n",
    "  #run = wandb.init(entity=\"cs21m027_cs21m011\", project=\"DL_ASG_1_final\")\n",
    "  #run.name = \"Question_1\"\n",
    "  plot = []\n",
    "  m=0\n",
    "  n=0\n",
    "  k=0\n",
    "  fig, axes = plt.subplots(2, 5, figsize=(12.5,6))\n",
    "  for i in range(1000):\n",
    "    if train_labels[i]==k:\n",
    "      ax = axes[m,n]\n",
    "      ax.imshow(train_images[i], cmap='gray')\n",
    "      ax.set_title('Class='+str(train_labels[i])+', Label='+str(desc[train_labels[i]]))\n",
    "      plot.append(wandb.Image(train_images[i],caption= 'Class='+str(train_labels[i])+', Label='+str(desc[train_labels[i]])))\n",
    "      n=n+1\n",
    "      k=k+1\n",
    "      if(n==5):\n",
    "        m=1\n",
    "        n=0\n",
    "    if k==10:\n",
    "      break\n",
    "  plt.tight_layout()\n",
    "  plt.show()\n",
    "  wandb.log({\"images\":plot})"
   ]
  },
  {
   "cell_type": "code",
   "execution_count": null,
   "metadata": {
    "id": "2RS3hejYaID7"
   },
   "outputs": [],
   "source": []
  },
  {
   "cell_type": "markdown",
   "metadata": {
    "id": "ZkCkYjcLLusM"
   },
   "source": [
    "#Propecessing of data\n",
    "\n"
   ]
  },
  {
   "cell_type": "code",
   "execution_count": 6,
   "metadata": {
    "id": "zJ2nvR4fdIdz"
   },
   "outputs": [],
   "source": [
    "#Flattening we are converting the 28*28 data point as 784*1 data point\n",
    "flatted_train_images =  np.array([train_images[i].flatten() for i in range(len(train_images))])\n",
    "#Same transition for testdata\n",
    "flatted_test_images =  np.array([test_images[i].flatten() for i in range(len(test_images))])"
   ]
  },
  {
   "cell_type": "code",
   "execution_count": 7,
   "metadata": {
    "id": "uC7nrfY8WEWB"
   },
   "outputs": [],
   "source": [
    "#getting train data and validation data from training data\n",
    "from sklearn.model_selection import train_test_split\n",
    "train_x, valid_x, cat_train_y, cat_val_y = train_test_split(flatted_train_images, train_labels, test_size=0.1, stratify = train_labels ,random_state=42)"
   ]
  },
  {
   "cell_type": "code",
   "execution_count": 8,
   "metadata": {
    "id": "tOnDidLOiujh"
   },
   "outputs": [],
   "source": [
    "#One hot encoding of categorical labels \n",
    "def encode(data , nl):\n",
    "  encode_data = np.array( [ [0]*nl for i in range(len(data))] )\n",
    "  for i in range(len(data)):\n",
    "    actual_label = data[i]\n",
    "    encode_data[i][actual_label] = 1\n",
    "  return encode_data"
   ]
  },
  {
   "cell_type": "code",
   "execution_count": 9,
   "metadata": {
    "id": "ge_r0IOOiumH"
   },
   "outputs": [],
   "source": [
    "train_y = encode(cat_train_y , nl)\n",
    "valid_y = encode(cat_val_y , nl)\n",
    "test_y = encode(test_labels , nl)"
   ]
  },
  {
   "cell_type": "code",
   "execution_count": 10,
   "metadata": {
    "id": "4gB5g1rbiuoh"
   },
   "outputs": [],
   "source": [
    "#Normalizing the data\n",
    "mean = np.mean(train_x , axis = 0)\n",
    "train_x = (train_x - mean) /255\n",
    "valid_x = (valid_x - mean)/255\n",
    "test_x = (flatted_test_images - mean)/255"
   ]
  },
  {
   "cell_type": "code",
   "execution_count": 11,
   "metadata": {
    "colab": {
     "base_uri": "https://localhost:8080/"
    },
    "id": "nr5kCu-plvfi",
    "outputId": "85235dca-2348-4be4-894a-dcd3d2e928b9"
   },
   "outputs": [
    {
     "name": "stdout",
     "output_type": "stream",
     "text": [
      "(54000, 784)\n",
      "(6000, 784)\n",
      "(10000, 784)\n",
      "(54000, 10)\n",
      "(6000, 10)\n",
      "(10000, 10)\n"
     ]
    }
   ],
   "source": [
    "print(train_x.shape)\n",
    "print(valid_x.shape)\n",
    "print(test_x.shape)\n",
    "print(train_y.shape)\n",
    "print(valid_y.shape)\n",
    "print(test_y.shape)"
   ]
  },
  {
   "cell_type": "markdown",
   "metadata": {
    "id": "rfc75empL3_4"
   },
   "source": [
    "#Activation functions\n"
   ]
  },
  {
   "cell_type": "code",
   "execution_count": 12,
   "metadata": {
    "id": "-wEgTce4sL0H"
   },
   "outputs": [],
   "source": [
    "def sigmoid(x):\n",
    "    temp = []\n",
    "    for i in range(len(x)):\n",
    "      temp.append(1/(1 + np.exp(-(float(x[i])))))\n",
    "    return np.array(temp)\n",
    "\n",
    "def tanh(x):\n",
    "    temp = []\n",
    "    for i in range(len(x)):\n",
    "      temp.append(np.tanh(x[i]))\n",
    "    return np.array(temp)\n",
    "\n",
    "def relu(x):\n",
    "    temp = []\n",
    "    for i in range(len(x)):\n",
    "      temp.append(max(0,x[i]))\n",
    "    return np.array(temp)\n",
    "\n",
    "def softmax(x):\n",
    "    temp = []\n",
    "    sum = 0\n",
    "    for i in range(len(x)):\n",
    "      sum += np.exp(float(x[i]))\n",
    "    for i in range(len(x)):\n",
    "      temp.append( np.exp(float(x[i])) / sum)\n",
    "    return np.array(temp)\n",
    "\n",
    "def derivative_sigmoid(x):\n",
    "    return x*(1 - x)\n",
    "\n",
    "def derivative_tanh(x):\n",
    "    return 1-np.square(x)\n",
    "\n",
    "def derivative_relu(x):\n",
    "    temp = []\n",
    "    for i in range(len(x)):\n",
    "      if x[i]>0:\n",
    "        temp.append(1)\n",
    "      else:\n",
    "        temp.append(0)\n",
    "    return np.array(temp)"
   ]
  },
  {
   "cell_type": "markdown",
   "metadata": {
    "id": "CJ-tlLaeMLtI"
   },
   "source": [
    "#Network initialization"
   ]
  },
  {
   "cell_type": "code",
   "execution_count": 13,
   "metadata": {
    "id": "yO6X3QBoMxae"
   },
   "outputs": [],
   "source": [
    "def initialize_zeros(dim,hl,ol):\n",
    "  w = [np.array([])]\n",
    "  b = [np.array([])]\n",
    "  for i in range(len(hl)):\n",
    "    b.append(np.zeros(hl[i]))\n",
    "    if(i == 0):\n",
    "      w.append(np.zeros((hl[i],d)))\n",
    "    else:\n",
    "      w.append(np.zeros((hl[i],hl[i - 1])))\n",
    "\n",
    "  for i in range(len(ol)):\n",
    "    b.append(np.zeros(ol[i]))\n",
    "    w.append(np.zeros((ol[i],hl[-1])))\n",
    "  return w , b"
   ]
  },
  {
   "cell_type": "code",
   "execution_count": 14,
   "metadata": {
    "id": "5Anplb6Dlvh-"
   },
   "outputs": [],
   "source": [
    "def initialize_network(dim, hl, ol, method):\n",
    "  W = [np.array([])]\n",
    "  b = [np.array([])]\n",
    "  np.random.seed(2)\n",
    "  #Random intialization\n",
    "  if(method=='random'):\n",
    "    for i in range(len(hl)):\n",
    "      b.append(np.random.randn(hl[i]))\n",
    "      if(i == 0):\n",
    "        W.append(np.random.randn(hl[i],dim))\n",
    "      else:\n",
    "        W.append(np.random.randn(hl[i],hl[i - 1]))\n",
    "    for i in range(len(ol)):\n",
    "      b.append(np.random.randn(ol[i]))\n",
    "      W.append(np.random.randn(ol[i],hl[-1]))\n",
    "      \n",
    "  #Xavier Initialization\n",
    "  else:\n",
    "    for i in range(len(hl)):\n",
    "      b.append(np.random.randn(hl[i]))\n",
    "      if(i == 0):\n",
    "        W.append(np.random.randn(hl[i],dim ) * np.sqrt(1/dim))\n",
    "      else:\n",
    "        W.append(np.random.randn(hl[i],hl[i-1]) * np.sqrt(1/hl[i-1]))\n",
    "    for i in range(len(ol)):\n",
    "      b.append(np.random.randn(ol[i]))\n",
    "      W.append(np.random.randn(ol[i],hl[-1]) * np.sqrt(1/hl[-1]))\n",
    "\n",
    "  return W,b"
   ]
  },
  {
   "cell_type": "markdown",
   "metadata": {
    "id": "7Y7VQGKpMQXO"
   },
   "source": [
    "#Forward Propagation"
   ]
  },
  {
   "cell_type": "code",
   "execution_count": 15,
   "metadata": {
    "id": "yHRXzM_ysJua"
   },
   "outputs": [],
   "source": [
    "def forward_propagation(W,b,x,method):\n",
    "    a = [[]]\n",
    "    h = [[]]\n",
    "    h[0] = x \n",
    "    num_layers = (len(W)-1)\n",
    "    c = []\n",
    "    d = []\n",
    "    if method=='sigmoid':\n",
    "        for i in range(1 , num_layers):\n",
    "            c = np.dot( W[i], h[i-1] ) + b[i]\n",
    "            a.append(c)\n",
    "            d = sigmoid(c)\n",
    "            h.append(d)\n",
    "\n",
    "    elif method=='tanh':\n",
    "        for i in range(1 , num_layers):\n",
    "            c = np.dot( W[i], h[i-1] ) + b[i]\n",
    "            a.append(c)\n",
    "            d = tanh(c)\n",
    "            h.append(d)\n",
    "\n",
    "    elif method=='relu':\n",
    "        for i in range(1 , num_layers):\n",
    "            c = np.dot( W[i], h[i-1] ) + b[i]\n",
    "            a.append(c)\n",
    "            d = relu(c)\n",
    "            h.append(d)\n",
    "\n",
    "    c = np.dot( W[num_layers], h[num_layers-1] ) + b[num_layers]\n",
    "    a.append(c)\n",
    "    d = softmax(c)\n",
    "    h.append(d)\n",
    "\n",
    "    return a,h"
   ]
  },
  {
   "cell_type": "markdown",
   "metadata": {
    "id": "-l1OXNypMUSf"
   },
   "source": [
    "#Backward Propagation"
   ]
  },
  {
   "cell_type": "code",
   "execution_count": 16,
   "metadata": {
    "id": "fTdgFIC4sbnI"
   },
   "outputs": [],
   "source": [
    "def back_prop(W,h,x,y,y_pred,act_fun,loss_fun):\n",
    "  del_W,del_b=[[]],[[]]\n",
    "\n",
    "  #Computing output grad wrt Cross Entropy Loss function\n",
    "  if loss_fun == \"cross_entropy\" :\n",
    "    del_a = (y_pred - y)\n",
    "    \n",
    "  #Computing output grad wrt Squared Error Loss function\n",
    "  else:\n",
    "    y_label = y_pred[np.argmax(y)]\n",
    "    del_a = 2 * (y_label - 1) * y_label * ( y - y_pred )\n",
    "\n",
    "  for i in range(len(W)-1, 0, -1):\n",
    "\n",
    "    #computing gradients wrt parameters W,b\n",
    "    dW = np.array(np.dot(np.matrix(del_a).T , np.matrix(h[i-1])))\n",
    "    db = np.array( del_a )\n",
    "\n",
    "    #computing gradients wrt below layer activation function\n",
    "    dh = np.dot( np.transpose(W[i]), del_a )\n",
    "\n",
    "    #computing gradients wrt below layer pre-activation function\n",
    "    if act_fun == \"sigmoid\":\n",
    "      del_a = dh * derivative_sigmoid( h[i - 1] )\n",
    "    \n",
    "    elif act_fun == \"tanh\":\n",
    "      del_a = dh * derivative_tanh( h[i - 1] )\n",
    "    \n",
    "    elif act_fun == \"relu\":\n",
    "      del_a = dh * derivative_relu( h[i - 1] )\n",
    "\n",
    "    del_W.insert(1, dW)\n",
    "    del_b.insert(1, db)\n",
    "\n",
    "  return del_W, del_b"
   ]
  },
  {
   "cell_type": "markdown",
   "metadata": {
    "id": "wXprOTMuMaQ1"
   },
   "source": [
    "#Stochastic Gradient Descent optimizer"
   ]
  },
  {
   "cell_type": "code",
   "execution_count": 17,
   "metadata": {
    "id": "b4B_B7zxsbpx"
   },
   "outputs": [],
   "source": [
    "def stochastic_gradient_descent(train_x,train_y,valid_x,valid_y,d,hl,ol,act_fun,loss_fun,epochs,eta,strat,alpha,batch):\n",
    "  #Initializing the weights and biases based on given strategy\n",
    "  W,b = initialize_network(d, hl, ol, strat)\n",
    "  dw , db = initialize_zeros(784,hl,ol)\n",
    "\n",
    "  seen = 0\n",
    "  for e in range(epochs):\n",
    "    \n",
    "    for it, (x, y) in enumerate(zip(train_x, train_y)):\n",
    "      seen += 1\n",
    "      a,h = forward_propagation(W, b, x, act_fun)\n",
    "      y_pred=h[len(h)-1]\n",
    "      tdw,tdb=back_prop(W, h, x, y, y_pred, act_fun, loss_fun)\n",
    "\n",
    "      for i in range(len(tdw)):\n",
    "        dw[i] += tdw[i]\n",
    "        db[i] += tdb[i]\n",
    "\n",
    "      if(seen==batch or it==len(train_x)-1):\n",
    "        seen = 0\n",
    "\n",
    "        for i, (weight, deriv) in enumerate(zip(W, dw)):\n",
    "          W[i] = weight - eta * np.array(deriv)\n",
    "\n",
    "        for i, (bias, deriv) in enumerate(zip(b, db)):\n",
    "          b[i] = bias - eta * np.array(deriv)\n",
    "        \n",
    "        dw , db = initialize_zeros(784,hl,ol)\n",
    "\n",
    "    val_acc, val_loss,yt_val,ypred_train = get_predictions_accuracy(W, b, valid_x, valid_y, act_fun, loss_fun)\n",
    "    train_acc, train_loss,yt_train,ypred_train = get_predictions_accuracy(W, b, train_x, train_y, act_fun, loss_fun)\n",
    "    test_acc, test_loss,yt_test,ypred_test = get_predictions_accuracy(W, b, test_x, test_y, act_fun, loss_fun)\n",
    "\n",
    "    print(\"epoch:\" , e+1 , \" \"+loss_fun+\" \", \"train_acc :\" , train_acc , \"valid_acc :\" , val_acc , \"test_acc :\" , test_acc)\n",
    "    \n",
    "    if loss_fun==\"cross_entropy\":\n",
    "      wandb.log({\n",
    "          \"Epoch\": e+1,\n",
    "          \"Train Loss\": train_loss,\n",
    "          \"Train Acc\": train_acc,\n",
    "          \"Valid Loss\": val_loss,\n",
    "          \"Valid Acc\": val_acc})\n",
    "    else:\n",
    "      wandb.log({\n",
    "          \"Train Loss (squared_error)\": train_loss,\n",
    "          \"Train Acc (squared_error)\": train_acc,\n",
    "          \"Valid Loss (squared_error)\": val_loss,\n",
    "          \"Valid Acc (squared_error)\": val_acc})\n",
    "  return W,b"
   ]
  },
  {
   "cell_type": "markdown",
   "metadata": {
    "id": "V7JpBnmAMhNU"
   },
   "source": [
    "#Momentum Based Gradient Descent "
   ]
  },
  {
   "cell_type": "code",
   "execution_count": 18,
   "metadata": {
    "id": "wYT8Ed0eVIwu"
   },
   "outputs": [],
   "source": [
    "def momentum_gradient_descent(train_x,train_y,valid_x,valid_y,d,hl,ol,act_fun,loss_fun,epochs,eta,strat,alpha,batch):\n",
    "  W,b=initialize_network(d, hl, ol, strat)\n",
    "  dw , db = initialize_zeros(784,hl,ol)\n",
    "  prev_w , prev_b = initialize_zeros(784,hl,ol)\n",
    "  gamma=0.9\n",
    "  seen=0\n",
    "\n",
    "  for e in range(epochs):\n",
    "    #dw , db = initialize_zeros(784,hl,ol)\n",
    "    for it, (x, y) in enumerate(zip(train_x, train_y)):\n",
    "      seen+=1\n",
    "      a,h = forward_propagation(W, b, x, act_fun)\n",
    "      y_pred=h[len(h)-1]\n",
    "      \n",
    "      tdw,tdb=back_prop(W, h, x, y, y_pred, act_fun, loss_fun)\n",
    "  \n",
    "      for i in range(len(tdw)):\n",
    "        dw[i] += tdw[i]\n",
    "        db[i] += tdb[i]\n",
    "    \n",
    "      if(seen==batch or it==len(train_x)-1):\n",
    "        seen=0\n",
    "        for i, (weight, deriv) in enumerate(zip(W, dw)):\n",
    "          W[i] = weight - eta * np.array(deriv) - gamma*prev_w[i]\n",
    "          prev_w[i] = eta * np.array(deriv) + gamma*prev_w[i]\n",
    "\n",
    "        for i, (bias, deriv) in enumerate(zip(b, db)):\n",
    "          b[i] = bias - eta * np.array(deriv) - gamma*prev_b[i]\n",
    "          prev_b[i] = eta * np.array(deriv) + gamma*prev_b[i]\n",
    "\n",
    "        dw , db = initialize_zeros(784,hl,ol)\n",
    "\n",
    "    val_acc, val_loss,yt_val,ypred_train = get_predictions_accuracy(W, b, valid_x, valid_y, act_fun, loss_fun)\n",
    "    train_acc, train_loss,yt_train,ypred_train = get_predictions_accuracy(W, b, train_x, train_y, act_fun, loss_fun)\n",
    "    test_acc, test_loss,yt_test,ypred_test = get_predictions_accuracy(W, b, test_x, test_y, act_fun, loss_fun)\n",
    "\n",
    "    print(\"epoch:\" , e+1 , \" \"+loss_fun+\" \", \"train_acc :\" , train_acc , \"valid_acc :\" , val_acc , \"test_acc :\" , test_acc)\n",
    "    \n",
    "    if loss_fun==\"cross_entropy\":\n",
    "      wandb.log({\n",
    "          \"Epoch\": e+1,\n",
    "          \"Train Loss\": train_loss,\n",
    "          \"Train Acc\": train_acc,\n",
    "          \"Valid Loss\": val_loss,\n",
    "          \"Valid Acc\": val_acc})\n",
    "    else:\n",
    "      wandb.log({\n",
    "          \"Train Loss (squared_error)\": train_loss,\n",
    "          \"Train Acc (squared_error)\": train_acc,\n",
    "          \"Valid Loss (squared_error)\": val_loss,\n",
    "          \"Valid Acc (squared_error)\": val_acc})\n",
    "  return W,b"
   ]
  },
  {
   "cell_type": "markdown",
   "metadata": {
    "id": "Ybb-fTh2MlKf"
   },
   "source": [
    "#Nesterov Accelerated Gradient Descent"
   ]
  },
  {
   "cell_type": "code",
   "execution_count": 19,
   "metadata": {
    "id": "WOFtP3b3r6lo"
   },
   "outputs": [],
   "source": [
    "def nesterov_gradient_descent(train_x,train_y,valid_x,valid_y,d,hl,ol,act_fun,loss_fun,epochs,eta,strat,alpha,batch):\n",
    "  W,b=initialize_network(d, hl, ol, strat)\n",
    "\n",
    "  gamma=0.9\n",
    "  seen=0\n",
    "\n",
    "  \n",
    "  prev_w , prev_b = initialize_zeros(784,hl,ol)\n",
    "  v_w , v_b =initialize_zeros(784,hl,ol)\n",
    "\n",
    "  dw , db = initialize_zeros(784,hl,ol)\n",
    "  tw , tb = initialize_zeros(784,hl,ol)\n",
    "\n",
    "  for e in range(epochs):\n",
    "\n",
    "    for i in range(len(W)):\n",
    "      v_w[i] = gamma*prev_w[i]\n",
    "      v_b[i] = gamma*prev_b[i]\n",
    "    \n",
    "\n",
    "    for i in range(len(W)):\n",
    "      tw[i] = W[i] - v_w[i]\n",
    "      tb[i] = b[i] - v_b[i]\n",
    "  \n",
    "    for it, (x, y) in enumerate(zip(train_x, train_y)):\n",
    "      seen+=1\n",
    "\n",
    "      a,h = forward_propagation(tw, tb, x, act_fun)\n",
    "      y_pred=h[len(h)-1]\n",
    "      \n",
    "      tdw,tdb=back_prop(tw, h, x, y, y_pred, act_fun, loss_fun)\n",
    "      \n",
    "      for i in range(len(tdw)):\n",
    "        dw[i] += tdw[i]\n",
    "        db[i] += tdb[i]\n",
    "\n",
    "      if seen==batch or it == len(train_x)-1:\n",
    "        seen=0\n",
    "        for i, (weight, deriv) in enumerate(zip(W, dw)):\n",
    "          v_w[i] = gamma*prev_w[i] + eta*np.array(deriv)\n",
    "          W[i] = weight - v_w[i]\n",
    "          tw[i] = W[i]\n",
    "          prev_w = v_w\n",
    "\n",
    "        for i, (bias, deriv) in enumerate(zip(b, db)):\n",
    "          v_b[i] = gamma*prev_b[i] + eta*np.array(deriv)\n",
    "          b[i] = bias - v_b[i]\n",
    "          tb[i] = b[i]\n",
    "          prev_b = v_b\n",
    "        \n",
    "        dw , db = initialize_zeros(784,hl,ol)\n",
    "\n",
    "    val_acc, val_loss,yt_val,ypred_train = get_predictions_accuracy(W, b, valid_x, valid_y, act_fun, loss_fun)\n",
    "    train_acc, train_loss,yt_train,ypred_train = get_predictions_accuracy(W, b, train_x, train_y, act_fun, loss_fun)\n",
    "    test_acc, test_loss,yt_test,ypred_test = get_predictions_accuracy(W, b, test_x, test_y, act_fun, loss_fun)\n",
    "\n",
    "    print(\"epoch:\" , e+1 , \" \"+loss_fun+\" \", \"train_acc :\" , train_acc , \"valid_acc :\" , val_acc , \"test_acc :\" , test_acc)\n",
    "    \n",
    "    if loss_fun==\"cross_entropy\":\n",
    "      wandb.log({\n",
    "          \"Epoch\": e+1,\n",
    "          \"Train Loss\": train_loss,\n",
    "          \"Train Acc\": train_acc,\n",
    "          \"Valid Loss\": val_loss,\n",
    "          \"Valid Acc\": val_acc})\n",
    "    else:\n",
    "      wandb.log({\n",
    "          \"Train Loss (squared_error)\": train_loss,\n",
    "          \"Train Acc (squared_error)\": train_acc,\n",
    "          \"Valid Loss (squared_error)\": val_loss,\n",
    "          \"Valid Acc (squared_error)\": val_acc})\n",
    "  return W,b"
   ]
  },
  {
   "cell_type": "markdown",
   "metadata": {
    "id": "RRsDnJLyM7xm"
   },
   "source": [
    "#RMS_Prop Optimizer"
   ]
  },
  {
   "cell_type": "code",
   "execution_count": 23,
   "metadata": {
    "id": "iCF8hfEfZrRo"
   },
   "outputs": [],
   "source": [
    "def rmsprop(train_x,train_y,valid_x,valid_y,d,hl,ol,act_fun,loss_fun,epochs,eta,strat,alpha,batch):\n",
    "  W,b=initialize_network(d, hl, ol, strat)\n",
    "  seen=0\n",
    "  \n",
    "  prev_w , prev_b = initialize_zeros(784,hl,ol)\n",
    "  dw , db = initialize_zeros(784,hl,ol)\n",
    "  eps , beta = 1e-8 , 0.9\n",
    "\n",
    "  for e in range(epochs):\n",
    "  \n",
    "    for it, (x, y) in enumerate(zip(train_x, train_y)):\n",
    "      seen+=1\n",
    "      a,h = forward_propagation(W, b, x, act_fun)\n",
    "      y_pred=h[len(h)-1]\n",
    "      \n",
    "      tdw,tdb=back_prop(W, h, x, y, y_pred, act_fun, loss_fun)\n",
    "      \n",
    "      for i in range(len(tdw)):\n",
    "        dw[i] += tdw[i]\n",
    "        db[i] += tdb[i]\n",
    "\n",
    "      if seen==batch or it == len(train_x)-1:\n",
    "\n",
    "        seen=0\n",
    "\n",
    "        for i in range(len(W)):\n",
    "          prev_w[i] = beta*prev_w[i] + (1-beta)*(dw[i]**2)\n",
    "          prev_b[i] = beta*prev_b[i] + (1-beta)*(db[i]**2)\n",
    "\n",
    "        for i, (weight, deriv) in enumerate(zip(W, dw)):\n",
    "          W[i] = weight - (eta / np.sqrt(prev_w[i] + eps)) * np.array(deriv)\n",
    "\n",
    "        for i, (bias, deriv) in enumerate(zip(b, db)):\n",
    "          b[i] = bias - (eta / np.sqrt(prev_b[i] + eps)) * np.array(deriv)\n",
    "        \n",
    "        dw , db = initialize_zeros(784,hl,ol)\n",
    "\n",
    "    val_acc, val_loss,yt_val,ypred_train = get_predictions_accuracy(W, b, valid_x, valid_y, act_fun, loss_fun)\n",
    "    train_acc, train_loss,yt_train,ypred_train = get_predictions_accuracy(W, b, train_x, train_y, act_fun, loss_fun)\n",
    "    test_acc, test_loss,yt_test,ypred_test = get_predictions_accuracy(W, b, test_x, test_y, act_fun, loss_fun)\n",
    "\n",
    "    print(\"epoch:\" , e+1 , \" \"+loss_fun+\" \", \"train_acc :\" , train_acc , \"valid_acc :\" , val_acc , \"test_acc :\" , test_acc)\n",
    "    \n",
    "    '''if loss_fun==\"cross_entropy\":\n",
    "      wandb.log({\n",
    "          \"Epoch\": e+1,\n",
    "          \"Train Loss\": train_loss,\n",
    "          \"Train Acc\": train_acc,\n",
    "          \"Valid Loss\": val_loss,\n",
    "          \"Valid Acc\": val_acc})\n",
    "    else:\n",
    "      wandb.log({\n",
    "          \"Train Loss (squared_error)\": train_loss,\n",
    "          \"Train Acc (squared_error)\": train_acc,\n",
    "          \"Valid Loss (squared_error)\": val_loss,\n",
    "          \"Valid Acc (squared_error)\": val_acc})'''\n",
    "  return W,b"
   ]
  },
  {
   "cell_type": "markdown",
   "metadata": {
    "id": "GIlcCzcJNOdq"
   },
   "source": [
    "#Adam Optimizer"
   ]
  },
  {
   "cell_type": "code",
   "execution_count": 32,
   "metadata": {
    "id": "qpjZJAhk47Sy"
   },
   "outputs": [],
   "source": [
    "def adaptive_moments(train_x,train_y,valid_x,valid_y,d,hl,ol,act_fun,loss_fun,epochs,eta,strat,alpha,batch):\n",
    "  W,b=initialize_network(d, hl, ol, strat)\n",
    "  seen=0\n",
    "  c=0\n",
    "  v_w , v_b = initialize_zeros(784,hl,ol)\n",
    "  dw , db = initialize_zeros(784,hl,ol)\n",
    "  m_w , m_b = initialize_zeros(784,hl,ol)\n",
    "  eps , beta1 , beta2 = 1e-8 , 0.9 , 0.99\n",
    "\n",
    "  m_w_hat , m_b_hat = initialize_zeros(784,hl,ol)\n",
    "  v_w_hat , v_b_hat = initialize_zeros(784,hl,ol)\n",
    "\n",
    "  for e in range(epochs):\n",
    "  \n",
    "    for it, (x, y) in enumerate(zip(train_x, train_y)):\n",
    "      seen+=1\n",
    "      a,h = forward_propagation(W, b, x, act_fun)\n",
    "      y_pred=h[len(h)-1]\n",
    "      \n",
    "      tdw,tdb=back_prop(W, h, x, y, y_pred, act_fun, loss_fun)\n",
    "      \n",
    "      for i in range(len(tdw)):\n",
    "        dw[i] += tdw[i]\n",
    "        db[i] += tdb[i]\n",
    "\n",
    "      if seen==batch or it == len(train_x)-1:\n",
    "\n",
    "        seen=0\n",
    "        c+=1\n",
    "        for i in range(len(W)):\n",
    "          m_w[i] = beta1 * m_w[i] + (1-beta1) * dw[i]\n",
    "          m_b[i] = beta1 * m_b[i] + (1-beta1) * db[i]\n",
    "\n",
    "          v_w[i] = beta2 * v_w[i] + (1-beta2) * (dw[i]**2)\n",
    "          v_b[i] = beta2 * v_b[i] + (1-beta2) * (db[i]**2)\n",
    "\n",
    "        for i in range(len(W)):\n",
    "          m_w_hat[i] = m_w[i] / (1 - np.power(beta1,c))\n",
    "          m_b_hat[i] = m_b[i] / (1 - np.power(beta1,c))\n",
    "\n",
    "          v_w_hat[i] = v_w[i] / (1 - np.power(beta2,c))\n",
    "          v_b_hat[i] = v_b[i] / (1 - np.power(beta2,c))\n",
    "\n",
    "        for i, (weight, deriv) in enumerate(zip(W, dw)):\n",
    "          W[i] = weight - (eta / np.sqrt(v_w_hat[i] + eps)) * m_w_hat[i]\n",
    "\n",
    "        for i, (bias, deriv) in enumerate(zip(b, db)):\n",
    "          b[i] = bias - (eta / np.sqrt(v_b_hat[i] + eps)) * m_b_hat[i]\n",
    "        \n",
    "        dw , db = initialize_zeros(784,hl,ol)\n",
    "\n",
    "    val_acc, val_loss,yt_val,ypred_train = get_predictions_accuracy(W, b, valid_x, valid_y, act_fun, loss_fun)\n",
    "    train_acc, train_loss,yt_train,ypred_train = get_predictions_accuracy(W, b, train_x, train_y, act_fun, loss_fun)\n",
    "    test_acc, test_loss,yt_test,ypred_test = get_predictions_accuracy(W, b, test_x, test_y, act_fun, loss_fun)\n",
    "\n",
    "    print(\"epoch:\" , e+1 , \" \"+loss_fun+\" \", \"train_acc :\" , train_acc , \"valid_acc :\" , val_acc , \"test_acc :\" , test_acc)\n",
    "    \n",
    "    '''if loss_fun==\"cross_entropy\":\n",
    "      wandb.log({\n",
    "          \"Epoch\": e+1,\n",
    "          \"Train Loss\": train_loss,\n",
    "          \"Train Acc\": train_acc,\n",
    "          \"Valid Loss\": val_loss,\n",
    "          \"Valid Acc\": val_acc})\n",
    "    else:\n",
    "      wandb.log({\n",
    "          \"Train Loss (squared_error)\": train_loss,\n",
    "          \"Train Acc (squared_error)\": train_acc,\n",
    "          \"Valid Loss (squared_error)\": val_loss,\n",
    "          \"Valid Acc (squared_error)\": val_acc})'''\n",
    "  return W,b"
   ]
  },
  {
   "cell_type": "markdown",
   "metadata": {
    "id": "VfDrDkl0NTfM"
   },
   "source": [
    "#Nadam Optimizer"
   ]
  },
  {
   "cell_type": "code",
   "execution_count": 25,
   "metadata": {
    "id": "dScKlrVAMjHu"
   },
   "outputs": [],
   "source": [
    "def nadam(train_x,train_y,valid_x,valid_y,d,hl,ol,act_fun,loss_fun,epochs,eta,strat,alpha,batch):\n",
    "  W,b=initialize_network(d, hl, ol, strat)\n",
    "  seen=0\n",
    "  c=0\n",
    "  v_w , v_b = initialize_zeros(784,hl,ol)\n",
    "  dw , db = initialize_zeros(784,hl,ol)\n",
    "  m_w , m_b = initialize_zeros(784,hl,ol)\n",
    "  eps , beta1 , beta2 = 1e-8 , 0.9 , 0.99\n",
    "\n",
    "  m_w_hat , m_b_hat = initialize_zeros(784,hl,ol)\n",
    "  v_w_hat , v_b_hat = initialize_zeros(784,hl,ol)\n",
    "\n",
    "  for e in range(epochs):\n",
    "  \n",
    "    for it, (x, y) in enumerate(zip(train_x, train_y)):\n",
    "      seen+=1\n",
    "      a,h = forward_propagation(W, b, x, act_fun)\n",
    "      y_pred=h[len(h)-1]\n",
    "      \n",
    "      tdw,tdb=back_prop(W, h, x, y, y_pred, act_fun, loss_fun)\n",
    "      \n",
    "      for i in range(len(tdw)):\n",
    "        dw[i] += tdw[i]\n",
    "        db[i] += tdb[i]\n",
    "\n",
    "      if seen==batch or it == len(train_x)-1:\n",
    "\n",
    "        seen=0\n",
    "        c+=1\n",
    "        for i in range(len(W)):\n",
    "          m_w[i] = beta1 * m_w[i] + (1-beta1) * dw[i]\n",
    "          m_b[i] = beta1 * m_b[i] + (1-beta1) * db[i]\n",
    "\n",
    "          v_w[i] = beta2 * v_w[i] + (1-beta2) * (dw[i]**2)\n",
    "          v_b[i] = beta2 * v_b[i] + (1-beta2) * (db[i]**2)\n",
    "\n",
    "        for i in range(len(W)):\n",
    "          m_w_hat[i] = ( (beta1 * m_w[i]) + ( (1 - beta1) * dw[i] ) )/ (1 - np.power(beta1,c))\n",
    "          m_b_hat[i] = ( (beta1 * m_b[i]) + ( (1 - beta1) * db[i] ) )/ (1 - np.power(beta1,c))\n",
    "\n",
    "          v_w_hat[i] = v_w[i] / (1 - np.power(beta2,c))\n",
    "          v_b_hat[i] = v_b[i] / (1 - np.power(beta2,c))\n",
    "\n",
    "        for i, (weight, deriv) in enumerate(zip(W, dw)):\n",
    "          W[i] = weight - (eta / np.sqrt(v_w_hat[i] + eps)) * m_w_hat[i]\n",
    "\n",
    "        for i, (bias, deriv) in enumerate(zip(b, db)):\n",
    "          b[i] = bias - (eta / np.sqrt(v_b_hat[i] + eps)) * m_b_hat[i]\n",
    "        \n",
    "        dw , db = initialize_zeros(784,hl,ol)\n",
    "\n",
    "    val_acc, val_loss,yt_val,ypred_train = get_predictions_accuracy(W, b, valid_x, valid_y, act_fun, loss_fun)\n",
    "    train_acc, train_loss,yt_train,ypred_train = get_predictions_accuracy(W, b, train_x, train_y, act_fun, loss_fun)\n",
    "    test_acc, test_loss,yt_test,ypred_test = get_predictions_accuracy(W, b, test_x, test_y, act_fun, loss_fun)\n",
    "\n",
    "    print(\"epoch:\" , e+1 , \" \"+loss_fun+\" \", \"train_acc :\" , train_acc , \"valid_acc :\" , val_acc , \"test_acc :\" , test_acc)\n",
    "    \n",
    "    '''if loss_fun==\"cross_entropy\":\n",
    "      wandb.log({\n",
    "          \"Epoch\": e+1,\n",
    "          \"Train Loss\": train_loss,\n",
    "          \"Train Acc\": train_acc,\n",
    "          \"Valid Loss\": val_loss,\n",
    "          \"Valid Acc\": val_acc})\n",
    "    else:\n",
    "      wandb.log({\n",
    "          \"Train Loss (squared_error)\": train_loss,\n",
    "          \"Train Acc (squared_error)\": train_acc,\n",
    "          \"Valid Loss (squared_error)\": val_loss,\n",
    "          \"Valid Acc (squared_error)\": val_acc})'''\n",
    "  return W,b"
   ]
  },
  {
   "cell_type": "markdown",
   "metadata": {
    "id": "_-lW4pgQIZag"
   },
   "source": [
    "#Confusion_matrix"
   ]
  },
  {
   "cell_type": "code",
   "execution_count": 26,
   "metadata": {
    "id": "0SW5mfI0JWAp"
   },
   "outputs": [],
   "source": [
    "from sklearn.metrics import confusion_matrix\n",
    "import matplotlib.pyplot as plt\n",
    "import seaborn as sns\n",
    "import plotly.figure_factory as ff\n",
    "import plotly.express as px\n",
    "import pandas as pd\n",
    "def get_confusion_matrix(y_true , y_pred , class_names , figsize=(20,20)):\n",
    "    cm = confusion_matrix(y_true, y_pred, labels=class_names)\n",
    "    fontsize = 14\n",
    "    r=class_names[::-1]\n",
    "    #z_text = [[str(y_true) for y_true in y_pred] for y_pred in cm]\n",
    "\n",
    "    df_cm = pd.DataFrame(cm, index=class_names, columns=class_names)\n",
    "\n",
    "    cm_sum = np.sum(cm, axis=1, keepdims=True)\n",
    "    cm_perc = cm / cm_sum.astype(float) * 100\n",
    "    annot = np.empty_like(cm).astype(str)\n",
    "    h = [ [0 for _ in range(len(class_names))] for _ in range(len(class_names)) ]\n",
    "    #h = np.empty_like(cm).astype(str)\n",
    "    nrows, ncols = cm.shape\n",
    "    for i in range(nrows):\n",
    "        for j in range(ncols):\n",
    "            c = cm[i, j]\n",
    "            p = cm_perc[i, j]\n",
    "            if i == j:\n",
    "                s = cm_sum[i]\n",
    "                annot[i, j] = '%.1f%% <br> %d/%d' % (p, c, s)\n",
    "                h[i][j] = '%d %s are correctly classified' % (c,labels[i])\n",
    "            elif c == 0:\n",
    "                annot[i, j] = ''\n",
    "                h[i][j] = ''\n",
    "            else:\n",
    "                annot[i, j] = '%.1f%% <br> %d' % (p, c)\n",
    "                h[i][j] = '%d %s are wrongly classified as %s' % (c,labels[i],labels[j])\n",
    "\n",
    "    fig = ff.create_annotated_heatmap(cm , x = class_names, y = class_names , text=h,annotation_text = annot , hoverinfo='text' ,colorscale ='blugrn_R')\n",
    "    fig['layout']['yaxis']['autorange'] = \"reversed\"\n",
    "    \n",
    "   \n",
    "    # add custom xaxis title\n",
    "    fig.add_annotation(dict(font=dict(color=\"black\",size=14),x=0.5,y=-0.15,showarrow=False,text=\"Predicted value\",xref=\"paper\",yref=\"paper\"))\n",
    "\n",
    "    # add custom yaxis title\n",
    "    fig.add_annotation(dict(font=dict(color=\"black\",size=14),x=-0.35,y=0.5,showarrow=False,text=\"Real value\",textangle=-90,xref=\"paper\",yref=\"paper\"))\n",
    "\n",
    "    # adjust margins to make room for yaxis title\n",
    "    fig.update_layout(margin=dict(t=50, l=200))\n",
    "    fig.update_annotations(font_size=14)\n",
    "   \n",
    "    fig['data'][0]['showscale'] = True\n",
    "    fig.update_xaxes(side=\"top\")\n",
    "    fig.show()\n",
    "    return fig"
   ]
  },
  {
   "cell_type": "markdown",
   "metadata": {
    "id": "myOelQjrNW2f"
   },
   "source": [
    "#Predictions and accuracy function"
   ]
  },
  {
   "cell_type": "code",
   "execution_count": 28,
   "metadata": {
    "id": "ULyXvX_Qr8Sh"
   },
   "outputs": [],
   "source": [
    "def get_predictions_accuracy(W, b, X, y, method, loss_fun):\n",
    "  sum,loss=0,0\n",
    "  yhat = []\n",
    "  yt = []\n",
    "  for dp in range(len(X)):\n",
    "    a = []\n",
    "    h = []\n",
    "    h = X[dp] \n",
    "    num_layers = (len(W)-1)\n",
    "    if method=='sigmoid':\n",
    "      for i in range(1 , num_layers):\n",
    "        a = np.dot( W[i], h ) + b[i]\n",
    "        h = sigmoid(a)\n",
    "\n",
    "    elif method=='tanh':\n",
    "      for i in range(1 , num_layers):\n",
    "        a = np.dot( W[i], h ) + b[i]\n",
    "        h = tanh(a)\n",
    "\n",
    "    elif method=='relu':\n",
    "      for i in range(1 , num_layers):\n",
    "        a = np.dot( W[i], h ) + b[i]\n",
    "        h = relu(a)\n",
    "\n",
    "    a = np.dot( W[num_layers], h ) + b[num_layers]\n",
    "    y_pred = softmax(a)\n",
    "\n",
    "    ytrue = y[dp]\n",
    "    if(ytrue[np.argmax(y_pred)]==1):\n",
    "      sum=sum+1\n",
    "    \n",
    "    if loss_fun == \"cross_entropy\":\n",
    "      loss += -np.sum(ytrue*np.log(y_pred))\n",
    "    else:\n",
    "      loss += np.sum((ytrue-y_pred)**2)\n",
    "\n",
    "    yhat.append(labels[np.argmax(y_pred)])\n",
    "    yt.append(labels[np.argmax(ytrue)])\n",
    "\n",
    "  acc=sum/len(X)\n",
    "  loss=loss/len(X)\n",
    "\n",
    "  return acc,loss,yt,yhat\n"
   ]
  },
  {
   "cell_type": "markdown",
   "metadata": {},
   "source": [
    "# Best Model 1 on MNIST"
   ]
  },
  {
   "cell_type": "code",
   "execution_count": 30,
   "metadata": {
    "colab": {
     "base_uri": "https://localhost:8080/",
     "height": 53
    },
    "id": "XRfKaR5C0m1g",
    "outputId": "edf73f36-0059-4cd2-ac1a-0a6b526f67ee"
   },
   "outputs": [
    {
     "name": "stdout",
     "output_type": "stream",
     "text": [
      "epoch: 1  cross-entropy  train_acc : 0.9593888888888888 valid_acc : 0.9496666666666667 test_acc : 0.9547\n",
      "epoch: 2  cross-entropy  train_acc : 0.9711111111111111 valid_acc : 0.9611666666666666 test_acc : 0.9634\n",
      "epoch: 3  cross-entropy  train_acc : 0.9761851851851852 valid_acc : 0.9655 test_acc : 0.9645\n",
      "epoch: 4  cross-entropy  train_acc : 0.9799444444444444 valid_acc : 0.9665 test_acc : 0.9682\n",
      "epoch: 5  cross-entropy  train_acc : 0.9839074074074075 valid_acc : 0.9708333333333333 test_acc : 0.9696\n"
     ]
    }
   ],
   "source": [
    "hidden_layer_size = 128\n",
    "hidden_layers = 2\n",
    "hl = [hidden_layer_size]*hidden_layers\n",
    "ol = [len(train_y[0])]\n",
    "n_hl = len(hl)\n",
    "act_fun ='relu'\n",
    "loss_fun='cross-entropy'\n",
    "eta=0.001\n",
    "alpha=0\n",
    "strat='xavier'\n",
    "epochs=5\n",
    "batch = 64\n",
    "W,b = nadam(train_x,train_y,valid_x,valid_y,d,hl,ol,act_fun,loss_fun,epochs,eta,strat,alpha,batch)"
   ]
  },
  {
   "cell_type": "markdown",
   "metadata": {},
   "source": [
    "# Best Model 2 MNIST "
   ]
  },
  {
   "cell_type": "code",
   "execution_count": 35,
   "metadata": {},
   "outputs": [
    {
     "name": "stdout",
     "output_type": "stream",
     "text": [
      "epoch: 1  cross-entropy  train_acc : 0.9534074074074074 valid_acc : 0.9426666666666667 test_acc : 0.9485\n",
      "epoch: 2  cross-entropy  train_acc : 0.9653333333333334 valid_acc : 0.9528333333333333 test_acc : 0.9564\n",
      "epoch: 3  cross-entropy  train_acc : 0.9743703703703703 valid_acc : 0.9633333333333334 test_acc : 0.9628\n",
      "epoch: 4  cross-entropy  train_acc : 0.9785 valid_acc : 0.9645 test_acc : 0.9653\n",
      "epoch: 5  cross-entropy  train_acc : 0.9808518518518519 valid_acc : 0.9678333333333333 test_acc : 0.9679\n"
     ]
    }
   ],
   "source": [
    "hidden_layer_size = 64\n",
    "hidden_layers = 2\n",
    "hl = [hidden_layer_size]*hidden_layers\n",
    "ol = [len(train_y[0])]\n",
    "n_hl = len(hl)\n",
    "act_fun ='relu'\n",
    "loss_fun='cross-entropy'\n",
    "eta=0.001\n",
    "alpha=0\n",
    "strat='xavier'\n",
    "epochs=5\n",
    "batch = 64\n",
    "W,b = adaptive_moments(train_x,train_y,valid_x,valid_y,d,hl,ol,act_fun,loss_fun,epochs,eta,strat,alpha,batch)"
   ]
  },
  {
   "cell_type": "markdown",
   "metadata": {},
   "source": [
    "# Best Model 3 MNIST"
   ]
  },
  {
   "cell_type": "code",
   "execution_count": 36,
   "metadata": {},
   "outputs": [
    {
     "name": "stdout",
     "output_type": "stream",
     "text": [
      "epoch: 1  cross-entropy  train_acc : 0.9325925925925926 valid_acc : 0.9253333333333333 test_acc : 0.928\n",
      "epoch: 2  cross-entropy  train_acc : 0.9621666666666666 valid_acc : 0.956 test_acc : 0.9566\n",
      "epoch: 3  cross-entropy  train_acc : 0.9650925925925926 valid_acc : 0.9558333333333333 test_acc : 0.9583\n",
      "epoch: 4  cross-entropy  train_acc : 0.9570925925925926 valid_acc : 0.9481666666666667 test_acc : 0.9501\n",
      "epoch: 5  cross-entropy  train_acc : 0.9736296296296296 valid_acc : 0.9626666666666667 test_acc : 0.9639\n"
     ]
    }
   ],
   "source": [
    "hidden_layer_size = 128\n",
    "hidden_layers = 5\n",
    "hl = [hidden_layer_size]*hidden_layers\n",
    "ol = [len(train_y[0])]\n",
    "n_hl = len(hl)\n",
    "act_fun ='relu'\n",
    "loss_fun='cross-entropy'\n",
    "eta=0.001\n",
    "alpha=0\n",
    "strat='xavier'\n",
    "epochs=5\n",
    "batch = 32\n",
    "W,b = rmsprop(train_x,train_y,valid_x,valid_y,d,hl,ol,act_fun,loss_fun,epochs,eta,strat,alpha,batch)"
   ]
  },
  {
   "cell_type": "code",
   "execution_count": null,
   "metadata": {},
   "outputs": [],
   "source": []
  },
  {
   "cell_type": "code",
   "execution_count": null,
   "metadata": {},
   "outputs": [],
   "source": []
  },
  {
   "cell_type": "markdown",
   "metadata": {
    "id": "s-4XOBBxTf2J"
   },
   "source": []
  },
  {
   "cell_type": "code",
   "execution_count": 96,
   "metadata": {
    "id": "6HnGUDdETjN8"
   },
   "outputs": [],
   "source": []
  },
  {
   "cell_type": "markdown",
   "metadata": {
    "id": "FQDfvTCyTlt-"
   },
   "source": []
  },
  {
   "cell_type": "code",
   "execution_count": 97,
   "metadata": {
    "id": "fkma8-3RqQ-_"
   },
   "outputs": [],
   "source": []
  },
  {
   "cell_type": "code",
   "execution_count": 98,
   "metadata": {
    "id": "lyrZVhaeso1u"
   },
   "outputs": [],
   "source": []
  },
  {
   "cell_type": "code",
   "execution_count": 99,
   "metadata": {
    "id": "fiT72DwmvD-c"
   },
   "outputs": [],
   "source": []
  },
  {
   "cell_type": "markdown",
   "metadata": {
    "id": "X_WLZGtLTw0s"
   },
   "source": []
  },
  {
   "cell_type": "code",
   "execution_count": null,
   "metadata": {
    "colab": {
     "base_uri": "https://localhost:8080/"
    },
    "id": "4OPrOA_8vED1",
    "outputId": "421401c7-1ed6-4686-8983-265efbf8a3f3"
   },
   "outputs": [],
   "source": []
  },
  {
   "cell_type": "markdown",
   "metadata": {
    "id": "kdlm_S-Q0iO1"
   },
   "source": []
  },
  {
   "cell_type": "code",
   "execution_count": 37,
   "metadata": {
    "colab": {
     "base_uri": "https://localhost:8080/",
     "height": 1000,
     "referenced_widgets": [
      "3105ee50380f4f3d9b22626e26646817",
      "54bd12725a02445dabda06ca0905f991",
      "546943bb173a4b44ba9cb5e9b3ac02a5",
      "f613562695954e4bad3fd7315bc5ca93",
      "f180cdee2eb6422ab079fcfed696137b",
      "c359e1c6a9db4cf7b010b33a23727c57",
      "8949012bcbd740ae981932134ea7804a",
      "b3933bae98f94b6a8f25fefab941352a"
     ]
    },
    "id": "ceIkf_3u0g95",
    "outputId": "e043d682-7b56-4104-c6b3-fd7e6e1ffef1"
   },
   "outputs": [],
   "source": []
  },
  {
   "cell_type": "markdown",
   "metadata": {
    "id": "DaYRj2Y42H5B"
   },
   "source": []
  },
  {
   "cell_type": "code",
   "execution_count": null,
   "metadata": {
    "colab": {
     "base_uri": "https://localhost:8080/",
     "height": 243
    },
    "id": "GQodczbf1r6v",
    "outputId": "8cf25e72-b3bb-4d6f-9ec1-4885138dbb1e"
   },
   "outputs": [],
   "source": []
  },
  {
   "cell_type": "code",
   "execution_count": null,
   "metadata": {
    "id": "Wtd2Z3fZ1r91"
   },
   "outputs": [],
   "source": []
  },
  {
   "cell_type": "code",
   "execution_count": null,
   "metadata": {
    "id": "C-a5s06G1sBn"
   },
   "outputs": [],
   "source": []
  },
  {
   "cell_type": "markdown",
   "metadata": {
    "id": "cqdQZxpv224F"
   },
   "source": []
  },
  {
   "cell_type": "code",
   "execution_count": null,
   "metadata": {
    "id": "6pyJnOnB0hEE"
   },
   "outputs": [],
   "source": []
  },
  {
   "cell_type": "code",
   "execution_count": null,
   "metadata": {
    "id": "ICK8eMTr0hIe"
   },
   "outputs": [],
   "source": []
  },
  {
   "cell_type": "code",
   "execution_count": null,
   "metadata": {
    "id": "O8bgYO4E0hK3"
   },
   "outputs": [],
   "source": []
  },
  {
   "cell_type": "markdown",
   "metadata": {
    "id": "0KLtQSg7yfJb"
   },
   "source": []
  },
  {
   "cell_type": "code",
   "execution_count": null,
   "metadata": {
    "colab": {
     "base_uri": "https://localhost:8080/",
     "height": 1000
    },
    "id": "H4mOs8xeyh95",
    "outputId": "4657518b-4871-4271-a7f5-193a73eab763"
   },
   "outputs": [],
   "source": []
  },
  {
   "cell_type": "markdown",
   "metadata": {
    "id": "uh1Gdmp2kTTh"
   },
   "source": []
  },
  {
   "cell_type": "code",
   "execution_count": null,
   "metadata": {
    "colab": {
     "base_uri": "https://localhost:8080/",
     "height": 1000,
     "referenced_widgets": [
      "e2ba29b3b6e448b0bbd5a6bc6fd0c89f",
      "6b664067c8524beabb8cfb20a928101a",
      "5cd4e44525304028860e51936ce2db78",
      "45dd4c7e7cc84456b2cd641c500a847b",
      "ec0cf584b21a4b6c850a256730287668",
      "d6692a71d2844839b9e92a61534a720d",
      "a293ad13d77f444bb72d089a63e06bc6",
      "37c4108ed9b440718def73d0c0dfdde7"
     ]
    },
    "id": "uxM0fyvukbIB",
    "outputId": "6c925868-7f46-4114-8b8b-3eca0c8c2ced"
   },
   "outputs": [],
   "source": []
  },
  {
   "cell_type": "markdown",
   "metadata": {
    "id": "0umqZPs3hAgT"
   },
   "source": []
  },
  {
   "cell_type": "code",
   "execution_count": null,
   "metadata": {
    "colab": {
     "base_uri": "https://localhost:8080/",
     "height": 1000,
     "referenced_widgets": [
      "8633df41ce46490591c85683cf04b108",
      "2c2a0cac534c4e00bc4ce6ea1472b5b1",
      "6d54bfdf933b4dbfa4ca8c6cfc8ee3fa",
      "4f2fd56eb3bf4795a914b1dafb3e845a",
      "827759d55627484a97ea947ef00f5bbd",
      "7fb765643db14f5492c0c4dcc8f38e06",
      "509914470cd147b6b3bcb88f218c1281",
      "1764820052e44f3787d8de5c54779cf5"
     ]
    },
    "id": "smOJIEaZgsyM",
    "outputId": "679c7321-1a21-4621-9611-4eace3b97a4b"
   },
   "outputs": [],
   "source": []
  },
  {
   "cell_type": "markdown",
   "metadata": {
    "id": "2Ceh9Q2AgocG"
   },
   "source": []
  },
  {
   "cell_type": "code",
   "execution_count": null,
   "metadata": {
    "colab": {
     "base_uri": "https://localhost:8080/",
     "height": 1000,
     "referenced_widgets": [
      "84639497926844f5bad14f16f06f1d69",
      "f4ea852998154931b87910e297f165b4",
      "0c1db026a8de4815bac80fa552ff633b",
      "d5640a10ca1f40d79731b9b421b9c76d",
      "b9b68176053d49eb8172890be458d650",
      "397547696a884e9fa2df54eab8c3dc8f",
      "c8dcc3331bdc437c9c9fa941389b130f",
      "ab527d9dfbec4364ab0de1917bd02b99"
     ]
    },
    "id": "MSc8sVZQNw9B",
    "outputId": "aa74c677-96ca-4136-a9fb-4c7fbbbcbe96"
   },
   "outputs": [],
   "source": []
  },
  {
   "cell_type": "code",
   "execution_count": 274,
   "metadata": {
    "id": "VPo--5Bhj3Ik"
   },
   "outputs": [],
   "source": []
  },
  {
   "cell_type": "code",
   "execution_count": 274,
   "metadata": {
    "id": "bC4eZDwh2hip"
   },
   "outputs": [],
   "source": []
  },
  {
   "cell_type": "code",
   "execution_count": 274,
   "metadata": {
    "id": "w9SchTUV2hlh"
   },
   "outputs": [],
   "source": []
  },
  {
   "cell_type": "code",
   "execution_count": 274,
   "metadata": {
    "id": "SDvE0Ejd2hoG"
   },
   "outputs": [],
   "source": []
  },
  {
   "cell_type": "code",
   "execution_count": 274,
   "metadata": {
    "id": "XjduC7Va2hqg"
   },
   "outputs": [],
   "source": []
  },
  {
   "cell_type": "code",
   "execution_count": 274,
   "metadata": {
    "id": "wDnquUG7pPCn"
   },
   "outputs": [],
   "source": []
  },
  {
   "cell_type": "code",
   "execution_count": 276,
   "metadata": {
    "id": "Tfa5A0xrA2NC"
   },
   "outputs": [],
   "source": []
  }
 ],
 "metadata": {
  "colab": {
   "collapsed_sections": [],
   "name": "Copy of refined.ipynb",
   "provenance": []
  },
  "kernelspec": {
   "display_name": "Python 3",
   "language": "python",
   "name": "python3"
  },
  "language_info": {
   "codemirror_mode": {
    "name": "ipython",
    "version": 3
   },
   "file_extension": ".py",
   "mimetype": "text/x-python",
   "name": "python",
   "nbconvert_exporter": "python",
   "pygments_lexer": "ipython3",
   "version": "3.8.8"
  },
  "widgets": {
   "application/vnd.jupyter.widget-state+json": {
    "0c1db026a8de4815bac80fa552ff633b": {
     "model_module": "@jupyter-widgets/controls",
     "model_module_version": "1.5.0",
     "model_name": "LabelModel",
     "state": {
      "_dom_classes": [],
      "_model_module": "@jupyter-widgets/controls",
      "_model_module_version": "1.5.0",
      "_model_name": "LabelModel",
      "_view_count": null,
      "_view_module": "@jupyter-widgets/controls",
      "_view_module_version": "1.5.0",
      "_view_name": "LabelView",
      "description": "",
      "description_tooltip": null,
      "layout": "IPY_MODEL_397547696a884e9fa2df54eab8c3dc8f",
      "placeholder": "​",
      "style": "IPY_MODEL_b9b68176053d49eb8172890be458d650",
      "value": " 0.04MB of 0.04MB uploaded (0.00MB deduped)\r"
     }
    },
    "1764820052e44f3787d8de5c54779cf5": {
     "model_module": "@jupyter-widgets/base",
     "model_module_version": "1.2.0",
     "model_name": "LayoutModel",
     "state": {
      "_model_module": "@jupyter-widgets/base",
      "_model_module_version": "1.2.0",
      "_model_name": "LayoutModel",
      "_view_count": null,
      "_view_module": "@jupyter-widgets/base",
      "_view_module_version": "1.2.0",
      "_view_name": "LayoutView",
      "align_content": null,
      "align_items": null,
      "align_self": null,
      "border": null,
      "bottom": null,
      "display": null,
      "flex": null,
      "flex_flow": null,
      "grid_area": null,
      "grid_auto_columns": null,
      "grid_auto_flow": null,
      "grid_auto_rows": null,
      "grid_column": null,
      "grid_gap": null,
      "grid_row": null,
      "grid_template_areas": null,
      "grid_template_columns": null,
      "grid_template_rows": null,
      "height": null,
      "justify_content": null,
      "justify_items": null,
      "left": null,
      "margin": null,
      "max_height": null,
      "max_width": null,
      "min_height": null,
      "min_width": null,
      "object_fit": null,
      "object_position": null,
      "order": null,
      "overflow": null,
      "overflow_x": null,
      "overflow_y": null,
      "padding": null,
      "right": null,
      "top": null,
      "visibility": null,
      "width": null
     }
    },
    "2c2a0cac534c4e00bc4ce6ea1472b5b1": {
     "model_module": "@jupyter-widgets/base",
     "model_module_version": "1.2.0",
     "model_name": "LayoutModel",
     "state": {
      "_model_module": "@jupyter-widgets/base",
      "_model_module_version": "1.2.0",
      "_model_name": "LayoutModel",
      "_view_count": null,
      "_view_module": "@jupyter-widgets/base",
      "_view_module_version": "1.2.0",
      "_view_name": "LayoutView",
      "align_content": null,
      "align_items": null,
      "align_self": null,
      "border": null,
      "bottom": null,
      "display": null,
      "flex": null,
      "flex_flow": null,
      "grid_area": null,
      "grid_auto_columns": null,
      "grid_auto_flow": null,
      "grid_auto_rows": null,
      "grid_column": null,
      "grid_gap": null,
      "grid_row": null,
      "grid_template_areas": null,
      "grid_template_columns": null,
      "grid_template_rows": null,
      "height": null,
      "justify_content": null,
      "justify_items": null,
      "left": null,
      "margin": null,
      "max_height": null,
      "max_width": null,
      "min_height": null,
      "min_width": null,
      "object_fit": null,
      "object_position": null,
      "order": null,
      "overflow": null,
      "overflow_x": null,
      "overflow_y": null,
      "padding": null,
      "right": null,
      "top": null,
      "visibility": null,
      "width": null
     }
    },
    "3105ee50380f4f3d9b22626e26646817": {
     "model_module": "@jupyter-widgets/controls",
     "model_module_version": "1.5.0",
     "model_name": "VBoxModel",
     "state": {
      "_dom_classes": [],
      "_model_module": "@jupyter-widgets/controls",
      "_model_module_version": "1.5.0",
      "_model_name": "VBoxModel",
      "_view_count": null,
      "_view_module": "@jupyter-widgets/controls",
      "_view_module_version": "1.5.0",
      "_view_name": "VBoxView",
      "box_style": "",
      "children": [
       "IPY_MODEL_546943bb173a4b44ba9cb5e9b3ac02a5",
       "IPY_MODEL_f613562695954e4bad3fd7315bc5ca93"
      ],
      "layout": "IPY_MODEL_54bd12725a02445dabda06ca0905f991"
     }
    },
    "37c4108ed9b440718def73d0c0dfdde7": {
     "model_module": "@jupyter-widgets/base",
     "model_module_version": "1.2.0",
     "model_name": "LayoutModel",
     "state": {
      "_model_module": "@jupyter-widgets/base",
      "_model_module_version": "1.2.0",
      "_model_name": "LayoutModel",
      "_view_count": null,
      "_view_module": "@jupyter-widgets/base",
      "_view_module_version": "1.2.0",
      "_view_name": "LayoutView",
      "align_content": null,
      "align_items": null,
      "align_self": null,
      "border": null,
      "bottom": null,
      "display": null,
      "flex": null,
      "flex_flow": null,
      "grid_area": null,
      "grid_auto_columns": null,
      "grid_auto_flow": null,
      "grid_auto_rows": null,
      "grid_column": null,
      "grid_gap": null,
      "grid_row": null,
      "grid_template_areas": null,
      "grid_template_columns": null,
      "grid_template_rows": null,
      "height": null,
      "justify_content": null,
      "justify_items": null,
      "left": null,
      "margin": null,
      "max_height": null,
      "max_width": null,
      "min_height": null,
      "min_width": null,
      "object_fit": null,
      "object_position": null,
      "order": null,
      "overflow": null,
      "overflow_x": null,
      "overflow_y": null,
      "padding": null,
      "right": null,
      "top": null,
      "visibility": null,
      "width": null
     }
    },
    "397547696a884e9fa2df54eab8c3dc8f": {
     "model_module": "@jupyter-widgets/base",
     "model_module_version": "1.2.0",
     "model_name": "LayoutModel",
     "state": {
      "_model_module": "@jupyter-widgets/base",
      "_model_module_version": "1.2.0",
      "_model_name": "LayoutModel",
      "_view_count": null,
      "_view_module": "@jupyter-widgets/base",
      "_view_module_version": "1.2.0",
      "_view_name": "LayoutView",
      "align_content": null,
      "align_items": null,
      "align_self": null,
      "border": null,
      "bottom": null,
      "display": null,
      "flex": null,
      "flex_flow": null,
      "grid_area": null,
      "grid_auto_columns": null,
      "grid_auto_flow": null,
      "grid_auto_rows": null,
      "grid_column": null,
      "grid_gap": null,
      "grid_row": null,
      "grid_template_areas": null,
      "grid_template_columns": null,
      "grid_template_rows": null,
      "height": null,
      "justify_content": null,
      "justify_items": null,
      "left": null,
      "margin": null,
      "max_height": null,
      "max_width": null,
      "min_height": null,
      "min_width": null,
      "object_fit": null,
      "object_position": null,
      "order": null,
      "overflow": null,
      "overflow_x": null,
      "overflow_y": null,
      "padding": null,
      "right": null,
      "top": null,
      "visibility": null,
      "width": null
     }
    },
    "45dd4c7e7cc84456b2cd641c500a847b": {
     "model_module": "@jupyter-widgets/controls",
     "model_module_version": "1.5.0",
     "model_name": "FloatProgressModel",
     "state": {
      "_dom_classes": [],
      "_model_module": "@jupyter-widgets/controls",
      "_model_module_version": "1.5.0",
      "_model_name": "FloatProgressModel",
      "_view_count": null,
      "_view_module": "@jupyter-widgets/controls",
      "_view_module_version": "1.5.0",
      "_view_name": "ProgressView",
      "bar_style": "",
      "description": "",
      "description_tooltip": null,
      "layout": "IPY_MODEL_37c4108ed9b440718def73d0c0dfdde7",
      "max": 1,
      "min": 0,
      "orientation": "horizontal",
      "style": "IPY_MODEL_a293ad13d77f444bb72d089a63e06bc6",
      "value": 1
     }
    },
    "4f2fd56eb3bf4795a914b1dafb3e845a": {
     "model_module": "@jupyter-widgets/controls",
     "model_module_version": "1.5.0",
     "model_name": "FloatProgressModel",
     "state": {
      "_dom_classes": [],
      "_model_module": "@jupyter-widgets/controls",
      "_model_module_version": "1.5.0",
      "_model_name": "FloatProgressModel",
      "_view_count": null,
      "_view_module": "@jupyter-widgets/controls",
      "_view_module_version": "1.5.0",
      "_view_name": "ProgressView",
      "bar_style": "",
      "description": "",
      "description_tooltip": null,
      "layout": "IPY_MODEL_1764820052e44f3787d8de5c54779cf5",
      "max": 1,
      "min": 0,
      "orientation": "horizontal",
      "style": "IPY_MODEL_509914470cd147b6b3bcb88f218c1281",
      "value": 1
     }
    },
    "509914470cd147b6b3bcb88f218c1281": {
     "model_module": "@jupyter-widgets/controls",
     "model_module_version": "1.5.0",
     "model_name": "ProgressStyleModel",
     "state": {
      "_model_module": "@jupyter-widgets/controls",
      "_model_module_version": "1.5.0",
      "_model_name": "ProgressStyleModel",
      "_view_count": null,
      "_view_module": "@jupyter-widgets/base",
      "_view_module_version": "1.2.0",
      "_view_name": "StyleView",
      "bar_color": null,
      "description_width": ""
     }
    },
    "546943bb173a4b44ba9cb5e9b3ac02a5": {
     "model_module": "@jupyter-widgets/controls",
     "model_module_version": "1.5.0",
     "model_name": "LabelModel",
     "state": {
      "_dom_classes": [],
      "_model_module": "@jupyter-widgets/controls",
      "_model_module_version": "1.5.0",
      "_model_name": "LabelModel",
      "_view_count": null,
      "_view_module": "@jupyter-widgets/controls",
      "_view_module_version": "1.5.0",
      "_view_name": "LabelView",
      "description": "",
      "description_tooltip": null,
      "layout": "IPY_MODEL_c359e1c6a9db4cf7b010b33a23727c57",
      "placeholder": "​",
      "style": "IPY_MODEL_f180cdee2eb6422ab079fcfed696137b",
      "value": " 0.04MB of 0.04MB uploaded (0.00MB deduped)\r"
     }
    },
    "54bd12725a02445dabda06ca0905f991": {
     "model_module": "@jupyter-widgets/base",
     "model_module_version": "1.2.0",
     "model_name": "LayoutModel",
     "state": {
      "_model_module": "@jupyter-widgets/base",
      "_model_module_version": "1.2.0",
      "_model_name": "LayoutModel",
      "_view_count": null,
      "_view_module": "@jupyter-widgets/base",
      "_view_module_version": "1.2.0",
      "_view_name": "LayoutView",
      "align_content": null,
      "align_items": null,
      "align_self": null,
      "border": null,
      "bottom": null,
      "display": null,
      "flex": null,
      "flex_flow": null,
      "grid_area": null,
      "grid_auto_columns": null,
      "grid_auto_flow": null,
      "grid_auto_rows": null,
      "grid_column": null,
      "grid_gap": null,
      "grid_row": null,
      "grid_template_areas": null,
      "grid_template_columns": null,
      "grid_template_rows": null,
      "height": null,
      "justify_content": null,
      "justify_items": null,
      "left": null,
      "margin": null,
      "max_height": null,
      "max_width": null,
      "min_height": null,
      "min_width": null,
      "object_fit": null,
      "object_position": null,
      "order": null,
      "overflow": null,
      "overflow_x": null,
      "overflow_y": null,
      "padding": null,
      "right": null,
      "top": null,
      "visibility": null,
      "width": null
     }
    },
    "5cd4e44525304028860e51936ce2db78": {
     "model_module": "@jupyter-widgets/controls",
     "model_module_version": "1.5.0",
     "model_name": "LabelModel",
     "state": {
      "_dom_classes": [],
      "_model_module": "@jupyter-widgets/controls",
      "_model_module_version": "1.5.0",
      "_model_name": "LabelModel",
      "_view_count": null,
      "_view_module": "@jupyter-widgets/controls",
      "_view_module_version": "1.5.0",
      "_view_name": "LabelView",
      "description": "",
      "description_tooltip": null,
      "layout": "IPY_MODEL_d6692a71d2844839b9e92a61534a720d",
      "placeholder": "​",
      "style": "IPY_MODEL_ec0cf584b21a4b6c850a256730287668",
      "value": " 0.04MB of 0.04MB uploaded (0.00MB deduped)\r"
     }
    },
    "6b664067c8524beabb8cfb20a928101a": {
     "model_module": "@jupyter-widgets/base",
     "model_module_version": "1.2.0",
     "model_name": "LayoutModel",
     "state": {
      "_model_module": "@jupyter-widgets/base",
      "_model_module_version": "1.2.0",
      "_model_name": "LayoutModel",
      "_view_count": null,
      "_view_module": "@jupyter-widgets/base",
      "_view_module_version": "1.2.0",
      "_view_name": "LayoutView",
      "align_content": null,
      "align_items": null,
      "align_self": null,
      "border": null,
      "bottom": null,
      "display": null,
      "flex": null,
      "flex_flow": null,
      "grid_area": null,
      "grid_auto_columns": null,
      "grid_auto_flow": null,
      "grid_auto_rows": null,
      "grid_column": null,
      "grid_gap": null,
      "grid_row": null,
      "grid_template_areas": null,
      "grid_template_columns": null,
      "grid_template_rows": null,
      "height": null,
      "justify_content": null,
      "justify_items": null,
      "left": null,
      "margin": null,
      "max_height": null,
      "max_width": null,
      "min_height": null,
      "min_width": null,
      "object_fit": null,
      "object_position": null,
      "order": null,
      "overflow": null,
      "overflow_x": null,
      "overflow_y": null,
      "padding": null,
      "right": null,
      "top": null,
      "visibility": null,
      "width": null
     }
    },
    "6d54bfdf933b4dbfa4ca8c6cfc8ee3fa": {
     "model_module": "@jupyter-widgets/controls",
     "model_module_version": "1.5.0",
     "model_name": "LabelModel",
     "state": {
      "_dom_classes": [],
      "_model_module": "@jupyter-widgets/controls",
      "_model_module_version": "1.5.0",
      "_model_name": "LabelModel",
      "_view_count": null,
      "_view_module": "@jupyter-widgets/controls",
      "_view_module_version": "1.5.0",
      "_view_name": "LabelView",
      "description": "",
      "description_tooltip": null,
      "layout": "IPY_MODEL_7fb765643db14f5492c0c4dcc8f38e06",
      "placeholder": "​",
      "style": "IPY_MODEL_827759d55627484a97ea947ef00f5bbd",
      "value": " 0.04MB of 0.04MB uploaded (0.00MB deduped)\r"
     }
    },
    "7fb765643db14f5492c0c4dcc8f38e06": {
     "model_module": "@jupyter-widgets/base",
     "model_module_version": "1.2.0",
     "model_name": "LayoutModel",
     "state": {
      "_model_module": "@jupyter-widgets/base",
      "_model_module_version": "1.2.0",
      "_model_name": "LayoutModel",
      "_view_count": null,
      "_view_module": "@jupyter-widgets/base",
      "_view_module_version": "1.2.0",
      "_view_name": "LayoutView",
      "align_content": null,
      "align_items": null,
      "align_self": null,
      "border": null,
      "bottom": null,
      "display": null,
      "flex": null,
      "flex_flow": null,
      "grid_area": null,
      "grid_auto_columns": null,
      "grid_auto_flow": null,
      "grid_auto_rows": null,
      "grid_column": null,
      "grid_gap": null,
      "grid_row": null,
      "grid_template_areas": null,
      "grid_template_columns": null,
      "grid_template_rows": null,
      "height": null,
      "justify_content": null,
      "justify_items": null,
      "left": null,
      "margin": null,
      "max_height": null,
      "max_width": null,
      "min_height": null,
      "min_width": null,
      "object_fit": null,
      "object_position": null,
      "order": null,
      "overflow": null,
      "overflow_x": null,
      "overflow_y": null,
      "padding": null,
      "right": null,
      "top": null,
      "visibility": null,
      "width": null
     }
    },
    "827759d55627484a97ea947ef00f5bbd": {
     "model_module": "@jupyter-widgets/controls",
     "model_module_version": "1.5.0",
     "model_name": "DescriptionStyleModel",
     "state": {
      "_model_module": "@jupyter-widgets/controls",
      "_model_module_version": "1.5.0",
      "_model_name": "DescriptionStyleModel",
      "_view_count": null,
      "_view_module": "@jupyter-widgets/base",
      "_view_module_version": "1.2.0",
      "_view_name": "StyleView",
      "description_width": ""
     }
    },
    "84639497926844f5bad14f16f06f1d69": {
     "model_module": "@jupyter-widgets/controls",
     "model_module_version": "1.5.0",
     "model_name": "VBoxModel",
     "state": {
      "_dom_classes": [],
      "_model_module": "@jupyter-widgets/controls",
      "_model_module_version": "1.5.0",
      "_model_name": "VBoxModel",
      "_view_count": null,
      "_view_module": "@jupyter-widgets/controls",
      "_view_module_version": "1.5.0",
      "_view_name": "VBoxView",
      "box_style": "",
      "children": [
       "IPY_MODEL_0c1db026a8de4815bac80fa552ff633b",
       "IPY_MODEL_d5640a10ca1f40d79731b9b421b9c76d"
      ],
      "layout": "IPY_MODEL_f4ea852998154931b87910e297f165b4"
     }
    },
    "8633df41ce46490591c85683cf04b108": {
     "model_module": "@jupyter-widgets/controls",
     "model_module_version": "1.5.0",
     "model_name": "VBoxModel",
     "state": {
      "_dom_classes": [],
      "_model_module": "@jupyter-widgets/controls",
      "_model_module_version": "1.5.0",
      "_model_name": "VBoxModel",
      "_view_count": null,
      "_view_module": "@jupyter-widgets/controls",
      "_view_module_version": "1.5.0",
      "_view_name": "VBoxView",
      "box_style": "",
      "children": [
       "IPY_MODEL_6d54bfdf933b4dbfa4ca8c6cfc8ee3fa",
       "IPY_MODEL_4f2fd56eb3bf4795a914b1dafb3e845a"
      ],
      "layout": "IPY_MODEL_2c2a0cac534c4e00bc4ce6ea1472b5b1"
     }
    },
    "8949012bcbd740ae981932134ea7804a": {
     "model_module": "@jupyter-widgets/controls",
     "model_module_version": "1.5.0",
     "model_name": "ProgressStyleModel",
     "state": {
      "_model_module": "@jupyter-widgets/controls",
      "_model_module_version": "1.5.0",
      "_model_name": "ProgressStyleModel",
      "_view_count": null,
      "_view_module": "@jupyter-widgets/base",
      "_view_module_version": "1.2.0",
      "_view_name": "StyleView",
      "bar_color": null,
      "description_width": ""
     }
    },
    "a293ad13d77f444bb72d089a63e06bc6": {
     "model_module": "@jupyter-widgets/controls",
     "model_module_version": "1.5.0",
     "model_name": "ProgressStyleModel",
     "state": {
      "_model_module": "@jupyter-widgets/controls",
      "_model_module_version": "1.5.0",
      "_model_name": "ProgressStyleModel",
      "_view_count": null,
      "_view_module": "@jupyter-widgets/base",
      "_view_module_version": "1.2.0",
      "_view_name": "StyleView",
      "bar_color": null,
      "description_width": ""
     }
    },
    "ab527d9dfbec4364ab0de1917bd02b99": {
     "model_module": "@jupyter-widgets/base",
     "model_module_version": "1.2.0",
     "model_name": "LayoutModel",
     "state": {
      "_model_module": "@jupyter-widgets/base",
      "_model_module_version": "1.2.0",
      "_model_name": "LayoutModel",
      "_view_count": null,
      "_view_module": "@jupyter-widgets/base",
      "_view_module_version": "1.2.0",
      "_view_name": "LayoutView",
      "align_content": null,
      "align_items": null,
      "align_self": null,
      "border": null,
      "bottom": null,
      "display": null,
      "flex": null,
      "flex_flow": null,
      "grid_area": null,
      "grid_auto_columns": null,
      "grid_auto_flow": null,
      "grid_auto_rows": null,
      "grid_column": null,
      "grid_gap": null,
      "grid_row": null,
      "grid_template_areas": null,
      "grid_template_columns": null,
      "grid_template_rows": null,
      "height": null,
      "justify_content": null,
      "justify_items": null,
      "left": null,
      "margin": null,
      "max_height": null,
      "max_width": null,
      "min_height": null,
      "min_width": null,
      "object_fit": null,
      "object_position": null,
      "order": null,
      "overflow": null,
      "overflow_x": null,
      "overflow_y": null,
      "padding": null,
      "right": null,
      "top": null,
      "visibility": null,
      "width": null
     }
    },
    "b3933bae98f94b6a8f25fefab941352a": {
     "model_module": "@jupyter-widgets/base",
     "model_module_version": "1.2.0",
     "model_name": "LayoutModel",
     "state": {
      "_model_module": "@jupyter-widgets/base",
      "_model_module_version": "1.2.0",
      "_model_name": "LayoutModel",
      "_view_count": null,
      "_view_module": "@jupyter-widgets/base",
      "_view_module_version": "1.2.0",
      "_view_name": "LayoutView",
      "align_content": null,
      "align_items": null,
      "align_self": null,
      "border": null,
      "bottom": null,
      "display": null,
      "flex": null,
      "flex_flow": null,
      "grid_area": null,
      "grid_auto_columns": null,
      "grid_auto_flow": null,
      "grid_auto_rows": null,
      "grid_column": null,
      "grid_gap": null,
      "grid_row": null,
      "grid_template_areas": null,
      "grid_template_columns": null,
      "grid_template_rows": null,
      "height": null,
      "justify_content": null,
      "justify_items": null,
      "left": null,
      "margin": null,
      "max_height": null,
      "max_width": null,
      "min_height": null,
      "min_width": null,
      "object_fit": null,
      "object_position": null,
      "order": null,
      "overflow": null,
      "overflow_x": null,
      "overflow_y": null,
      "padding": null,
      "right": null,
      "top": null,
      "visibility": null,
      "width": null
     }
    },
    "b9b68176053d49eb8172890be458d650": {
     "model_module": "@jupyter-widgets/controls",
     "model_module_version": "1.5.0",
     "model_name": "DescriptionStyleModel",
     "state": {
      "_model_module": "@jupyter-widgets/controls",
      "_model_module_version": "1.5.0",
      "_model_name": "DescriptionStyleModel",
      "_view_count": null,
      "_view_module": "@jupyter-widgets/base",
      "_view_module_version": "1.2.0",
      "_view_name": "StyleView",
      "description_width": ""
     }
    },
    "c359e1c6a9db4cf7b010b33a23727c57": {
     "model_module": "@jupyter-widgets/base",
     "model_module_version": "1.2.0",
     "model_name": "LayoutModel",
     "state": {
      "_model_module": "@jupyter-widgets/base",
      "_model_module_version": "1.2.0",
      "_model_name": "LayoutModel",
      "_view_count": null,
      "_view_module": "@jupyter-widgets/base",
      "_view_module_version": "1.2.0",
      "_view_name": "LayoutView",
      "align_content": null,
      "align_items": null,
      "align_self": null,
      "border": null,
      "bottom": null,
      "display": null,
      "flex": null,
      "flex_flow": null,
      "grid_area": null,
      "grid_auto_columns": null,
      "grid_auto_flow": null,
      "grid_auto_rows": null,
      "grid_column": null,
      "grid_gap": null,
      "grid_row": null,
      "grid_template_areas": null,
      "grid_template_columns": null,
      "grid_template_rows": null,
      "height": null,
      "justify_content": null,
      "justify_items": null,
      "left": null,
      "margin": null,
      "max_height": null,
      "max_width": null,
      "min_height": null,
      "min_width": null,
      "object_fit": null,
      "object_position": null,
      "order": null,
      "overflow": null,
      "overflow_x": null,
      "overflow_y": null,
      "padding": null,
      "right": null,
      "top": null,
      "visibility": null,
      "width": null
     }
    },
    "c8dcc3331bdc437c9c9fa941389b130f": {
     "model_module": "@jupyter-widgets/controls",
     "model_module_version": "1.5.0",
     "model_name": "ProgressStyleModel",
     "state": {
      "_model_module": "@jupyter-widgets/controls",
      "_model_module_version": "1.5.0",
      "_model_name": "ProgressStyleModel",
      "_view_count": null,
      "_view_module": "@jupyter-widgets/base",
      "_view_module_version": "1.2.0",
      "_view_name": "StyleView",
      "bar_color": null,
      "description_width": ""
     }
    },
    "d5640a10ca1f40d79731b9b421b9c76d": {
     "model_module": "@jupyter-widgets/controls",
     "model_module_version": "1.5.0",
     "model_name": "FloatProgressModel",
     "state": {
      "_dom_classes": [],
      "_model_module": "@jupyter-widgets/controls",
      "_model_module_version": "1.5.0",
      "_model_name": "FloatProgressModel",
      "_view_count": null,
      "_view_module": "@jupyter-widgets/controls",
      "_view_module_version": "1.5.0",
      "_view_name": "ProgressView",
      "bar_style": "",
      "description": "",
      "description_tooltip": null,
      "layout": "IPY_MODEL_ab527d9dfbec4364ab0de1917bd02b99",
      "max": 1,
      "min": 0,
      "orientation": "horizontal",
      "style": "IPY_MODEL_c8dcc3331bdc437c9c9fa941389b130f",
      "value": 1
     }
    },
    "d6692a71d2844839b9e92a61534a720d": {
     "model_module": "@jupyter-widgets/base",
     "model_module_version": "1.2.0",
     "model_name": "LayoutModel",
     "state": {
      "_model_module": "@jupyter-widgets/base",
      "_model_module_version": "1.2.0",
      "_model_name": "LayoutModel",
      "_view_count": null,
      "_view_module": "@jupyter-widgets/base",
      "_view_module_version": "1.2.0",
      "_view_name": "LayoutView",
      "align_content": null,
      "align_items": null,
      "align_self": null,
      "border": null,
      "bottom": null,
      "display": null,
      "flex": null,
      "flex_flow": null,
      "grid_area": null,
      "grid_auto_columns": null,
      "grid_auto_flow": null,
      "grid_auto_rows": null,
      "grid_column": null,
      "grid_gap": null,
      "grid_row": null,
      "grid_template_areas": null,
      "grid_template_columns": null,
      "grid_template_rows": null,
      "height": null,
      "justify_content": null,
      "justify_items": null,
      "left": null,
      "margin": null,
      "max_height": null,
      "max_width": null,
      "min_height": null,
      "min_width": null,
      "object_fit": null,
      "object_position": null,
      "order": null,
      "overflow": null,
      "overflow_x": null,
      "overflow_y": null,
      "padding": null,
      "right": null,
      "top": null,
      "visibility": null,
      "width": null
     }
    },
    "e2ba29b3b6e448b0bbd5a6bc6fd0c89f": {
     "model_module": "@jupyter-widgets/controls",
     "model_module_version": "1.5.0",
     "model_name": "VBoxModel",
     "state": {
      "_dom_classes": [],
      "_model_module": "@jupyter-widgets/controls",
      "_model_module_version": "1.5.0",
      "_model_name": "VBoxModel",
      "_view_count": null,
      "_view_module": "@jupyter-widgets/controls",
      "_view_module_version": "1.5.0",
      "_view_name": "VBoxView",
      "box_style": "",
      "children": [
       "IPY_MODEL_5cd4e44525304028860e51936ce2db78",
       "IPY_MODEL_45dd4c7e7cc84456b2cd641c500a847b"
      ],
      "layout": "IPY_MODEL_6b664067c8524beabb8cfb20a928101a"
     }
    },
    "ec0cf584b21a4b6c850a256730287668": {
     "model_module": "@jupyter-widgets/controls",
     "model_module_version": "1.5.0",
     "model_name": "DescriptionStyleModel",
     "state": {
      "_model_module": "@jupyter-widgets/controls",
      "_model_module_version": "1.5.0",
      "_model_name": "DescriptionStyleModel",
      "_view_count": null,
      "_view_module": "@jupyter-widgets/base",
      "_view_module_version": "1.2.0",
      "_view_name": "StyleView",
      "description_width": ""
     }
    },
    "f180cdee2eb6422ab079fcfed696137b": {
     "model_module": "@jupyter-widgets/controls",
     "model_module_version": "1.5.0",
     "model_name": "DescriptionStyleModel",
     "state": {
      "_model_module": "@jupyter-widgets/controls",
      "_model_module_version": "1.5.0",
      "_model_name": "DescriptionStyleModel",
      "_view_count": null,
      "_view_module": "@jupyter-widgets/base",
      "_view_module_version": "1.2.0",
      "_view_name": "StyleView",
      "description_width": ""
     }
    },
    "f4ea852998154931b87910e297f165b4": {
     "model_module": "@jupyter-widgets/base",
     "model_module_version": "1.2.0",
     "model_name": "LayoutModel",
     "state": {
      "_model_module": "@jupyter-widgets/base",
      "_model_module_version": "1.2.0",
      "_model_name": "LayoutModel",
      "_view_count": null,
      "_view_module": "@jupyter-widgets/base",
      "_view_module_version": "1.2.0",
      "_view_name": "LayoutView",
      "align_content": null,
      "align_items": null,
      "align_self": null,
      "border": null,
      "bottom": null,
      "display": null,
      "flex": null,
      "flex_flow": null,
      "grid_area": null,
      "grid_auto_columns": null,
      "grid_auto_flow": null,
      "grid_auto_rows": null,
      "grid_column": null,
      "grid_gap": null,
      "grid_row": null,
      "grid_template_areas": null,
      "grid_template_columns": null,
      "grid_template_rows": null,
      "height": null,
      "justify_content": null,
      "justify_items": null,
      "left": null,
      "margin": null,
      "max_height": null,
      "max_width": null,
      "min_height": null,
      "min_width": null,
      "object_fit": null,
      "object_position": null,
      "order": null,
      "overflow": null,
      "overflow_x": null,
      "overflow_y": null,
      "padding": null,
      "right": null,
      "top": null,
      "visibility": null,
      "width": null
     }
    },
    "f613562695954e4bad3fd7315bc5ca93": {
     "model_module": "@jupyter-widgets/controls",
     "model_module_version": "1.5.0",
     "model_name": "FloatProgressModel",
     "state": {
      "_dom_classes": [],
      "_model_module": "@jupyter-widgets/controls",
      "_model_module_version": "1.5.0",
      "_model_name": "FloatProgressModel",
      "_view_count": null,
      "_view_module": "@jupyter-widgets/controls",
      "_view_module_version": "1.5.0",
      "_view_name": "ProgressView",
      "bar_style": "",
      "description": "",
      "description_tooltip": null,
      "layout": "IPY_MODEL_b3933bae98f94b6a8f25fefab941352a",
      "max": 1,
      "min": 0,
      "orientation": "horizontal",
      "style": "IPY_MODEL_8949012bcbd740ae981932134ea7804a",
      "value": 1
     }
    }
   }
  }
 },
 "nbformat": 4,
 "nbformat_minor": 1
}
